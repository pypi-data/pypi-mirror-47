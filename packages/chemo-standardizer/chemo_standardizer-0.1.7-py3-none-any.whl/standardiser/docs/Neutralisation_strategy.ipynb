{
 "cells": [
  {
   "cell_type": "code",
   "execution_count": 1,
   "metadata": {
    "collapsed": false
   },
   "outputs": [],
   "source": [
    "%run notebook_setup.py\n",
    "\n",
    "sys.path.append('../..')"
   ]
  },
  {
   "cell_type": "code",
   "execution_count": 2,
   "metadata": {
    "collapsed": false
   },
   "outputs": [],
   "source": [
    "from standardiser import rules, neutralise"
   ]
  },
  {
   "cell_type": "code",
   "execution_count": 3,
   "metadata": {
    "collapsed": true
   },
   "outputs": [],
   "source": [
    "for module in [rules, neutralise]: module.logger.setLevel('DEBUG')"
   ]
  },
  {
   "cell_type": "markdown",
   "metadata": {},
   "source": [
    "# Neutralisation Strategy\n",
    "\n",
    "This document explains why neutralisation steps involving proton addition/removal are carried out both before and after application of the rules. Originally, neutralisation was only carried out after application of the rules.\n",
    "\n",
    "This is based on a real example. The amino-pyrimidine moiety is protonated and this originally prevented the '2-hydroxy pyridine -> 2-pyridone' transform from working as intended. The '4-hydroxy pyridine -> 4-pyridone' transform was thus applied instead, which is not what might be expected..."
   ]
  },
  {
   "cell_type": "code",
   "execution_count": 4,
   "metadata": {
    "collapsed": false
   },
   "outputs": [
    {
     "data": {
      "image/png": "[encoded data removed]",
      "text/plain": [
       "<rdkit.Chem.rdchem.Mol at 0x7f475e4ae300>"
      ]
     },
     "execution_count": 4,
     "metadata": {},
     "output_type": "execute_result"
    }
   ],
   "source": [
    "mol = Chem.MolFromSmiles(\"Oc1[nH+]c(N)nc2n(C)cnc12\")\n",
    "mol"
   ]
  },
  {
   "cell_type": "code",
   "execution_count": 5,
   "metadata": {
    "collapsed": false
   },
   "outputs": [
    {
     "name": "stderr",
     "output_type": "stream",
     "text": [
      "[2016/Mar/24 16:48:58 DEBUG   ] apply> mol = 'Cn1cnc2c(O)[nH+]c(N)nc21'\n",
      "[2016/Mar/24 16:48:58 DEBUG   ] apply> starting pass 1...\n",
      "[2016/Mar/24 16:48:58 DEBUG   ] rule 3 '4-hydroxy pyridine -> 4-pyridone (within-ring)' applied on pass 1\n",
      "[2016/Mar/24 16:48:58 DEBUG   ] ...total of 1 hits in pass: will continue...\n",
      "[2016/Mar/24 16:48:58 DEBUG   ] apply> starting pass 2...\n",
      "[2016/Mar/24 16:48:58 DEBUG   ] ...total of 0 hits in pass: finished.\n"
     ]
    },
    {
     "data": {
      "image/png": "[encoded data removed]",
      "text/plain": [
       "<rdkit.Chem.rdchem.Mol at 0x7f475e4a7870>"
      ]
     },
     "execution_count": 5,
     "metadata": {},
     "output_type": "execute_result"
    }
   ],
   "source": [
    "rules.apply(mol)"
   ]
  },
  {
   "cell_type": "markdown",
   "metadata": {},
   "source": [
    "As stated above, in the standardization procedure as originally implemented, neutralization was applied only _after_ the rules. If it is applied before the rules, the above molecule is handled correctly (_i.e._ the neutral 2-pyrimidone) is obtained..."
   ]
  },
  {
   "cell_type": "code",
   "execution_count": 6,
   "metadata": {
    "collapsed": false
   },
   "outputs": [
    {
     "name": "stderr",
     "output_type": "stream",
     "text": [
      "[2016/Mar/24 16:48:58 DEBUG   ] 1 positive/H, 0 positive/quat and 0 negative (of which 0 are acid) charges identified\n",
      "[2016/Mar/24 16:48:58 DEBUG   ] Overall H balance: -1; formal charge: 0\n"
     ]
    },
    {
     "data": {
      "image/png": "[encoded data removed]",
      "text/plain": [
       "<rdkit.Chem.rdchem.Mol at 0x7f475dfa9df0>"
      ]
     },
     "execution_count": 6,
     "metadata": {},
     "output_type": "execute_result"
    }
   ],
   "source": [
    "mol2 = neutralise.apply(mol)\n",
    "\n",
    "mol2"
   ]
  },
  {
   "cell_type": "code",
   "execution_count": 7,
   "metadata": {
    "collapsed": false
   },
   "outputs": [
    {
     "name": "stderr",
     "output_type": "stream",
     "text": [
      "[2016/Mar/24 16:48:58 DEBUG   ] apply> mol = 'Cn1cnc2c(O)nc(N)nc21'\n",
      "[2016/Mar/24 16:48:58 DEBUG   ] apply> starting pass 1...\n",
      "[2016/Mar/24 16:48:58 DEBUG   ] rule 2 '2-hydroxy pyridine -> 2-pyridone' applied on pass 1\n",
      "[2016/Mar/24 16:48:58 DEBUG   ] ...total of 1 hits in pass: will continue...\n",
      "[2016/Mar/24 16:48:58 DEBUG   ] apply> starting pass 2...\n",
      "[2016/Mar/24 16:48:58 DEBUG   ] ...total of 0 hits in pass: finished.\n"
     ]
    },
    {
     "data": {
      "image/png": "[encoded data removed]",
      "text/plain": [
       "<rdkit.Chem.rdchem.Mol at 0x7f475e4a7920>"
      ]
     },
     "execution_count": 7,
     "metadata": {},
     "output_type": "execute_result"
    }
   ],
   "source": [
    "rules.apply(mol2)"
   ]
  },
  {
   "cell_type": "markdown",
   "metadata": {},
   "source": [
    "The procedure was thus be enhanced by including a neutralization step _before_ application of the rules as well as after.\n",
    "\n",
    "Recall that neutralization _after_ the rules is still required as some rules 'expose' a removable proton on cations (_i.e._ the various 'conjugated cation' rules)."
   ]
  }
 ],
 "metadata": {
  "kernelspec": {
   "display_name": "Python 3",
   "language": "python",
   "name": "python3"
  },
  "language_info": {
   "codemirror_mode": {
    "name": "ipython",
    "version": 3
   },
   "file_extension": ".py",
   "mimetype": "text/x-python",
   "name": "python",
   "nbconvert_exporter": "python",
   "pygments_lexer": "ipython3",
   "version": "3.5.1"
  }
 },
 "nbformat": 4,
 "nbformat_minor": 0
}
