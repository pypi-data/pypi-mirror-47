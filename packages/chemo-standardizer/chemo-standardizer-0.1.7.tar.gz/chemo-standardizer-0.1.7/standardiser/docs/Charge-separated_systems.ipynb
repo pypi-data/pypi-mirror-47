{
 "cells": [
  {
   "cell_type": "code",
   "execution_count": 1,
   "metadata": {
    "collapsed": true,
    "slideshow": {
     "slide_type": "skip"
    }
   },
   "outputs": [],
   "source": [
    "%run notebook_setup.py\n",
    "\n",
    "sys.path.append('../..')"
   ]
  },
  {
   "cell_type": "code",
   "execution_count": 2,
   "metadata": {
    "collapsed": true
   },
   "outputs": [],
   "source": [
    "from standardiser import rules, neutralise, standardise\n",
    "\n",
    "from standardiser.rules_demo import rules_table, show_change"
   ]
  },
  {
   "cell_type": "code",
   "execution_count": 3,
   "metadata": {
    "collapsed": true
   },
   "outputs": [],
   "source": [
    "for module in [rules, neutralise, standardise]: module.logger.setLevel('DEBUG')"
   ]
  },
  {
   "cell_type": "markdown",
   "metadata": {
    "slideshow": {
     "slide_type": "slide"
    }
   },
   "source": [
    "# Rules for conjugated charge-seperated systems\n",
    "\n",
    "### Introduction\n",
    "\n",
    "These rules address cases in which positive and negative formal charges are in conjugation, and the molecule can be neutralised _via_ successive rearrangement of adjacent double and single bonds.\n",
    "\n",
    "Some issues relating to these rules are discussed below."
   ]
  },
  {
   "cell_type": "markdown",
   "metadata": {},
   "source": [
    "### Possible redundancy of rules\n",
    "\n",
    "Recall that bonds to Group I & II metals are broken and a round of protonation/deprotonation-based neutralisation are done _before_ these rules are applied, and that a further round of neutralisation is carried out afterwards. The neutralisation step before rule application is worthy of note, as the it can mean some rules for charge-seperated systems are apparently redundant in some situations (unsubsituted analogues, in particular)."
   ]
  },
  {
   "cell_type": "markdown",
   "metadata": {
    "slideshow": {
     "slide_type": "slide"
    }
   },
   "source": [
    "Below is an example of where the cation in the charge-seperated species bears a proton and the `neutralise` module thus produces an equivalent overall effect as the `rules` module..."
   ]
  },
  {
   "cell_type": "markdown",
   "metadata": {},
   "source": [
    "1) Application of _rules_ module..."
   ]
  },
  {
   "cell_type": "code",
   "execution_count": 4,
   "metadata": {
    "collapsed": false
   },
   "outputs": [
    {
     "name": "stderr",
     "output_type": "stream",
     "text": [
      "[2016/Mar/24 16:22:42 DEBUG   ] rule 15 'Fix 1,3 charge-seperated systems (non-aromatic)' applied\n"
     ]
    }
   ],
   "source": [
    "smiles = 'CC[N-]C(C)=[NH+]C'\n",
    "\n",
    "HTML(show_change(smiles))"
   ]
  },
  {
   "cell_type": "markdown",
   "metadata": {},
   "source": [
    "2) Application of _neutralise_ module (_i.e._ simple addition/removal of protons)..."
   ]
  },
  {
   "cell_type": "code",
   "execution_count": 5,
   "metadata": {
    "collapsed": false
   },
   "outputs": [
    {
     "name": "stderr",
     "output_type": "stream",
     "text": [
      "[2016/Mar/24 16:22:42 DEBUG   ] 1 positive/H, 0 positive/quat and 1 negative (of which 0 are acid) charges identified\n",
      "[2016/Mar/24 16:22:42 DEBUG   ] Overall H balance: 0; formal charge: 0\n"
     ]
    },
    {
     "data": {
      "image/png": "[encoded data removed]",
      "text/plain": [
       "<rdkit.Chem.rdchem.Mol at 0x7fb5f3373cb0>"
      ]
     },
     "execution_count": 5,
     "metadata": {},
     "output_type": "execute_result"
    }
   ],
   "source": [
    "neutralise.apply(Chem.MolFromSmiles(smiles))"
   ]
  },
  {
   "cell_type": "markdown",
   "metadata": {},
   "source": [
    "For full-substituted species, this is not an issue, as the `neutralise` module will have no effect..."
   ]
  },
  {
   "cell_type": "markdown",
   "metadata": {},
   "source": [
    "1) Application of _rules_ module..."
   ]
  },
  {
   "cell_type": "code",
   "execution_count": 6,
   "metadata": {
    "collapsed": false
   },
   "outputs": [
    {
     "name": "stderr",
     "output_type": "stream",
     "text": [
      "[2016/Mar/24 16:22:42 DEBUG   ] rule 15 'Fix 1,3 charge-seperated systems (non-aromatic)' applied\n"
     ]
    }
   ],
   "source": [
    "HTML(show_change(\"C[N-]C(C)=[N+](C)C\"))"
   ]
  },
  {
   "cell_type": "markdown",
   "metadata": {},
   "source": [
    "2) Application of _neutralise_ module (has no effect here)..."
   ]
  },
  {
   "cell_type": "code",
   "execution_count": 7,
   "metadata": {
    "collapsed": false
   },
   "outputs": [
    {
     "name": "stderr",
     "output_type": "stream",
     "text": [
      "[2016/Mar/24 16:22:42 DEBUG   ] 0 positive/H, 1 positive/quat and 1 negative (of which 0 are acid) charges identified\n",
      "[2016/Mar/24 16:22:42 DEBUG   ] Overall H balance: 0; formal charge: 0\n"
     ]
    },
    {
     "data": {
      "image/png": "[encoded data removed]",
      "text/plain": [
       "<rdkit.Chem.rdchem.Mol at 0x7fb5f33833a0>"
      ]
     },
     "execution_count": 7,
     "metadata": {},
     "output_type": "execute_result"
    }
   ],
   "source": [
    "neutralise.apply(Chem.MolFromSmiles(\"C[N-]C(C)=[N+](C)C\"))"
   ]
  },
  {
   "cell_type": "markdown",
   "metadata": {},
   "source": [
    "The `neutralise` module will not attempt to charge balance these systems as they appear to be potential zwitterions; see the [documentation](3_neutralise.ipynb) for that module for futher details."
   ]
  },
  {
   "cell_type": "markdown",
   "metadata": {
    "slideshow": {
     "slide_type": "slide"
    }
   },
   "source": [
    "### Interaction of `neutralise` module and 'charge-seperated' rules\n",
    "\n",
    "The pre-application of the `neutralise` module could conceivably lead to problems in aromatic systems where potentially undesirable imine species might be produced. However, it doesn't seem to be a problem in practice as the undesirable species are fixed by the subsequent application of other rules.\n",
    "\n",
    "This is  illustrated below..."
   ]
  },
  {
   "cell_type": "code",
   "execution_count": 8,
   "metadata": {
    "collapsed": false
   },
   "outputs": [
    {
     "data": {
      "image/png": "[encoded data removed]",
      "text/plain": [
       "<rdkit.Chem.rdchem.Mol at 0x7fb5f3383a30>"
      ]
     },
     "execution_count": 8,
     "metadata": {},
     "output_type": "execute_result"
    }
   ],
   "source": [
    "mol = Chem.MolFromSmiles(\"[n-]1c(=[NH+]C)cccc1\")\n",
    "\n",
    "mol"
   ]
  },
  {
   "cell_type": "markdown",
   "metadata": {},
   "source": [
    "The initial application of the `neutralise` module removes the charges _via_ protonation/deprotonation to give a potentially undesirable hydropyridine-imine..."
   ]
  },
  {
   "cell_type": "code",
   "execution_count": 9,
   "metadata": {
    "collapsed": false
   },
   "outputs": [
    {
     "name": "stderr",
     "output_type": "stream",
     "text": [
      "[2016/Mar/24 16:22:42 DEBUG   ] 1 positive/H, 0 positive/quat and 1 negative (of which 0 are acid) charges identified\n",
      "[2016/Mar/24 16:22:42 DEBUG   ] Overall H balance: 0; formal charge: 0\n"
     ]
    },
    {
     "data": {
      "image/png": "[encoded data removed]",
      "text/plain": [
       "<rdkit.Chem.rdchem.Mol at 0x7fb5f3383ad0>"
      ]
     },
     "execution_count": 9,
     "metadata": {},
     "output_type": "execute_result"
    }
   ],
   "source": [
    "neutralise.apply(mol)"
   ]
  },
  {
   "cell_type": "markdown",
   "metadata": {},
   "source": [
    "However, this is then fixed by application of the appropriate 'hydropyridine-imine -> aminopyridine' transform during the rule-application step, so the desired parent is actually obtained..."
   ]
  },
  {
   "cell_type": "code",
   "execution_count": 10,
   "metadata": {
    "collapsed": false
   },
   "outputs": [
    {
     "name": "stderr",
     "output_type": "stream",
     "text": [
      "[2016/Mar/24 16:22:42 DEBUG   ] Starting fragment 1 'C[NH+]=c1cccc[n-]1'...\n",
      "[2016/Mar/24 16:22:42 DEBUG   ] 1) Check for non-organic elements...\n",
      "[2016/Mar/24 16:22:42 DEBUG   ] 2) Attempting to neutralise (first pass)...\n",
      "[2016/Mar/24 16:22:42 DEBUG   ] 1 positive/H, 0 positive/quat and 1 negative (of which 0 are acid) charges identified\n",
      "[2016/Mar/24 16:22:42 DEBUG   ] Overall H balance: 0; formal charge: 0\n",
      "[2016/Mar/24 16:22:42 DEBUG   ] 3) Applying rules...\n",
      "[2016/Mar/24 16:22:42 DEBUG   ] apply> mol = 'CN=c1cccc[nH]1'\n",
      "[2016/Mar/24 16:22:42 DEBUG   ] apply> starting pass 1...\n",
      "[2016/Mar/24 16:22:42 DEBUG   ] rule 7 'hydropyridin-2-imine -> 2-amino-pyridine (N-subst.)' applied on pass 1\n",
      "[2016/Mar/24 16:22:42 DEBUG   ] ...total of 1 hits in pass: will continue...\n",
      "[2016/Mar/24 16:22:42 DEBUG   ] apply> starting pass 2...\n",
      "[2016/Mar/24 16:22:42 DEBUG   ] ...total of 0 hits in pass: finished.\n",
      "[2016/Mar/24 16:22:42 DEBUG   ] 4) Attempting to neutralise (second pass)...\n",
      "[2016/Mar/24 16:22:42 DEBUG   ] 0 positive/H, 0 positive/quat and 0 negative (of which 0 are acid) charges identified\n",
      "[2016/Mar/24 16:22:42 DEBUG   ] Overall H balance: 0; formal charge: 0\n",
      "[2016/Mar/24 16:22:42 DEBUG   ] 5) Checking if frag is a salt/solvate...\n",
      "[2016/Mar/24 16:22:42 DEBUG   ] ...fragment kept.\n"
     ]
    },
    {
     "data": {
      "image/png": "[encoded data removed]",
      "text/plain": [
       "<rdkit.Chem.rdchem.Mol at 0x7fb5f3373f80>"
      ]
     },
     "execution_count": 10,
     "metadata": {},
     "output_type": "execute_result"
    }
   ],
   "source": [
    "standardise.apply(Chem.MolFromSmiles(\"[n-]1c(=[NH+]C)cccc1\"))"
   ]
  },
  {
   "cell_type": "markdown",
   "metadata": {},
   "source": [
    "Note that this is as would be obtained by application of the rules in the absence of the neutralisation step..."
   ]
  },
  {
   "cell_type": "code",
   "execution_count": 11,
   "metadata": {
    "collapsed": false,
    "slideshow": {
     "slide_type": "-"
    }
   },
   "outputs": [
    {
     "name": "stderr",
     "output_type": "stream",
     "text": [
      "[2016/Mar/24 16:22:42 DEBUG   ] rule 16 'Fix 1,3 charge-seperated systems (aromatic 1)' applied\n"
     ]
    }
   ],
   "source": [
    "HTML(show_change(\"[n-]1c(=[N+](C)C)cccc1\"))"
   ]
  },
  {
   "cell_type": "markdown",
   "metadata": {
    "slideshow": {
     "slide_type": "skip"
    }
   },
   "source": [
    "### Aromatics and imines\n",
    "\n",
    "In some cases it is not clear whether, when the starting structure contains an amide anion, that the uncharged imine produced is more or less desirable that the original zwitterion or than the cationic methyl-pyridine that would be produced by simple protonation of the amide anion. \n",
    "\n",
    "Examples are shown below; note that the `neutralise` module does not touch these molecules as it perceives them to be zwitterionic..\n"
   ]
  },
  {
   "cell_type": "code",
   "execution_count": 12,
   "metadata": {
    "collapsed": false,
    "slideshow": {
     "slide_type": "skip"
    }
   },
   "outputs": [
    {
     "name": "stderr",
     "output_type": "stream",
     "text": [
      "[2016/Mar/24 16:22:42 DEBUG   ] rule 17 'Fix 1,3 charge-seperated systems (aromatic 2)' applied\n"
     ]
    }
   ],
   "source": [
    "HTML(show_change(\"C[n+]1c([N-](C))cccc1\"))"
   ]
  },
  {
   "cell_type": "code",
   "execution_count": 13,
   "metadata": {
    "collapsed": false
   },
   "outputs": [
    {
     "name": "stderr",
     "output_type": "stream",
     "text": [
      "[2016/Mar/24 16:22:42 DEBUG   ] rule 20 'Fix 1,5 charge-seperated systems (aromatic 2)' applied\n"
     ]
    }
   ],
   "source": [
    "HTML(show_change(\"C[n+]1ccc([N-]C)cc1\"))"
   ]
  },
  {
   "cell_type": "markdown",
   "metadata": {},
   "source": [
    "As an alternative to attempting to neutralise these molecules, it might be preferable (in some cases?) to protonate the amide anion and return a cationic parent."
   ]
  }
 ],
 "metadata": {
  "kernelspec": {
   "display_name": "Python 3",
   "language": "python",
   "name": "python3"
  },
  "language_info": {
   "codemirror_mode": {
    "name": "ipython",
    "version": 3
   },
   "file_extension": ".py",
   "mimetype": "text/x-python",
   "name": "python",
   "nbconvert_exporter": "python",
   "pygments_lexer": "ipython3",
   "version": "3.5.1"
  }
 },
 "nbformat": 4,
 "nbformat_minor": 0
}
