{
 "cells": [
  {
   "cell_type": "code",
   "execution_count": 1,
   "metadata": {
    "collapsed": false
   },
   "outputs": [],
   "source": [
    "%run notebook_setup.py\n",
    "\n",
    "sys.path.append('../..')"
   ]
  },
  {
   "cell_type": "code",
   "execution_count": 2,
   "metadata": {
    "collapsed": false
   },
   "outputs": [],
   "source": [
    "from standardiser import rules"
   ]
  },
  {
   "cell_type": "code",
   "execution_count": 3,
   "metadata": {
    "collapsed": true
   },
   "outputs": [],
   "source": [
    "rules.logger.setLevel('DEBUG')"
   ]
  },
  {
   "cell_type": "markdown",
   "metadata": {},
   "source": [
    "# Rule application strategy\n",
    "\n",
    "This document discusses aspects of the rule application strategy, as this is not always straightforward.\n",
    "\n",
    "The document was originally created to illustrate a problem with an earlier version of the code. There, the transform for each rule was  applied repeatedly, with the *first* product of each reaction being taken an input to the next, until the reaction no longer produced a product. This was to handle cases where a moiety requiring rule-based standardisation occurrred multiple times in a molecule, and it worked for most such cases.\n",
    "\n",
    "However, that approach failed for molecules such as this one (which is a simplified version of real examples)..."
   ]
  },
  {
   "cell_type": "code",
   "execution_count": 4,
   "metadata": {
    "collapsed": false
   },
   "outputs": [
    {
     "data": {
      "image/png": "[encoded data removed]",
      "text/plain": [
       "<rdkit.Chem.rdchem.Mol at 0x7f70cb6c8080>"
      ]
     },
     "execution_count": 4,
     "metadata": {},
     "output_type": "execute_result"
    }
   ],
   "source": [
    "mol = Chem.MolFromSmiles(\"Oc1nc(CCc2c(O)ncnc2O)nc(O)c1\")\n",
    "mol"
   ]
  },
  {
   "cell_type": "code",
   "execution_count": 5,
   "metadata": {
    "collapsed": false
   },
   "outputs": [],
   "source": [
    "# Reaction defining rule (for rule '2-hydroxy pyridine -> 2-pyridone')...\n",
    "\n",
    "rxn = [x['rxn'] for x in rules.rule_set if x['name'] == '2-hydroxy pyridine -> 2-pyridone'][0]"
   ]
  },
  {
   "cell_type": "code",
   "execution_count": 6,
   "metadata": {
    "collapsed": false
   },
   "outputs": [
    {
     "data": {
      "image/png": "[encoded data removed]",
      "text/plain": [
       "<PIL.Image.Image image mode=RGBA size=600x200 at 0x7F70CB1CFB00>"
      ]
     },
     "execution_count": 6,
     "metadata": {},
     "output_type": "execute_result"
    }
   ],
   "source": [
    "# Run transform...\n",
    "# NB As the transorm is a one-component reaction, only the first component from each product tuple will exist\n",
    "\n",
    "products = [x[0] for x in rxn.RunReactants((mol,))]\n",
    "\n",
    "# Sanitize product mols...\n",
    "\n",
    "for x in products: Chem.SanitizeMol(x)\n",
    "    \n",
    "# Keep unique products only...\n",
    "\n",
    "products = list({Chem.MolToSmiles(x): x for x in products}.values())\n",
    "\n",
    "# Depict...\n",
    "\n",
    "Draw.MolsToGridImage(products)\n",
    "\n",
    "# Note that, in each product, only one example of the target moiety had been fixed..."
   ]
  },
  {
   "cell_type": "code",
   "execution_count": 7,
   "metadata": {
    "collapsed": false
   },
   "outputs": [
    {
     "data": {
      "image/png": "[encoded data removed]",
      "text/plain": [
       "<rdkit.Chem.rdchem.Mol at 0x7f70cb6cb710>"
      ]
     },
     "execution_count": 7,
     "metadata": {},
     "output_type": "execute_result"
    }
   ],
   "source": [
    "# Re-run reaction on first product...\n",
    "\n",
    "prod = rxn.RunReactants((products[0],))[0][0]\n",
    "prod"
   ]
  },
  {
   "cell_type": "code",
   "execution_count": 8,
   "metadata": {
    "collapsed": false
   },
   "outputs": [
    {
     "name": "stdout",
     "output_type": "stream",
     "text": [
      "Sanitization error: Can't kekulize mol \n",
      "\n"
     ]
    }
   ],
   "source": [
    "# An attempt to sanitize this 'molecule' fails...\n",
    "\n",
    "try:\n",
    "    \n",
    "    Chem.SanitizeMol(prod)\n",
    "    \n",
    "except ValueError as err:\n",
    "    \n",
    "    print(err.args[0])"
   ]
  },
  {
   "cell_type": "code",
   "execution_count": 9,
   "metadata": {
    "collapsed": false
   },
   "outputs": [
    {
     "data": {
      "image/png": "[encoded data removed]",
      "text/plain": [
       "<rdkit.Chem.rdchem.Mol at 0x7f70cbe27ef8>"
      ]
     },
     "execution_count": 9,
     "metadata": {},
     "output_type": "execute_result"
    }
   ],
   "source": [
    "# Re-run reaction on second product...\n",
    "\n",
    "prod = rxn.RunReactants((products[1],))[0][0]\n",
    "prod\n",
    "\n",
    "# Note that both applications of rhe reaction have been to the first ring..."
   ]
  },
  {
   "cell_type": "code",
   "execution_count": 10,
   "metadata": {
    "collapsed": false
   },
   "outputs": [
    {
     "name": "stdout",
     "output_type": "stream",
     "text": [
      "Sanitization error: Can't kekulize mol \n",
      "\n"
     ]
    }
   ],
   "source": [
    "# An attempt to sanitize this 'molecule' also fails...\n",
    "\n",
    "try:\n",
    "    \n",
    "    Chem.SanitizeMol(prod)\n",
    "    \n",
    "except ValueError as err:\n",
    "    \n",
    "    print(err.args[0])"
   ]
  },
  {
   "cell_type": "markdown",
   "metadata": {},
   "source": [
    "As is hopefully clear from the above, the problem is that, as the transform is applied to the same ring as the first on the second attempt, a non-physical 'intermediate' is obtained. This may be depicted but not sanitized, which means it may not used in any further transformations.\n",
    "\n",
    "Thus, the desired product, where the transform has been applied once to each ring, cannot be obtained by simple serial application of the transform to the first product. A slightly different strategy must thus be applied to ensure cases such as this one are handled. \n",
    "\n",
    "Now, all products are used, and the transform applied to each until the final molecule is converged upon (or we run out of iterations in a few pathological cases)..."
   ]
  },
  {
   "cell_type": "code",
   "execution_count": 11,
   "metadata": {
    "collapsed": false
   },
   "outputs": [
    {
     "data": {
      "image/png": "[encoded data removed]",
      "text/plain": [
       "<rdkit.Chem.rdchem.Mol at 0x7f70cb1dd030>"
      ]
     },
     "execution_count": 11,
     "metadata": {},
     "output_type": "execute_result"
    }
   ],
   "source": [
    "mol = Chem.MolFromSmiles(\"Oc1nc(CCc2c(O)ncnc2O)nc(O)c1\")\n",
    "mol"
   ]
  },
  {
   "cell_type": "code",
   "execution_count": 12,
   "metadata": {
    "collapsed": false
   },
   "outputs": [
    {
     "data": {
      "image/png": "[encoded data removed]",
      "text/plain": [
       "<rdkit.Chem.rdchem.Mol at 0x7f70cb1cb818>"
      ]
     },
     "execution_count": 12,
     "metadata": {},
     "output_type": "execute_result"
    }
   ],
   "source": [
    "fixed = None\n",
    "\n",
    "mols = [mol]\n",
    "\n",
    "changed = False\n",
    "\n",
    "for n_pass in range(1, 10):\n",
    "\n",
    "    logging.debug(\"apply_rule> starting pass {}...\".format(n_pass))\n",
    "\n",
    "    products = {}\n",
    "\n",
    "    for mol in mols:\n",
    "\n",
    "        for product in [x[0] for x in rxn.RunReactants((mol,))]:\n",
    "\n",
    "            try:\n",
    "\n",
    "                Chem.SanitizeMol(product)\n",
    "\n",
    "                smiles = Chem.MolToSmiles(product, isomericSmiles=True)\n",
    "\n",
    "            except ValueError as error:\n",
    "\n",
    "                continue # We are assuming this simply means an unphysical molecule has been generated\n",
    "\n",
    "            if smiles in products: continue # Keep only new structures\n",
    "                \n",
    "            products[smiles] = product\n",
    "\n",
    "    if products:\n",
    "\n",
    "        changed = True\n",
    "\n",
    "        logging.debug(\"apply_rule> there are {} products: will continue\".format(len(products.values())))\n",
    "\n",
    "        mols = list(products.values()) # Update list of mols\n",
    "\n",
    "    else: # Finished...\n",
    "\n",
    "        logging.debug(\"apply_rule> there were no products: will return\")\n",
    "            \n",
    "        fixed = mols[0] if changed else None # If there a multiple possible 'fixed' molecules, just take first\n",
    "        \n",
    "        break\n",
    "        \n",
    "fixed"
   ]
  },
  {
   "cell_type": "markdown",
   "metadata": {},
   "source": [
    "Note also that it would be possible to deal with this issue by rewriting the SMARTS transforms to be more specific (_i.e._ by excluding cases such as the present one). However, tt was felt that this would likely end up being more complicated than the chosen method, as mutiple complicated SMARTS could become necessary to represent fairly simple transforms."
   ]
  }
 ],
 "metadata": {
  "kernelspec": {
   "display_name": "Python 3",
   "language": "python",
   "name": "python3"
  },
  "language_info": {
   "codemirror_mode": {
    "name": "ipython",
    "version": 3
   },
   "file_extension": ".py",
   "mimetype": "text/x-python",
   "name": "python",
   "nbconvert_exporter": "python",
   "pygments_lexer": "ipython3",
   "version": "3.5.1"
  }
 },
 "nbformat": 4,
 "nbformat_minor": 0
}
