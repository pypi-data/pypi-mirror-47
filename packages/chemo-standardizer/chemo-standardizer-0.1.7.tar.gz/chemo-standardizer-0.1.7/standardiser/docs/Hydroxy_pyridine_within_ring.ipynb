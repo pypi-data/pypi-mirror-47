{
 "cells": [
  {
   "cell_type": "code",
   "execution_count": 1,
   "metadata": {
    "collapsed": false
   },
   "outputs": [],
   "source": [
    "%run notebook_setup.py\n",
    "\n",
    "sys.path.append('../..')"
   ]
  },
  {
   "cell_type": "code",
   "execution_count": 2,
   "metadata": {
    "collapsed": false
   },
   "outputs": [],
   "source": [
    "from standardiser import rules\n",
    "\n",
    "from standardiser.rules_demo import rules_table, show_change"
   ]
  },
  {
   "cell_type": "code",
   "execution_count": 3,
   "metadata": {
    "collapsed": false
   },
   "outputs": [],
   "source": [
    "rules.logger.setLevel('DEBUG')"
   ]
  },
  {
   "cell_type": "markdown",
   "metadata": {},
   "source": [
    "### 4-hydroxy pyridines\n",
    "\n",
    "If the rule '[4-hydroxy pyridine -> 4-pyridone (within-ring)](03_rules.ipynb#4-hydroxy_pyridine_-_4-pyridone_within-ring)' is not enabled, the more general rule '[4-hydroxy pyridine -> 4-pyridone (any)](03_rules.ipynb#4-hydroxy_pyridine_-_4-pyridone_any)' alone can give undesirable effects.\n",
    "\n",
    "The following molecule is an example (note that the 'within-ring' version of the rule is temporarily disbled for this demo)..."
   ]
  },
  {
   "cell_type": "code",
   "execution_count": 4,
   "metadata": {
    "collapsed": false
   },
   "outputs": [
    {
     "data": {
      "image/png": "[encoded data removed]",
      "text/plain": [
       "<rdkit.Chem.rdchem.Mol at 0x7ffafcc4b120>"
      ]
     },
     "execution_count": 4,
     "metadata": {},
     "output_type": "execute_result"
    }
   ],
   "source": [
    "mol = Chem.MolFromSmiles(\"C[n+]1ccc)Ncc1\")\n",
    "\n",
    "mol"
   ]
  },
  {
   "cell_type": "code",
   "execution_count": 5,
   "metadata": {
    "collapsed": false
   },
   "outputs": [
    {
     "name": "stderr",
     "output_type": "stream",
     "text": [
      "[2016/Mar/24 16:26:11 DEBUG   ] apply> mol = 'Oc1c2ccccc2nc2ccncc12'\n",
      "[2016/Mar/24 16:26:11 DEBUG   ] apply> starting pass 1...\n",
      "[2016/Mar/24 16:26:11 DEBUG   ] rule 4 '4-hydroxy pyridine -> 4-pyridone (any)' applied on pass 1\n",
      "[2016/Mar/24 16:26:11 DEBUG   ] ...total of 1 hits in pass: will continue...\n",
      "[2016/Mar/24 16:26:11 DEBUG   ] apply> starting pass 2...\n",
      "[2016/Mar/24 16:26:11 DEBUG   ] ...total of 0 hits in pass: finished.\n"
     ]
    },
    {
     "data": {
      "image/png": "[encoded data removed]",
      "text/plain": [
       "<rdkit.Chem.rdchem.Mol at 0x7ffafc737f50>"
      ]
     },
     "execution_count": 5,
     "metadata": {},
     "output_type": "execute_result"
    }
   ],
   "source": [
    "# Temporarily remove rule '4-hydroxy pyridine -> 4-pyridone (within-ring)', then apply rules...\n",
    "\n",
    "original_rules = rules.rule_set\n",
    "\n",
    "rules.rule_set = [x for x in original_rules if x['name'] !=  '4-hydroxy pyridine -> 4-pyridone (within-ring)']\n",
    "\n",
    "rules.apply(mol)"
   ]
  },
  {
   "cell_type": "markdown",
   "metadata": {},
   "source": [
    "Note that the 'across-ring' product had been produced, instead of the desired 'within-ring' product. \n",
    "\n",
    "If the restrictive 'within-ring' version of the rule (which is applied before the more general version) is re-enabled, the desired product is obtained..."
   ]
  },
  {
   "cell_type": "code",
   "execution_count": 6,
   "metadata": {
    "collapsed": false
   },
   "outputs": [
    {
     "name": "stderr",
     "output_type": "stream",
     "text": [
      "[2016/Mar/24 16:26:11 DEBUG   ] apply> mol = 'Oc1c2ccccc2nc2ccncc12'\n",
      "[2016/Mar/24 16:26:11 DEBUG   ] apply> starting pass 1...\n",
      "[2016/Mar/24 16:26:11 DEBUG   ] rule 3 '4-hydroxy pyridine -> 4-pyridone (within-ring)' applied on pass 1\n",
      "[2016/Mar/24 16:26:11 DEBUG   ] ...total of 1 hits in pass: will continue...\n",
      "[2016/Mar/24 16:26:11 DEBUG   ] apply> starting pass 2...\n",
      "[2016/Mar/24 16:26:11 DEBUG   ] ...total of 0 hits in pass: finished.\n"
     ]
    },
    {
     "data": {
      "image/png": "[encoded data removed]",
      "text/plain": [
       "<rdkit.Chem.rdchem.Mol at 0x7ffafc737b30>"
      ]
     },
     "execution_count": 6,
     "metadata": {},
     "output_type": "execute_result"
    }
   ],
   "source": [
    "# Restore rule '4-hydroxy pyridine -> 4-pyridone (within-ring)', then apply rules...\n",
    "\n",
    "rules.rule_set = original_rules\n",
    "\n",
    "rules.apply(mol)"
   ]
  },
  {
   "cell_type": "markdown",
   "metadata": {},
   "source": [
    "Note that the desired 'within-ring' product has been produced, instead of the 'across-ring' product."
   ]
  },
  {
   "cell_type": "markdown",
   "metadata": {},
   "source": [
    "An example of where this problem manifested is [CHEMBL348887](https://www.ebi.ac.uk/chembl/compound/inspect/CHEMBL348887).\n",
    "\n",
    "Note that if only the more general rule is enabled, the problem might not be obvious. This is because which substructure (_i.e._ the within-ring or across-ring version) is affected is arbitrary, depending on the order of the atoms in the input molecule. "
   ]
  }
 ],
 "metadata": {
  "kernelspec": {
   "display_name": "Python 3",
   "language": "python",
   "name": "python3"
  },
  "language_info": {
   "codemirror_mode": {
    "name": "ipython",
    "version": 3
   },
   "file_extension": ".py",
   "mimetype": "text/x-python",
   "name": "python",
   "nbconvert_exporter": "python",
   "pygments_lexer": "ipython3",
   "version": "3.5.1"
  }
 },
 "nbformat": 4,
 "nbformat_minor": 0
}
