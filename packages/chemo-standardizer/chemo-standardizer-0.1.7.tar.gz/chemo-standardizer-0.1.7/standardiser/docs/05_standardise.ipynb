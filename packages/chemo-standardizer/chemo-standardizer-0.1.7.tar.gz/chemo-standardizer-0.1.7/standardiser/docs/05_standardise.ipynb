{
 "cells": [
  {
   "cell_type": "code",
   "execution_count": 1,
   "metadata": {
    "collapsed": false
   },
   "outputs": [],
   "source": [
    "%run notebook_setup.py\n",
    "\n",
    "sys.path.append('../..')"
   ]
  },
  {
   "cell_type": "code",
   "execution_count": 2,
   "metadata": {
    "collapsed": false
   },
   "outputs": [],
   "source": [
    "from standardiser import standardise"
   ]
  },
  {
   "cell_type": "code",
   "execution_count": 3,
   "metadata": {
    "collapsed": true
   },
   "outputs": [],
   "source": [
    "standardise.logger.setLevel('DEBUG')"
   ]
  },
  {
   "cell_type": "markdown",
   "metadata": {
    "slideshow": {
     "slide_type": "slide"
    }
   },
   "source": [
    "# `standardise`: get standardised parent"
   ]
  },
  {
   "cell_type": "markdown",
   "metadata": {},
   "source": [
    "### Introduction\n",
    "\n",
    "This document provides some examples of the use of the **`standardise`** module, which uses the component modules described in the previous documents."
   ]
  },
  {
   "cell_type": "markdown",
   "metadata": {},
   "source": [
    "### Examples"
   ]
  },
  {
   "cell_type": "code",
   "execution_count": 4,
   "metadata": {
    "collapsed": false,
    "slideshow": {
     "slide_type": "slide"
    }
   },
   "outputs": [
    {
     "data": {
      "image/png": "[encoded data removed]",
      "text/plain": [
       "<rdkit.Chem.rdchem.Mol at 0x7fba3e1ce350>"
      ]
     },
     "execution_count": 4,
     "metadata": {},
     "output_type": "execute_result"
    }
   ],
   "source": [
    "mol = Chem.MolFromSmiles(\"[Na]OC(=O)Cc1ccc(C[NH3+])cc1.c1nnn[n-]1.O\")\n",
    "\n",
    "mol"
   ]
  },
  {
   "cell_type": "code",
   "execution_count": 5,
   "metadata": {
    "collapsed": false,
    "slideshow": {
     "slide_type": "fragment"
    }
   },
   "outputs": [
    {
     "name": "stderr",
     "output_type": "stream",
     "text": [
      "[2016/May/13 08:16:41 DEBUG   ] Starting fragment 1 '[Na+]'...\n",
      "[2016/May/13 08:16:41 DEBUG   ] 1) Check for non-organic elements...\n",
      "[2016/May/13 08:16:41 DEBUG   ] Starting fragment 2 '[NH3+]Cc1ccc(CC(=O)[O-])cc1'...\n",
      "[2016/May/13 08:16:41 DEBUG   ] 1) Check for non-organic elements...\n",
      "[2016/May/13 08:16:41 DEBUG   ] 2) Attempting to neutralise (first pass)...\n",
      "[2016/May/13 08:16:41 DEBUG   ] 3) Applying rules...\n",
      "[2016/May/13 08:16:41 DEBUG   ] 4) Attempting to neutralise (second pass)...\n",
      "[2016/May/13 08:16:41 DEBUG   ] 5) Checking if frag is a salt/solvate...\n",
      "[2016/May/13 08:16:41 DEBUG   ] ...fragment kept.\n",
      "[2016/May/13 08:16:41 DEBUG   ] Starting fragment 3 'c1nnn[n-]1'...\n",
      "[2016/May/13 08:16:41 DEBUG   ] 1) Check for non-organic elements...\n",
      "[2016/May/13 08:16:41 DEBUG   ] 2) Attempting to neutralise (first pass)...\n",
      "[2016/May/13 08:16:41 DEBUG   ] 3) Applying rules...\n",
      "[2016/May/13 08:16:41 DEBUG   ] 4) Attempting to neutralise (second pass)...\n",
      "[2016/May/13 08:16:41 DEBUG   ] 5) Checking if frag is a salt/solvate...\n",
      "[2016/May/13 08:16:41 DEBUG   ] Starting fragment 4 'O'...\n",
      "[2016/May/13 08:16:41 DEBUG   ] 1) Check for non-organic elements...\n",
      "[2016/May/13 08:16:41 DEBUG   ] 2) Attempting to neutralise (first pass)...\n",
      "[2016/May/13 08:16:41 DEBUG   ] 3) Applying rules...\n",
      "[2016/May/13 08:16:41 DEBUG   ] 4) Attempting to neutralise (second pass)...\n",
      "[2016/May/13 08:16:41 DEBUG   ] 5) Checking if frag is a salt/solvate...\n"
     ]
    },
    {
     "data": {
      "image/png": "[encoded data removed]",
      "text/plain": [
       "<rdkit.Chem.rdchem.Mol at 0x7fba3dc64ad0>"
      ]
     },
     "execution_count": 5,
     "metadata": {},
     "output_type": "execute_result"
    }
   ],
   "source": [
    "parent = None\n",
    "\n",
    "try:\n",
    "    \n",
    "    parent = standardise.apply(mol)\n",
    "    \n",
    "except standardise.StandardiseException as e:\n",
    "    \n",
    "    logging.warn(e.message)\n",
    "    \n",
    "parent"
   ]
  },
  {
   "cell_type": "markdown",
   "metadata": {},
   "source": [
    "### Multiple non-salt/solvate components"
   ]
  },
  {
   "cell_type": "code",
   "execution_count": 6,
   "metadata": {
    "collapsed": false,
    "slideshow": {
     "slide_type": "slide"
    }
   },
   "outputs": [
    {
     "data": {
      "image/png": "[encoded data removed]",
      "text/plain": [
       "<rdkit.Chem.rdchem.Mol at 0x7fba3dc64d50>"
      ]
     },
     "execution_count": 6,
     "metadata": {},
     "output_type": "execute_result"
    }
   ],
   "source": [
    "mol = Chem.MolFromSmiles(\"[Na]OC(=O)Cc1ccc(C[NH3+])cc1.Cc1nnn[n-]1.O\")\n",
    "\n",
    "mol"
   ]
  },
  {
   "cell_type": "code",
   "execution_count": 7,
   "metadata": {
    "collapsed": false,
    "slideshow": {
     "slide_type": "skip"
    }
   },
   "outputs": [
    {
     "name": "stderr",
     "output_type": "stream",
     "text": [
      "[2016/May/13 08:16:41 DEBUG   ] Starting fragment 1 '[Na+]'...\n",
      "[2016/May/13 08:16:41 DEBUG   ] 1) Check for non-organic elements...\n",
      "[2016/May/13 08:16:41 DEBUG   ] Starting fragment 2 '[NH3+]Cc1ccc(CC(=O)[O-])cc1'...\n",
      "[2016/May/13 08:16:41 DEBUG   ] 1) Check for non-organic elements...\n",
      "[2016/May/13 08:16:41 DEBUG   ] 2) Attempting to neutralise (first pass)...\n",
      "[2016/May/13 08:16:41 DEBUG   ] 3) Applying rules...\n",
      "[2016/May/13 08:16:41 DEBUG   ] 4) Attempting to neutralise (second pass)...\n",
      "[2016/May/13 08:16:41 DEBUG   ] 5) Checking if frag is a salt/solvate...\n",
      "[2016/May/13 08:16:41 DEBUG   ] ...fragment kept.\n",
      "[2016/May/13 08:16:41 DEBUG   ] Starting fragment 3 'Cc1nnn[n-]1'...\n",
      "[2016/May/13 08:16:41 DEBUG   ] 1) Check for non-organic elements...\n",
      "[2016/May/13 08:16:41 DEBUG   ] 2) Attempting to neutralise (first pass)...\n",
      "[2016/May/13 08:16:41 DEBUG   ] 3) Applying rules...\n",
      "[2016/May/13 08:16:41 DEBUG   ] 4) Attempting to neutralise (second pass)...\n",
      "[2016/May/13 08:16:41 DEBUG   ] 5) Checking if frag is a salt/solvate...\n",
      "[2016/May/13 08:16:41 DEBUG   ] ...fragment kept.\n",
      "[2016/May/13 08:16:41 DEBUG   ] Starting fragment 4 'O'...\n",
      "[2016/May/13 08:16:41 DEBUG   ] 1) Check for non-organic elements...\n",
      "[2016/May/13 08:16:41 DEBUG   ] 2) Attempting to neutralise (first pass)...\n",
      "[2016/May/13 08:16:41 DEBUG   ] 3) Applying rules...\n",
      "[2016/May/13 08:16:41 DEBUG   ] 4) Attempting to neutralise (second pass)...\n",
      "[2016/May/13 08:16:41 DEBUG   ] 5) Checking if frag is a salt/solvate...\n",
      "[2016/May/13 08:16:41 WARNING ] Multiple non-salt/solvate components\n"
     ]
    }
   ],
   "source": [
    "parent = None\n",
    "\n",
    "try:\n",
    "    \n",
    "    parent = standardise.apply(mol)\n",
    "    \n",
    "except standardise.StandardiseException as e:\n",
    "    \n",
    "    logging.warning(e.message)\n",
    "    \n",
    "parent"
   ]
  },
  {
   "cell_type": "markdown",
   "metadata": {},
   "source": [
    "### No non-salt/solvate components"
   ]
  },
  {
   "cell_type": "code",
   "execution_count": 8,
   "metadata": {
    "collapsed": false
   },
   "outputs": [
    {
     "data": {
      "image/png": "[encoded data removed]",
      "text/plain": [
       "<rdkit.Chem.rdchem.Mol at 0x7fba3dc73580>"
      ]
     },
     "execution_count": 8,
     "metadata": {},
     "output_type": "execute_result"
    }
   ],
   "source": [
    "mol = Chem.MolFromSmiles(\"c1nnn[n-]1.O\")\n",
    "\n",
    "mol"
   ]
  },
  {
   "cell_type": "code",
   "execution_count": 9,
   "metadata": {
    "collapsed": false
   },
   "outputs": [
    {
     "name": "stderr",
     "output_type": "stream",
     "text": [
      "[2016/May/13 08:16:41 DEBUG   ] Starting fragment 1 'c1nnn[n-]1'...\n",
      "[2016/May/13 08:16:41 DEBUG   ] 1) Check for non-organic elements...\n",
      "[2016/May/13 08:16:41 DEBUG   ] 2) Attempting to neutralise (first pass)...\n",
      "[2016/May/13 08:16:41 DEBUG   ] 3) Applying rules...\n",
      "[2016/May/13 08:16:41 DEBUG   ] 4) Attempting to neutralise (second pass)...\n",
      "[2016/May/13 08:16:41 DEBUG   ] 5) Checking if frag is a salt/solvate...\n",
      "[2016/May/13 08:16:41 DEBUG   ] Starting fragment 2 'O'...\n",
      "[2016/May/13 08:16:41 DEBUG   ] 1) Check for non-organic elements...\n",
      "[2016/May/13 08:16:41 DEBUG   ] 2) Attempting to neutralise (first pass)...\n",
      "[2016/May/13 08:16:41 DEBUG   ] 3) Applying rules...\n",
      "[2016/May/13 08:16:41 DEBUG   ] 4) Attempting to neutralise (second pass)...\n",
      "[2016/May/13 08:16:41 DEBUG   ] 5) Checking if frag is a salt/solvate...\n",
      "[2016/May/13 08:16:41 WARNING ] No non-salt/solvate components\n"
     ]
    }
   ],
   "source": [
    "parent = None\n",
    "\n",
    "try:\n",
    "    \n",
    "    parent = standardise.apply(mol)\n",
    "    \n",
    "except standardise.StandardiseException as e:\n",
    "    \n",
    "    logging.warning(e.message)\n",
    "    \n",
    "parent"
   ]
  }
 ],
 "metadata": {
  "kernelspec": {
   "display_name": "Python 3",
   "language": "python",
   "name": "python3"
  },
  "language_info": {
   "codemirror_mode": {
    "name": "ipython",
    "version": 3
   },
   "file_extension": ".py",
   "mimetype": "text/x-python",
   "name": "python",
   "nbconvert_exporter": "python",
   "pygments_lexer": "ipython3",
   "version": "3.5.1"
  }
 },
 "nbformat": 4,
 "nbformat_minor": 0
}
