{
 "cells": [
  {
   "cell_type": "markdown",
   "metadata": {},
   "source": [
    "# Quantum Phase Estimation Examples\n",
    "\n",
    "This notebook gives some examples of how to use Qubiter to write and simulate a quantum\n",
    "circuit that does quantum phase estimation (qPE).\n",
    "\n",
    "Even though qPE was invented by Kitaev, it can be understood \n",
    "(See IBM Quantum Experience Tutorial for the details) as\n",
    "a quantum computer version of a much earlier model, namely, \n",
    "the von Neumann Pointer-System model for a quantum\n",
    "mechanical measurement.\n",
    "\n",
    "\n",
    "In the case of quantum computers, \n",
    "the Pointer in von Neumann's model is represented by several \"pointer qubits\"\n",
    "and the System by several \"system qubits\".\n",
    "The matrix U whose eigenvalues we wish to find\n",
    "acts on the System qubits.\n",
    "\n",
    "In Qubiter, we call the \"pointer qubits\" the \"probes\", and the qbits that U acts on the \"atom qbits\". We call U the \"atom matrix\".\n",
    "$\\newcommand{\\bra}[1]{\\left\\langle{#1}\\right|}$\n",
    "$\\newcommand{\\ket}[1]{\\left|{#1}\\right\\rangle}$"
   ]
  },
  {
   "cell_type": "markdown",
   "metadata": {},
   "source": [
    "First change your working directory to the qubiter directory in your computer, and add its path to the path environment variable."
   ]
  },
  {
   "cell_type": "code",
   "execution_count": 1,
   "metadata": {},
   "outputs": [
    {
     "name": "stdout",
     "output_type": "stream",
     "text": [
      "C:\\Users\\rrtuc\\Desktop\\backed up\\python-projects\\qubiter\\qubiter\\jupyter_notebooks\n",
      "C:\\Users\\rrtuc\\Desktop\\backed up\\python-projects\\qubiter\n"
     ]
    }
   ],
   "source": [
    "import os\n",
    "import sys\n",
    "print(os.getcwd())\n",
    "os.chdir('../../')\n",
    "print(os.getcwd())\n",
    "sys.path.insert(0,os.getcwd())"
   ]
  },
  {
   "cell_type": "code",
   "execution_count": 2,
   "metadata": {},
   "outputs": [
    {
     "name": "stdout",
     "output_type": "stream",
     "text": [
      "loaded OneBitGates, WITHOUT autograd.numpy\n"
     ]
    }
   ],
   "source": [
    "from qubiter.SEO_writer import *\n",
    "from qubiter.SEO_simulator import *\n",
    "from qubiter.StateVec import *\n",
    "from qubiter.adv_applications.PhaseEstSEO_writer import PhaseEstSEO_writer\n",
    "from qubiter.adv_applications.PhaseEstSEO_writer import AtomWriter\n",
    "import numpy as np"
   ]
  },
  {
   "cell_type": "markdown",
   "metadata": {},
   "source": [
    "## Example a: \n",
    "In this example, 2 qbits are used\n",
    "\n",
    "probe qubits = {0}, \n",
    "\n",
    "atom qubits = {1}\n",
    "\n",
    "The atom matrix is the X Pauli matrix, $U = \\sigma_X$\n",
    "\n",
    "Eigenvectors of U are \n",
    "\n",
    "$H\\ket{0} = \\frac{1}{\\sqrt{2}}(\\ket{0} + \\ket{1})$ for +1\n",
    "\n",
    "$H\\ket{1} = \\frac{1}{\\sqrt{2}}(\\ket{0} - \\ket{1})$ for -1\n",
    "\n",
    "where $H = \\frac{1}{\\sqrt{2}}\\left[ \\begin{array}{cc} 1 & 1\\\\ 1 & -1 \\end{array}\\right ]$\n",
    "is the Hadamard matrix"
   ]
  },
  {
   "cell_type": "markdown",
   "metadata": {},
   "source": [
    "Open a writer, tell it where to write to.\n",
    "We will use zero bit last (ZL) convention."
   ]
  },
  {
   "cell_type": "code",
   "execution_count": 3,
   "metadata": {},
   "outputs": [],
   "source": [
    "num_bits = 2\n",
    "emb = CktEmbedder(num_bits, num_bits)\n",
    "file_prefix = 'ph_est_nb_a'\n",
    "wr = SEO_writer(file_prefix, emb)"
   ]
  },
  {
   "cell_type": "markdown",
   "metadata": {},
   "source": [
    "Next write the whole circuit"
   ]
  },
  {
   "cell_type": "code",
   "execution_count": 4,
   "metadata": {},
   "outputs": [],
   "source": [
    "wr.write_one_bit_gate(1, OneBitGates.had2)\n",
    "wr.write_one_bit_gate(0, OneBitGates.had2)\n",
    "\n",
    "control_pos = 0\n",
    "target_pos = 1\n",
    "trols = Controls.new_knob(num_bits, control_pos, kind=True)\n",
    "wr.write_controlled_one_bit_gate(\n",
    "    target_pos, trols, OneBitGates.sigx)\n",
    "\n",
    "wr.write_one_bit_gate(0, OneBitGates.had2)"
   ]
  },
  {
   "cell_type": "markdown",
   "metadata": {},
   "source": [
    "Close English and Picture files"
   ]
  },
  {
   "cell_type": "code",
   "execution_count": 5,
   "metadata": {},
   "outputs": [],
   "source": [
    "wr.close_files()"
   ]
  },
  {
   "cell_type": "markdown",
   "metadata": {},
   "source": [
    "Look in files\n",
    "\n",
    "* <a href=\"../io_folder/ph_est_nb_a_2_eng.txt\">../io_folder/ph_est_nb_a_2_eng.txt</a>\n",
    "* <a href=\"../io_folder/ph_est_nb_a_2_ZLpic.txt\">../io_folder/ph_est_nb_a_2_ZLpic.txt</a>\n",
    "\n",
    "to see the quantum circuit that was generated"
   ]
  },
  {
   "cell_type": "markdown",
   "metadata": {},
   "source": [
    "Print the Picture file"
   ]
  },
  {
   "cell_type": "code",
   "execution_count": 6,
   "metadata": {},
   "outputs": [
    {
     "name": "stdout",
     "output_type": "stream",
     "text": [
      "H   |   \n",
      "|   H   \n",
      "X---@   \n",
      "|   H   \n",
      "\n"
     ]
    }
   ],
   "source": [
    "wr.print_pic_file()"
   ]
  },
  {
   "cell_type": "markdown",
   "metadata": {},
   "source": [
    "Specify initial state vector for simulation. "
   ]
  },
  {
   "cell_type": "code",
   "execution_count": 7,
   "metadata": {},
   "outputs": [],
   "source": [
    "init_st_vec = StateVec.get_standard_basis_st_vec([0, 0])"
   ]
  },
  {
   "cell_type": "markdown",
   "metadata": {},
   "source": [
    "Open a simulator. This automatically\n",
    "multiplies quantum circuit in given file."
   ]
  },
  {
   "cell_type": "code",
   "execution_count": 8,
   "metadata": {},
   "outputs": [],
   "source": [
    "sim = SEO_simulator(file_prefix, num_bits, init_st_vec)"
   ]
  },
  {
   "cell_type": "markdown",
   "metadata": {},
   "source": [
    "Print description of final state vector"
   ]
  },
  {
   "cell_type": "code",
   "execution_count": 9,
   "metadata": {},
   "outputs": [
    {
     "name": "stdout",
     "output_type": "stream",
     "text": [
      "*********branch= pure\n",
      "state vector:\n",
      "ZL convention (Zero bit Last in state tuple)\n",
      "(00)ZL (0.7071067811865474+0j) , prob= 0.4999999999999998\n",
      "(10)ZL (0.7071067811865474+0j) , prob= 0.4999999999999998\n",
      "total probability of state vector (=one if no measurements)= 0.9999999999999996\n",
      "dictionary with key=qubit, value=(Prob(0), Prob(1))\n",
      "{0: (0.9999999999999996, 4.440892098500626e-16),\n",
      " 1: (0.4999999999999998, 0.5000000000000002)}\n"
     ]
    }
   ],
   "source": [
    "StateVec.describe_st_vec_dict(sim.cur_st_vec_dict, \n",
    "        print_st_vec=True, do_pp=True, omit_zero_amps=True, show_probs=True)"
   ]
  },
  {
   "cell_type": "markdown",
   "metadata": {},
   "source": [
    "## Example b:\n",
    "In this example, num_bits are used\n",
    "\n",
    "probe qubits = {0, 1, 2, ..., num_bits-2}\n",
    "\n",
    "atom qubits = {num_bits-1}\n",
    "\n",
    "The atom matrix is a Z axis rotation, $U = e^{i*rads*\\sigma_Z}$, for some \n",
    "Real number $rads$\n",
    "\n",
    "Eigenvectors of U are same as those for $\\sigma_Z$, $\\ket{0}$ and $\\ket{1}$"
   ]
  },
  {
   "cell_type": "markdown",
   "metadata": {},
   "source": [
    "An object of the AtomWriter2 class will be called by the writer of the full qPE circuit \n",
    "to write the powers of the atom matrix."
   ]
  },
  {
   "cell_type": "code",
   "execution_count": 10,
   "metadata": {},
   "outputs": [],
   "source": [
    "class AtomWriter2(AtomWriter):\n",
    "    \n",
    "    def __init__(self, do_write, rads, **kwargs):\n",
    "        self.rads = rads\n",
    "        AtomWriter.__init__(self, do_write, **kwargs)\n",
    "        \n",
    "    def write_pow(self, power):\n",
    "        z_axis = 3\n",
    "        self.write_one_bit_gate(0, OneBitGates.rot_ax, [power*self.rads, z_axis])\n",
    "        \n",
    "    def write_pow_hermitian(self, power):\n",
    "        z_axis = 3\n",
    "        self.write_one_bit_gate(0, OneBitGates.rot_ax, [-power*self.rads, z_axis])"
   ]
  },
  {
   "cell_type": "code",
   "execution_count": 11,
   "metadata": {},
   "outputs": [
    {
     "name": "stdout",
     "output_type": "stream",
     "text": [
      "-----------------Number of bits= 2\n",
      "|   H   \n",
      "Rz--@   \n",
      "|   H   \n",
      "\n",
      "*********branch= pure\n",
      "state vector:\n",
      "ZL convention (Zero bit Last in state tuple)\n",
      "(00)ZL (0.9619397662556431+0.19134171618254484j) , prob= 0.9619397662556429\n",
      "(01)ZL (0.03806023374435662-0.19134171618254484j) , prob= 0.0380602337443566\n",
      "total probability of state vector (=one if no measurements)= 0.9999999999999996\n",
      "dictionary with key=qubit, value=(Prob(0), Prob(1))\n",
      "{0: (0.9619397662556429, 0.038060233744357075),\n",
      " 1: (0.9999999999999996, 4.440892098500626e-16)}\n",
      "spike_bit prediction= -3.0\n",
      "-----------------Number of bits= 3\n",
      "|   |   H   \n",
      "|   H   |   \n",
      "Rz--+---@   \n",
      "Rz--@   |   \n",
      "|   H   |   \n",
      "|   @P--@   \n",
      "|   |   H   \n",
      "|   <--->   \n",
      "\n",
      "*********branch= pure\n",
      "state vector:\n",
      "ZL convention (Zero bit Last in state tuple)\n",
      "(000)ZL (0.7534174365157308+0.5034174365157309j) , prob= 0.8210669490340053\n",
      "(010)ZL (0.10013595407754274-0.14986404592245717j) , prob= 0.03248644155926809\n",
      "(001)ZL (-0.06207572033318614-0.31207572033318604j) , prob= 0.1012446502763609\n",
      "(011)ZL (0.2085223297399123-0.04147767026008766j) , prob= 0.04520195913036527\n",
      "total probability of state vector (=one if no measurements)= 0.9999999999999994\n",
      "dictionary with key=qubit, value=(Prob(0), Prob(1))\n",
      "{0: (0.8535533905932733, 0.1464466094067267),\n",
      " 1: (0.9223115993103661, 0.0776884006896339),\n",
      " 2: (0.9999999999999994, 5.551115123125783e-16)}\n",
      "spike_bit prediction= -2.0\n",
      "-----------------Number of bits= 4\n",
      "|   |   |   H   \n",
      "|   |   H   |   \n",
      "|   H   |   |   \n",
      "Rz--+---+---@   \n",
      "Rz--+---@   |   \n",
      "Rz--@   |   |   \n",
      "|   H   |   |   \n",
      "|   @P--@   |   \n",
      "|   |   H   |   \n",
      "|   @P--+---@   \n",
      "|   |   @P--@   \n",
      "|   |   |   H   \n",
      "|   |   <--->   \n",
      "|   <---+--->   \n",
      "|   <--->   |   \n",
      "\n",
      "*********branch= pure\n",
      "state vector:\n",
      "ZL convention (Zero bit Last in state tuple)\n",
      "(0000)ZL (0.12499999999999997+0.6284174365157307j) , prob= 0.41053347451700245\n",
      "(0100)ZL (0.12499999999999997-0.02486404592245728j) , prob= 0.016243220779634058\n",
      "(0010)ZL (0.12499999999999996-0.18707572033318604j) , prob= 0.050622325138180414\n",
      "(0110)ZL (0.12499999999999993+0.08352232973991232j) , prob= 0.022600979565182627\n",
      "(0001)ZL (0.12499999999999992-0.6284174365157306j) , prob= 0.4105334745170022\n",
      "(0101)ZL (0.12499999999999992+0.024864045922457202j) , prob= 0.016243220779634044\n",
      "(0011)ZL (0.12499999999999993-0.0835223297399123j) , prob= 0.022600979565182627\n",
      "(0111)ZL (0.1249999999999999+0.18707572033318598j) , prob= 0.050622325138180393\n",
      "total probability of state vector (=one if no measurements)= 0.9999999999999987\n",
      "dictionary with key=qubit, value=(Prob(0), Prob(1))\n",
      "{0: (0.4999999999999995, 0.5000000000000004),\n",
      " 1: (0.8535533905932726, 0.14644660940672738),\n",
      " 2: (0.8942902537373676, 0.10570974626263241),\n",
      " 3: (0.9999999999999987, 1.3322676295501878e-15)}\n",
      "spike_bit prediction= -1.0\n",
      "-----------------Number of bits= 5\n",
      "|   |   |   |   H   \n",
      "|   |   |   H   |   \n",
      "|   |   H   |   |   \n",
      "|   H   |   |   |   \n",
      "Rz--+---+---+---@   \n",
      "Rz--+---+---@   |   \n",
      "Rz--+---@   |   |   \n",
      "Rz--@   |   |   |   \n",
      "|   H   |   |   |   \n",
      "|   @P--@   |   |   \n",
      "|   |   H   |   |   \n",
      "|   @P--+---@   |   \n",
      "|   |   @P--@   |   \n",
      "|   |   |   H   |   \n",
      "|   @P--+---+---@   \n",
      "|   |   @P--+---@   \n",
      "|   |   |   @P--@   \n",
      "|   |   |   |   H   \n",
      "|   |   |   <--->   \n",
      "|   |   <---+--->   \n",
      "|   |   <--->   |   \n",
      "|   <---+---+--->   \n",
      "|   <---+--->   |   \n",
      "|   <--->   |   |   \n",
      "\n",
      "*********branch= pure\n",
      "state vector:\n",
      "ZL convention (Zero bit Last in state tuple)\n",
      "(00001)ZL (0.9999999999999994-4.881202853070354e-17j) , prob= 0.9999999999999989\n",
      "total probability of state vector (=one if no measurements)= 0.9999999999999989\n",
      "dictionary with key=qubit, value=(Prob(0), Prob(1))\n",
      "{0: (4.191124928558461e-33, 1.0),\n",
      " 1: (0.9999999999999989, 1.1102230246251565e-15),\n",
      " 2: (0.9999999999999989, 1.1102230246251565e-15),\n",
      " 3: (0.9999999999999989, 1.1102230246251565e-15),\n",
      " 4: (0.9999999999999989, 1.1102230246251565e-15)}\n",
      "spike_bit prediction= 0.0\n",
      "-----------------Number of bits= 6\n",
      "|   |   |   |   |   H   \n",
      "|   |   |   |   H   |   \n",
      "|   |   |   H   |   |   \n",
      "|   |   H   |   |   |   \n",
      "|   H   |   |   |   |   \n",
      "Rz--+---+---+---+---@   \n",
      "Rz--+---+---+---@   |   \n",
      "Rz--+---+---@   |   |   \n",
      "Rz--+---@   |   |   |   \n",
      "Rz--@   |   |   |   |   \n",
      "|   H   |   |   |   |   \n",
      "|   @P--@   |   |   |   \n",
      "|   |   H   |   |   |   \n",
      "|   @P--+---@   |   |   \n",
      "|   |   @P--@   |   |   \n",
      "|   |   |   H   |   |   \n",
      "|   @P--+---+---@   |   \n",
      "|   |   @P--+---@   |   \n",
      "|   |   |   @P--@   |   \n",
      "|   |   |   |   H   |   \n",
      "|   @P--+---+---+---@   \n",
      "|   |   @P--+---+---@   \n",
      "|   |   |   @P--+---@   \n",
      "|   |   |   |   @P--@   \n",
      "|   |   |   |   |   H   \n",
      "|   |   |   |   <--->   \n",
      "|   |   |   <---+--->   \n",
      "|   |   |   <--->   |   \n",
      "|   |   <---+---+--->   \n",
      "|   |   <---+--->   |   \n",
      "|   |   <--->   |   |   \n",
      "|   <---+---+---+--->   \n",
      "|   <---+---+--->   |   \n",
      "|   <---+--->   |   |   \n",
      "|   <--->   |   |   |   \n",
      "\n",
      "*********branch= pure\n",
      "state vector:\n",
      "ZL convention (Zero bit Last in state tuple)\n",
      "(000010)ZL (0.9999999999999992-1.6031387339992508e-16j) , prob= 0.9999999999999984\n",
      "total probability of state vector (=one if no measurements)= 0.9999999999999984\n",
      "dictionary with key=qubit, value=(Prob(0), Prob(1))\n",
      "{0: (0.9999999999999984, 1.5543122344752192e-15),\n",
      " 1: (1.1857854045051385e-32, 1.0),\n",
      " 2: (0.9999999999999984, 1.5543122344752192e-15),\n",
      " 3: (0.9999999999999984, 1.5543122344752192e-15),\n",
      " 4: (0.9999999999999984, 1.5543122344752192e-15),\n",
      " 5: (0.9999999999999984, 1.5543122344752192e-15)}\n",
      "spike_bit prediction= 1.0\n",
      "-----------------Number of bits= 7\n",
      "|   |   |   |   |   |   H   \n",
      "|   |   |   |   |   H   |   \n",
      "|   |   |   |   H   |   |   \n",
      "|   |   |   H   |   |   |   \n",
      "|   |   H   |   |   |   |   \n",
      "|   H   |   |   |   |   |   \n",
      "Rz--+---+---+---+---+---@   \n",
      "Rz--+---+---+---+---@   |   \n",
      "Rz--+---+---+---@   |   |   \n",
      "Rz--+---+---@   |   |   |   \n",
      "Rz--+---@   |   |   |   |   \n",
      "Rz--@   |   |   |   |   |   \n",
      "|   H   |   |   |   |   |   \n",
      "|   @P--@   |   |   |   |   \n",
      "|   |   H   |   |   |   |   \n",
      "|   @P--+---@   |   |   |   \n",
      "|   |   @P--@   |   |   |   \n",
      "|   |   |   H   |   |   |   \n",
      "|   @P--+---+---@   |   |   \n",
      "|   |   @P--+---@   |   |   \n",
      "|   |   |   @P--@   |   |   \n",
      "|   |   |   |   H   |   |   \n",
      "|   @P--+---+---+---@   |   \n",
      "|   |   @P--+---+---@   |   \n",
      "|   |   |   @P--+---@   |   \n",
      "|   |   |   |   @P--@   |   \n",
      "|   |   |   |   |   H   |   \n",
      "|   @P--+---+---+---+---@   \n",
      "|   |   @P--+---+---+---@   \n",
      "|   |   |   @P--+---+---@   \n",
      "|   |   |   |   @P--+---@   \n",
      "|   |   |   |   |   @P--@   \n",
      "|   |   |   |   |   |   H   \n",
      "|   |   |   |   |   <--->   \n",
      "|   |   |   |   <---+--->   \n",
      "|   |   |   |   <--->   |   \n",
      "|   |   |   <---+---+--->   \n",
      "|   |   |   <---+--->   |   \n",
      "|   |   |   <--->   |   |   \n",
      "|   |   <---+---+---+--->   \n",
      "|   |   <---+---+--->   |   \n",
      "|   |   <---+--->   |   |   \n",
      "|   |   <--->   |   |   |   \n",
      "|   <---+---+---+---+--->   \n",
      "|   <---+---+---+--->   |   \n",
      "|   <---+---+--->   |   |   \n",
      "|   <---+--->   |   |   |   \n",
      "|   <--->   |   |   |   |   \n",
      "\n",
      "*********branch= pure\n",
      "state vector:\n",
      "ZL convention (Zero bit Last in state tuple)\n",
      "(0000100)ZL (0.999999999999999-3.8093651118201914e-16j) , prob= 0.999999999999998\n",
      "total probability of state vector (=one if no measurements)= 0.999999999999998\n",
      "dictionary with key=qubit, value=(Prob(0), Prob(1))\n",
      "{0: (0.999999999999998, 1.9984014443252818e-15),\n",
      " 1: (0.999999999999998, 1.9984014443252818e-15),\n",
      " 2: (4.4986696968365697e-32, 1.0),\n",
      " 3: (0.999999999999998, 1.9984014443252818e-15),\n",
      " 4: (0.999999999999998, 1.9984014443252818e-15),\n",
      " 5: (0.999999999999998, 1.9984014443252818e-15),\n",
      " 6: (0.999999999999998, 1.9984014443252818e-15)}\n",
      "spike_bit prediction= 2.0\n",
      "-----------------Number of bits= 8\n",
      "|   |   |   |   |   |   |   H   \n",
      "|   |   |   |   |   |   H   |   \n",
      "|   |   |   |   |   H   |   |   \n",
      "|   |   |   |   H   |   |   |   \n",
      "|   |   |   H   |   |   |   |   \n",
      "|   |   H   |   |   |   |   |   \n",
      "|   H   |   |   |   |   |   |   \n",
      "Rz--+---+---+---+---+---+---@   \n",
      "Rz--+---+---+---+---+---@   |   \n",
      "Rz--+---+---+---+---@   |   |   \n",
      "Rz--+---+---+---@   |   |   |   \n",
      "Rz--+---+---@   |   |   |   |   \n",
      "Rz--+---@   |   |   |   |   |   \n",
      "Rz--@   |   |   |   |   |   |   \n",
      "|   H   |   |   |   |   |   |   \n",
      "|   @P--@   |   |   |   |   |   \n",
      "|   |   H   |   |   |   |   |   \n",
      "|   @P--+---@   |   |   |   |   \n",
      "|   |   @P--@   |   |   |   |   \n",
      "|   |   |   H   |   |   |   |   \n",
      "|   @P--+---+---@   |   |   |   \n",
      "|   |   @P--+---@   |   |   |   \n",
      "|   |   |   @P--@   |   |   |   \n",
      "|   |   |   |   H   |   |   |   \n",
      "|   @P--+---+---+---@   |   |   \n",
      "|   |   @P--+---+---@   |   |   \n",
      "|   |   |   @P--+---@   |   |   \n",
      "|   |   |   |   @P--@   |   |   \n",
      "|   |   |   |   |   H   |   |   \n",
      "|   @P--+---+---+---+---@   |   \n",
      "|   |   @P--+---+---+---@   |   \n",
      "|   |   |   @P--+---+---@   |   \n",
      "|   |   |   |   @P--+---@   |   \n",
      "|   |   |   |   |   @P--@   |   \n",
      "|   |   |   |   |   |   H   |   \n",
      "|   @P--+---+---+---+---+---@   \n",
      "|   |   @P--+---+---+---+---@   \n",
      "|   |   |   @P--+---+---+---@   \n",
      "|   |   |   |   @P--+---+---@   \n",
      "|   |   |   |   |   @P--+---@   \n",
      "|   |   |   |   |   |   @P--@   \n",
      "|   |   |   |   |   |   |   H   \n",
      "|   |   |   |   |   |   <--->   \n",
      "|   |   |   |   |   <---+--->   \n",
      "|   |   |   |   |   <--->   |   \n",
      "|   |   |   |   <---+---+--->   \n",
      "|   |   |   |   <---+--->   |   \n",
      "|   |   |   |   <--->   |   |   \n",
      "|   |   |   <---+---+---+--->   \n",
      "|   |   |   <---+---+--->   |   \n",
      "|   |   |   <---+--->   |   |   \n",
      "|   |   |   <--->   |   |   |   \n",
      "|   |   <---+---+---+---+--->   \n",
      "|   |   <---+---+---+--->   |   \n",
      "|   |   <---+---+--->   |   |   \n",
      "|   |   <---+--->   |   |   |   \n",
      "|   |   <--->   |   |   |   |   \n",
      "|   <---+---+---+---+---+--->   \n",
      "|   <---+---+---+---+--->   |   \n",
      "|   <---+---+---+--->   |   |   \n",
      "|   <---+---+--->   |   |   |   \n",
      "|   <---+--->   |   |   |   |   \n",
      "|   <--->   |   |   |   |   |   \n",
      "\n",
      "*********branch= pure\n",
      "state vector:\n",
      "ZL convention (Zero bit Last in state tuple)\n",
      "(00001000)ZL (0.9999999999999989-9.700753487194683e-16j) , prob= 0.9999999999999978\n",
      "total probability of state vector (=one if no measurements)= 0.9999999999999978\n",
      "dictionary with key=qubit, value=(Prob(0), Prob(1))\n",
      "{0: (0.9999999999999978, 2.220446049250313e-15),\n",
      " 1: (0.9999999999999978, 2.220446049250313e-15),\n",
      " 2: (0.9999999999999978, 2.220446049250313e-15),\n",
      " 3: (1.6328777886085095e-31, 1.0),\n",
      " 4: (0.9999999999999978, 2.220446049250313e-15),\n",
      " 5: (0.9999999999999978, 2.220446049250313e-15),\n",
      " 6: (0.9999999999999978, 2.220446049250313e-15),\n",
      " 7: (0.9999999999999978, 2.220446049250313e-15)}\n",
      "spike_bit prediction= 3.0\n"
     ]
    }
   ],
   "source": [
    "for num_bits in range(2, 9):\n",
    "    print('-----------------Number of bits=', num_bits)\n",
    "    rads = 2*np.pi/16\n",
    "    atom_wr = AtomWriter2(rads=rads, do_write=False)\n",
    "    file_prefix = 'ph_est_nb_b'\n",
    "    emb = CktEmbedder(num_bits, num_bits)\n",
    "    wr = PhaseEstSEO_writer(do_write=True,\n",
    "                            num_probe_bits=num_bits - 1,\n",
    "                            atom_writer=atom_wr,\n",
    "                            file_prefix=file_prefix, \n",
    "                            emb=emb)\n",
    "\n",
    "    wr.close_files()\n",
    "\n",
    "    wr.print_pic_file()\n",
    "\n",
    "    init_st_vec = StateVec.get_standard_basis_st_vec([0]*num_bits)\n",
    "    sim = SEO_simulator(file_prefix, num_bits, init_st_vec)\n",
    "    StateVec.describe_st_vec_dict(sim.cur_st_vec_dict, \n",
    "            print_st_vec=True, do_pp=True, omit_zero_amps=True, show_probs=True)\n",
    "    \n",
    "    print('spike_bit prediction=', num_bits - 1 + np.log2(rads/(2*np.pi)))"
   ]
  },
  {
   "cell_type": "markdown",
   "metadata": {},
   "source": [
    "We have printed the result for a range of $num\\_bits$. The very\n",
    "last line for each $num\\_bits$ printed tells the bit where we predict the spike (P(1)>>P(0)) will occur.\n",
    "If \n",
    "\n",
    "$rads = \\frac{2 \\pi}{2^r}$, \n",
    "\n",
    "then we predict that \n",
    "\n",
    "$spike\\_bit + r = num\\_bits -1 = num\\_probes$\n",
    "\n",
    "If $rads$ cannot be expressed in this form, then the distributions over\n",
    "the first $num\\_bits - 1$ bits will have multiple spikes at a bit $spike\\_bit$ such that\n",
    "\n",
    "$rads \\approx 2\\pi \\sum_{spike\\_bit} \\frac{2^{spike\\_bit}}{2^{num\\_probes}}= 2\\pi \\sum_{k=0}^{num\\_probes - 1} \\frac{2^k}{2^{num\\_probes}}n(k)$\n",
    "\n",
    "for $0 \\leq rads \\leq 2\\pi$, where $n(k)=1$ if $k$ is a spike bit\n",
    "and $n(k)=0$ otherwise."
   ]
  },
  {
   "cell_type": "code",
   "execution_count": null,
   "metadata": {},
   "outputs": [],
   "source": []
  }
 ],
 "metadata": {
  "anaconda-cloud": {},
  "kernelspec": {
   "display_name": "Python 3",
   "language": "python",
   "name": "python3"
  },
  "language_info": {
   "codemirror_mode": {
    "name": "ipython",
    "version": 3
   },
   "file_extension": ".py",
   "mimetype": "text/x-python",
   "name": "python",
   "nbconvert_exporter": "python",
   "pygments_lexer": "ipython3",
   "version": "3.7.3"
  },
  "toc": {
   "base_numbering": 1,
   "nav_menu": {
    "height": "66px",
    "width": "252px"
   },
   "number_sections": true,
   "sideBar": true,
   "skip_h1_title": false,
   "title_cell": "Table of Contents",
   "title_sidebar": "Contents",
   "toc_cell": false,
   "toc_position": {},
   "toc_section_display": "block",
   "toc_window_display": false
  }
 },
 "nbformat": 4,
 "nbformat_minor": 1
}
