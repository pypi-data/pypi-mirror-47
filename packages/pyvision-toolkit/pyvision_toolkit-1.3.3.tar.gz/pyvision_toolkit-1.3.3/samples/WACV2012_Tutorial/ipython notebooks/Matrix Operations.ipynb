{
 "metadata": {
  "name": "Matrix Operations"
 },
 "nbformat": 3,
 "nbformat_minor": 0,
 "worksheets": [
  {
   "cells": [
    {
     "cell_type": "markdown",
     "metadata": {},
     "source": [
      "Matrix Operations Demonstration\n",
      "===============================\n",
      "With the iPython notebook and pylab support, we have a very nice interactive shell for scientific computing.\n",
      "\n",
      "The ipython **notebook** lets you mix rich text including equations, computation, and graphics into a single working document. You can easily revise\n",
      "computational steps without having to re-run an entire script. Notebooks can be saved and reloaded, printed,\n",
      "and accessed remotely.\n",
      "\n",
      "Example equation: `$X = \\sum_{i=1}^{n}i^2$` produces: $X = \\sum_{i=1}^{n}i^2$\n",
      "\n",
      "**Pylab** is the name given to a common collection of python scientific computation and plotting libraries,\n",
      "imported into a common namespace to be more user friendly when used interactively. Pylab imports numpy and\n",
      "matplotlib, a MATLAB-like plotting library.\n",
      "\n",
      "Invoked via the command line as: `ipython notebook --pylab inline`\n",
      "\n",
      "Rich text is provided using the \"markdown\" syntax.\n",
      "For information on markdown, see http://en.wikipedia.org/wiki/Markdown."
     ]
    },
    {
     "cell_type": "code",
     "collapsed": false,
     "input": [
      "A = zeros((4,4))\n",
      "I = eye(4)\n",
      "print \"A=\",A, \"\\nI=\", I"
     ],
     "language": "python",
     "metadata": {},
     "outputs": [
      {
       "output_type": "stream",
       "stream": "stdout",
       "text": [
        "A= [[ 0.  0.  0.  0.]\n",
        " [ 0.  0.  0.  0.]\n",
        " [ 0.  0.  0.  0.]\n",
        " [ 0.  0.  0.  0.]] \n",
        "I= [[ 1.  0.  0.  0.]\n",
        " [ 0.  1.  0.  0.]\n",
        " [ 0.  0.  1.  0.]\n",
        " [ 0.  0.  0.  1.]]\n"
       ]
      }
     ],
     "prompt_number": 1
    },
    {
     "cell_type": "markdown",
     "metadata": {},
     "source": [
      "When using pylab, many common MATLAB-like functions exist in our default namespace.\n",
      "A good resource for those coming to python from MATLAB is\n",
      "[http://www.scipy.org/NumPy_for_Matlab_Users](http://www.scipy.org/NumPy_for_Matlab_Users \"NumPy for MATLAB Users\")."
     ]
    },
    {
     "cell_type": "code",
     "collapsed": false,
     "input": [
      "N = randn(4,4)\n",
      "N"
     ],
     "language": "python",
     "metadata": {},
     "outputs": [
      {
       "output_type": "pyout",
       "prompt_number": 2,
       "text": [
        "array([[-1.09982708, -0.66931755, -0.4632849 , -0.9946823 ],\n",
        "       [-0.27885558,  1.44037606, -0.0579929 , -0.26660722],\n",
        "       [ 0.38743295,  1.18197318,  0.70542364,  0.13824228],\n",
        "       [ 0.05602669, -0.53328956,  1.1624428 , -0.22843116]])"
       ]
      }
     ],
     "prompt_number": 2
    },
    {
     "cell_type": "markdown",
     "metadata": {},
     "source": [
      "Note the data type is a numpy multidimensional array. </br>\n",
      "Addition and scalar multiplication on arrays work as expected."
     ]
    },
    {
     "cell_type": "code",
     "collapsed": false,
     "input": [
      "N+4*I"
     ],
     "language": "python",
     "metadata": {},
     "outputs": [
      {
       "output_type": "pyout",
       "prompt_number": 3,
       "text": [
        "array([[ 2.90017292, -0.66931755, -0.4632849 , -0.9946823 ],\n",
        "       [-0.27885558,  5.44037606, -0.0579929 , -0.26660722],\n",
        "       [ 0.38743295,  1.18197318,  4.70542364,  0.13824228],\n",
        "       [ 0.05602669, -0.53328956,  1.1624428 ,  3.77156884]])"
       ]
      }
     ],
     "prompt_number": 3
    },
    {
     "cell_type": "markdown",
     "metadata": {},
     "source": [
      "The * operator between **arrays** performs component-wise multiplication.\n",
      "For matrix multiplication, use `dot(X,Y)` instead."
     ]
    },
    {
     "cell_type": "code",
     "collapsed": false,
     "input": [
      "print N*I #array component mult.\n",
      "print \n",
      "print dot(N,I) #matrix mult. using arrays"
     ],
     "language": "python",
     "metadata": {},
     "outputs": [
      {
       "output_type": "stream",
       "stream": "stdout",
       "text": [
        "[[-1.09982708 -0.         -0.         -0.        ]\n",
        " [-0.          1.44037606 -0.         -0.        ]\n",
        " [ 0.          0.          0.70542364  0.        ]\n",
        " [ 0.         -0.          0.         -0.22843116]]\n",
        "\n",
        "[[-1.09982708 -0.66931755 -0.4632849  -0.9946823 ]\n",
        " [-0.27885558  1.44037606 -0.0579929  -0.26660722]\n",
        " [ 0.38743295  1.18197318  0.70542364  0.13824228]\n",
        " [ 0.05602669 -0.53328956  1.1624428  -0.22843116]]\n"
       ]
      }
     ],
     "prompt_number": 4
    },
    {
     "cell_type": "markdown",
     "metadata": {},
     "source": [
      "There is also a **matrix** data type. </br>\n",
      "The multiplication operator * performs matrix multiplication,\n",
      "and the multiply(X,Y) performs component-wise multiplication."
     ]
    },
    {
     "cell_type": "code",
     "collapsed": false,
     "input": [
      "N2 = matrix(N)\n",
      "I2 = matrix(I)\n",
      "print N2 * I2 #matrix mult\n",
      "print\n",
      "print multiply(N2,I2) #component mult"
     ],
     "language": "python",
     "metadata": {},
     "outputs": [
      {
       "output_type": "stream",
       "stream": "stdout",
       "text": [
        "[[-1.09982708 -0.66931755 -0.4632849  -0.9946823 ]\n",
        " [-0.27885558  1.44037606 -0.0579929  -0.26660722]\n",
        " [ 0.38743295  1.18197318  0.70542364  0.13824228]\n",
        " [ 0.05602669 -0.53328956  1.1624428  -0.22843116]]\n",
        "\n",
        "[[-1.09982708 -0.         -0.         -0.        ]\n",
        " [-0.          1.44037606 -0.         -0.        ]\n",
        " [ 0.          0.          0.70542364  0.        ]\n",
        " [ 0.         -0.          0.         -0.22843116]]\n"
       ]
      }
     ],
     "prompt_number": 5
    },
    {
     "cell_type": "markdown",
     "metadata": {},
     "source": [
      "With PyLab, we can easily call the scipy linear algebra functions normally\n",
      "found in scipy.linalg package.</br> (See: http://docs.scipy.org/doc/scipy/reference/linalg.html)"
     ]
    },
    {
     "cell_type": "code",
     "collapsed": false,
     "input": [
      "(evs, evecs) = eig(N) #if input is ndarray, output is too.\n",
      "(evs2, evecs2) = eig(N2)  #if input is matrix, output is matrix\n",
      "print type(evecs), type(evecs2)"
     ],
     "language": "python",
     "metadata": {},
     "outputs": [
      {
       "output_type": "stream",
       "stream": "stdout",
       "text": [
        "<type 'numpy.ndarray'> <class 'numpy.matrixlib.defmatrix.matrix'>\n"
       ]
      }
     ],
     "prompt_number": 6
    },
    {
     "cell_type": "code",
     "collapsed": true,
     "input": [
      "#if not using pylab, do the following\n",
      "import scipy.linalg as LA \n",
      "(evs, evecs) = LA.eig(N)"
     ],
     "language": "python",
     "metadata": {},
     "outputs": [],
     "prompt_number": 7
    },
    {
     "cell_type": "markdown",
     "metadata": {},
     "source": [
      "We can do some easy MATLAB-like plotting too!"
     ]
    },
    {
     "cell_type": "code",
     "collapsed": false,
     "input": [
      "X = randn(1000)\n",
      "hist(X)"
     ],
     "language": "python",
     "metadata": {},
     "outputs": [
      {
       "output_type": "pyout",
       "prompt_number": 8,
       "text": [
        "(array([  5,  25,  51, 138, 235, 230, 180, 100,  28,   8]),\n",
        " array([-3.15868084, -2.5495798 , -1.94047876, -1.33137772, -0.72227668,\n",
        "       -0.11317564,  0.4959254 ,  1.10502644,  1.71412748,  2.32322852,\n",
        "        2.93232956]),\n",
        " <a list of 10 Patch objects>)"
       ]
      },
      {
       "output_type": "display_data",
       "png": "[encoded data removed]"
      }
     ],
     "prompt_number": 8
    },
    {
     "cell_type": "code",
     "collapsed": false,
     "input": [
      "Y = 3*X\n",
      "plot(X,Y)"
     ],
     "language": "python",
     "metadata": {},
     "outputs": [
      {
       "output_type": "pyout",
       "prompt_number": 9,
       "text": [
        "[<matplotlib.lines.Line2D at 0x10c1d7d50>]"
       ]
      },
      {
       "output_type": "display_data",
       "png": "[encoded data removed]"
      }
     ],
     "prompt_number": 9
    },
    {
     "cell_type": "code",
     "collapsed": true,
     "input": [],
     "language": "python",
     "metadata": {},
     "outputs": [],
     "prompt_number": 9
    }
   ],
   "metadata": {}
  }
 ]
}