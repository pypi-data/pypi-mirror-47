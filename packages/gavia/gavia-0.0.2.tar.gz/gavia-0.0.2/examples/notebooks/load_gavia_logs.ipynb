{
 "cells": [
  {
   "cell_type": "code",
   "execution_count": 1,
   "metadata": {},
   "outputs": [],
   "source": [
    "import gavia"
   ]
  },
  {
   "cell_type": "markdown",
   "metadata": {},
   "source": [
    "gavia can currently parse the camera, navigator, and gps logs. To load these logs into a DataFrame, use the follow commands:"
   ]
  },
  {
   "cell_type": "code",
   "execution_count": 2,
   "metadata": {},
   "outputs": [
    {
     "name": "stdout",
     "output_type": "stream",
     "text": [
      "Processing camera logs...\n",
      "Complete\n",
      "Processing navigator logs...\n",
      "Complete\n",
      "Processing gps logs...\n",
      "Complete\n"
     ]
    }
   ],
   "source": [
    "projectdir      = '../../data/mission_example'\n",
    "\n",
    "camlog          = gavia.camera.loadlog(projectdir)\n",
    "\n",
    "navlog          = gavia.nav.loadlog(projectdir)\n",
    "\n",
    "gpslog          = gavia.gps.loadlog(projectdir)"
   ]
  },
  {
   "cell_type": "markdown",
   "metadata": {},
   "source": [
    "Once parsed, Pandas opperations can be applied and we can print the DataFrame headers as follows:"
   ]
  },
  {
   "cell_type": "code",
   "execution_count": 5,
   "metadata": {},
   "outputs": [
    {
     "name": "stdout",
     "output_type": "stream",
     "text": [
      "['timestamp', 'timestamp_epoch', 'timestamp_nano', 'time', 'year', 'month', 'day', 'hour', 'minute', 'second', 'millisecond', 'filepath', 'filename', 'capture-time', 'capture_epoch', 'capture_year', 'capture_month', 'capture_day', 'capture_hour', 'capture_minute', 'capture_second', 'capture_micro', 'clock-drift', 'delivered-frame-rate', 'frame-drop-count', 'frame-loss-percentage', 'frames-captured', 'frames-written', 'pc-time', 'process-in-Q', 'process-out-Q', 'process-pop-q-size', 'build-number', 'build-tag', 'strobe-pin', 'mode', 'framerate', 'bayer_filter', 'port', 'host_interface', 'shutter_auto', 'shutter_max', 'shutter_min', 'shutter', 'gain_auto', 'gain_max', 'gain_min', 'gain', 'exposure', 'whitebalance_auto', 'whitebalance_bu', 'whitebalance_rv', 'path', 'save_raw', 'jpeg_quality', 'manipthreads', 'img_q_size', 'frame_drop_interval', 'exposure_test', 'abort_data_timeout', 'software_name', 'software_version', 'software_url']\n",
      "timestamp                                   1.55541e+09\n",
      "timestamp_epoch                              1555412360\n",
      "timestamp_nano                                619949025\n",
      "time                            2019 04 16 10:59:20.619\n",
      "year                                               2019\n",
      "month                                                 4\n",
      "day                                                  16\n",
      "hour                                                 10\n",
      "minute                                               59\n",
      "second                                               20\n",
      "millisecond                                         619\n",
      "filepath                                            NaN\n",
      "filename                  frame000001_1555412360_020088\n",
      "capture-time                                1.55541e+09\n",
      "capture_epoch                                1555412360\n",
      "capture_year                                       2019\n",
      "capture_month                                         4\n",
      "capture_day                                          16\n",
      "capture_hour                                         10\n",
      "capture_minute                                       59\n",
      "capture_second                                       20\n",
      "capture_micro                                     20088\n",
      "clock-drift                                           0\n",
      "delivered-frame-rate                                NaN\n",
      "frame-drop-count                                    NaN\n",
      "frame-loss-percentage                                 0\n",
      "frames-captured                                       1\n",
      "frames-written                                        1\n",
      "pc-time                                     1.55541e+09\n",
      "process-in-Q                                        NaN\n",
      "                                      ...              \n",
      "build-tag                                           NaN\n",
      "strobe-pin                                          NaN\n",
      "mode                                                NaN\n",
      "framerate                                           NaN\n",
      "bayer_filter                                        NaN\n",
      "port                                                NaN\n",
      "host_interface                                      NaN\n",
      "shutter_auto                                        NaN\n",
      "shutter_max                                         NaN\n",
      "shutter_min                                         NaN\n",
      "shutter                                             NaN\n",
      "gain_auto                                           NaN\n",
      "gain_max                                            NaN\n",
      "gain_min                                            NaN\n",
      "gain                                                NaN\n",
      "exposure                                            NaN\n",
      "whitebalance_auto                                   NaN\n",
      "whitebalance_bu                                     NaN\n",
      "whitebalance_rv                                     NaN\n",
      "path                                                NaN\n",
      "save_raw                                            NaN\n",
      "jpeg_quality                                        NaN\n",
      "manipthreads                                        NaN\n",
      "img_q_size                                          NaN\n",
      "frame_drop_interval                                 NaN\n",
      "exposure_test                                       NaN\n",
      "abort_data_timeout                                  NaN\n",
      "software_name                                     gavia\n",
      "software_version                                  0.0.1\n",
      "software_url             github.com/brett-hosking/gavia\n",
      "Name: 0, Length: 63, dtype: object\n"
     ]
    }
   ],
   "source": [
    "print(list(camlog))\n",
    "print(camlog.iloc[0])"
   ]
  },
  {
   "cell_type": "markdown",
   "metadata": {},
   "source": [
    "Note that the DataFrames are saved to a csv file in the project directory so that logs can be loaded quickly when running the loadlog() functions again."
   ]
  },
  {
   "cell_type": "code",
   "execution_count": 4,
   "metadata": {},
   "outputs": [],
   "source": [
    "camlog          = gavia.camera.loadlog(projectdir)\n",
    "\n",
    "navlog          = gavia.nav.loadlog(projectdir)\n",
    "\n",
    "gpslog          = gavia.gps.loadlog(projectdir)"
   ]
  },
  {
   "cell_type": "code",
   "execution_count": 6,
   "metadata": {},
   "outputs": [
    {
     "name": "stdout",
     "output_type": "stream",
     "text": [
      "['timestamp', 'timestamp_epoch', 'timestamp_nano', 'time', 'year', 'month', 'day', 'hour', 'minute', 'second', 'millisecond', 'filepath', 'filename', 'capture-time', 'capture_epoch', 'capture_year', 'capture_month', 'capture_day', 'capture_hour', 'capture_minute', 'capture_second', 'capture_micro', 'clock-drift', 'delivered-frame-rate', 'frame-drop-count', 'frame-loss-percentage', 'frames-captured', 'frames-written', 'pc-time', 'process-in-Q', 'process-out-Q', 'process-pop-q-size', 'build-number', 'build-tag', 'strobe-pin', 'mode', 'framerate', 'bayer_filter', 'port', 'host_interface', 'shutter_auto', 'shutter_max', 'shutter_min', 'shutter', 'gain_auto', 'gain_max', 'gain_min', 'gain', 'exposure', 'whitebalance_auto', 'whitebalance_bu', 'whitebalance_rv', 'path', 'save_raw', 'jpeg_quality', 'manipthreads', 'img_q_size', 'frame_drop_interval', 'exposure_test', 'abort_data_timeout', 'software_name', 'software_version', 'software_url']\n",
      "timestamp                                   1.55541e+09\n",
      "timestamp_epoch                              1555412360\n",
      "timestamp_nano                                619949025\n",
      "time                            2019 04 16 10:59:20.619\n",
      "year                                               2019\n",
      "month                                                 4\n",
      "day                                                  16\n",
      "hour                                                 10\n",
      "minute                                               59\n",
      "second                                               20\n",
      "millisecond                                         619\n",
      "filepath                                            NaN\n",
      "filename                  frame000001_1555412360_020088\n",
      "capture-time                                1.55541e+09\n",
      "capture_epoch                                1555412360\n",
      "capture_year                                       2019\n",
      "capture_month                                         4\n",
      "capture_day                                          16\n",
      "capture_hour                                         10\n",
      "capture_minute                                       59\n",
      "capture_second                                       20\n",
      "capture_micro                                     20088\n",
      "clock-drift                                           0\n",
      "delivered-frame-rate                                NaN\n",
      "frame-drop-count                                    NaN\n",
      "frame-loss-percentage                                 0\n",
      "frames-captured                                       1\n",
      "frames-written                                        1\n",
      "pc-time                                     1.55541e+09\n",
      "process-in-Q                                        NaN\n",
      "                                      ...              \n",
      "build-tag                                           NaN\n",
      "strobe-pin                                          NaN\n",
      "mode                                                NaN\n",
      "framerate                                           NaN\n",
      "bayer_filter                                        NaN\n",
      "port                                                NaN\n",
      "host_interface                                      NaN\n",
      "shutter_auto                                        NaN\n",
      "shutter_max                                         NaN\n",
      "shutter_min                                         NaN\n",
      "shutter                                             NaN\n",
      "gain_auto                                           NaN\n",
      "gain_max                                            NaN\n",
      "gain_min                                            NaN\n",
      "gain                                                NaN\n",
      "exposure                                            NaN\n",
      "whitebalance_auto                                   NaN\n",
      "whitebalance_bu                                     NaN\n",
      "whitebalance_rv                                     NaN\n",
      "path                                                NaN\n",
      "save_raw                                            NaN\n",
      "jpeg_quality                                        NaN\n",
      "manipthreads                                        NaN\n",
      "img_q_size                                          NaN\n",
      "frame_drop_interval                                 NaN\n",
      "exposure_test                                       NaN\n",
      "abort_data_timeout                                  NaN\n",
      "software_name                                     gavia\n",
      "software_version                                  0.0.1\n",
      "software_url             github.com/brett-hosking/gavia\n",
      "Name: 0, Length: 63, dtype: object\n"
     ]
    }
   ],
   "source": [
    "print(list(camlog))\n",
    "print(camlog.iloc[0])"
   ]
  }
 ],
 "metadata": {
  "kernelspec": {
   "display_name": "Python 3",
   "language": "python",
   "name": "python3"
  },
  "language_info": {
   "codemirror_mode": {
    "name": "ipython",
    "version": 3
   },
   "file_extension": ".py",
   "mimetype": "text/x-python",
   "name": "python",
   "nbconvert_exporter": "python",
   "pygments_lexer": "ipython3",
   "version": "3.7.2"
  }
 },
 "nbformat": 4,
 "nbformat_minor": 2
}
