{
 "cells": [
  {
   "cell_type": "markdown",
   "metadata": {},
   "source": [
    "# SteelScript NetProfiler HostGroup Importing"
   ]
  },
  {
   "cell_type": "markdown",
   "metadata": {},
   "source": [
    "## Imports and Setup"
   ]
  },
  {
   "cell_type": "code",
   "execution_count": null,
   "metadata": {},
   "outputs": [],
   "source": [
    "import csv\n",
    "from collections import defaultdict"
   ]
  },
  {
   "cell_type": "code",
   "execution_count": null,
   "metadata": {},
   "outputs": [],
   "source": [
    "import steelscript\n",
    "from steelscript.netprofiler.core.netprofiler import NetProfiler\n",
    "from steelscript.common.service import UserAuth\n",
    "\n",
    "from steelscript.netprofiler.core.hostgroup import HostGroupType, HostGroup\n",
    "from steelscript.commands.steel import prompt_yn\n",
    "from steelscript.common.exceptions import RvbdException"
   ]
  },
  {
   "cell_type": "code",
   "execution_count": null,
   "metadata": {},
   "outputs": [],
   "source": [
    "hostname = \"NETPROFILER.HOSTNAME.COM\"\n",
    "username = \"USERNAME\"\n",
    "password = \"PASSWORD\""
   ]
  },
  {
   "cell_type": "code",
   "execution_count": null,
   "metadata": {},
   "outputs": [],
   "source": [
    "host = hostname\n",
    "auth = UserAuth(username, password)"
   ]
  },
  {
   "cell_type": "markdown",
   "metadata": {},
   "source": [
    "## Initialize NetProfiler Object"
   ]
  },
  {
   "cell_type": "code",
   "execution_count": null,
   "metadata": {},
   "outputs": [],
   "source": [
    "p = NetProfiler(host, auth=auth)"
   ]
  },
  {
   "cell_type": "markdown",
   "metadata": {},
   "source": [
    "## Import Hostgroup File"
   ]
  },
  {
   "cell_type": "markdown",
   "metadata": {},
   "source": [
    "### Create an example file using the required format and save it to temp directory."
   ]
  },
  {
   "cell_type": "code",
   "execution_count": null,
   "metadata": {},
   "outputs": [],
   "source": [
    "EXAMPLE = \"\"\"\\\n",
    "\"subnet\",\"SiteName\"\n",
    "\"10.143.58.64/26\",\"CZ-Prague-HG\"\n",
    "\"10.194.32.0/23\",\"MX-SantaFe-HG\"\n",
    "\"10.170.55.0/24\",\"KR-Seoul-HG\"\n",
    "\"10.234.9.0/24\",\"ID-Surabaya-HG\"\n",
    "\"10.143.58.63/23\",\"CZ-Prague-HG\"\n",
    "\"\"\"\n",
    "\n",
    "example_file = '/tmp/example_groups.txt'\n",
    "\n",
    "with open(example_file, 'w') as f:\n",
    "    f.writelines(EXAMPLE)"
   ]
  },
  {
   "cell_type": "markdown",
   "metadata": {},
   "source": [
    "### Define an import function to read and process the input file."
   ]
  },
  {
   "cell_type": "code",
   "execution_count": null,
   "metadata": {},
   "outputs": [],
   "source": [
    "def import_file(input_file):\n",
    "    \"\"\"Process the input file and load into dict.\"\"\"\n",
    "    groups = defaultdict(list)\n",
    "\n",
    "    with open(input_file, 'rb') as f:\n",
    "        reader = csv.reader(f)\n",
    "        header = reader.next()\n",
    "        if header != ['subnet', 'SiteName']:\n",
    "            print 'Invalid file format'\n",
    "            print 'Ensure file has correct header.'\n",
    "            print 'example file:'\n",
    "            print EXAMPLE\n",
    "\n",
    "        for row in reader:\n",
    "            cidr, group = row\n",
    "            groups[group].append(cidr)\n",
    "\n",
    "    return groups"
   ]
  },
  {
   "cell_type": "code",
   "execution_count": null,
   "metadata": {},
   "outputs": [],
   "source": [
    "groups = import_file(example_file)\n",
    "groups"
   ]
  },
  {
   "cell_type": "markdown",
   "metadata": {},
   "source": [
    "### Post Hostgroup Updates to NetProfiler"
   ]
  },
  {
   "cell_type": "code",
   "execution_count": null,
   "metadata": {},
   "outputs": [],
   "source": [
    "def update_hostgroups(netprofiler, hostgroup, groups):\n",
    "    \"\"\"Replace existing ``hostgroup`` with contents of ``groups`` dict.\"\"\"\n",
    "    # First find any existing HostGroupType and delete it.\n",
    "    try:\n",
    "        hgtype = HostGroupType.find_by_name(netprofiler, hostgroup)\n",
    "        print ('Deleting existing HostGroupType \"%s\".' % hostgroup)\n",
    "        hgtype.delete()\n",
    "    except RvbdException:\n",
    "        print 'No existing HostGroupType found, will create a new one.'\n",
    "        pass\n",
    "\n",
    "    # Create a new one\n",
    "    hgtype = HostGroupType.create(netprofiler, hostgroup)\n",
    "\n",
    "    # Add new values\n",
    "    for group, cidrs in groups.iteritems():\n",
    "        hg = HostGroup(hgtype, group)\n",
    "        hg.add(cidrs)\n",
    "\n",
    "    # Save to NetProfiler\n",
    "    hgtype.save()\n",
    "    print 'Saved HostGroupType \"%s\".' % hostgroup"
   ]
  },
  {
   "cell_type": "code",
   "execution_count": null,
   "metadata": {},
   "outputs": [],
   "source": [
    "update_hostgroups(p, 'TestHostGroup', groups)"
   ]
  },
  {
   "cell_type": "markdown",
   "metadata": {},
   "source": [
    "# Complete Script"
   ]
  },
  {
   "cell_type": "markdown",
   "metadata": {},
   "source": [
    "<font color='blue'>\n",
    "Save to file 'import_hostgroups.py' and execute as follows:\n",
    "</font>\n",
    "\n",
    "    python import_hostgroups.py <netprofiler> -u <username> -p <password> --hostgroup <hg_name> -i <hostgroup_filepath>"
   ]
  },
  {
   "cell_type": "raw",
   "metadata": {},
   "source": [
    "#!/usr/bin/env python\n",
    "\n",
    "# Copyright (c) 2019 Riverbed Technology, Inc.\n",
    "#\n",
    "# This software is licensed under the terms and conditions of the MIT License\n",
    "# accompanying the software (\"License\").  This software is distributed \"AS IS\"\n",
    "# as set forth in the License.\n",
    "\n",
    "import csv\n",
    "import sys\n",
    "import optparse\n",
    "from collections import defaultdict\n",
    "\n",
    "from steelscript.netprofiler.core.app import NetProfilerApp\n",
    "from steelscript.netprofiler.core.hostgroup import HostGroupType, HostGroup\n",
    "from steelscript.commands.steel import prompt_yn\n",
    "from steelscript.common.exceptions import RvbdException\n",
    "\n",
    "\n",
    "# This script will take a file with subnets and SiteNames\n",
    "# and create a HostGroupType on the target NetProfiler.\n",
    "# If the HostGroupType already exists, it will be deleted,\n",
    "# before creating a new one with the same name.\n",
    "#\n",
    "# See the EXAMPLE text below for the format of the input\n",
    "# file.  Note that multiple SiteNames with different\n",
    "# IP address spaces can be included.\n",
    "\n",
    "\n",
    "EXAMPLE = \"\"\"\n",
    "\"subnet\",\"SiteName\"\n",
    "\"10.143.58.64/26\",\"CZ-Prague-HG\"\n",
    "\"10.194.32.0/23\",\"MX-SantaFe-HG\"\n",
    "\"10.170.55.0/24\",\"KR-Seoul-HG\"\n",
    "\"10.234.9.0/24\",\"ID-Surabaya-HG\"\n",
    "\"10.143.58.63/23\",\"CZ-Prague-HG\"\n",
    "\"\"\"\n",
    "\n",
    "\n",
    "class HostGroupImport(NetProfilerApp):\n",
    "\n",
    "    def add_options(self, parser):\n",
    "        super(HostGroupImport, self).add_options(parser)\n",
    "        group = optparse.OptionGroup(parser, \"HostGroup Options\")\n",
    "        group.add_option('--hostgroup', action='store',\n",
    "                         help='Name of hostgroup to overwrite')\n",
    "        group.add_option('-i', '--input-file', action='store',\n",
    "                         help='File path to hostgroup file')\n",
    "        parser.add_option_group(group)\n",
    "\n",
    "    def validate_args(self):\n",
    "        \"\"\"Ensure all arguments are present.\"\"\"\n",
    "        super(HostGroupImport, self).validate_args()\n",
    "\n",
    "        if not self.options.input_file:\n",
    "            self.parser.error('Host group file is required, specify with '\n",
    "                              '\"-i\" or \"--input-file\"')\n",
    "\n",
    "        if not self.options.hostgroup:\n",
    "            self.parser.error('Hostgroup name is required, specify with '\n",
    "                              '\"--hostgroup\"')\n",
    "\n",
    "    def import_file(self):\n",
    "        \"\"\"Process the input file and load into dict.\"\"\"\n",
    "        groups = defaultdict(list)\n",
    "\n",
    "        with open(self.options.input_file, 'rb') as f:\n",
    "            reader = csv.reader(f)\n",
    "            header = reader.next()\n",
    "            if header != ['subnet', 'SiteName']:\n",
    "                print 'Invalid file format'\n",
    "                print 'Ensure file has correct header.'\n",
    "                print 'example file:'\n",
    "                print EXAMPLE\n",
    "\n",
    "            for row in reader:\n",
    "                cidr, group = row\n",
    "                groups[group].append(cidr)\n",
    "\n",
    "        return groups\n",
    "\n",
    "    def update_hostgroups(self, groups):\n",
    "        \"\"\"Replace existing HostGroupType with contents of groups dict.\"\"\"\n",
    "        # First find any existing HostGroupType and delete it.\n",
    "        try:\n",
    "            hgtype = HostGroupType.find_by_name(self.netprofiler,\n",
    "                                                self.options.hostgroup)\n",
    "            print ('Deleting existing HostGroupType \"%s\".'\n",
    "                   % self.options.hostgroup)\n",
    "            hgtype.delete()\n",
    "        except RvbdException:\n",
    "            print 'No existing HostGroupType found, will create a new one.'\n",
    "            pass\n",
    "\n",
    "        # Create a new one\n",
    "        hgtype = HostGroupType.create(self.netprofiler, self.options.hostgroup)\n",
    "\n",
    "        # Add new values\n",
    "        for group, cidrs in groups.iteritems():\n",
    "            hg = HostGroup(hgtype, group)\n",
    "            hg.add(cidrs)\n",
    "\n",
    "        # Save to NetProfiler\n",
    "        hgtype.save()\n",
    "\n",
    "    def main(self):\n",
    "        \"\"\"Confirm overwrite then update hostgroups.\"\"\"\n",
    "\n",
    "        confirm = ('The contents of hostgroup %s will be overwritten'\n",
    "                   'by the file %s, are you sure?'\n",
    "                   % (self.options.hostgroup, self.options.input_file))\n",
    "        if not prompt_yn(confirm):\n",
    "            print 'Okay, aborting.'\n",
    "            sys.exit()\n",
    "\n",
    "        groups = self.import_file()\n",
    "        self.update_hostgroups(groups)\n",
    "        print 'Successfully updated %s on %s' % (self.options.hostgroup,\n",
    "                                                 self.netprofiler.host)\n",
    "\n",
    "\n",
    "if __name__ == '__main__':\n",
    "    HostGroupImport().run()"
   ]
  }
 ],
 "metadata": {
  "language_info": {
   "name": "python",
   "pygments_lexer": "ipython2"
  }
 },
 "nbformat": 4,
 "nbformat_minor": 1
}
