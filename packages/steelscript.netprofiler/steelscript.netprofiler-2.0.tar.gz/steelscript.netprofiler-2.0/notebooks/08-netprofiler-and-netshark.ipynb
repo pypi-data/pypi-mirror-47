{
 "cells": [
  {
   "cell_type": "markdown",
   "metadata": {},
   "source": [
    "# SteelScript NetProfiler and NetShark Analysis Integration"
   ]
  },
  {
   "cell_type": "markdown",
   "metadata": {},
   "source": [
    "## Imports and Setup"
   ]
  },
  {
   "cell_type": "code",
   "execution_count": null,
   "metadata": {},
   "outputs": [],
   "source": [
    "import sys\n",
    "import csv\n",
    "import datetime\n",
    "\n",
    "import pandas"
   ]
  },
  {
   "cell_type": "code",
   "execution_count": null,
   "metadata": {},
   "outputs": [],
   "source": [
    "import steelscript\n",
    "from steelscript.common.service import UserAuth\n",
    "from steelscript.common.datautils import Formatter\n",
    "from steelscript.common import timeutils"
   ]
  },
  {
   "cell_type": "code",
   "execution_count": null,
   "metadata": {},
   "outputs": [],
   "source": [
    "from steelscript.netprofiler.core.netprofiler import NetProfiler\n",
    "from steelscript.netprofiler.core.filters import TimeFilter, TrafficFilter\n",
    "from steelscript.netprofiler.core.report import TrafficOverallTimeSeriesReport, TrafficSummaryReport"
   ]
  },
  {
   "cell_type": "code",
   "execution_count": null,
   "metadata": {},
   "outputs": [],
   "source": [
    "from steelscript.netshark.core.netshark import NetShark\n",
    "from steelscript.netshark.core.types import Key, Value\n",
    "from steelscript.netshark.core.filters import NetSharkFilter\n",
    "from steelscript.netshark.core.filters import TimeFilter as NSTimeFilter"
   ]
  },
  {
   "cell_type": "code",
   "execution_count": null,
   "metadata": {},
   "outputs": [],
   "source": [
    "netshark_host = \"NETSHARK.HOSTNAME.COM\"\n",
    "netprofiler_host = \"NETPROFILER.HOSTNAME.COM\"\n",
    "\n",
    "username = \"USERNAME\"\n",
    "password = \"PASSWORD\"\n",
    "\n",
    "auth = UserAuth(username, password)"
   ]
  },
  {
   "cell_type": "markdown",
   "metadata": {},
   "source": [
    "## Initialize NetProfiler and NetShark Objects"
   ]
  },
  {
   "cell_type": "code",
   "execution_count": null,
   "metadata": {},
   "outputs": [],
   "source": [
    "p = NetProfiler(netprofiler_host, auth=auth)"
   ]
  },
  {
   "cell_type": "code",
   "execution_count": null,
   "metadata": {},
   "outputs": [],
   "source": [
    "s = NetShark(netshark_host, auth=auth)"
   ]
  },
  {
   "cell_type": "markdown",
   "metadata": {},
   "source": [
    "## Define Report Criteria"
   ]
  },
  {
   "cell_type": "markdown",
   "metadata": {},
   "source": [
    "### Time filters, Columns, and Groupbys"
   ]
  },
  {
   "cell_type": "code",
   "execution_count": null,
   "metadata": {},
   "outputs": [],
   "source": [
    "timefilter = TimeFilter.parse_range('last 1 hour')\n",
    "\n",
    "print 'Start: %s' % timefilter.start\n",
    "print 'End: %s' % timefilter.end"
   ]
  },
  {
   "cell_type": "code",
   "execution_count": null,
   "metadata": {},
   "outputs": [],
   "source": [
    "print timefilter"
   ]
  },
  {
   "cell_type": "code",
   "execution_count": null,
   "metadata": {},
   "outputs": [],
   "source": [
    "columns = [\n",
    "    p.columns.key.group_name,\n",
    "    p.columns.key.group_id,\n",
    "    p.columns.value.in_avg_bytes,\n",
    "    p.columns.value.in_avg_pkts,\n",
    "    p.columns.value.out_avg_bytes,\n",
    "    p.columns.value.out_avg_pkts,\n",
    "    p.columns.value.response_time\n",
    "]\n",
    "groupby = p.groupbys.host_group\n"
   ]
  },
  {
   "cell_type": "markdown",
   "metadata": {},
   "source": [
    "## Create NetProfiler Report and Retrieve Data"
   ]
  },
  {
   "cell_type": "code",
   "execution_count": null,
   "metadata": {},
   "outputs": [],
   "source": [
    "report = TrafficSummaryReport(p)\n",
    "report.run(columns=columns,\n",
    "           groupby=groupby,\n",
    "           centricity='int',\n",
    "           resolution='1m',\n",
    "           timefilter=timefilter,\n",
    "           trafficexpr=None)\n",
    "data = report.get_data()\n",
    "report.delete()"
   ]
  },
  {
   "cell_type": "code",
   "execution_count": null,
   "metadata": {},
   "outputs": [],
   "source": [
    "data[:2]"
   ]
  },
  {
   "cell_type": "markdown",
   "metadata": {},
   "source": [
    "## Format Data"
   ]
  },
  {
   "cell_type": "markdown",
   "metadata": {},
   "source": [
    "### Simple table formatting"
   ]
  },
  {
   "cell_type": "code",
   "execution_count": null,
   "metadata": {},
   "outputs": [],
   "source": [
    "headers = [c.key for c in columns]\n",
    "print headers"
   ]
  },
  {
   "cell_type": "code",
   "execution_count": null,
   "metadata": {},
   "outputs": [],
   "source": [
    "Formatter.print_table(data, headers=headers)"
   ]
  },
  {
   "cell_type": "markdown",
   "metadata": {},
   "source": [
    "### Formatting using pandas data analysis library"
   ]
  },
  {
   "cell_type": "code",
   "execution_count": null,
   "metadata": {},
   "outputs": [],
   "source": [
    "df = pandas.DataFrame(data, columns=headers)\n",
    "df"
   ]
  },
  {
   "cell_type": "markdown",
   "metadata": {},
   "source": [
    "### Find row with the highest response time"
   ]
  },
  {
   "cell_type": "code",
   "execution_count": null,
   "metadata": {},
   "outputs": [],
   "source": [
    "rowidx = df['response_time'].idxmax()\n",
    "rowidx"
   ]
  },
  {
   "cell_type": "code",
   "execution_count": null,
   "metadata": {},
   "outputs": [],
   "source": [
    "df.ix[rowidx]"
   ]
  },
  {
   "cell_type": "code",
   "execution_count": null,
   "metadata": {},
   "outputs": [],
   "source": [
    "df.ix[rowidx,'group_name']"
   ]
  },
  {
   "cell_type": "markdown",
   "metadata": {},
   "source": [
    "### Find application using the most resources at that hostgroup"
   ]
  },
  {
   "cell_type": "code",
   "execution_count": null,
   "metadata": {},
   "outputs": [],
   "source": [
    "columns = [\n",
    "    p.columns.key.app_name,\n",
    "    p.columns.value.network_rtt,\n",
    "    p.columns.value.in_avg_pkts,\n",
    "    p.columns.value.out_avg_bytes,\n",
    "    p.columns.value.out_avg_pkts,\n",
    "]\n",
    "groupby = p.groupbys.application\n",
    "\n",
    "filterexpr = TrafficFilter('hostgroup ByLocation:%s' % df.ix[rowidx,'group_name'])"
   ]
  },
  {
   "cell_type": "code",
   "execution_count": null,
   "metadata": {},
   "outputs": [],
   "source": [
    "report = TrafficSummaryReport(p)\n",
    "report.run(columns=columns,\n",
    "           sort_col=p.columns.value.network_rtt,\n",
    "           groupby=groupby,\n",
    "           centricity='int',\n",
    "           resolution='1m',\n",
    "           timefilter=timefilter,\n",
    "           trafficexpr=filterexpr)\n",
    "app_data = report.get_data()\n",
    "report.delete()"
   ]
  },
  {
   "cell_type": "code",
   "execution_count": null,
   "metadata": {},
   "outputs": [],
   "source": [
    "app_df = pandas.DataFrame(app_data, columns=[c.key for c in columns]).replace('', 0)\n",
    "app_df.sort(('network_rtt'), inplace=True, ascending=False)\n",
    "app_df.head()"
   ]
  },
  {
   "cell_type": "markdown",
   "metadata": {},
   "source": [
    "## Query NetShark for Microbursts of Hostgroup IP Addresses"
   ]
  },
  {
   "cell_type": "markdown",
   "metadata": {},
   "source": [
    "### Extract list of IPs from hostgroup definition"
   ]
  },
  {
   "cell_type": "code",
   "execution_count": null,
   "metadata": {},
   "outputs": [],
   "source": [
    "from steelscript.netprofiler.core.hostgroup import HostGroupType, HostGroup"
   ]
  },
  {
   "cell_type": "code",
   "execution_count": null,
   "metadata": {},
   "outputs": [],
   "source": [
    "hgtype = HostGroupType.find_by_name(p, 'ByLocation')"
   ]
  },
  {
   "cell_type": "code",
   "execution_count": null,
   "metadata": {},
   "outputs": [],
   "source": [
    "print hgtype.name\n",
    "hgtype.groups"
   ]
  },
  {
   "cell_type": "code",
   "execution_count": null,
   "metadata": {},
   "outputs": [],
   "source": [
    "df.ix[rowidx]"
   ]
  },
  {
   "cell_type": "code",
   "execution_count": null,
   "metadata": {},
   "outputs": [],
   "source": [
    "location = df.ix[rowidx]['group_name']\n",
    "hostgroup = hgtype.groups[location]\n",
    "print 'Hostgroup name: %s\\nHostgroup CIDRs: %s' % (hostgroup.name, hostgroup.get())"
   ]
  },
  {
   "cell_type": "markdown",
   "metadata": {},
   "source": [
    "### Apply Hostgroup CIDRs to NetShark filter"
   ]
  },
  {
   "cell_type": "code",
   "execution_count": null,
   "metadata": {},
   "outputs": [],
   "source": [
    "s.get_capture_jobs()"
   ]
  },
  {
   "cell_type": "code",
   "execution_count": null,
   "metadata": {},
   "outputs": [],
   "source": [
    "job = s.get_capture_jobs()[0]"
   ]
  },
  {
   "cell_type": "markdown",
   "metadata": {},
   "source": [
    "<font color='blue'>We use a different CIDR block here because our demo NetProfiler and NetShark are on different networks, in the actual script, this value gets carried over from the previous hostgroup definition.</font>"
   ]
  },
  {
   "cell_type": "code",
   "execution_count": null,
   "metadata": {},
   "outputs": [],
   "source": [
    "ns_columns = [\n",
    "    Key(s.columns.ip.src),\n",
    "    Key(s.columns.tcp.src_port),\n",
    "    Key(s.columns.ip.dst),\n",
    "    Key(s.columns.tcp.dst_port),\n",
    "    Value(s.columns.generic.max_microburst_1ms.bits),\n",
    "]"
   ]
  },
  {
   "cell_type": "code",
   "execution_count": null,
   "metadata": {},
   "outputs": [],
   "source": [
    "cidrs = '172.0.0.0/8'\n",
    "nsfilter = NetSharkFilter('ip.address=\"%s\"' % cidrs)\n",
    "\n",
    "ns_filters = [\n",
    "    NSTimeFilter(timefilter.start, timefilter.end),\n",
    "    nsfilter\n",
    "]"
   ]
  },
  {
   "cell_type": "markdown",
   "metadata": {},
   "source": [
    "### Retrive All Microbursts over same time period"
   ]
  },
  {
   "cell_type": "code",
   "execution_count": null,
   "metadata": {},
   "outputs": [],
   "source": [
    "with s.create_view(job, ns_columns, ns_filters, sync=True) as view:\n",
    "    d = view.get_data(aggregated=True)"
   ]
  },
  {
   "cell_type": "code",
   "execution_count": null,
   "metadata": {},
   "outputs": [],
   "source": [
    "d"
   ]
  },
  {
   "cell_type": "markdown",
   "metadata": {},
   "source": [
    "### Find hostpair with biggest burst"
   ]
  },
  {
   "cell_type": "code",
   "execution_count": null,
   "metadata": {},
   "outputs": [],
   "source": [
    "vals = d[0]['vals']"
   ]
  },
  {
   "cell_type": "code",
   "execution_count": null,
   "metadata": {},
   "outputs": [],
   "source": [
    "hostpair = max(vals, key=lambda x:x[4])\n",
    "hostpair"
   ]
  },
  {
   "cell_type": "markdown",
   "metadata": {},
   "source": [
    "### Create new NetShark Timeseries view for biggest burst hostpair"
   ]
  },
  {
   "cell_type": "code",
   "execution_count": null,
   "metadata": {},
   "outputs": [],
   "source": [
    "nsfilter = NetSharkFilter(\n",
    "    'ip.src=\"{0}\" & tcp.src_port=\"{1}\" & ip.dst=\"{2}\" & tcp.dst_port=\"{3}\"'.format(*hostpair)\n",
    ")\n",
    "\n",
    "ns_filters = [\n",
    "    NSTimeFilter(timefilter.start, timefilter.end),\n",
    "    nsfilter\n",
    "]"
   ]
  },
  {
   "cell_type": "code",
   "execution_count": null,
   "metadata": {},
   "outputs": [],
   "source": [
    "with s.create_view(job, ns_columns, ns_filters, sync=True) as view:\n",
    "    dtime = view.get_data(aggregated=False,\n",
    "                          delta=datetime.timedelta(seconds=1))"
   ]
  },
  {
   "cell_type": "code",
   "execution_count": null,
   "metadata": {},
   "outputs": [],
   "source": [
    "dtime"
   ]
  },
  {
   "cell_type": "markdown",
   "metadata": {},
   "source": [
    "### Transform into simple table and plot results"
   ]
  },
  {
   "cell_type": "code",
   "execution_count": null,
   "metadata": {},
   "outputs": [],
   "source": [
    "timeseries = []\n",
    "headers = ['time', 'packets', '1ms_uburst']\n",
    "for item in dtime:\n",
    "    row = (item['t'], item['p'], item['vals'][0][-1])\n",
    "    timeseries.append(row)\n",
    "  \n",
    "tdf = pandas.DataFrame(timeseries, columns=headers).set_index('time')\n",
    "tdf[:10]"
   ]
  },
  {
   "cell_type": "code",
   "execution_count": null,
   "metadata": {},
   "outputs": [],
   "source": [
    "%pylab inline\n",
    "import matplotlib\n",
    "import numpy as np\n",
    "import matplotlib.pyplot as plt"
   ]
  },
  {
   "cell_type": "code",
   "execution_count": null,
   "metadata": {},
   "outputs": [],
   "source": [
    "tdf.plot()"
   ]
  },
  {
   "cell_type": "code",
   "execution_count": null,
   "metadata": {},
   "outputs": [],
   "source": [
    "tdf.plot(y=['packets'], figsize=(12,3))\n",
    "tdf.plot(y=['1ms_uburst'], figsize=(12,3))"
   ]
  },
  {
   "cell_type": "code",
   "execution_count": null,
   "metadata": {},
   "outputs": [],
   "source": [
    "tdf.packets.plot()\n",
    "tdf['1ms_uburst'].plot(secondary_y=True, figsize=(12,6))"
   ]
  },
  {
   "cell_type": "code",
   "execution_count": null,
   "metadata": {},
   "outputs": [],
   "source": [
    "tdf.plot(subplots=True, figsize=(12,8))"
   ]
  }
 ],
 "metadata": {
  "language_info": {
   "name": "python",
   "pygments_lexer": "ipython2"
  }
 },
 "nbformat": 4,
 "nbformat_minor": 1
}
