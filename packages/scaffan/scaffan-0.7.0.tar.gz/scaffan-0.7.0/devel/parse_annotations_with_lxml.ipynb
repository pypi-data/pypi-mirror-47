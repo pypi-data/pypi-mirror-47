{
 "cells": [
  {
   "cell_type": "code",
   "execution_count": 1,
   "metadata": {},
   "outputs": [
    {
     "name": "stdout",
     "output_type": "stream",
     "text": [
      "Populating the interactive namespace from numpy and matplotlib\n"
     ]
    }
   ],
   "source": [
    "%pylab inline\n",
    "\n",
    "import lxml\n",
    "from lxml import etree\n",
    "import json\n",
    "import os.path as op\n",
    "import glob"
   ]
  },
  {
   "cell_type": "markdown",
   "metadata": {},
   "source": [
    "# Hello world!"
   ]
  },
  {
   "cell_type": "code",
   "execution_count": 2,
   "metadata": {},
   "outputs": [],
   "source": [
    "# pth = r\"E:\\data\\scaffold\\Hamamatsu\\PIG-003_J-18-0165_HE.ndpi.ndpa\"\n",
    "pth = r\"E:/data/scaffold/Hamamatsu/PIG-008_P008 LL-P_HE_parenchyme perif..ndpi.ndpa\"\n",
    "\n",
    "tree = etree.parse(pth)"
   ]
  },
  {
   "cell_type": "code",
   "execution_count": 3,
   "metadata": {},
   "outputs": [
    {
     "data": {
      "text/plain": [
       "b'<annotations>\\n    <ndpviewstate id=\"2\">\\n        <title/>\\n        <details/>\\n        <coordformat>nanometers</coordformat>\\n        <lens>2,247267</lens>\\n        <x>8690264</x>\\n        <y>1540063</y>\\n        <z>0</z>\\n        <showtitle>0</showtitle>\\n        <showhistogram>0</showhistogram>\\n        <showlineprofile>0</showlineprofile>\\n        <annotation type=\"freehand\" displayname=\"AnnotateFreehand\" color=\"#00ff00\">\\n            <measuretype>0</measuretype>\\n            <closed>1</closed>\\n            <pointlist>\\n                <point>\\n                    <x>7349195</x>\\n                    <y>1491671</y>\\n                </point>\\n                <point>\\n                    <x>7288523</x>\\n                    <y>1499775</y>\\n                </point>\\n                <point>\\n                    <x>7300659</x>\\n                    <y>1653659</y>\\n                </point>\\n                <point>\\n                    <x>7300659</x>\\n                    <y>1694153</y>\\n                </point>\\n                <point>\\n                    <x>7244035</x>\\n                    <y>1758951</y>\\n                </point>\\n                <point>\\n                    <x>7199542</x>\\n                    <y>1795396</y>\\n                </point>\\n                <point>\\n                    <x>7239983</x>\\n                    <y>1827793</y>\\n                </point>\\n                <point>\\n                    <x>7276392</x>\\n                    <y>1860191</y>\\n                </point>\\n                <point>\\n                    <x>7288523</x>\\n                    <y>1823744</y>\\n                </point>\\n                <point>\\n                    <x>7381557</x>\\n                    <y>1827793</y>\\n                </point>\\n                <point>\\n                    <x>7470538</x>\\n                    <y>1864240</y>\\n                </point>\\n                <point>\\n                    <x>7612117</x>\\n                    <y>1819697</y>\\n                </point>\\n                <point>\\n                    <x>7668742</x>\\n                    <y>1880441</y>\\n                </point>\\n                <point>\\n                    <x>7684920</x>\\n                    <y>1908789</y>\\n                </point>\\n                <point>\\n                    <x>7761771</x>\\n                    <y>1848043</y>\\n                </point>\\n                <point>\\n                    <x>7737503</x>\\n                    <y>1799445</y>\\n                </point>\\n                <point>\\n                    <x>7737503</x>\\n                    <y>1754899</y>\\n                </point>\\n                <point>\\n                    <x>7798175</x>\\n                    <y>1673909</y>\\n                </point>\\n                <point>\\n                    <x>7866941</x>\\n                    <y>1686057</y>\\n                </point>\\n                <point>\\n                    <x>7891213</x>\\n                    <y>1714405</y>\\n                </point>\\n                <point>\\n                    <x>7935707</x>\\n                    <y>1682005</y>\\n                </point>\\n                <point>\\n                    <x>7935707</x>\\n                    <y>1661761</y>\\n                </point>\\n                <point>\\n                    <x>7939749</x>\\n                    <y>1617212</y>\\n                </point>\\n                <point>\\n                    <x>8040866</x>\\n                    <y>1532172</y>\\n                </point>\\n                <point>\\n                    <x>8048961</x>\\n                    <y>1495725</y>\\n                </point>\\n                <point>\\n                    <x>8004462</x>\\n                    <y>1499775</y>\\n                </point>\\n                <point>\\n                    <x>7769865</x>\\n                    <y>1394483</y>\\n                </point>\\n                <point>\\n                    <x>7749634</x>\\n                    <y>1366137</y>\\n                </point>\\n                <point>\\n                    <x>7717282</x>\\n                    <y>1443078</y>\\n                </point>\\n                <point>\\n                    <x>7697052</x>\\n                    <y>1471426</y>\\n                </point>\\n                <point>\\n                    <x>7660653</x>\\n                    <y>1479525</y>\\n                </point>\\n                <point>\\n                    <x>7559530</x>\\n                    <y>1390433</y>\\n                </point>\\n                <point>\\n                    <x>7361326</x>\\n                    <y>1495725</y>\\n                </point>\\n            </pointlist>\\n        </annotation>\\n    </ndpviewstate>\\n    <ndpviewstate id=\"3\">\\n        <title/>\\n        <details/>\\n        <coordformat>nanometers</coordformat>\\n        <lens>2,247267</lens>\\n        <x>8690264</x>\\n        <y>1540063</y>\\n        <z>0</z>\\n        <showtitle>0</showtitle>\\n        <showhistogram>0</showhistogram>\\n        <showlineprofile>0</showlineprofile>\\n        <annotation type=\"freehand\" displayname=\"AnnotateFreehand\" color=\"#00ff00\">\\n            <measuretype>0</measuretype>\\n            <closed>1</closed>\\n            <pointlist>\\n                <point>\\n                    <x>7146954</x>\\n                    <y>2038377</y>\\n                </point>\\n                <point>\\n                    <x>7183358</x>\\n                    <y>2147716</y>\\n                </point>\\n                <point>\\n                    <x>7179311</x>\\n                    <y>2289455</y>\\n                </point>\\n                <point>\\n                    <x>7248077</x>\\n                    <y>2366399</y>\\n                </point>\\n                <point>\\n                    <x>7320885</x>\\n                    <y>2358297</y>\\n                </point>\\n                <point>\\n                    <x>7320885</x>\\n                    <y>2410942</y>\\n                </point>\\n                <point>\\n                    <x>7446266</x>\\n                    <y>2342100</y>\\n                </point>\\n                <point>\\n                    <x>7527173</x>\\n                    <y>2370446</y>\\n                </point>\\n                <point>\\n                    <x>7527173</x>\\n                    <y>2402843</y>\\n                </point>\\n                <point>\\n                    <x>7555488</x>\\n                    <y>2394744</y>\\n                </point>\\n                <point>\\n                    <x>7559530</x>\\n                    <y>2325900</y>\\n                </point>\\n                <point>\\n                    <x>7599976</x>\\n                    <y>2285401</y>\\n                </point>\\n                <point>\\n                    <x>7656611</x>\\n                    <y>2301603</y>\\n                </point>\\n                <point>\\n                    <x>7753681</x>\\n                    <y>2253008</y>\\n                </point>\\n                <point>\\n                    <x>7765823</x>\\n                    <y>2172015</y>\\n                </point>\\n                <point>\\n                    <x>7717282</x>\\n                    <y>2062674</y>\\n                </point>\\n                <point>\\n                    <x>7749634</x>\\n                    <y>2010029</y>\\n                </point>\\n                <point>\\n                    <x>7745592</x>\\n                    <y>1977629</y>\\n                </point>\\n                <point>\\n                    <x>7688967</x>\\n                    <y>2005977</y>\\n                </point>\\n                <point>\\n                    <x>7555488</x>\\n                    <y>1949283</y>\\n                </point>\\n                <point>\\n                    <x>7474585</x>\\n                    <y>2001928</y>\\n                </point>\\n                <point>\\n                    <x>7409872</x>\\n                    <y>2030276</y>\\n                </point>\\n                <point>\\n                    <x>7357284</x>\\n                    <y>1977629</y>\\n                </point>\\n                <point>\\n                    <x>7264250</x>\\n                    <y>1977629</y>\\n                </point>\\n            </pointlist>\\n        </annotation>\\n    </ndpviewstate>\\n    <ndpviewstate id=\"4\">\\n        <title/>\\n        <details/>\\n        <coordformat>nanometers</coordformat>\\n        <lens>2,247267</lens>\\n        <x>8690264</x>\\n        <y>1540063</y>\\n        <z>0</z>\\n        <showtitle>0</showtitle>\\n        <showhistogram>0</showhistogram>\\n        <showlineprofile>0</showlineprofile>\\n        <annotation type=\"freehand\" displayname=\"AnnotateFreehand\" color=\"#00ff00\">\\n            <measuretype>0</measuretype>\\n            <closed>1</closed>\\n            <pointlist>\\n                <point>\\n                    <x>7850757</x>\\n                    <y>1795396</y>\\n                </point>\\n                <point>\\n                    <x>7875030</x>\\n                    <y>1892591</y>\\n                </point>\\n                <point>\\n                    <x>7883114</x>\\n                    <y>1924984</y>\\n                </point>\\n                <point>\\n                    <x>7838626</x>\\n                    <y>1953332</y>\\n                </point>\\n                <point>\\n                    <x>7842673</x>\\n                    <y>2014078</y>\\n                </point>\\n                <point>\\n                    <x>7879072</x>\\n                    <y>2062674</y>\\n                </point>\\n                <point>\\n                    <x>7826489</x>\\n                    <y>2119368</y>\\n                </point>\\n                <point>\\n                    <x>7891213</x>\\n                    <y>2147716</y>\\n                </point>\\n                <point>\\n                    <x>7875030</x>\\n                    <y>2240857</y>\\n                </point>\\n                <point>\\n                    <x>7870978</x>\\n                    <y>2309700</y>\\n                </point>\\n                <point>\\n                    <x>8000420</x>\\n                    <y>2321850</y>\\n                </point>\\n                <point>\\n                    <x>8028730</x>\\n                    <y>2346149</y>\\n                </point>\\n                <point>\\n                    <x>8069181</x>\\n                    <y>2244909</y>\\n                </point>\\n                <point>\\n                    <x>8113680</x>\\n                    <y>2228712</y>\\n                </point>\\n                <point>\\n                    <x>8150079</x>\\n                    <y>2163914</y>\\n                </point>\\n                <point>\\n                    <x>8150079</x>\\n                    <y>2131516</y>\\n                </point>\\n                <point>\\n                    <x>8146036</x>\\n                    <y>2095069</y>\\n                </point>\\n                <point>\\n                    <x>8259291</x>\\n                    <y>1965483</y>\\n                </point>\\n                <point>\\n                    <x>8222887</x>\\n                    <y>1912836</y>\\n                </point>\\n                <point>\\n                    <x>8239060</x>\\n                    <y>1848043</y>\\n                </point>\\n                <point>\\n                    <x>8287600</x>\\n                    <y>1839944</y>\\n                </point>\\n                <point>\\n                    <x>8307826</x>\\n                    <y>1758951</y>\\n                </point>\\n                <point>\\n                    <x>8263328</x>\\n                    <y>1750852</y>\\n                </point>\\n                <point>\\n                    <x>8239060</x>\\n                    <y>1819697</y>\\n                </point>\\n                <point>\\n                    <x>8194572</x>\\n                    <y>1827793</y>\\n                </point>\\n                <point>\\n                    <x>8137942</x>\\n                    <y>1787297</y>\\n                </point>\\n                <point>\\n                    <x>8113680</x>\\n                    <y>1730603</y>\\n                </point>\\n                <point>\\n                    <x>8032777</x>\\n                    <y>1686057</y>\\n                </point>\\n                <point>\\n                    <x>8016599</x>\\n                    <y>1746800</y>\\n                </point>\\n                <point>\\n                    <x>7931654</x>\\n                    <y>1803497</y>\\n                </point>\\n            </pointlist>\\n        </annotation>\\n    </ndpviewstate>\\n    <ndpviewstate id=\"5\">\\n        <title/>\\n        <details/>\\n        <coordformat>nanometers</coordformat>\\n        <lens>4,492212</lens>\\n        <x>8331668</x>\\n        <y>1291616</y>\\n        <z>0</z>\\n        <showtitle>0</showtitle>\\n        <showhistogram>0</showhistogram>\\n        <showlineprofile>0</showlineprofile>\\n        <annotation type=\"freehand\" displayname=\"AnnotateFreehand\" color=\"#00ff00\">\\n            <measuretype>0</measuretype>\\n            <closed>1</closed>\\n            <pointlist>\\n                <point>\\n                    <x>7775667</x>\\n                    <y>819691</y>\\n                </point>\\n                <point>\\n                    <x>7769596</x>\\n                    <y>888570</y>\\n                </point>\\n                <point>\\n                    <x>7688659</x>\\n                    <y>927063</y>\\n                </point>\\n                <point>\\n                    <x>7712940</x>\\n                    <y>1002020</y>\\n                </point>\\n                <point>\\n                    <x>7743291</x>\\n                    <y>1046590</y>\\n                </point>\\n                <point>\\n                    <x>7749365</x>\\n                    <y>1087105</y>\\n                </point>\\n                <point>\\n                    <x>7735195</x>\\n                    <y>1129649</y>\\n                </point>\\n                <point>\\n                    <x>7666399</x>\\n                    <y>1239047</y>\\n                </point>\\n                <point>\\n                    <x>7672472</x>\\n                    <y>1287669</y>\\n                </point>\\n                <point>\\n                    <x>7621885</x>\\n                    <y>1324133</y>\\n                </point>\\n                <point>\\n                    <x>7652234</x>\\n                    <y>1374780</y>\\n                </point>\\n                <point>\\n                    <x>7680561</x>\\n                    <y>1328185</y>\\n                </point>\\n                <point>\\n                    <x>7698775</x>\\n                    <y>1263357</y>\\n                </point>\\n                <point>\\n                    <x>7763527</x>\\n                    <y>1259306</y>\\n                </point>\\n                <point>\\n                    <x>7818161</x>\\n                    <y>1285641</y>\\n                </point>\\n                <point>\\n                    <x>7903147</x>\\n                    <y>1320082</y>\\n                </point>\\n                <point>\\n                    <x>7931477</x>\\n                    <y>1287669</y>\\n                </point>\\n                <point>\\n                    <x>7931477</x>\\n                    <y>1196503</y>\\n                </point>\\n                <point>\\n                    <x>8052885</x>\\n                    <y>1182321</y>\\n                </point>\\n                <point>\\n                    <x>8087281</x>\\n                    <y>1121546</y>\\n                </point>\\n                <point>\\n                    <x>8174291</x>\\n                    <y>1085082</y>\\n                </point>\\n                <point>\\n                    <x>8228923</x>\\n                    <y>1103315</y>\\n                </point>\\n                <point>\\n                    <x>8245112</x>\\n                    <y>1056719</y>\\n                </point>\\n                <point>\\n                    <x>8178338</x>\\n                    <y>1020253</y>\\n                </point>\\n                <point>\\n                    <x>8218808</x>\\n                    <y>886546</y>\\n                </point>\\n                <point>\\n                    <x>7992180</x>\\n                    <y>833873</y>\\n                </point>\\n                <point>\\n                    <x>7852560</x>\\n                    <y>781200</y>\\n                </point>\\n            </pointlist>\\n        </annotation>\\n    </ndpviewstate>\\n    <ndpviewstate id=\"6\">\\n        <title/>\\n        <details/>\\n        <coordformat>nanometers</coordformat>\\n        <lens>3,832005</lens>\\n        <x>8141917</x>\\n        <y>1654731</y>\\n        <z>0</z>\\n        <showtitle>0</showtitle>\\n        <showhistogram>0</showhistogram>\\n        <showlineprofile>0</showlineprofile>\\n        <annotation type=\"freehand\" displayname=\"AnnotateFreehand\" color=\"#0000ff\">\\n            <measuretype>0</measuretype>\\n            <closed>1</closed>\\n            <pointlist>\\n                <point>\\n                    <x>7913516</x>\\n                    <y>1962280</y>\\n                </point>\\n                <point>\\n                    <x>7937239</x>\\n                    <y>2033529</y>\\n                </point>\\n                <point>\\n                    <x>7996536</x>\\n                    <y>2031155</y>\\n                </point>\\n                <point>\\n                    <x>8048728</x>\\n                    <y>2002655</y>\\n                </point>\\n                <point>\\n                    <x>8100911</x>\\n                    <y>1926660</y>\\n                </point>\\n                <point>\\n                    <x>8084306</x>\\n                    <y>1860161</y>\\n                </point>\\n                <point>\\n                    <x>7996536</x>\\n                    <y>1850662</y>\\n                </point>\\n                <point>\\n                    <x>7934863</x>\\n                    <y>1905283</y>\\n                </point>\\n            </pointlist>\\n        </annotation>\\n    </ndpviewstate>\\n    <ndpviewstate id=\"7\">\\n        <title/>\\n        <details/>\\n        <coordformat>nanometers</coordformat>\\n        <lens>3,832005</lens>\\n        <x>8141917</x>\\n        <y>1654731</y>\\n        <z>0</z>\\n        <showtitle>0</showtitle>\\n        <showhistogram>0</showhistogram>\\n        <showlineprofile>0</showlineprofile>\\n        <annotation type=\"freehand\" displayname=\"AnnotateFreehand\" color=\"#0000ff\">\\n            <measuretype>0</measuretype>\\n            <closed>1</closed>\\n            <pointlist>\\n                <point>\\n                    <x>7443841</x>\\n                    <y>2116650</y>\\n                </point>\\n                <point>\\n                    <x>7403515</x>\\n                    <y>2197400</y>\\n                </point>\\n                <point>\\n                    <x>7431981</x>\\n                    <y>2244895</y>\\n                </point>\\n                <point>\\n                    <x>7512630</x>\\n                    <y>2252018</y>\\n                </point>\\n                <point>\\n                    <x>7574303</x>\\n                    <y>2230644</y>\\n                </point>\\n                <point>\\n                    <x>7614633</x>\\n                    <y>2159395</y>\\n                </point>\\n                <point>\\n                    <x>7588537</x>\\n                    <y>2114274</y>\\n                </point>\\n                <point>\\n                    <x>7507888</x>\\n                    <y>2097652</y>\\n                </point>\\n            </pointlist>\\n        </annotation>\\n    </ndpviewstate>\\n    <ndpviewstate id=\"8\">\\n        <title/>\\n        <details/>\\n        <coordformat>nanometers</coordformat>\\n        <lens>3,832005</lens>\\n        <x>8141917</x>\\n        <y>1654731</y>\\n        <z>0</z>\\n        <showtitle>0</showtitle>\\n        <showhistogram>0</showhistogram>\\n        <showlineprofile>0</showlineprofile>\\n        <annotation type=\"freehand\" displayname=\"AnnotateFreehand\" color=\"#0000ff\">\\n            <measuretype>0</measuretype>\\n            <closed>1</closed>\\n            <pointlist>\\n                <point>\\n                    <x>7498398</x>\\n                    <y>1677294</y>\\n                </point>\\n                <point>\\n                    <x>7579049</x>\\n                    <y>1729539</y>\\n                </point>\\n                <point>\\n                    <x>7635979</x>\\n                    <y>1729539</y>\\n                </point>\\n                <point>\\n                    <x>7697653</x>\\n                    <y>1698669</y>\\n                </point>\\n                <point>\\n                    <x>7702399</x>\\n                    <y>1617921</y>\\n                </point>\\n                <point>\\n                    <x>7574303</x>\\n                    <y>1558548</y>\\n                </point>\\n                <point>\\n                    <x>7491284</x>\\n                    <y>1584674</y>\\n                </point>\\n            </pointlist>\\n        </annotation>\\n    </ndpviewstate>\\n    <ndpviewstate id=\"9\">\\n        <title/>\\n        <details/>\\n        <coordformat>nanometers</coordformat>\\n        <lens>3,832005</lens>\\n        <x>8141917</x>\\n        <y>1654731</y>\\n        <z>0</z>\\n        <showtitle>0</showtitle>\\n        <showhistogram>0</showhistogram>\\n        <showlineprofile>0</showlineprofile>\\n        <annotation type=\"freehand\" displayname=\"AnnotateFreehand\" color=\"#0000ff\">\\n            <measuretype>0</measuretype>\\n            <closed>1</closed>\\n            <pointlist>\\n                <point>\\n                    <x>7858957</x>\\n                    <y>955324</y>\\n                </point>\\n                <point>\\n                    <x>7825747</x>\\n                    <y>998073</y>\\n                </point>\\n                <point>\\n                    <x>7811512</x>\\n                    <y>1024197</y>\\n                </point>\\n                <point>\\n                    <x>7837608</x>\\n                    <y>1076441</y>\\n                </point>\\n                <point>\\n                    <x>7873189</x>\\n                    <y>1090693</y>\\n                </point>\\n                <point>\\n                    <x>7908772</x>\\n                    <y>1093066</y>\\n                </point>\\n                <point>\\n                    <x>7987051</x>\\n                    <y>1057443</y>\\n                </point>\\n                <point>\\n                    <x>8015518</x>\\n                    <y>986197</y>\\n                </point>\\n                <point>\\n                    <x>7972817</x>\\n                    <y>945822</y>\\n                </point>\\n                <point>\\n                    <x>7915887</x>\\n                    <y>931574</y>\\n                </point>\\n            </pointlist>\\n        </annotation>\\n    </ndpviewstate>\\n    <ndpviewstate id=\"13\">\\n        <title/>\\n        <details/>\\n        <coordformat>nanometers</coordformat>\\n        <lens>0,852273</lens>\\n        <x>617318</x>\\n        <y>806324</y>\\n        <z>0</z>\\n        <showtitle>0</showtitle>\\n        <showhistogram>0</showhistogram>\\n        <showlineprofile>0</showlineprofile>\\n        <annotation type=\"freehand\" displayname=\"AnnotateFreehand\" color=\"#00ffff\">\\n            <measuretype>0</measuretype>\\n            <closed>1</closed>\\n            <pointlist>\\n                <point>\\n                    <x>-4680444</x>\\n                    <y>7396</y>\\n                </point>\\n                <point>\\n                    <x>-4712525</x>\\n                    <y>50107</y>\\n                </point>\\n                <point>\\n                    <x>-4733842</x>\\n                    <y>92819</y>\\n                </point>\\n                <point>\\n                    <x>-4765869</x>\\n                    <y>146211</y>\\n                </point>\\n                <point>\\n                    <x>-4776420</x>\\n                    <y>199601</y>\\n                </point>\\n                <point>\\n                    <x>-4723183</x>\\n                    <y>252991</y>\\n                </point>\\n                <point>\\n                    <x>-4659181</x>\\n                    <y>274345</y>\\n                </point>\\n                <point>\\n                    <x>-4605890</x>\\n                    <y>295703</y>\\n                </point>\\n                <point>\\n                    <x>-4563204</x>\\n                    <y>306378</y>\\n                </point>\\n                <point>\\n                    <x>-4499202</x>\\n                    <y>306378</y>\\n                </point>\\n                <point>\\n                    <x>-4445858</x>\\n                    <y>306378</y>\\n                </point>\\n                <point>\\n                    <x>-4371145</x>\\n                    <y>306378</y>\\n                </point>\\n                <point>\\n                    <x>-4285879</x>\\n                    <y>306378</y>\\n                </point>\\n                <point>\\n                    <x>-4211219</x>\\n                    <y>274345</y>\\n                </point>\\n                <point>\\n                    <x>-4147217</x>\\n                    <y>252991</y>\\n                </point>\\n                <point>\\n                    <x>-4115243</x>\\n                    <y>220957</y>\\n                </point>\\n                <point>\\n                    <x>-4093927</x>\\n                    <y>178245</y>\\n                </point>\\n                <point>\\n                    <x>-4093927</x>\\n                    <y>114178</y>\\n                </point>\\n                <point>\\n                    <x>-4093927</x>\\n                    <y>71462</y>\\n                </point>\\n                <point>\\n                    <x>-4093927</x>\\n                    <y>7396</y>\\n                </point>\\n                <point>\\n                    <x>-4125901</x>\\n                    <y>-24639</y>\\n                </point>\\n                <point>\\n                    <x>-4157929</x>\\n                    <y>-67350</y>\\n                </point>\\n                <point>\\n                    <x>-4200615</x>\\n                    <y>-99385</y>\\n                </point>\\n                <point>\\n                    <x>-4253905</x>\\n                    <y>-120740</y>\\n                </point>\\n                <point>\\n                    <x>-4317907</x>\\n                    <y>-131419</y>\\n                </point>\\n                <point>\\n                    <x>-4360594</x>\\n                    <y>-142097</y>\\n                </point>\\n                <point>\\n                    <x>-4467174</x>\\n                    <y>-152774</y>\\n                </point>\\n                <point>\\n                    <x>-4531176</x>\\n                    <y>-152774</y>\\n                </point>\\n                <point>\\n                    <x>-4584468</x>\\n                    <y>-152774</y>\\n                </point>\\n                <point>\\n                    <x>-4627153</x>\\n                    <y>-152774</y>\\n                </point>\\n            </pointlist>\\n        </annotation>\\n    </ndpviewstate>\\n</annotations>'"
      ]
     },
     "execution_count": 3,
     "metadata": {},
     "output_type": "execute_result"
    }
   ],
   "source": [
    "etree.tostring(tree)"
   ]
  },
  {
   "cell_type": "code",
   "execution_count": 4,
   "metadata": {},
   "outputs": [
    {
     "data": {
      "text/plain": [
       "[]"
      ]
     },
     "metadata": {},
     "output_type": "display_data"
    },
    {
     "data": {
      "text/plain": [
       "'/annotations/ndpviewstate[2]/annotation/pointlist'"
      ]
     },
     "execution_count": 4,
     "metadata": {},
     "output_type": "execute_result"
    }
   ],
   "source": [
    "viewstates = tree.xpath(\"//ndpviewstate\")\n",
    "viewstate = viewstates[1]\n",
    "display(viewstate.xpath(\".//title/text()\"))\n",
    "ptlists = viewstate.xpath(\".//pointlist\")\n",
    "ptlist = ptlists[0]\n",
    "ptlist.getchildren()\n",
    "tree.getpath(ptlist)"
   ]
  },
  {
   "cell_type": "code",
   "execution_count": 5,
   "metadata": {},
   "outputs": [
    {
     "data": {
      "text/plain": [
       "'nanometers'"
      ]
     },
     "execution_count": 5,
     "metadata": {},
     "output_type": "execute_result"
    }
   ],
   "source": [
    "viewstate.xpath(\"./coordformat/text()\")[0]"
   ]
  },
  {
   "cell_type": "code",
   "execution_count": null,
   "metadata": {},
   "outputs": [],
   "source": []
  },
  {
   "cell_type": "code",
   "execution_count": 6,
   "metadata": {},
   "outputs": [
    {
     "data": {
      "text/plain": [
       "[('type', 'freehand'),\n",
       " ('displayname', 'AnnotateFreehand'),\n",
       " ('color', '#00ff00')]"
      ]
     },
     "metadata": {},
     "output_type": "display_data"
    }
   ],
   "source": [
    "anotations = tree.xpath(\"//annotation\")\n",
    "anot = anotations[0]\n",
    "anot.get(\"color\")\n",
    "display(anot.items())\n",
    "an_color = anot.get(\"color\")"
   ]
  },
  {
   "cell_type": "code",
   "execution_count": 7,
   "metadata": {},
   "outputs": [
    {
     "data": {
      "text/plain": [
       "[<matplotlib.lines.Line2D at 0x15cc88885f8>]"
      ]
     },
     "execution_count": 7,
     "metadata": {},
     "output_type": "execute_result"
    },
    {
     "data": {
      "image/png": "[encoded data removed]",
      "text/plain": [
       "<matplotlib.figure.Figure at 0x15cc856e080>"
      ]
     },
     "metadata": {},
     "output_type": "display_data"
    }
   ],
   "source": [
    "    \n",
    "an_x = list(map(int, anot.xpath(\".//pointlist/point/x/text()\")))\n",
    "an_y = list(map(int, anot.xpath(\".//pointlist/point/y/text()\")))\n",
    "plt.plot(an_x, an_y, color=an_color)\n",
    "\n"
   ]
  },
  {
   "cell_type": "markdown",
   "metadata": {},
   "source": [
    "# Function"
   ]
  },
  {
   "cell_type": "code",
   "execution_count": 9,
   "metadata": {},
   "outputs": [],
   "source": [
    "def get_one_annotation(viewstate):\n",
    "    titles_list = viewstate.xpath(\".//title/text()\")\n",
    "    if len(titles_list) == 0:\n",
    "        an_title = \"\"\n",
    "    elif len(titles_list) == 1:\n",
    "        an_title = titles_list[0]\n",
    "    else:\n",
    "        raise ValueError(\"More than one title in viewstate\")\n",
    "    \n",
    "    annotations = viewstate.xpath(\".//annotation\")\n",
    "    if len(annotations) > 1:\n",
    "        raise ValueError(\"More than one annotation found\")\n",
    "    annot = annotations[0]\n",
    "    an_color = annot.get(\"color\")\n",
    "#     display(len(annotation))\n",
    "    an_x = list(map(int, annot.xpath(\".//pointlist/point/x/text()\")))\n",
    "    an_y = list(map(int, annot.xpath(\".//pointlist/point/y/text()\")))\n",
    "    return dict(title=an_title, color=an_color, x=an_x, y=an_y)\n",
    "    \n",
    "    \n",
    "# get_one_annotation(viewstates[2])"
   ]
  },
  {
   "cell_type": "code",
   "execution_count": 9,
   "metadata": {},
   "outputs": [],
   "source": [
    "viewstates = tree.xpath(\"//ndpviewstate\")\n",
    "all_anotations = list(map(get_one_annotation, viewstates))"
   ]
  },
  {
   "cell_type": "code",
   "execution_count": 10,
   "metadata": {},
   "outputs": [
    {
     "data": {
      "text/plain": [
       "[{'title': '',\n",
       "  'color': '#00ff00',\n",
       "  'x': [7349195,\n",
       "   7288523,\n",
       "   7300659,\n",
       "   7300659,\n",
       "   7244035,\n",
       "   7199542,\n",
       "   7239983,\n",
       "   7276392,\n",
       "   7288523,\n",
       "   7381557,\n",
       "   7470538,\n",
       "   7612117,\n",
       "   7668742,\n",
       "   7684920,\n",
       "   7761771,\n",
       "   7737503,\n",
       "   7737503,\n",
       "   7798175,\n",
       "   7866941,\n",
       "   7891213,\n",
       "   7935707,\n",
       "   7935707,\n",
       "   7939749,\n",
       "   8040866,\n",
       "   8048961,\n",
       "   8004462,\n",
       "   7769865,\n",
       "   7749634,\n",
       "   7717282,\n",
       "   7697052,\n",
       "   7660653,\n",
       "   7559530,\n",
       "   7361326],\n",
       "  'y': [1491671,\n",
       "   1499775,\n",
       "   1653659,\n",
       "   1694153,\n",
       "   1758951,\n",
       "   1795396,\n",
       "   1827793,\n",
       "   1860191,\n",
       "   1823744,\n",
       "   1827793,\n",
       "   1864240,\n",
       "   1819697,\n",
       "   1880441,\n",
       "   1908789,\n",
       "   1848043,\n",
       "   1799445,\n",
       "   1754899,\n",
       "   1673909,\n",
       "   1686057,\n",
       "   1714405,\n",
       "   1682005,\n",
       "   1661761,\n",
       "   1617212,\n",
       "   1532172,\n",
       "   1495725,\n",
       "   1499775,\n",
       "   1394483,\n",
       "   1366137,\n",
       "   1443078,\n",
       "   1471426,\n",
       "   1479525,\n",
       "   1390433,\n",
       "   1495725]},\n",
       " {'title': '',\n",
       "  'color': '#00ff00',\n",
       "  'x': [7146954,\n",
       "   7183358,\n",
       "   7179311,\n",
       "   7248077,\n",
       "   7320885,\n",
       "   7320885,\n",
       "   7446266,\n",
       "   7527173,\n",
       "   7527173,\n",
       "   7555488,\n",
       "   7559530,\n",
       "   7599976,\n",
       "   7656611,\n",
       "   7753681,\n",
       "   7765823,\n",
       "   7717282,\n",
       "   7749634,\n",
       "   7745592,\n",
       "   7688967,\n",
       "   7555488,\n",
       "   7474585,\n",
       "   7409872,\n",
       "   7357284,\n",
       "   7264250],\n",
       "  'y': [2038377,\n",
       "   2147716,\n",
       "   2289455,\n",
       "   2366399,\n",
       "   2358297,\n",
       "   2410942,\n",
       "   2342100,\n",
       "   2370446,\n",
       "   2402843,\n",
       "   2394744,\n",
       "   2325900,\n",
       "   2285401,\n",
       "   2301603,\n",
       "   2253008,\n",
       "   2172015,\n",
       "   2062674,\n",
       "   2010029,\n",
       "   1977629,\n",
       "   2005977,\n",
       "   1949283,\n",
       "   2001928,\n",
       "   2030276,\n",
       "   1977629,\n",
       "   1977629]},\n",
       " {'title': '',\n",
       "  'color': '#00ff00',\n",
       "  'x': [7850757,\n",
       "   7875030,\n",
       "   7883114,\n",
       "   7838626,\n",
       "   7842673,\n",
       "   7879072,\n",
       "   7826489,\n",
       "   7891213,\n",
       "   7875030,\n",
       "   7870978,\n",
       "   8000420,\n",
       "   8028730,\n",
       "   8069181,\n",
       "   8113680,\n",
       "   8150079,\n",
       "   8150079,\n",
       "   8146036,\n",
       "   8259291,\n",
       "   8222887,\n",
       "   8239060,\n",
       "   8287600,\n",
       "   8307826,\n",
       "   8263328,\n",
       "   8239060,\n",
       "   8194572,\n",
       "   8137942,\n",
       "   8113680,\n",
       "   8032777,\n",
       "   8016599,\n",
       "   7931654],\n",
       "  'y': [1795396,\n",
       "   1892591,\n",
       "   1924984,\n",
       "   1953332,\n",
       "   2014078,\n",
       "   2062674,\n",
       "   2119368,\n",
       "   2147716,\n",
       "   2240857,\n",
       "   2309700,\n",
       "   2321850,\n",
       "   2346149,\n",
       "   2244909,\n",
       "   2228712,\n",
       "   2163914,\n",
       "   2131516,\n",
       "   2095069,\n",
       "   1965483,\n",
       "   1912836,\n",
       "   1848043,\n",
       "   1839944,\n",
       "   1758951,\n",
       "   1750852,\n",
       "   1819697,\n",
       "   1827793,\n",
       "   1787297,\n",
       "   1730603,\n",
       "   1686057,\n",
       "   1746800,\n",
       "   1803497]},\n",
       " {'title': '',\n",
       "  'color': '#00ff00',\n",
       "  'x': [7775667,\n",
       "   7769596,\n",
       "   7688659,\n",
       "   7712940,\n",
       "   7743291,\n",
       "   7749365,\n",
       "   7735195,\n",
       "   7666399,\n",
       "   7672472,\n",
       "   7621885,\n",
       "   7652234,\n",
       "   7680561,\n",
       "   7698775,\n",
       "   7763527,\n",
       "   7818161,\n",
       "   7903147,\n",
       "   7931477,\n",
       "   7931477,\n",
       "   8052885,\n",
       "   8087281,\n",
       "   8174291,\n",
       "   8228923,\n",
       "   8245112,\n",
       "   8178338,\n",
       "   8218808,\n",
       "   7992180,\n",
       "   7852560],\n",
       "  'y': [819691,\n",
       "   888570,\n",
       "   927063,\n",
       "   1002020,\n",
       "   1046590,\n",
       "   1087105,\n",
       "   1129649,\n",
       "   1239047,\n",
       "   1287669,\n",
       "   1324133,\n",
       "   1374780,\n",
       "   1328185,\n",
       "   1263357,\n",
       "   1259306,\n",
       "   1285641,\n",
       "   1320082,\n",
       "   1287669,\n",
       "   1196503,\n",
       "   1182321,\n",
       "   1121546,\n",
       "   1085082,\n",
       "   1103315,\n",
       "   1056719,\n",
       "   1020253,\n",
       "   886546,\n",
       "   833873,\n",
       "   781200]},\n",
       " {'title': '',\n",
       "  'color': '#0000ff',\n",
       "  'x': [7913516,\n",
       "   7937239,\n",
       "   7996536,\n",
       "   8048728,\n",
       "   8100911,\n",
       "   8084306,\n",
       "   7996536,\n",
       "   7934863],\n",
       "  'y': [1962280,\n",
       "   2033529,\n",
       "   2031155,\n",
       "   2002655,\n",
       "   1926660,\n",
       "   1860161,\n",
       "   1850662,\n",
       "   1905283]},\n",
       " {'title': '',\n",
       "  'color': '#0000ff',\n",
       "  'x': [7443841,\n",
       "   7403515,\n",
       "   7431981,\n",
       "   7512630,\n",
       "   7574303,\n",
       "   7614633,\n",
       "   7588537,\n",
       "   7507888],\n",
       "  'y': [2116650,\n",
       "   2197400,\n",
       "   2244895,\n",
       "   2252018,\n",
       "   2230644,\n",
       "   2159395,\n",
       "   2114274,\n",
       "   2097652]},\n",
       " {'title': '',\n",
       "  'color': '#0000ff',\n",
       "  'x': [7498398, 7579049, 7635979, 7697653, 7702399, 7574303, 7491284],\n",
       "  'y': [1677294, 1729539, 1729539, 1698669, 1617921, 1558548, 1584674]},\n",
       " {'title': '',\n",
       "  'color': '#0000ff',\n",
       "  'x': [7858957,\n",
       "   7825747,\n",
       "   7811512,\n",
       "   7837608,\n",
       "   7873189,\n",
       "   7908772,\n",
       "   7987051,\n",
       "   8015518,\n",
       "   7972817,\n",
       "   7915887],\n",
       "  'y': [955324,\n",
       "   998073,\n",
       "   1024197,\n",
       "   1076441,\n",
       "   1090693,\n",
       "   1093066,\n",
       "   1057443,\n",
       "   986197,\n",
       "   945822,\n",
       "   931574]},\n",
       " {'title': '',\n",
       "  'color': '#00ffff',\n",
       "  'x': [-4680444,\n",
       "   -4712525,\n",
       "   -4733842,\n",
       "   -4765869,\n",
       "   -4776420,\n",
       "   -4723183,\n",
       "   -4659181,\n",
       "   -4605890,\n",
       "   -4563204,\n",
       "   -4499202,\n",
       "   -4445858,\n",
       "   -4371145,\n",
       "   -4285879,\n",
       "   -4211219,\n",
       "   -4147217,\n",
       "   -4115243,\n",
       "   -4093927,\n",
       "   -4093927,\n",
       "   -4093927,\n",
       "   -4093927,\n",
       "   -4125901,\n",
       "   -4157929,\n",
       "   -4200615,\n",
       "   -4253905,\n",
       "   -4317907,\n",
       "   -4360594,\n",
       "   -4467174,\n",
       "   -4531176,\n",
       "   -4584468,\n",
       "   -4627153],\n",
       "  'y': [7396,\n",
       "   50107,\n",
       "   92819,\n",
       "   146211,\n",
       "   199601,\n",
       "   252991,\n",
       "   274345,\n",
       "   295703,\n",
       "   306378,\n",
       "   306378,\n",
       "   306378,\n",
       "   306378,\n",
       "   306378,\n",
       "   274345,\n",
       "   252991,\n",
       "   220957,\n",
       "   178245,\n",
       "   114178,\n",
       "   71462,\n",
       "   7396,\n",
       "   -24639,\n",
       "   -67350,\n",
       "   -99385,\n",
       "   -120740,\n",
       "   -131419,\n",
       "   -142097,\n",
       "   -152774,\n",
       "   -152774,\n",
       "   -152774,\n",
       "   -152774]}]"
      ]
     },
     "execution_count": 10,
     "metadata": {},
     "output_type": "execute_result"
    }
   ],
   "source": [
    "all_anotations"
   ]
  },
  {
   "cell_type": "code",
   "execution_count": 11,
   "metadata": {},
   "outputs": [],
   "source": [
    "fn = \"annotations.json\"\n",
    "with open(fn, 'w') as outfile:\n",
    "    json.dump(all_anotations, outfile)"
   ]
  },
  {
   "cell_type": "markdown",
   "metadata": {},
   "source": [
    "# Convert from .ndpa to .json"
   ]
  },
  {
   "cell_type": "code",
   "execution_count": 5,
   "metadata": {},
   "outputs": [],
   "source": [
    "\n",
    "\n",
    "def ndpa_file_to_json(pth):\n",
    "    tree = etree.parse(pth)\n",
    "    viewstates = tree.xpath(\"//ndpviewstate\")\n",
    "    all_anotations = list(map(get_one_annotation, viewstates))\n",
    "    fn = pth + \".json\"\n",
    "    with open(fn, 'w') as outfile:\n",
    "        json.dump(all_anotations, outfile)"
   ]
  },
  {
   "cell_type": "code",
   "execution_count": 13,
   "metadata": {},
   "outputs": [],
   "source": [
    "# pth = r\"E:\\data\\scaffold\\Hamamatsu\\PIG-003_J-18-0165_HE.ndpi.ndpa\"\n",
    "# ndpa_file_to_json(pth)"
   ]
  },
  {
   "cell_type": "markdown",
   "metadata": {},
   "source": [
    "# Convert whole directory"
   ]
  },
  {
   "cell_type": "code",
   "execution_count": 6,
   "metadata": {},
   "outputs": [],
   "source": [
    "def ndpa_to_json(path):\n",
    "    \"\"\"\n",
    "    :param path: path to file or dir contaning .ndpa files\n",
    "    \"\"\"\n",
    "    if op.isfile(path):\n",
    "        ndpa_file_to_json(path)\n",
    "    else:\n",
    "        extended_path = op.join(path, \"*.ndpa\")\n",
    "#         print(extended_path)\n",
    "        files = glob.glob(extended_path)\n",
    "        for fl in files:\n",
    "            ndpa_file_to_json(fl)\n",
    "        \n",
    "    \n",
    "    "
   ]
  },
  {
   "cell_type": "code",
   "execution_count": 11,
   "metadata": {},
   "outputs": [],
   "source": [
    "ndpa_to_json(r\"e:data/scaffold/Hamamatsu/\")"
   ]
  }
 ],
 "metadata": {
  "kernelspec": {
   "display_name": "Python 3",
   "language": "python",
   "name": "python3"
  },
  "language_info": {
   "codemirror_mode": {
    "name": "ipython",
    "version": 3
   },
   "file_extension": ".py",
   "mimetype": "text/x-python",
   "name": "python",
   "nbconvert_exporter": "python",
   "pygments_lexer": "ipython3",
   "version": "3.6.5"
  }
 },
 "nbformat": 4,
 "nbformat_minor": 2
}
