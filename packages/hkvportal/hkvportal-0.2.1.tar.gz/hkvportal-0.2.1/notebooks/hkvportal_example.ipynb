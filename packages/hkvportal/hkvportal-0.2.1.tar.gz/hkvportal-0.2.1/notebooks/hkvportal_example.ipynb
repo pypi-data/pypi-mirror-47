{
 "cells": [
  {
   "cell_type": "markdown",
   "metadata": {},
   "source": [
    "Voorbeeld notebook om met de dataportal van hkv.services te werken. Deze dataportal staat nu op de server van OMS Waddenzee en dus niet op een van HKV productieservers.\n",
    "\n",
    "Allereerst, importeer de module als volgt:"
   ]
  },
  {
   "cell_type": "code",
   "execution_count": 3,
   "metadata": {},
   "outputs": [],
   "source": [
    "from hkvportal.io.services import dataportal as dp\n",
    "dp = dp()"
   ]
  },
  {
   "cell_type": "markdown",
   "metadata": {},
   "source": [
    "In de dataportal kunnen verschillende databases worden aangemaakt (`createDatabase`). In een bestaande database mogen entries worden:\n",
    "- aangemaakt (`setEntry`)\n",
    "- bijgewerkt (`updateEntry`)\n",
    "- opgehaald (`getEntry`) of \n",
    "- verwijderd (`deleteEntry`)\n",
    "\n",
    "Om een database uit te lezen moet er eerst een verbinding met de dataservice worden gemaakt. Anders is de dataservice niet bekend.\n",
    "\n",
    "Een dataservice kan worden gezet met de `setDataservice` functie:"
   ]
  },
  {
   "cell_type": "code",
   "execution_count": 4,
   "metadata": {},
   "outputs": [
    {
     "name": "stdout",
     "output_type": "stream",
     "text": [
      "dataservice is set. http://85.xx.xx.xx/dataservices/ will be used as portal\n"
     ]
    }
   ],
   "source": [
    "dp.setDataservice(dataservice = 'http://85.xx.xx.xx/dataservices/')"
   ]
  },
  {
   "cell_type": "markdown",
   "metadata": {},
   "source": [
    "Om te starten maak je een database aan"
   ]
  },
  {
   "cell_type": "code",
   "execution_count": 5,
   "metadata": {},
   "outputs": [
    {
     "data": {
      "text/plain": [
       "{'exception': 'database name already exists'}"
      ]
     },
     "execution_count": 5,
     "metadata": {},
     "output_type": "execute_result"
    }
   ],
   "source": [
    "dp.createDatabase(database = 'demoDatabase')"
   ]
  },
  {
   "cell_type": "markdown",
   "metadata": {},
   "source": [
    "Met `listDatabase` kan je uitlezen wat er in de database zit. Dit is nu nog niets:"
   ]
  },
  {
   "cell_type": "code",
   "execution_count": 6,
   "metadata": {},
   "outputs": [
    {
     "data": {
      "text/plain": [
       "[]"
      ]
     },
     "execution_count": 6,
     "metadata": {},
     "output_type": "execute_result"
    }
   ],
   "source": [
    "dp.listDatabase(database = 'demoDatabase')"
   ]
  },
  {
   "cell_type": "markdown",
   "metadata": {},
   "source": [
    "Een nieuwe entry kan toegevoegd worden met `setEntryDatabase`, deze heeft de volgende parameters nodig:\n",
    "- database = (str) naam van de database in kwestie\n",
    "- key = (str) naam waaronder de entry weer opgevraagd kan worden\n",
    "- data = (str) het dataobject (wanneer de data later in een visualisatie gebruikt wordt moet dit row-oriented JSON zijn ['records'-style in pandas]).\n",
    "- description = (str) beschrijving van de entry"
   ]
  },
  {
   "cell_type": "code",
   "execution_count": 7,
   "metadata": {},
   "outputs": [
    {
     "data": {
      "text/plain": [
       "{'date': '2017-11-28 15:58:19',\n",
       " 'id': '03ce1bd0-5f89-45b6-a4e7-0dcb40097df3',\n",
       " 'key': 'array4digits'}"
      ]
     },
     "execution_count": 7,
     "metadata": {},
     "output_type": "execute_result"
    }
   ],
   "source": [
    "dp.setEntryDatabase(database = 'demoDatabase', \n",
    "                    key = 'array4digits', \n",
    "                    data = '[1,2,3,4]', \n",
    "                    description = 'array van getallen')"
   ]
  },
  {
   "cell_type": "markdown",
   "metadata": {},
   "source": [
    "Deze data kan weer uitgelezen worden met `getEntryDatabase`. Hiervoor zijn alleen de `database` en `key` van belang. De functie toont ook de URL waarmee de data direct vanuit de browser of andere omgevingen en scripts uitgelezen kan worden."
   ]
  },
  {
   "cell_type": "code",
   "execution_count": 8,
   "metadata": {},
   "outputs": [
    {
     "name": "stdout",
     "output_type": "stream",
     "text": [
      "http://85.xx.xx.xx/dataservices/data.asmx/read?database=demoDatabase&key=array4digits\n"
     ]
    },
    {
     "data": {
      "text/plain": [
       "[1, 2, 3, 4]"
      ]
     },
     "execution_count": 8,
     "metadata": {},
     "output_type": "execute_result"
    }
   ],
   "source": [
    "dp.getEntryDatabase(database = 'demoDatabase', \n",
    "                    key = 'array4digits')"
   ]
  },
  {
   "cell_type": "markdown",
   "metadata": {},
   "source": [
    "Met `updateEntryDatabase` kan een bestaande entry bijgewerkt worden. De entry wordt in z'n geheel vernieuwd. Hier zit geen append of prepend functionaliteit"
   ]
  },
  {
   "cell_type": "code",
   "execution_count": 9,
   "metadata": {},
   "outputs": [
    {
     "data": {
      "text/plain": [
       "{'database': 'demoDatabase', 'recordsaffected': '1', 'version': '0.2.0.0'}"
      ]
     },
     "execution_count": 9,
     "metadata": {},
     "output_type": "execute_result"
    }
   ],
   "source": [
    "dp.updateEntryDatabase(database = 'demoDatabase', \n",
    "                       key = 'array4digits', \n",
    "                       data = '[5,6,7,8]', \n",
    "                       description = 'array van nieuwe getallen')"
   ]
  },
  {
   "cell_type": "markdown",
   "metadata": {},
   "source": [
    "Met de listDatabase functie is zichtbaar dat er een enkel entry in de database zit."
   ]
  },
  {
   "cell_type": "code",
   "execution_count": 10,
   "metadata": {},
   "outputs": [
    {
     "data": {
      "text/plain": [
       "[{'date': '2017-11-28 15:58:27',\n",
       "  'description': 'array van nieuwe getallen',\n",
       "  'id': '03ce1bd0-5f89-45b6-a4e7-0dcb40097df3',\n",
       "  'key': 'array4digits'}]"
      ]
     },
     "execution_count": 10,
     "metadata": {},
     "output_type": "execute_result"
    }
   ],
   "source": [
    "dp.listDatabase(database = 'demoDatabase')"
   ]
  },
  {
   "cell_type": "markdown",
   "metadata": {},
   "source": [
    "Om een entry uit de database te verwijderen kan de `deleteEntryDatabase` functie gebruikt worden"
   ]
  },
  {
   "cell_type": "code",
   "execution_count": 11,
   "metadata": {},
   "outputs": [
    {
     "data": {
      "text/plain": [
       "{'database': 'demoDatabase', 'recordsaffected': '1', 'version': '0.2.0.0'}"
      ]
     },
     "execution_count": 11,
     "metadata": {},
     "output_type": "execute_result"
    }
   ],
   "source": [
    "dp.deleteEntryDatabase(database= 'demoDatabase', key='array4digits')"
   ]
  },
  {
   "cell_type": "markdown",
   "metadata": {},
   "source": [
    "Double check om te kijken of de entry echt weg is"
   ]
  },
  {
   "cell_type": "code",
   "execution_count": 12,
   "metadata": {},
   "outputs": [
    {
     "data": {
      "text/plain": [
       "[]"
      ]
     },
     "execution_count": 12,
     "metadata": {},
     "output_type": "execute_result"
    }
   ],
   "source": [
    "dp.listDatabase(database = 'demoDatabase')"
   ]
  },
  {
   "cell_type": "markdown",
   "metadata": {},
   "source": [
    "Voor Myanmar is een bestaande database. Deze heet `Myanmar`. En bevat voor alle locaties/parameters al een entry"
   ]
  },
  {
   "cell_type": "code",
   "execution_count": 48,
   "metadata": {},
   "outputs": [
    {
     "data": {
      "text/plain": [
       "[{'date': '2017-10-25 05:59:19',\n",
       "  'description': 'meteo disdro locaties',\n",
       "  'id': '00c8d632-192d-40c1-b6fa-2f12a33767f8',\n",
       "  'key': 'locations_METEO_DISDRO'},\n",
       " {'date': '2017-10-25 05:59:28',\n",
       "  'description': '',\n",
       "  'id': '8028d292-6502-4180-97c2-e143e6c185f7',\n",
       "  'key': 'P.GSOD|480010|mm'},\n",
       " {'date': '2017-10-25 05:59:28',\n",
       "  'description': '',\n",
       "  'id': '09d7098b-6be9-4207-bf0a-0d74ed5fe990',\n",
       "  'key': 'P.GSOD|480040|mm'},\n",
       " {'date': '2017-10-25 05:59:28',\n",
       "  'description': '',\n",
       "  'id': 'aeaa19fb-27aa-4759-b490-186dc89d530b',\n",
       "  'key': 'P.GSOD|480080|mm'},\n",
       " {'date': '2017-10-25 05:59:28',\n",
       "  'description': '',\n",
       "  'id': 'ca89740d-ab63-4b4f-8d91-e6e57a716082',\n",
       "  'key': 'P.GSOD|480100|mm'},\n",
       " {'date': '2017-10-25 05:59:28',\n",
       "  'description': '',\n",
       "  'id': 'ec4ac3ff-75cb-4f41-9fbf-1387cde52680',\n",
       "  'key': 'P.GSOD|480180|mm'},\n",
       " {'date': '2017-10-25 05:59:28',\n",
       "  'description': '',\n",
       "  'id': 'afdbc7c2-ab9f-4898-9f77-e0226d2706f1',\n",
       "  'key': 'P.GSOD|480190|mm'},\n",
       " {'date': '2017-10-25 05:59:28',\n",
       "  'description': '',\n",
       "  'id': 'cc83ddc0-a6d2-4d12-bd96-d5f9c7fd49b8',\n",
       "  'key': 'P.GSOD|480200|mm'},\n",
       " {'date': '2017-10-25 05:59:29',\n",
       "  'description': '',\n",
       "  'id': 'f0441e70-59ba-4548-bea8-e6abcdc901aa',\n",
       "  'key': 'P.GSOD|480250|mm'},\n",
       " {'date': '2017-10-25 05:59:29',\n",
       "  'description': '',\n",
       "  'id': '8a8e2f61-b8f8-42d3-a6c7-dea44e72a910',\n",
       "  'key': 'P.GSOD|480300|mm'},\n",
       " {'date': '2017-10-25 05:59:29',\n",
       "  'description': '',\n",
       "  'id': '9b78a460-e0e4-4b07-a1b1-f7b1b5b3791e',\n",
       "  'key': 'P.GSOD|480310|mm'},\n",
       " {'date': '2017-10-25 05:59:29',\n",
       "  'description': '',\n",
       "  'id': 'aee11c1b-9777-447f-96e0-894a04eaf6b7',\n",
       "  'key': 'P.GSOD|480330|mm'},\n",
       " {'date': '2017-10-25 05:59:29',\n",
       "  'description': '',\n",
       "  'id': 'e0fa92f5-6711-4dd2-8946-bc0663a90240',\n",
       "  'key': 'P.GSOD|480350|mm'},\n",
       " {'date': '2017-10-25 05:59:29',\n",
       "  'description': '',\n",
       "  'id': '93b5f159-cb41-4b71-80cb-3fcdb16ea65c',\n",
       "  'key': 'P.GSOD|480370|mm'},\n",
       " {'date': '2017-10-25 05:59:29',\n",
       "  'description': '',\n",
       "  'id': '7b7eef90-8efd-46d4-8e0b-675d8c5218ed',\n",
       "  'key': 'P.GSOD|480420|mm'},\n",
       " {'date': '2017-10-25 05:59:29',\n",
       "  'description': '',\n",
       "  'id': '3570276d-8c4d-4686-b021-7f1f71327021',\n",
       "  'key': 'P.GSOD|480450|mm'},\n",
       " {'date': '2017-10-25 05:59:29',\n",
       "  'description': '',\n",
       "  'id': '81f80dd6-d65f-41c2-ba2f-cf63420bdfc8',\n",
       "  'key': 'P.GSOD|480480|mm'},\n",
       " {'date': '2017-10-25 05:59:29',\n",
       "  'description': '',\n",
       "  'id': 'ed09502d-8600-4c1e-8fba-a254dc38eee0',\n",
       "  'key': 'P.GSOD|480510|mm'},\n",
       " {'date': '2017-10-25 05:59:30',\n",
       "  'description': '',\n",
       "  'id': '39f0eb0a-424b-438c-bd25-68324b8a0b0c',\n",
       "  'key': 'P.GSOD|480530|mm'},\n",
       " {'date': '2017-10-25 05:59:30',\n",
       "  'description': '',\n",
       "  'id': 'e8c62951-6897-4208-9ea0-04a82a7c200d',\n",
       "  'key': 'P.GSOD|480570|mm'},\n",
       " {'date': '2017-10-25 05:59:30',\n",
       "  'description': '',\n",
       "  'id': '67e460c4-0e29-45d3-8724-86d3b039561d',\n",
       "  'key': 'P.GSOD|480600|mm'},\n",
       " {'date': '2017-10-25 05:59:30',\n",
       "  'description': '',\n",
       "  'id': 'ff75b57f-fce0-4081-b0cc-b8ea59976cb9',\n",
       "  'key': 'P.GSOD|480620|mm'},\n",
       " {'date': '2017-10-25 05:59:30',\n",
       "  'description': '',\n",
       "  'id': '35700006-bd39-4939-a710-4ba235ffce79',\n",
       "  'key': 'P.GSOD|480640|mm'},\n",
       " {'date': '2017-10-25 05:59:30',\n",
       "  'description': '',\n",
       "  'id': 'a4b9ff4b-7840-4d9b-8bc0-17167fda63f6',\n",
       "  'key': 'P.GSOD|480710|mm'},\n",
       " {'date': '2017-10-25 05:59:30',\n",
       "  'description': '',\n",
       "  'id': 'aa5713a4-8bed-41a5-901a-4b8687ec8a21',\n",
       "  'key': 'P.GSOD|480720|mm'},\n",
       " {'date': '2017-10-25 05:59:30',\n",
       "  'description': '',\n",
       "  'id': '0c95911d-d5f9-474f-b456-f936e37598ed',\n",
       "  'key': 'P.GSOD|480740|mm'},\n",
       " {'date': '2017-10-25 05:59:31',\n",
       "  'description': '',\n",
       "  'id': '98af5129-b082-4d61-8677-54756983da2d',\n",
       "  'key': 'P.GSOD|480750|mm'},\n",
       " {'date': '2017-10-25 05:59:31',\n",
       "  'description': '',\n",
       "  'id': 'f29f6dc2-05a3-4927-a301-1ce5f326539b',\n",
       "  'key': 'P.GSOD|480770|mm'},\n",
       " {'date': '2017-10-25 05:59:31',\n",
       "  'description': '',\n",
       "  'id': 'f458e278-8422-42cd-9a2b-39196c138d27',\n",
       "  'key': 'P.GSOD|480780|mm'},\n",
       " {'date': '2017-10-25 05:59:31',\n",
       "  'description': '',\n",
       "  'id': '347abb4c-ad25-42b3-ada2-b4c01d355d25',\n",
       "  'key': 'P.GSOD|480800|mm'},\n",
       " {'date': '2017-10-25 05:59:31',\n",
       "  'description': '',\n",
       "  'id': 'c5f5cbef-9e1c-44c5-afab-a0690601ae37',\n",
       "  'key': 'P.GSOD|480850|mm'},\n",
       " {'date': '2017-10-25 05:59:31',\n",
       "  'description': '',\n",
       "  'id': '6f8e507a-5cb2-4b71-84cd-b06257cce31d',\n",
       "  'key': 'P.GSOD|480870|mm'},\n",
       " {'date': '2017-10-25 05:59:31',\n",
       "  'description': '',\n",
       "  'id': '3e43afd6-727e-4bac-8287-3c899691509e',\n",
       "  'key': 'P.GSOD|480930|mm'},\n",
       " {'date': '2017-10-25 05:59:31',\n",
       "  'description': '',\n",
       "  'id': '982e91db-91c3-4dcd-848e-c6dd3bf9140f',\n",
       "  'key': 'P.GSOD|480940|mm'},\n",
       " {'date': '2017-10-25 05:59:31',\n",
       "  'description': '',\n",
       "  'id': 'e2fb43f9-5b74-4e14-8978-814b01057ae2',\n",
       "  'key': 'P.GSOD|480950|mm'},\n",
       " {'date': '2017-10-25 05:59:31',\n",
       "  'description': '',\n",
       "  'id': '1d986c7d-1321-4b6b-b598-b99948af4363',\n",
       "  'key': 'P.GSOD|480970|mm'},\n",
       " {'date': '2017-10-25 05:59:32',\n",
       "  'description': '',\n",
       "  'id': '68c856af-c70b-431e-85fd-8dcf062cf2da',\n",
       "  'key': 'P.GSOD|480990|mm'},\n",
       " {'date': '2017-10-25 05:59:32',\n",
       "  'description': '',\n",
       "  'id': 'd97e84b2-5e28-4efa-874d-4f1ef2d03a91',\n",
       "  'key': 'P.GSOD|481010|mm'},\n",
       " {'date': '2017-10-25 05:59:32',\n",
       "  'description': '',\n",
       "  'id': 'c0219630-05a1-4871-bf3e-cb1b20f0ba65',\n",
       "  'key': 'P.GSOD|481030|mm'},\n",
       " {'date': '2017-10-25 05:59:32',\n",
       "  'description': '',\n",
       "  'id': '3a75a656-6d0d-4c9d-9db6-d0817105bab2',\n",
       "  'key': 'P.GSOD|481070|mm'},\n",
       " {'date': '2017-10-25 05:59:32',\n",
       "  'description': '',\n",
       "  'id': 'f0774cef-034c-46bb-bbb7-3f121231ed31',\n",
       "  'key': 'P.GSOD|481080|mm'},\n",
       " {'date': '2017-10-25 05:59:32',\n",
       "  'description': '',\n",
       "  'id': 'da1e4713-b5aa-4ee7-a0ed-57e52dce7b2c',\n",
       "  'key': 'P.GSOD|481090|mm'},\n",
       " {'date': '2017-10-25 05:59:32',\n",
       "  'description': '',\n",
       "  'id': 'b1a59f2f-0772-436d-a64b-7a9fb9a629c5',\n",
       "  'key': 'P.GSOD|481100|mm'},\n",
       " {'date': '2017-10-25 05:59:32',\n",
       "  'description': '',\n",
       "  'id': 'c991ba89-79c1-4f5d-9b25-bd82b6b83bf6',\n",
       "  'key': 'P.GSOD|481120|mm'},\n",
       " {'date': '2017-06-26 12:51:46',\n",
       "  'description': '',\n",
       "  'id': 'dbec5ca1-b517-4605-bce4-a311291acc68',\n",
       "  'key': 'locations_METEO_GSOD'},\n",
       " {'date': '2017-08-07 07:42:22',\n",
       "  'description': '',\n",
       "  'id': '240ce2ee-9c58-4819-9f01-4d5cbbf3d24d',\n",
       "  'key': 'P.DISDRO.5min|13.0002|mm'},\n",
       " {'date': '2017-08-07 07:42:32',\n",
       "  'description': '',\n",
       "  'id': '0731ebb0-a572-40a6-a5b6-ba3ad8601007',\n",
       "  'key': 'P.DISDRO.5min|13.0050|mm'},\n",
       " {'date': '2017-10-25 05:58:45',\n",
       "  'description': '',\n",
       "  'id': '963f9016-db59-476e-aea2-23aa504996c9',\n",
       "  'key': 'P.DISDRO.hour|13.0002|mm'},\n",
       " {'date': '2017-10-25 05:58:46',\n",
       "  'description': '',\n",
       "  'id': 'b65c805b-e8b7-4c64-98f1-b05e21b74716',\n",
       "  'key': 'P.DISDRO.hour|13.0050|mm'},\n",
       " {'date': '2017-08-07 07:40:51',\n",
       "  'description': '',\n",
       "  'id': '4669c6c5-f3d2-4a41-9f14-266cf4b19111',\n",
       "  'key': 'P.DISDRO.day|13.0051|mm'},\n",
       " {'date': '2017-10-25 05:58:47',\n",
       "  'description': '',\n",
       "  'id': 'd94f8e9b-3825-4a97-b90a-9cfd4b2199fb',\n",
       "  'key': 'P.DISDRO.hour|13.0051|mm'}]"
      ]
     },
     "execution_count": 48,
     "metadata": {},
     "output_type": "execute_result"
    }
   ],
   "source": [
    "dp.listDatabase(database = 'Myanmar')"
   ]
  },
  {
   "cell_type": "markdown",
   "metadata": {},
   "source": [
    "En een entry kan uitgelezen worden"
   ]
  },
  {
   "cell_type": "code",
   "execution_count": 13,
   "metadata": {},
   "outputs": [
    {
     "name": "stdout",
     "output_type": "stream",
     "text": [
      "http://85.xx.xx.xx/dataservices/data.asmx/read?database=Myanmar&key=P.GSOD|480010|mm\n"
     ]
    },
    {
     "data": {
      "text/plain": [
       "{'date': '2017-01-06T00:00:00.000Z',\n",
       " 'flag': 0.0,\n",
       " 'locationId': '480010',\n",
       " 'moduleId': 'ImportGSOD',\n",
       " 'parameterId': 'P.GSOD',\n",
       " 'stationName': 'PUTAO',\n",
       " 'units': 'mm',\n",
       " 'value': 0.0}"
      ]
     },
     "execution_count": 13,
     "metadata": {},
     "output_type": "execute_result"
    }
   ],
   "source": [
    "precipData = dp.getEntryDatabase(database='Myanmar',key='P.GSOD|480010|mm')\n",
    "precipData[0]"
   ]
  },
  {
   "cell_type": "markdown",
   "metadata": {},
   "source": [
    "Of gelijk met de pandas module"
   ]
  },
  {
   "cell_type": "code",
   "execution_count": 14,
   "metadata": {},
   "outputs": [],
   "source": [
    "import pandas as pd\n",
    "%matplotlib inline"
   ]
  },
  {
   "cell_type": "code",
   "execution_count": 15,
   "metadata": {},
   "outputs": [],
   "source": [
    "df = pd.read_json('http://85.xx.xx.xx/dataservices/data.asmx/read?database=Myanmar&key=P.GSOD|480010|mm', orient='records')"
   ]
  },
  {
   "cell_type": "code",
   "execution_count": 16,
   "metadata": {},
   "outputs": [],
   "source": [
    "df.set_index('date', inplace=True)"
   ]
  },
  {
   "cell_type": "code",
   "execution_count": 17,
   "metadata": {},
   "outputs": [
    {
     "data": {
      "text/html": [
       "<div>\n",
       "<style scoped>\n",
       "    .dataframe tbody tr th:only-of-type {\n",
       "        vertical-align: middle;\n",
       "    }\n",
       "\n",
       "    .dataframe tbody tr th {\n",
       "        vertical-align: top;\n",
       "    }\n",
       "\n",
       "    .dataframe thead th {\n",
       "        text-align: right;\n",
       "    }\n",
       "</style>\n",
       "<table border=\"1\" class=\"dataframe\">\n",
       "  <thead>\n",
       "    <tr style=\"text-align: right;\">\n",
       "      <th></th>\n",
       "      <th>flag</th>\n",
       "      <th>locationId</th>\n",
       "      <th>moduleId</th>\n",
       "      <th>parameterId</th>\n",
       "      <th>stationName</th>\n",
       "      <th>units</th>\n",
       "      <th>value</th>\n",
       "    </tr>\n",
       "    <tr>\n",
       "      <th>date</th>\n",
       "      <th></th>\n",
       "      <th></th>\n",
       "      <th></th>\n",
       "      <th></th>\n",
       "      <th></th>\n",
       "      <th></th>\n",
       "      <th></th>\n",
       "    </tr>\n",
       "  </thead>\n",
       "  <tbody>\n",
       "    <tr>\n",
       "      <th>2017-01-06</th>\n",
       "      <td>0</td>\n",
       "      <td>480010</td>\n",
       "      <td>ImportGSOD</td>\n",
       "      <td>P.GSOD</td>\n",
       "      <td>PUTAO</td>\n",
       "      <td>mm</td>\n",
       "      <td>0.0</td>\n",
       "    </tr>\n",
       "    <tr>\n",
       "      <th>2017-01-07</th>\n",
       "      <td>0</td>\n",
       "      <td>480010</td>\n",
       "      <td>ImportGSOD</td>\n",
       "      <td>P.GSOD</td>\n",
       "      <td>PUTAO</td>\n",
       "      <td>mm</td>\n",
       "      <td>0.0</td>\n",
       "    </tr>\n",
       "    <tr>\n",
       "      <th>2017-01-09</th>\n",
       "      <td>0</td>\n",
       "      <td>480010</td>\n",
       "      <td>ImportGSOD</td>\n",
       "      <td>P.GSOD</td>\n",
       "      <td>PUTAO</td>\n",
       "      <td>mm</td>\n",
       "      <td>0.0</td>\n",
       "    </tr>\n",
       "    <tr>\n",
       "      <th>2017-01-10</th>\n",
       "      <td>0</td>\n",
       "      <td>480010</td>\n",
       "      <td>ImportGSOD</td>\n",
       "      <td>P.GSOD</td>\n",
       "      <td>PUTAO</td>\n",
       "      <td>mm</td>\n",
       "      <td>0.0</td>\n",
       "    </tr>\n",
       "    <tr>\n",
       "      <th>2017-01-11</th>\n",
       "      <td>0</td>\n",
       "      <td>480010</td>\n",
       "      <td>ImportGSOD</td>\n",
       "      <td>P.GSOD</td>\n",
       "      <td>PUTAO</td>\n",
       "      <td>mm</td>\n",
       "      <td>0.0</td>\n",
       "    </tr>\n",
       "  </tbody>\n",
       "</table>\n",
       "</div>"
      ],
      "text/plain": [
       "            flag  locationId    moduleId parameterId stationName units  value\n",
       "date                                                                         \n",
       "2017-01-06     0      480010  ImportGSOD      P.GSOD       PUTAO    mm    0.0\n",
       "2017-01-07     0      480010  ImportGSOD      P.GSOD       PUTAO    mm    0.0\n",
       "2017-01-09     0      480010  ImportGSOD      P.GSOD       PUTAO    mm    0.0\n",
       "2017-01-10     0      480010  ImportGSOD      P.GSOD       PUTAO    mm    0.0\n",
       "2017-01-11     0      480010  ImportGSOD      P.GSOD       PUTAO    mm    0.0"
      ]
     },
     "execution_count": 17,
     "metadata": {},
     "output_type": "execute_result"
    }
   ],
   "source": [
    "df.head()"
   ]
  },
  {
   "cell_type": "code",
   "execution_count": 18,
   "metadata": {},
   "outputs": [
    {
     "data": {
      "text/plain": [
       "<matplotlib.axes._subplots.AxesSubplot at 0xa66d898>"
      ]
     },
     "execution_count": 18,
     "metadata": {},
     "output_type": "execute_result"
    },
    {
     "data": {
      "image/png": "[encoded data removed]",
      "text/plain": [
       "<matplotlib.figure.Figure at 0xa66cf98>"
      ]
     },
     "metadata": {},
     "output_type": "display_data"
    }
   ],
   "source": [
    "df['value'].plot()"
   ]
  },
  {
   "cell_type": "code",
   "execution_count": null,
   "metadata": {},
   "outputs": [],
   "source": []
  }
 ],
 "metadata": {
  "kernelspec": {
   "display_name": "Python 3",
   "language": "python",
   "name": "python3"
  },
  "language_info": {
   "codemirror_mode": {
    "name": "ipython",
    "version": 3
   },
   "file_extension": ".py",
   "mimetype": "text/x-python",
   "name": "python",
   "nbconvert_exporter": "python",
   "pygments_lexer": "ipython3",
   "version": "3.6.5"
  }
 },
 "nbformat": 4,
 "nbformat_minor": 2
}
