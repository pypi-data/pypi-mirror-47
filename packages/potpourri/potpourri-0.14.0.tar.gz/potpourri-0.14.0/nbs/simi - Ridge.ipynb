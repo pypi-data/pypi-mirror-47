{
 "cells": [
  {
   "cell_type": "markdown",
   "metadata": {},
   "source": [
    "# Ridge Regression (L2 penalty)\n",
    "* `simi6` -- Ridge, SAGA\n",
    "* `simi7` -- Ridge, SAG\n",
    "* `simi8` -- Ridge, CG\n",
    "* `simi9` -- Ridge, LSQR\n",
    "* `simi10` -- Ridge, SVD\n",
    "* `simi11` -- Ridge, SGD\n"
   ]
  },
  {
   "cell_type": "code",
   "execution_count": 1,
   "metadata": {},
   "outputs": [],
   "source": [
    "# add path\n",
    "import sys; import os; sys.path.append(os.path.realpath(\"../\"))\n",
    "\n",
    "# general hyperparameter optimization settings\n",
    "from seasalt import (select_the_best, refit_model) \n",
    "from seasalt.si import (cv_settings, scorerfun, print_scores)\n",
    "from sklearn.model_selection import RandomizedSearchCV"
   ]
  },
  {
   "cell_type": "code",
   "execution_count": 2,
   "metadata": {},
   "outputs": [],
   "source": [
    "# demo datasets\n",
    "from datasets.demo2 import X_train, Y_train, fold_ids, X_valid, Y_valid, meta as meta_data\n",
    "#meta_data"
   ]
  },
  {
   "cell_type": "code",
   "execution_count": 3,
   "metadata": {},
   "outputs": [
    {
     "data": {
      "text/plain": [
       "{'id': 'simi11',\n",
       " 'name': 'LinReg Ridge',\n",
       " 'descriptions': 'Ridge Regression (L2 penalty), SGD solver, squared loss function.',\n",
       " 'solver': 'Stochastic Gradient Descent',\n",
       " 'active': True,\n",
       " 'keywords': ['linear regression',\n",
       "  'univariate regression',\n",
       "  'multiple regression',\n",
       "  'ridge',\n",
       "  'l2 penalty',\n",
       "  'sklearn.linear_model.SGDRegressor'],\n",
       " 'output_num': 'single',\n",
       " 'output_scale': 'interval',\n",
       " 'output_dtype': 'float',\n",
       " 'input_num': 'multi',\n",
       " 'input_scale': 'interval',\n",
       " 'input_dtype': 'float'}"
      ]
     },
     "execution_count": 3,
     "metadata": {},
     "output_type": "execute_result"
    }
   ],
   "source": [
    "# model implementations\n",
    "#from potpourri.simi6 import model, hyper, meta  # SAGA\n",
    "#from potpourri.simi7 import model, hyper, meta  # SAG\n",
    "#from potpourri.simi8 import model, hyper, meta  # CG\n",
    "#from potpourri.simi9 import model, hyper, meta  # LSQR\n",
    "#from potpourri.simi10 import model, hyper, meta  # SVD\n",
    "from potpourri.simi11 import model, hyper, meta  # SGD\n",
    "meta"
   ]
  },
  {
   "cell_type": "markdown",
   "metadata": {},
   "source": [
    "## Train"
   ]
  },
  {
   "cell_type": "code",
   "execution_count": 4,
   "metadata": {},
   "outputs": [
    {
     "name": "stderr",
     "output_type": "stream",
     "text": [
      "/Users/uh/cfs/venv-3.6.2/lib/python3.6/site-packages/sklearn/model_selection/_search.py:841: DeprecationWarning: The default of the `iid` parameter will change from True to False in version 0.22 and will be removed in 0.24. This will change numeric results when test-set sizes are unequal.\n",
      "  DeprecationWarning)\n"
     ]
    },
    {
     "name": "stdout",
     "output_type": "stream",
     "text": [
      "CPU times: user 1.34 s, sys: 261 ms, total: 1.6 s\n",
      "Wall time: 44.8 s\n"
     ]
    }
   ],
   "source": [
    "%%time\n",
    "rscv = RandomizedSearchCV(**{'estimator': model, 'param_distributions': hyper}, **cv_settings)\n",
    "rscv.fit(X = X_train, y = Y_train)  # Run CV\n",
    "\n",
    "bestparam, summary = select_the_best(rscv)  # find the \"best\" parameters\n",
    "bestmodel = refit_model(model, bestparam, X_train, Y_train)  # Refit the \"best\" model"
   ]
  },
  {
   "cell_type": "code",
   "execution_count": 5,
   "metadata": {},
   "outputs": [],
   "source": [
    "#rscv.cv_results_"
   ]
  },
  {
   "cell_type": "markdown",
   "metadata": {},
   "source": [
    "## Evaluate"
   ]
  },
  {
   "cell_type": "code",
   "execution_count": 7,
   "metadata": {},
   "outputs": [
    {
     "name": "stdout",
     "output_type": "stream",
     "text": [
      "Infer/predict on validation set\n",
      "\n",
      "Out of sample score\n",
      "0.4769217854551948\n",
      "\n",
      "Out of sample score (Other metrics)\n",
      "  Mean Squared Error:    2823.7372\n",
      " Mean Absolute Error:      41.7882\n",
      "    Median Abs Error:      37.1109\n",
      "           R Squared:      -0.1085\n",
      "  Explained Variance:      -0.0978\n",
      "\n",
      "Best model parameters\n",
      "{'lin__alpha': 0.1255951729129307}\n",
      "\n",
      "In-sample scores and model variants (from CV)\n"
     ]
    },
    {
     "data": {
      "text/html": [
       "<div>\n",
       "<style scoped>\n",
       "    .dataframe tbody tr th:only-of-type {\n",
       "        vertical-align: middle;\n",
       "    }\n",
       "\n",
       "    .dataframe tbody tr th {\n",
       "        vertical-align: top;\n",
       "    }\n",
       "\n",
       "    .dataframe thead th {\n",
       "        text-align: right;\n",
       "    }\n",
       "</style>\n",
       "<table border=\"1\" class=\"dataframe\">\n",
       "  <thead>\n",
       "    <tr style=\"text-align: right;\">\n",
       "      <th></th>\n",
       "      <th>lin__alpha</th>\n",
       "      <th>cvratio</th>\n",
       "      <th>rank_test_score</th>\n",
       "      <th>mean_test_score</th>\n",
       "      <th>std_test_score</th>\n",
       "      <th>mean_fit_time</th>\n",
       "      <th>std_fit_time</th>\n",
       "    </tr>\n",
       "  </thead>\n",
       "  <tbody>\n",
       "    <tr>\n",
       "      <th>32</th>\n",
       "      <td>0.125595</td>\n",
       "      <td>3.824619</td>\n",
       "      <td>5</td>\n",
       "      <td>0.454577</td>\n",
       "      <td>0.118856</td>\n",
       "      <td>0.297727</td>\n",
       "      <td>0.012358</td>\n",
       "    </tr>\n",
       "    <tr>\n",
       "      <th>11</th>\n",
       "      <td>0.095470</td>\n",
       "      <td>3.807157</td>\n",
       "      <td>4</td>\n",
       "      <td>0.454647</td>\n",
       "      <td>0.119419</td>\n",
       "      <td>0.642356</td>\n",
       "      <td>0.077006</td>\n",
       "    </tr>\n",
       "    <tr>\n",
       "      <th>43</th>\n",
       "      <td>0.066700</td>\n",
       "      <td>3.786800</td>\n",
       "      <td>3</td>\n",
       "      <td>0.454676</td>\n",
       "      <td>0.120069</td>\n",
       "      <td>0.219828</td>\n",
       "      <td>0.037929</td>\n",
       "    </tr>\n",
       "    <tr>\n",
       "      <th>30</th>\n",
       "      <td>0.044428</td>\n",
       "      <td>3.748421</td>\n",
       "      <td>1</td>\n",
       "      <td>0.455931</td>\n",
       "      <td>0.121633</td>\n",
       "      <td>0.261117</td>\n",
       "      <td>0.019625</td>\n",
       "    </tr>\n",
       "    <tr>\n",
       "      <th>19</th>\n",
       "      <td>0.016628</td>\n",
       "      <td>3.744804</td>\n",
       "      <td>2</td>\n",
       "      <td>0.454676</td>\n",
       "      <td>0.121415</td>\n",
       "      <td>0.301921</td>\n",
       "      <td>0.012269</td>\n",
       "    </tr>\n",
       "  </tbody>\n",
       "</table>\n",
       "</div>"
      ],
      "text/plain": [
       "    lin__alpha   cvratio  rank_test_score  mean_test_score  std_test_score  \\\n",
       "32    0.125595  3.824619                5         0.454577        0.118856   \n",
       "11    0.095470  3.807157                4         0.454647        0.119419   \n",
       "43    0.066700  3.786800                3         0.454676        0.120069   \n",
       "30    0.044428  3.748421                1         0.455931        0.121633   \n",
       "19    0.016628  3.744804                2         0.454676        0.121415   \n",
       "\n",
       "    mean_fit_time  std_fit_time  \n",
       "32       0.297727      0.012358  \n",
       "11       0.642356      0.077006  \n",
       "43       0.219828      0.037929  \n",
       "30       0.261117      0.019625  \n",
       "19       0.301921      0.012269  "
      ]
     },
     "execution_count": 7,
     "metadata": {},
     "output_type": "execute_result"
    }
   ],
   "source": [
    "print(\"Infer/predict on validation set\")\n",
    "Y_pred = bestmodel.predict(X_valid)\n",
    "\n",
    "print(\"\\nOut of sample score\")\n",
    "print(scorerfun(Y_valid, Y_pred))\n",
    "\n",
    "print(\"\\nOut of sample score (Other metrics)\")\n",
    "print_scores(Y_pred, Y_valid)\n",
    "\n",
    "print(\"\\nBest model parameters\")\n",
    "print(bestparam)\n",
    "\n",
    "print(\"\\nIn-sample scores and model variants (from CV)\")\n",
    "summary"
   ]
  },
  {
   "cell_type": "markdown",
   "metadata": {},
   "source": [
    "### Parameters"
   ]
  },
  {
   "cell_type": "code",
   "execution_count": 8,
   "metadata": {},
   "outputs": [
    {
     "data": {
      "text/plain": [
       "array([  1.97920085,  -9.8310983 ,  25.42821873,  13.941222  ,\n",
       "        -6.21800088,  -2.63842447, -11.47596608,   6.47466334,\n",
       "        16.1917952 ,   5.03698365])"
      ]
     },
     "execution_count": 8,
     "metadata": {},
     "output_type": "execute_result"
    }
   ],
   "source": [
    "bestmodel.steps[1][1].coef_"
   ]
  },
  {
   "cell_type": "markdown",
   "metadata": {},
   "source": [
    "### Target vs Predicted"
   ]
  },
  {
   "cell_type": "code",
   "execution_count": 9,
   "metadata": {},
   "outputs": [
    {
     "data": {
      "image/png": "[encoded data removed]",
      "text/plain": [
       "<Figure size 432x432 with 1 Axes>"
      ]
     },
     "metadata": {
      "needs_background": "light"
     },
     "output_type": "display_data"
    }
   ],
   "source": [
    "import numpy as np\n",
    "import matplotlib.pyplot as plt\n",
    "%matplotlib inline\n",
    "\n",
    "plt.figure(figsize=(6,6))\n",
    "plt.scatter(y=Y_pred, x=Y_valid);\n",
    "#plt.scatter(x=np.log(Y_pred), y=np.log(Y_valid));\n",
    "plt.xlabel('target');\n",
    "plt.ylabel('predicted');"
   ]
  },
  {
   "cell_type": "markdown",
   "metadata": {},
   "source": [
    "## Debug, Memory, Misc"
   ]
  },
  {
   "cell_type": "code",
   "execution_count": 10,
   "metadata": {},
   "outputs": [
    {
     "name": "stdout",
     "output_type": "stream",
     "text": [
      "Variable             Type                  Data/Info\n",
      "----------------------------------------------------\n",
      "RandomizedSearchCV   ABCMeta               <class 'sklearn.model_sel<...>arch.RandomizedSearchCV'>\n",
      "X_train              ndarray               309x10: 3090 elems, type `float64`, 24720 bytes\n",
      "X_valid              ndarray               133x10: 1330 elems, type `float64`, 10640 bytes\n",
      "Y_pred               ndarray               133: 133 elems, type `float64`, 1064 bytes\n",
      "Y_train              ndarray               309: 309 elems, type `float64`, 2472 bytes\n",
      "Y_valid              ndarray               133: 133 elems, type `float64`, 1064 bytes\n",
      "bestmodel            Pipeline              Pipeline(memory=None,\\n  <...>se=0, warm_start=True))])\n",
      "bestparam            dict                  n=1\n",
      "cv_settings          dict                  n=6\n",
      "fold_ids             ndarray               309: 309 elems, type `int64`, 2472 bytes\n",
      "hyper                dict                  n=1\n",
      "meta                 dict                  n=12\n",
      "meta_data            dict                  n=14\n",
      "model                Pipeline              Pipeline(memory=None,\\n  <...>se=0, warm_start=True))])\n",
      "np                   module                <module 'numpy' from '/Us<...>kages/numpy/__init__.py'>\n",
      "os                   module                <module 'os' from '/Users<...>6.2/lib/python3.6/os.py'>\n",
      "plt                  module                <module 'matplotlib.pyplo<...>es/matplotlib/pyplot.py'>\n",
      "print_scores         function              <function print_scores at 0x1189ddf28>\n",
      "refit_model          function              <function refit_model at 0x116ce0ae8>\n",
      "rscv                 RandomizedSearchCV    RandomizedSearchCV(cv=5, <...>e),\\n          verbose=0)\n",
      "scorerfun            function              <function r2_score at 0x11a1c37b8>\n",
      "select_the_best      function              <function select_the_best at 0x116d4d598>\n",
      "summary              DataFrame                 lin__alpha   cvratio <...> 0.301921      0.012269  \n",
      "sys                  module                <module 'sys' (built-in)>\n"
     ]
    }
   ],
   "source": [
    "#del summary\n",
    "#locals()\n",
    "%whos"
   ]
  },
  {
   "cell_type": "code",
   "execution_count": null,
   "metadata": {},
   "outputs": [],
   "source": []
  }
 ],
 "metadata": {
  "kernelspec": {
   "display_name": "Python 3",
   "language": "python",
   "name": "python3"
  },
  "language_info": {
   "codemirror_mode": {
    "name": "ipython",
    "version": 3
   },
   "file_extension": ".py",
   "mimetype": "text/x-python",
   "name": "python",
   "nbconvert_exporter": "python",
   "pygments_lexer": "ipython3",
   "version": "3.6.2"
  }
 },
 "nbformat": 4,
 "nbformat_minor": 2
}
