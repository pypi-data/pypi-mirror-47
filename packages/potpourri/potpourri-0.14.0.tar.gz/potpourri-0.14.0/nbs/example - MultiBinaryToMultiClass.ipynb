{
 "cells": [
  {
   "cell_type": "markdown",
   "metadata": {},
   "source": [
    "# MultiBinaryToMultiClass"
   ]
  },
  {
   "cell_type": "code",
   "execution_count": 1,
   "metadata": {},
   "outputs": [],
   "source": [
    "%load_ext autoreload\n",
    "%autoreload 2"
   ]
  },
  {
   "cell_type": "code",
   "execution_count": 2,
   "metadata": {},
   "outputs": [],
   "source": [
    "import sys\n",
    "sys.path.append(\"../\")"
   ]
  },
  {
   "cell_type": "markdown",
   "metadata": {},
   "source": [
    "## Generate some fake data"
   ]
  },
  {
   "cell_type": "code",
   "execution_count": 3,
   "metadata": {},
   "outputs": [
    {
     "data": {
      "text/plain": [
       "array([[1, 1, 1, 1, 1],\n",
       "       [1, 1, 1, 0, 1],\n",
       "       [1, 1, 0, 1, 1],\n",
       "       ...,\n",
       "       [1, 1, 1, 0, 1],\n",
       "       [1, 1, 1, 1, 1],\n",
       "       [0, 1, 1, 0, 1]])"
      ]
     },
     "execution_count": 3,
     "metadata": {},
     "output_type": "execute_result"
    }
   ],
   "source": [
    "import numpy as np\n",
    "Y = (np.random.random((1000, 5)) > 0.3).astype(int)\n",
    "Y"
   ]
  },
  {
   "cell_type": "markdown",
   "metadata": {},
   "source": [
    "## Convert Multi-Binary to Multi-Class"
   ]
  },
  {
   "cell_type": "code",
   "execution_count": 4,
   "metadata": {},
   "outputs": [],
   "source": [
    "from seasalt import MultiBinaryToMultiClass\n",
    "\n",
    "obj = MultiBinaryToMultiClass()\n",
    "obj.fit(Y)\n",
    "Y_class = obj.transform(Y)\n",
    "Y_back = obj.inverse_transform(Y_class)"
   ]
  },
  {
   "cell_type": "code",
   "execution_count": 5,
   "metadata": {},
   "outputs": [
    {
     "name": "stdout",
     "output_type": "stream",
     "text": [
      "True\n"
     ]
    }
   ],
   "source": [
    "print(np.all(Y_back == Y))"
   ]
  },
  {
   "cell_type": "code",
   "execution_count": 6,
   "metadata": {},
   "outputs": [
    {
     "data": {
      "text/plain": [
       "array([[<matplotlib.axes._subplots.AxesSubplot object at 0x113ec5a90>]],\n",
       "      dtype=object)"
      ]
     },
     "execution_count": 6,
     "metadata": {},
     "output_type": "execute_result"
    },
    {
     "data": {
      "image/png": "[encoded data removed]",
      "text/plain": [
       "<Figure size 432x288 with 1 Axes>"
      ]
     },
     "metadata": {
      "needs_background": "light"
     },
     "output_type": "display_data"
    }
   ],
   "source": [
    "import pandas as pd\n",
    "%matplotlib inline\n",
    "pd.DataFrame(data=Y_class).hist()"
   ]
  },
  {
   "cell_type": "code",
   "execution_count": 7,
   "metadata": {},
   "outputs": [
    {
     "name": "stdout",
     "output_type": "stream",
     "text": [
      "Counter({31: 173, 15: 79, 29: 78, 23: 69, 30: 61, 27: 55, 11: 38, 26: 37, 28: 36, 14: 35, 19: 35, 21: 33, 7: 33, 25: 29, 22: 24, 13: 23, 3: 20, 12: 17, 6: 15, 17: 15, 18: 13, 20: 13, 5: 12, 24: 11, 1: 10, 10: 7, 8: 6, 9: 6, 0: 5, 2: 4, 4: 4, 16: 4})\n"
     ]
    }
   ],
   "source": [
    "from collections import Counter\n",
    "print(Counter(Y_class))"
   ]
  },
  {
   "cell_type": "code",
   "execution_count": 8,
   "metadata": {},
   "outputs": [
    {
     "name": "stdout",
     "output_type": "stream",
     "text": [
      "{0: 6.25, 1: 3.125, 2: 7.8125, 3: 1.5625, 4: 7.8125, 5: 2.6041666666666665, 6: 2.0833333333333335, 7: 0.946969696969697, 8: 5.208333333333333, 9: 5.208333333333333, 10: 4.464285714285714, 11: 0.8223684210526315, 12: 1.838235294117647, 13: 1.358695652173913, 14: 0.8928571428571429, 15: 0.39556962025316456, 16: 7.8125, 17: 2.0833333333333335, 18: 2.4038461538461537, 19: 0.8928571428571429, 20: 2.4038461538461537, 21: 0.946969696969697, 22: 1.3020833333333333, 23: 0.4528985507246377, 24: 2.840909090909091, 25: 1.0775862068965518, 26: 0.8445945945945946, 27: 0.5681818181818182, 28: 0.8680555555555556, 29: 0.40064102564102566, 30: 0.5122950819672131, 31: 0.18063583815028902}\n"
     ]
    }
   ],
   "source": [
    "from sklearn.utils import class_weight\n",
    "class_weights = dict(enumerate(class_weight.compute_class_weight(\n",
    "    'balanced', np.unique(Y_class), Y_class)))\n",
    "print(class_weights)"
   ]
  },
  {
   "cell_type": "code",
   "execution_count": null,
   "metadata": {},
   "outputs": [],
   "source": []
  }
 ],
 "metadata": {
  "kernelspec": {
   "display_name": "Python 3",
   "language": "python",
   "name": "python3"
  },
  "language_info": {
   "codemirror_mode": {
    "name": "ipython",
    "version": 3
   },
   "file_extension": ".py",
   "mimetype": "text/x-python",
   "name": "python",
   "nbconvert_exporter": "python",
   "pygments_lexer": "ipython3",
   "version": "3.6.2"
  }
 },
 "nbformat": 4,
 "nbformat_minor": 2
}
