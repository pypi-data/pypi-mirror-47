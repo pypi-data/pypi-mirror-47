{
 "cells": [
  {
   "cell_type": "markdown",
   "metadata": {},
   "source": [
    "# Lasso Regression (L1 penalty)\n",
    "* `simi1` -- Lasso, Coordinate Descent\n",
    "* `simi2` -- Lasso, LARS\n",
    "* `simi3` -- Lasso, SGD\n",
    "* `simi12` -- Lasso, LARS, IC-based model selection\n"
   ]
  },
  {
   "cell_type": "code",
   "execution_count": 1,
   "metadata": {},
   "outputs": [],
   "source": [
    "# add path\n",
    "import sys; import os; sys.path.append(os.path.realpath(\"../\"))\n",
    "\n",
    "# general hyperparameter optimization settings\n",
    "from seasalt import (select_the_best, refit_model) \n",
    "from seasalt.si import (cv_settings, scorerfun, print_scores)\n",
    "from sklearn.model_selection import RandomizedSearchCV"
   ]
  },
  {
   "cell_type": "code",
   "execution_count": 2,
   "metadata": {},
   "outputs": [],
   "source": [
    "# demo datasets\n",
    "from datasets.demo2 import X_train, Y_train, fold_ids, X_valid, Y_valid, meta as meta_data\n",
    "#meta_data"
   ]
  },
  {
   "cell_type": "code",
   "execution_count": 3,
   "metadata": {},
   "outputs": [
    {
     "name": "stdout",
     "output_type": "stream",
     "text": [
      "The history saving thread hit an unexpected error (OperationalError('database is locked',)).History will not be written to the database.\n"
     ]
    },
    {
     "data": {
      "text/plain": [
       "{'id': 'simi12',\n",
       " 'name': 'LinReg Lasso IC',\n",
       " 'descriptions': 'Lasso Regression (L1 penalty), LARS solver, Autoselect l1 penalty based on information criteria aic or bic',\n",
       " 'solver': 'Least Angle Regression (LARS)',\n",
       " 'active': True,\n",
       " 'keywords': ['linear regression',\n",
       "  'univariate regression',\n",
       "  'multiple regression',\n",
       "  'model selection',\n",
       "  'LassoLarsIC'],\n",
       " 'output_num': 'single',\n",
       " 'output_scale': 'interval',\n",
       " 'output_dtype': 'float',\n",
       " 'input_num': 'multi',\n",
       " 'input_scale': 'interval',\n",
       " 'input_dtype': 'float'}"
      ]
     },
     "execution_count": 3,
     "metadata": {},
     "output_type": "execute_result"
    }
   ],
   "source": [
    "# model implementations\n",
    "#from potpourri.simi1 import model, hyper, meta  # Coordinate Descent\n",
    "#from potpourri.simi2 import model, hyper, meta  # LARS\n",
    "#from potpourri.simi3 import model, hyper, meta  # SGD\n",
    "from potpourri.simi12 import model, hyper, meta  # LARS\n",
    "meta"
   ]
  },
  {
   "cell_type": "markdown",
   "metadata": {},
   "source": [
    "## Train"
   ]
  },
  {
   "cell_type": "code",
   "execution_count": 4,
   "metadata": {},
   "outputs": [
    {
     "name": "stderr",
     "output_type": "stream",
     "text": [
      "/Users/uh/cfs/venv-3.6.2/lib/python3.6/site-packages/sklearn/model_selection/_search.py:271: UserWarning: The total space of parameters 2 is smaller than n_iter=50. Running 2 iterations. For exhaustive searches, use GridSearchCV.\n",
      "  % (grid_size, self.n_iter, grid_size), UserWarning)\n",
      "/Users/uh/cfs/venv-3.6.2/lib/python3.6/site-packages/sklearn/model_selection/_search.py:841: DeprecationWarning: The default of the `iid` parameter will change from True to False in version 0.22 and will be removed in 0.24. This will change numeric results when test-set sizes are unequal.\n",
      "  DeprecationWarning)\n"
     ]
    },
    {
     "name": "stdout",
     "output_type": "stream",
     "text": [
      "CPU times: user 227 ms, sys: 93.2 ms, total: 320 ms\n",
      "Wall time: 16.4 s\n"
     ]
    }
   ],
   "source": [
    "%%time\n",
    "rscv = RandomizedSearchCV(**{'estimator': model, 'param_distributions': hyper}, **cv_settings)\n",
    "rscv.fit(X = X_train, y = Y_train)  # Run CV\n",
    "\n",
    "bestparam, summary = select_the_best(rscv)  # find the \"best\" parameters\n",
    "bestmodel = refit_model(model, bestparam, X_train, Y_train)  # Refit the \"best\" model"
   ]
  },
  {
   "cell_type": "code",
   "execution_count": 5,
   "metadata": {},
   "outputs": [],
   "source": [
    "#rscv.cv_results_"
   ]
  },
  {
   "cell_type": "markdown",
   "metadata": {},
   "source": [
    "## Evaluate"
   ]
  },
  {
   "cell_type": "code",
   "execution_count": 7,
   "metadata": {},
   "outputs": [
    {
     "name": "stdout",
     "output_type": "stream",
     "text": [
      "Infer/predict on validation set\n",
      "\n",
      "Out of sample score\n",
      "0.48068585526008345\n",
      "\n",
      "Out of sample score (Other metrics)\n",
      "  Mean Squared Error:    2803.4176\n",
      " Mean Absolute Error:      42.1918\n",
      "    Median Abs Error:      33.4632\n",
      "           R Squared:      -0.1806\n",
      "  Explained Variance:      -0.1764\n",
      "\n",
      "Best model parameters\n",
      "{'lin__criterion': 'bic'}\n",
      "\n",
      "In-sample scores and model variants (from CV)\n"
     ]
    },
    {
     "data": {
      "text/html": [
       "<div>\n",
       "<style scoped>\n",
       "    .dataframe tbody tr th:only-of-type {\n",
       "        vertical-align: middle;\n",
       "    }\n",
       "\n",
       "    .dataframe tbody tr th {\n",
       "        vertical-align: top;\n",
       "    }\n",
       "\n",
       "    .dataframe thead th {\n",
       "        text-align: right;\n",
       "    }\n",
       "</style>\n",
       "<table border=\"1\" class=\"dataframe\">\n",
       "  <thead>\n",
       "    <tr style=\"text-align: right;\">\n",
       "      <th></th>\n",
       "      <th>lin__criterion</th>\n",
       "      <th>cvratio</th>\n",
       "      <th>rank_test_score</th>\n",
       "      <th>mean_test_score</th>\n",
       "      <th>std_test_score</th>\n",
       "      <th>mean_fit_time</th>\n",
       "      <th>std_fit_time</th>\n",
       "    </tr>\n",
       "  </thead>\n",
       "  <tbody>\n",
       "    <tr>\n",
       "      <th>1</th>\n",
       "      <td>bic</td>\n",
       "      <td>4.214602</td>\n",
       "      <td>2</td>\n",
       "      <td>0.424302</td>\n",
       "      <td>0.100674</td>\n",
       "      <td>0.055289</td>\n",
       "      <td>0.026515</td>\n",
       "    </tr>\n",
       "    <tr>\n",
       "      <th>0</th>\n",
       "      <td>aic</td>\n",
       "      <td>4.070806</td>\n",
       "      <td>1</td>\n",
       "      <td>0.452416</td>\n",
       "      <td>0.111137</td>\n",
       "      <td>0.049043</td>\n",
       "      <td>0.028882</td>\n",
       "    </tr>\n",
       "  </tbody>\n",
       "</table>\n",
       "</div>"
      ],
      "text/plain": [
       "  lin__criterion   cvratio  rank_test_score  mean_test_score  std_test_score  \\\n",
       "1            bic  4.214602                2         0.424302        0.100674   \n",
       "0            aic  4.070806                1         0.452416        0.111137   \n",
       "\n",
       "   mean_fit_time  std_fit_time  \n",
       "1       0.055289      0.026515  \n",
       "0       0.049043      0.028882  "
      ]
     },
     "execution_count": 7,
     "metadata": {},
     "output_type": "execute_result"
    }
   ],
   "source": [
    "print(\"Infer/predict on validation set\")\n",
    "Y_pred = bestmodel.predict(X_valid)\n",
    "\n",
    "print(\"\\nOut of sample score\")\n",
    "print(scorerfun(Y_valid, Y_pred))\n",
    "\n",
    "print(\"\\nOut of sample score (Other metrics)\")\n",
    "print_scores(Y_pred, Y_valid)\n",
    "\n",
    "print(\"\\nBest model parameters\")\n",
    "print(bestparam)\n",
    "\n",
    "print(\"\\nIn-sample scores and model variants (from CV)\")\n",
    "summary"
   ]
  },
  {
   "cell_type": "markdown",
   "metadata": {},
   "source": [
    "### Parameters"
   ]
  },
  {
   "cell_type": "code",
   "execution_count": 8,
   "metadata": {},
   "outputs": [
    {
     "data": {
      "text/plain": [
       "array([  0.        ,  -5.39973101,  26.60096542,  14.67826247,\n",
       "         0.        ,   0.        , -11.71385667,   0.        ,\n",
       "        15.94066461,   0.        ])"
      ]
     },
     "execution_count": 8,
     "metadata": {},
     "output_type": "execute_result"
    }
   ],
   "source": [
    "bestmodel.steps[1][1].coef_"
   ]
  },
  {
   "cell_type": "markdown",
   "metadata": {},
   "source": [
    "### Target vs Predicted"
   ]
  },
  {
   "cell_type": "code",
   "execution_count": 9,
   "metadata": {},
   "outputs": [
    {
     "data": {
      "image/png": "[encoded data removed]",
      "text/plain": [
       "<Figure size 432x432 with 1 Axes>"
      ]
     },
     "metadata": {
      "needs_background": "light"
     },
     "output_type": "display_data"
    }
   ],
   "source": [
    "import numpy as np\n",
    "import matplotlib.pyplot as plt\n",
    "%matplotlib inline\n",
    "\n",
    "plt.figure(figsize=(6,6))\n",
    "plt.scatter(y=Y_pred, x=Y_valid);\n",
    "#plt.scatter(x=np.log(Y_pred), y=np.log(Y_valid));\n",
    "plt.xlabel('target');\n",
    "plt.ylabel('predicted');"
   ]
  },
  {
   "cell_type": "markdown",
   "metadata": {},
   "source": [
    "## Debug, Memory, Misc"
   ]
  },
  {
   "cell_type": "code",
   "execution_count": 10,
   "metadata": {},
   "outputs": [
    {
     "name": "stdout",
     "output_type": "stream",
     "text": [
      "Variable             Type                  Data/Info\n",
      "----------------------------------------------------\n",
      "RandomizedSearchCV   ABCMeta               <class 'sklearn.model_sel<...>arch.RandomizedSearchCV'>\n",
      "X_train              ndarray               309x10: 3090 elems, type `float64`, 24720 bytes\n",
      "X_valid              ndarray               133x10: 1330 elems, type `float64`, 10640 bytes\n",
      "Y_pred               ndarray               133: 133 elems, type `float64`, 1064 bytes\n",
      "Y_train              ndarray               309: 309 elems, type `float64`, 2472 bytes\n",
      "Y_valid              ndarray               133: 133 elems, type `float64`, 1064 bytes\n",
      "bestmodel            Pipeline              Pipeline(memory=None,\\n  <...>e=True, verbose=False))])\n",
      "bestparam            dict                  n=1\n",
      "cv_settings          dict                  n=6\n",
      "fold_ids             ndarray               309: 309 elems, type `int64`, 2472 bytes\n",
      "hyper                dict                  n=1\n",
      "meta                 dict                  n=12\n",
      "meta_data            dict                  n=14\n",
      "model                Pipeline              Pipeline(memory=None,\\n  <...>e=True, verbose=False))])\n",
      "np                   module                <module 'numpy' from '/Us<...>kages/numpy/__init__.py'>\n",
      "os                   module                <module 'os' from '/Users<...>6.2/lib/python3.6/os.py'>\n",
      "plt                  module                <module 'matplotlib.pyplo<...>es/matplotlib/pyplot.py'>\n",
      "print_scores         function              <function print_scores at 0x1188cdf28>\n",
      "refit_model          function              <function refit_model at 0x116bd0a60>\n",
      "rscv                 RandomizedSearchCV    RandomizedSearchCV(cv=5, <...>e),\\n          verbose=0)\n",
      "scorerfun            function              <function r2_score at 0x11a0517b8>\n",
      "select_the_best      function              <function select_the_best at 0x116c3b510>\n",
      "summary              DataFrame               lin__criterion   cvrati<...> 0.049043      0.028882  \n",
      "sys                  module                <module 'sys' (built-in)>\n"
     ]
    }
   ],
   "source": [
    "#del summary\n",
    "#locals()\n",
    "%whos"
   ]
  },
  {
   "cell_type": "code",
   "execution_count": null,
   "metadata": {},
   "outputs": [],
   "source": []
  }
 ],
 "metadata": {
  "kernelspec": {
   "display_name": "Python 3",
   "language": "python",
   "name": "python3"
  },
  "language_info": {
   "codemirror_mode": {
    "name": "ipython",
    "version": 3
   },
   "file_extension": ".py",
   "mimetype": "text/x-python",
   "name": "python",
   "nbconvert_exporter": "python",
   "pygments_lexer": "ipython3",
   "version": "3.6.2"
  }
 },
 "nbformat": 4,
 "nbformat_minor": 2
}
