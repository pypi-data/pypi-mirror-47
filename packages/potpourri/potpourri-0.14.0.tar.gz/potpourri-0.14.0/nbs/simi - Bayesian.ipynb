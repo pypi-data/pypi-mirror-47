{
 "cells": [
  {
   "cell_type": "markdown",
   "metadata": {},
   "source": [
    "# Bayesian Regression\n",
    "* `simi13` -- Bayesian Ridge Regression\n",
    "* `simi14` -- Automatic Relevance Determination\n"
   ]
  },
  {
   "cell_type": "code",
   "execution_count": 1,
   "metadata": {},
   "outputs": [],
   "source": [
    "# add path\n",
    "import sys; import os; sys.path.append(os.path.realpath(\"../\"))\n",
    "\n",
    "# general hyperparameter optimization settings\n",
    "from seasalt import (select_the_best, refit_model) \n",
    "from seasalt.si import (cv_settings, scorerfun, print_scores)\n",
    "from sklearn.model_selection import RandomizedSearchCV"
   ]
  },
  {
   "cell_type": "code",
   "execution_count": 2,
   "metadata": {},
   "outputs": [],
   "source": [
    "# demo datasets\n",
    "from datasets.demo2 import X_train, Y_train, fold_ids, X_valid, Y_valid, meta as meta_data\n",
    "#meta_data"
   ]
  },
  {
   "cell_type": "code",
   "execution_count": 3,
   "metadata": {},
   "outputs": [
    {
     "data": {
      "text/plain": [
       "{'id': 'simi14',\n",
       " 'name': 'LinReg ARD',\n",
       " 'descriptions': 'Automatic Relevance Determination',\n",
       " 'solver': 'Evidence Maximization',\n",
       " 'active': True,\n",
       " 'keywords': ['linear regression',\n",
       "  'univariate regression',\n",
       "  'multiple regression',\n",
       "  'bayesian regression',\n",
       "  'maximum likelihood estimation',\n",
       "  'automatic relevance determination',\n",
       "  'sparse bayesian learning and relevance vector machine',\n",
       "  'sklearn.linear_model.ARDRegression'],\n",
       " 'output_num': 'single',\n",
       " 'output_scale': 'interval',\n",
       " 'output_dtype': 'float',\n",
       " 'input_num': 'multi',\n",
       " 'input_scale': 'interval',\n",
       " 'input_dtype': 'float'}"
      ]
     },
     "execution_count": 3,
     "metadata": {},
     "output_type": "execute_result"
    }
   ],
   "source": [
    "# model implementations\n",
    "#from potpourri.simi13 import model, hyper, meta  # Bayesian Ridge Regression\n",
    "from potpourri.simi14 import model, hyper, meta  # Automatic Relevance Determination\n",
    "meta"
   ]
  },
  {
   "cell_type": "markdown",
   "metadata": {},
   "source": [
    "## Train"
   ]
  },
  {
   "cell_type": "code",
   "execution_count": 4,
   "metadata": {},
   "outputs": [
    {
     "name": "stderr",
     "output_type": "stream",
     "text": [
      "/Users/uh/cfs/venv-3.6.2/lib/python3.6/site-packages/sklearn/model_selection/_search.py:841: DeprecationWarning: The default of the `iid` parameter will change from True to False in version 0.22 and will be removed in 0.24. This will change numeric results when test-set sizes are unequal.\n",
      "  DeprecationWarning)\n"
     ]
    },
    {
     "name": "stdout",
     "output_type": "stream",
     "text": [
      "CPU times: user 3.45 s, sys: 604 ms, total: 4.05 s\n",
      "Wall time: 2min\n"
     ]
    }
   ],
   "source": [
    "%%time\n",
    "rscv = RandomizedSearchCV(**{'estimator': model, 'param_distributions': hyper}, **cv_settings)\n",
    "rscv.fit(X = X_train, y = Y_train)  # Run CV\n",
    "\n",
    "bestparam, summary = select_the_best(rscv)  # find the \"best\" parameters\n",
    "bestmodel = refit_model(model, bestparam, X_train, Y_train)  # Refit the \"best\" model"
   ]
  },
  {
   "cell_type": "code",
   "execution_count": 5,
   "metadata": {},
   "outputs": [],
   "source": [
    "#rscv.cv_results_"
   ]
  },
  {
   "cell_type": "markdown",
   "metadata": {},
   "source": [
    "## Evaluate"
   ]
  },
  {
   "cell_type": "code",
   "execution_count": 7,
   "metadata": {},
   "outputs": [
    {
     "name": "stdout",
     "output_type": "stream",
     "text": [
      "Infer/predict on validation set\n",
      "\n",
      "Out of sample score\n",
      "0.4835642748885446\n",
      "\n",
      "Out of sample score (Other metrics)\n",
      "  Mean Squared Error:    2787.8790\n",
      " Mean Absolute Error:      42.0426\n",
      "    Median Abs Error:      35.7410\n",
      "           R Squared:       0.0250\n",
      "  Explained Variance:       0.0297\n",
      "\n",
      "Best model parameters\n",
      "{'lin__alpha_1': 0.019885395716582228, 'lin__alpha_2': 0.00976311191712374, 'lin__lambda_1': 0.00401828801251301, 'lin__lambda_2': 0.0006567806580478288}\n",
      "\n",
      "In-sample scores and model variants (from CV)\n"
     ]
    },
    {
     "data": {
      "text/html": [
       "<div>\n",
       "<style scoped>\n",
       "    .dataframe tbody tr th:only-of-type {\n",
       "        vertical-align: middle;\n",
       "    }\n",
       "\n",
       "    .dataframe tbody tr th {\n",
       "        vertical-align: top;\n",
       "    }\n",
       "\n",
       "    .dataframe thead th {\n",
       "        text-align: right;\n",
       "    }\n",
       "</style>\n",
       "<table border=\"1\" class=\"dataframe\">\n",
       "  <thead>\n",
       "    <tr style=\"text-align: right;\">\n",
       "      <th></th>\n",
       "      <th>lin__alpha_1</th>\n",
       "      <th>lin__alpha_2</th>\n",
       "      <th>lin__lambda_1</th>\n",
       "      <th>lin__lambda_2</th>\n",
       "      <th>cvratio</th>\n",
       "      <th>rank_test_score</th>\n",
       "      <th>mean_test_score</th>\n",
       "      <th>std_test_score</th>\n",
       "      <th>mean_fit_time</th>\n",
       "      <th>std_fit_time</th>\n",
       "    </tr>\n",
       "  </thead>\n",
       "  <tbody>\n",
       "    <tr>\n",
       "      <th>20</th>\n",
       "      <td>0.019885</td>\n",
       "      <td>0.009763</td>\n",
       "      <td>0.004018</td>\n",
       "      <td>0.000657</td>\n",
       "      <td>3.855555</td>\n",
       "      <td>3</td>\n",
       "      <td>0.450360</td>\n",
       "      <td>0.116808</td>\n",
       "      <td>0.748870</td>\n",
       "      <td>0.165772</td>\n",
       "    </tr>\n",
       "    <tr>\n",
       "      <th>19</th>\n",
       "      <td>0.014752</td>\n",
       "      <td>0.000769</td>\n",
       "      <td>0.004439</td>\n",
       "      <td>0.001232</td>\n",
       "      <td>3.855102</td>\n",
       "      <td>4</td>\n",
       "      <td>0.450346</td>\n",
       "      <td>0.116818</td>\n",
       "      <td>0.722369</td>\n",
       "      <td>0.154778</td>\n",
       "    </tr>\n",
       "    <tr>\n",
       "      <th>30</th>\n",
       "      <td>0.016474</td>\n",
       "      <td>0.022643</td>\n",
       "      <td>0.003827</td>\n",
       "      <td>0.001166</td>\n",
       "      <td>3.854887</td>\n",
       "      <td>5</td>\n",
       "      <td>0.450344</td>\n",
       "      <td>0.116824</td>\n",
       "      <td>1.743430</td>\n",
       "      <td>0.316619</td>\n",
       "    </tr>\n",
       "    <tr>\n",
       "      <th>38</th>\n",
       "      <td>0.001565</td>\n",
       "      <td>0.006723</td>\n",
       "      <td>0.042440</td>\n",
       "      <td>0.002772</td>\n",
       "      <td>3.844882</td>\n",
       "      <td>2</td>\n",
       "      <td>0.450745</td>\n",
       "      <td>0.117232</td>\n",
       "      <td>7.882834</td>\n",
       "      <td>4.052614</td>\n",
       "    </tr>\n",
       "    <tr>\n",
       "      <th>44</th>\n",
       "      <td>0.011742</td>\n",
       "      <td>0.004890</td>\n",
       "      <td>0.027604</td>\n",
       "      <td>0.001480</td>\n",
       "      <td>3.843288</td>\n",
       "      <td>1</td>\n",
       "      <td>0.450834</td>\n",
       "      <td>0.117304</td>\n",
       "      <td>4.631264</td>\n",
       "      <td>0.754394</td>\n",
       "    </tr>\n",
       "  </tbody>\n",
       "</table>\n",
       "</div>"
      ],
      "text/plain": [
       "    lin__alpha_1  lin__alpha_2  lin__lambda_1  lin__lambda_2   cvratio  \\\n",
       "20      0.019885      0.009763       0.004018       0.000657  3.855555   \n",
       "19      0.014752      0.000769       0.004439       0.001232  3.855102   \n",
       "30      0.016474      0.022643       0.003827       0.001166  3.854887   \n",
       "38      0.001565      0.006723       0.042440       0.002772  3.844882   \n",
       "44      0.011742      0.004890       0.027604       0.001480  3.843288   \n",
       "\n",
       "    rank_test_score  mean_test_score  std_test_score  mean_fit_time  \\\n",
       "20                3         0.450360        0.116808       0.748870   \n",
       "19                4         0.450346        0.116818       0.722369   \n",
       "30                5         0.450344        0.116824       1.743430   \n",
       "38                2         0.450745        0.117232       7.882834   \n",
       "44                1         0.450834        0.117304       4.631264   \n",
       "\n",
       "    std_fit_time  \n",
       "20      0.165772  \n",
       "19      0.154778  \n",
       "30      0.316619  \n",
       "38      4.052614  \n",
       "44      0.754394  "
      ]
     },
     "execution_count": 7,
     "metadata": {},
     "output_type": "execute_result"
    }
   ],
   "source": [
    "print(\"Infer/predict on validation set\")\n",
    "Y_pred = bestmodel.predict(X_valid)\n",
    "\n",
    "print(\"\\nOut of sample score\")\n",
    "print(scorerfun(Y_valid, Y_pred))\n",
    "\n",
    "print(\"\\nOut of sample score (Other metrics)\")\n",
    "print_scores(Y_pred, Y_valid)\n",
    "\n",
    "print(\"\\nBest model parameters\")\n",
    "print(bestparam)\n",
    "\n",
    "print(\"\\nIn-sample scores and model variants (from CV)\")\n",
    "summary"
   ]
  },
  {
   "cell_type": "markdown",
   "metadata": {},
   "source": [
    "### Parameters"
   ]
  },
  {
   "cell_type": "code",
   "execution_count": 8,
   "metadata": {},
   "outputs": [
    {
     "data": {
      "text/plain": [
       "array([ 1.21253438e-02, -1.01558248e+01,  2.76228509e+01,  1.78656771e+01,\n",
       "       -4.53040279e+00, -1.23273428e-02, -1.41633341e+01,  1.39572539e-02,\n",
       "        1.97547487e+01,  2.33601035e-02])"
      ]
     },
     "execution_count": 8,
     "metadata": {},
     "output_type": "execute_result"
    }
   ],
   "source": [
    "bestmodel.steps[1][1].coef_"
   ]
  },
  {
   "cell_type": "markdown",
   "metadata": {},
   "source": [
    "### Target vs Predicted"
   ]
  },
  {
   "cell_type": "code",
   "execution_count": 9,
   "metadata": {},
   "outputs": [
    {
     "data": {
      "image/png": "[encoded data removed]",
      "text/plain": [
       "<Figure size 432x432 with 1 Axes>"
      ]
     },
     "metadata": {
      "needs_background": "light"
     },
     "output_type": "display_data"
    }
   ],
   "source": [
    "import numpy as np\n",
    "import matplotlib.pyplot as plt\n",
    "%matplotlib inline\n",
    "\n",
    "plt.figure(figsize=(6,6))\n",
    "plt.scatter(y=Y_pred, x=Y_valid);\n",
    "#plt.scatter(x=np.log(Y_pred), y=np.log(Y_valid));\n",
    "plt.xlabel('target');\n",
    "plt.ylabel('predicted');"
   ]
  },
  {
   "cell_type": "markdown",
   "metadata": {},
   "source": [
    "## Debug, Memory, Misc"
   ]
  },
  {
   "cell_type": "code",
   "execution_count": 10,
   "metadata": {},
   "outputs": [
    {
     "name": "stdout",
     "output_type": "stream",
     "text": [
      "Variable             Type                  Data/Info\n",
      "----------------------------------------------------\n",
      "RandomizedSearchCV   ABCMeta               <class 'sklearn.model_sel<...>arch.RandomizedSearchCV'>\n",
      "X_train              ndarray               309x10: 3090 elems, type `float64`, 24720 bytes\n",
      "X_valid              ndarray               133x10: 1330 elems, type `float64`, 10640 bytes\n",
      "Y_pred               ndarray               133: 133 elems, type `float64`, 1064 bytes\n",
      "Y_train              ndarray               309: 309 elems, type `float64`, 2472 bytes\n",
      "Y_valid              ndarray               133: 133 elems, type `float64`, 1064 bytes\n",
      "bestmodel            Pipeline              Pipeline(memory=None,\\n  <...>n       verbose=False))])\n",
      "bestparam            dict                  n=4\n",
      "cv_settings          dict                  n=6\n",
      "fold_ids             ndarray               309: 309 elems, type `int64`, 2472 bytes\n",
      "hyper                dict                  n=4\n",
      "meta                 dict                  n=12\n",
      "meta_data            dict                  n=14\n",
      "model                Pipeline              Pipeline(memory=None,\\n  <...>=0.001, verbose=False))])\n",
      "np                   module                <module 'numpy' from '/Us<...>kages/numpy/__init__.py'>\n",
      "os                   module                <module 'os' from '/Users<...>6.2/lib/python3.6/os.py'>\n",
      "plt                  module                <module 'matplotlib.pyplo<...>es/matplotlib/pyplot.py'>\n",
      "print_scores         function              <function print_scores at 0x112fdef28>\n",
      "refit_model          function              <function refit_model at 0x1112e0a60>\n",
      "rscv                 RandomizedSearchCV    RandomizedSearchCV(cv=5, <...>e),\\n          verbose=0)\n",
      "scorerfun            function              <function r2_score at 0x1147617b8>\n",
      "select_the_best      function              <function select_the_best at 0x11134b510>\n",
      "summary              DataFrame                 lin__alpha_1  lin__al<...>614  \\n44      0.754394  \n",
      "sys                  module                <module 'sys' (built-in)>\n"
     ]
    }
   ],
   "source": [
    "#del summary\n",
    "#locals()\n",
    "%whos"
   ]
  },
  {
   "cell_type": "code",
   "execution_count": null,
   "metadata": {},
   "outputs": [],
   "source": []
  }
 ],
 "metadata": {
  "kernelspec": {
   "display_name": "Python 3",
   "language": "python",
   "name": "python3"
  },
  "language_info": {
   "codemirror_mode": {
    "name": "ipython",
    "version": 3
   },
   "file_extension": ".py",
   "mimetype": "text/x-python",
   "name": "python",
   "nbconvert_exporter": "python",
   "pygments_lexer": "ipython3",
   "version": "3.6.2"
  }
 },
 "nbformat": 4,
 "nbformat_minor": 2
}
