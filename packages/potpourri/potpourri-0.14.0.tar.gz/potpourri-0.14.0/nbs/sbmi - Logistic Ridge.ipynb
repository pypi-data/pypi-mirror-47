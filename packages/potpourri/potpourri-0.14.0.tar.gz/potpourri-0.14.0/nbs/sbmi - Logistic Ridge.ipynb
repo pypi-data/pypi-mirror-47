{
 "cells": [
  {
   "cell_type": "markdown",
   "metadata": {},
   "source": [
    "# Logistic Regression, L2 penalty (Logistic Ridge)\n",
    "* `sbmi25` -- Logistic Ridge, SAG solver (LogisticRegression)\n",
    "* `sbmi58` -- Logistic Ridge, L-BFGS solver\n",
    "* `sbmi59` -- Logistic Ridge, Newton-CG solver\n",
    "* `sbmi60` -- Logistic Ridge, SGD solver\n",
    "* `sbmi93` -- Logistic Ridge, SAGA solver \n",
    "* `sbmi94` -- Logistic Ridge, SAG solver (RidgeClassifier)\n",
    "* `sbmi95` -- Logistic Ridge, CG solver \n",
    "* `sbmi96` -- Logistic Ridge, LSQR inverse \n",
    "* `sbmi97` -- Logistic Ridge, SVD inverse \n"
   ]
  },
  {
   "cell_type": "code",
   "execution_count": 1,
   "metadata": {},
   "outputs": [],
   "source": [
    "# add path\n",
    "import sys; import os; sys.path.append(os.path.realpath(\"../\"))\n",
    "\n",
    "# general hyperparameter optimization settings\n",
    "from seasalt import (select_the_best, refit_model) \n",
    "from seasalt.sb import (cv_settings, scorerfun, print_scores)\n",
    "from sklearn.model_selection import RandomizedSearchCV"
   ]
  },
  {
   "cell_type": "code",
   "execution_count": 2,
   "metadata": {},
   "outputs": [],
   "source": [
    "# demo datasets\n",
    "from datasets.demo1 import X_train, Y_train, fold_ids, X_valid, Y_valid, meta as meta_data\n",
    "#meta_data"
   ]
  },
  {
   "cell_type": "code",
   "execution_count": 3,
   "metadata": {},
   "outputs": [
    {
     "data": {
      "text/plain": [
       "{'id': 'sbmi60',\n",
       " 'name': 'Logistic Ridge',\n",
       " 'descriptions': 'Logistic Regression, L2 penalty (Ridge), SGD solver, standard-normal transformed features.',\n",
       " 'solver': 'Stochastic Gradient Descent (SGD)',\n",
       " 'active': True,\n",
       " 'keywords': ['binary classification', 'linear regression', 'SGDClassifier'],\n",
       " 'output_num': 'single',\n",
       " 'output_scale': 'binary',\n",
       " 'output_dtype': 'bool',\n",
       " 'input_num': 'multi',\n",
       " 'input_scale': 'interval',\n",
       " 'input_dtype': 'float'}"
      ]
     },
     "execution_count": 3,
     "metadata": {},
     "output_type": "execute_result"
    }
   ],
   "source": [
    "# model implementation\n",
    "#from potpourri.sbmi25 import model, hyper, meta  # SAG\n",
    "#from potpourri.sbmi58 import model, hyper, meta  # L-BFGS\n",
    "#from potpourri.sbmi59 import model, hyper, meta  # Newton-CG\n",
    "from potpourri.sbmi60 import model, hyper, meta  # SGD\n",
    "#from potpourri.sbmi93 import model, hyper, meta  # SAGA\n",
    "#from potpourri.sbmi94 import model, hyper, meta  # SAG, RidgeClassifier\n",
    "#from potpourri.sbmi95 import model, hyper, meta  # CG\n",
    "#from potpourri.sbmi96 import model, hyper, meta  # LSQR\n",
    "#from potpourri.sbmi97 import model, hyper, meta  # SVD\n",
    "meta"
   ]
  },
  {
   "cell_type": "markdown",
   "metadata": {},
   "source": [
    "## Train"
   ]
  },
  {
   "cell_type": "code",
   "execution_count": 4,
   "metadata": {},
   "outputs": [
    {
     "name": "stderr",
     "output_type": "stream",
     "text": [
      "/Users/uh/cfs/venv-3.6.2/lib/python3.6/site-packages/sklearn/model_selection/_search.py:841: DeprecationWarning: The default of the `iid` parameter will change from True to False in version 0.22 and will be removed in 0.24. This will change numeric results when test-set sizes are unequal.\n",
      "  DeprecationWarning)\n"
     ]
    },
    {
     "name": "stdout",
     "output_type": "stream",
     "text": [
      "CPU times: user 901 ms, sys: 148 ms, total: 1.05 s\n",
      "Wall time: 11.5 s\n"
     ]
    }
   ],
   "source": [
    "%%time\n",
    "rscv = RandomizedSearchCV(**{'estimator': model, 'param_distributions': hyper}, **cv_settings)\n",
    "rscv.fit(X = X_train, y = Y_train)  # Run CV\n",
    "\n",
    "bestparam, summary = select_the_best(rscv)  # find the \"best\" parameters\n",
    "bestmodel = refit_model(model, bestparam, X_train, Y_train)  # Refit the \"best\" model"
   ]
  },
  {
   "cell_type": "code",
   "execution_count": 5,
   "metadata": {},
   "outputs": [],
   "source": [
    "#rscv.cv_results_"
   ]
  },
  {
   "cell_type": "markdown",
   "metadata": {},
   "source": [
    "## Evaluate"
   ]
  },
  {
   "cell_type": "code",
   "execution_count": 6,
   "metadata": {},
   "outputs": [
    {
     "name": "stdout",
     "output_type": "stream",
     "text": [
      "Infer/predict on validation set\n",
      "\n",
      "Out of sample score\n",
      "0.9136643851522572\n",
      "\n",
      "Out of sample score (Other metrics)\n",
      "            Matthews: 0.913664\n",
      "           Accurancy: 0.969565\n",
      "             Jaccard: 0.959064\n",
      "             Hamming: 0.040936\n",
      "           Precision: 1.000000\n",
      "              Recall: 0.939130\n",
      "\n",
      "Best model parameters\n",
      "{'lin__alpha': 0.3452217433729583}\n",
      "\n",
      "In-sample scores and model variants (from CV)\n"
     ]
    },
    {
     "data": {
      "text/html": [
       "<div>\n",
       "<style scoped>\n",
       "    .dataframe tbody tr th:only-of-type {\n",
       "        vertical-align: middle;\n",
       "    }\n",
       "\n",
       "    .dataframe tbody tr th {\n",
       "        vertical-align: top;\n",
       "    }\n",
       "\n",
       "    .dataframe thead th {\n",
       "        text-align: right;\n",
       "    }\n",
       "</style>\n",
       "<table border=\"1\" class=\"dataframe\">\n",
       "  <thead>\n",
       "    <tr style=\"text-align: right;\">\n",
       "      <th></th>\n",
       "      <th>lin__alpha</th>\n",
       "      <th>cvratio</th>\n",
       "      <th>rank_test_score</th>\n",
       "      <th>mean_test_score</th>\n",
       "      <th>std_test_score</th>\n",
       "      <th>mean_fit_time</th>\n",
       "      <th>std_fit_time</th>\n",
       "    </tr>\n",
       "  </thead>\n",
       "  <tbody>\n",
       "    <tr>\n",
       "      <th>49</th>\n",
       "      <td>0.345222</td>\n",
       "      <td>44.036899</td>\n",
       "      <td>5</td>\n",
       "      <td>0.878848</td>\n",
       "      <td>0.019957</td>\n",
       "      <td>0.084287</td>\n",
       "      <td>0.008102</td>\n",
       "    </tr>\n",
       "    <tr>\n",
       "      <th>19</th>\n",
       "      <td>0.249595</td>\n",
       "      <td>38.359352</td>\n",
       "      <td>2</td>\n",
       "      <td>0.894944</td>\n",
       "      <td>0.023331</td>\n",
       "      <td>0.084305</td>\n",
       "      <td>0.005978</td>\n",
       "    </tr>\n",
       "    <tr>\n",
       "      <th>10</th>\n",
       "      <td>0.265310</td>\n",
       "      <td>38.359352</td>\n",
       "      <td>2</td>\n",
       "      <td>0.894944</td>\n",
       "      <td>0.023331</td>\n",
       "      <td>0.086006</td>\n",
       "      <td>0.008040</td>\n",
       "    </tr>\n",
       "    <tr>\n",
       "      <th>21</th>\n",
       "      <td>0.197711</td>\n",
       "      <td>34.374516</td>\n",
       "      <td>4</td>\n",
       "      <td>0.889121</td>\n",
       "      <td>0.025866</td>\n",
       "      <td>0.082133</td>\n",
       "      <td>0.002748</td>\n",
       "    </tr>\n",
       "    <tr>\n",
       "      <th>9</th>\n",
       "      <td>0.056110</td>\n",
       "      <td>30.417159</td>\n",
       "      <td>1</td>\n",
       "      <td>0.931430</td>\n",
       "      <td>0.030622</td>\n",
       "      <td>0.108880</td>\n",
       "      <td>0.015797</td>\n",
       "    </tr>\n",
       "  </tbody>\n",
       "</table>\n",
       "</div>"
      ],
      "text/plain": [
       "    lin__alpha    cvratio  rank_test_score  mean_test_score  std_test_score  \\\n",
       "49    0.345222  44.036899                5         0.878848        0.019957   \n",
       "19    0.249595  38.359352                2         0.894944        0.023331   \n",
       "10    0.265310  38.359352                2         0.894944        0.023331   \n",
       "21    0.197711  34.374516                4         0.889121        0.025866   \n",
       "9     0.056110  30.417159                1         0.931430        0.030622   \n",
       "\n",
       "    mean_fit_time  std_fit_time  \n",
       "49       0.084287      0.008102  \n",
       "19       0.084305      0.005978  \n",
       "10       0.086006      0.008040  \n",
       "21       0.082133      0.002748  \n",
       "9        0.108880      0.015797  "
      ]
     },
     "execution_count": 6,
     "metadata": {},
     "output_type": "execute_result"
    }
   ],
   "source": [
    "print(\"Infer/predict on validation set\")\n",
    "Y_pred = bestmodel.predict(X_valid)\n",
    "\n",
    "print(\"\\nOut of sample score\")\n",
    "print(scorerfun(Y_valid, Y_pred))\n",
    "\n",
    "print(\"\\nOut of sample score (Other metrics)\")\n",
    "print_scores(Y_pred, Y_valid)\n",
    "\n",
    "print(\"\\nBest model parameters\")\n",
    "print(bestparam)\n",
    "\n",
    "print(\"\\nIn-sample scores and model variants (from CV)\")\n",
    "summary"
   ]
  },
  {
   "cell_type": "code",
   "execution_count": 7,
   "metadata": {},
   "outputs": [
    {
     "data": {
      "text/plain": [
       "array([1, 0, 0, 1, 1, 0, 0, 0, 1, 1, 1, 0, 1, 0, 1, 0, 1, 1, 1, 0, 1, 1,\n",
       "       0, 1, 1, 1, 1, 1, 1, 0, 1, 1, 1, 1, 1, 1, 1, 1, 0, 1, 1, 0, 1, 1,\n",
       "       1, 1, 1, 1, 1, 1, 0, 0, 1, 1, 1, 1, 1, 0, 0, 1, 1, 0, 0, 1, 1, 1,\n",
       "       0, 0, 1, 1, 0, 0, 1, 0, 1, 1, 1, 1, 1, 1, 0, 1, 1, 0, 0, 0, 0, 0,\n",
       "       1, 1, 1, 1, 1, 1, 1, 1, 0, 0, 1, 0, 0, 1, 0, 0, 1, 1, 1, 0, 1, 1,\n",
       "       0, 1, 1, 0, 1, 0, 1, 1, 1, 0, 1, 1, 1, 0, 1, 0, 0, 1, 1, 0, 0, 0,\n",
       "       1, 1, 1, 0, 1, 1, 1, 0, 1, 0, 1, 1, 0, 1, 0, 0, 1, 1, 1, 1, 1, 1,\n",
       "       1, 0, 0, 1, 1, 1, 1, 1, 1, 1, 1, 1, 1, 1, 1, 0, 1])"
      ]
     },
     "execution_count": 7,
     "metadata": {},
     "output_type": "execute_result"
    }
   ],
   "source": [
    "Y_pred"
   ]
  },
  {
   "cell_type": "markdown",
   "metadata": {},
   "source": [
    "## Parameters"
   ]
  },
  {
   "cell_type": "code",
   "execution_count": 8,
   "metadata": {},
   "outputs": [
    {
     "data": {
      "text/plain": [
       "array([[-0.18167358, -0.15655443, -0.18152938, -0.16866058, -0.08632365,\n",
       "        -0.09248691, -0.14447016, -0.19729478, -0.05158211,  0.07148875,\n",
       "        -0.14105141,  0.00154973, -0.12182765, -0.11899139,  0.00043075,\n",
       "         0.00758878,  0.0158048 , -0.06808006,  0.03155044,  0.07057446,\n",
       "        -0.2025012 , -0.17834805, -0.19727723, -0.17868358, -0.1397241 ,\n",
       "        -0.12600209, -0.15949041, -0.20936091, -0.12966389, -0.04188578]])"
      ]
     },
     "execution_count": 8,
     "metadata": {},
     "output_type": "execute_result"
    }
   ],
   "source": [
    "bestmodel.steps[1][1].coef_"
   ]
  },
  {
   "cell_type": "markdown",
   "metadata": {},
   "source": [
    "## Debug, Memory, Misc"
   ]
  },
  {
   "cell_type": "code",
   "execution_count": 9,
   "metadata": {},
   "outputs": [
    {
     "name": "stdout",
     "output_type": "stream",
     "text": [
      "Variable             Type                  Data/Info\n",
      "----------------------------------------------------\n",
      "RandomizedSearchCV   ABCMeta               <class 'sklearn.model_sel<...>arch.RandomizedSearchCV'>\n",
      "X_train              ndarray               398x30: 11940 elems, type `float64`, 95520 bytes\n",
      "X_valid              ndarray               171x30: 5130 elems, type `float64`, 41040 bytes\n",
      "Y_pred               ndarray               171: 171 elems, type `int64`, 1368 bytes\n",
      "Y_train              ndarray               398: 398 elems, type `int64`, 3184 bytes\n",
      "Y_valid              ndarray               171: 171 elems, type `int64`, 1368 bytes\n",
      "bestmodel            Pipeline              Pipeline(memory=None,\\n  <...>se=0, warm_start=True))])\n",
      "bestparam            dict                  n=1\n",
      "cv_settings          dict                  n=6\n",
      "fold_ids             ndarray               398: 398 elems, type `int64`, 3184 bytes\n",
      "hyper                dict                  n=1\n",
      "meta                 dict                  n=12\n",
      "meta_data            dict                  n=14\n",
      "model                Pipeline              Pipeline(memory=None,\\n  <...>se=0, warm_start=True))])\n",
      "os                   module                <module 'os' from '/Users<...>6.2/lib/python3.6/os.py'>\n",
      "print_scores         function              <function print_scores at 0x11739d158>\n",
      "refit_model          function              <function refit_model at 0x111737a60>\n",
      "rscv                 RandomizedSearchCV    RandomizedSearchCV(cv=5, <...>n),\\n          verbose=0)\n",
      "scorerfun            function              <function scorerfun at 0x113434f28>\n",
      "select_the_best      function              <function select_the_best at 0x1117a2510>\n",
      "summary              DataFrame                 lin__alpha    cvratio<...> 0.108880      0.015797  \n",
      "sys                  module                <module 'sys' (built-in)>\n"
     ]
    }
   ],
   "source": [
    "#del summary\n",
    "#locals()\n",
    "%whos"
   ]
  },
  {
   "cell_type": "code",
   "execution_count": null,
   "metadata": {},
   "outputs": [],
   "source": []
  }
 ],
 "metadata": {
  "kernelspec": {
   "display_name": "Python 3",
   "language": "python",
   "name": "python3"
  },
  "language_info": {
   "codemirror_mode": {
    "name": "ipython",
    "version": 3
   },
   "file_extension": ".py",
   "mimetype": "text/x-python",
   "name": "python",
   "nbconvert_exporter": "python",
   "pygments_lexer": "ipython3",
   "version": "3.6.2"
  }
 },
 "nbformat": 4,
 "nbformat_minor": 2
}
