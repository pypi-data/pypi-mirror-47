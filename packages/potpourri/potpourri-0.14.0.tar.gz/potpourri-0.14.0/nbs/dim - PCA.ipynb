{
 "cells": [
  {
   "cell_type": "markdown",
   "metadata": {},
   "source": [
    "# Principal Component Analysis\n",
    "* `dim1` -- PCA with given number of components\n",
    "* `dim2` -- PCA Minka's MLE\n",
    "* `dim3` -- PCA required Explained Variance"
   ]
  },
  {
   "cell_type": "code",
   "execution_count": 1,
   "metadata": {},
   "outputs": [],
   "source": [
    "%load_ext autoreload\n",
    "%autoreload 2"
   ]
  },
  {
   "cell_type": "code",
   "execution_count": 2,
   "metadata": {},
   "outputs": [],
   "source": [
    "# add path\n",
    "import sys; import os; sys.path.append(os.path.realpath(\"../\"))"
   ]
  },
  {
   "cell_type": "code",
   "execution_count": 3,
   "metadata": {},
   "outputs": [],
   "source": [
    "# demo datasets\n",
    "from datasets.demo1 import X_train, Y_train, fold_ids, X_valid, Y_valid, meta as meta_data\n",
    "#meta_data"
   ]
  },
  {
   "cell_type": "code",
   "execution_count": 4,
   "metadata": {},
   "outputs": [],
   "source": [
    "# transformer implementations\n",
    "typ = 'dim4'\n",
    "\n",
    "if typ is 'dim1':\n",
    "    from verto.dim1 import trans, meta\n",
    "    trans.set_params(**{'pca__n_components': 3})\n",
    "elif typ is 'dim3':\n",
    "    from verto.dim3 import trans, meta\n",
    "    trans.set_params(**{'required_ev': 0.8})  # slowly increase from 0.1 towards 100%\n",
    "else:\n",
    "    tmp = __import__(\"verto.\"+typ, fromlist=['trans', 'meta'])\n",
    "    trans = tmp.trans\n",
    "    meta = tmp.meta"
   ]
  },
  {
   "cell_type": "code",
   "execution_count": 5,
   "metadata": {},
   "outputs": [
    {
     "data": {
      "text/plain": [
       "{'id': 'dim4',\n",
       " 'name': 'PCA BIC',\n",
       " 'description': 'Number of components is determined by fitting a Lasso-Logit model and minimize the BIC criteron.',\n",
       " 'keywords': ['dimensionality reduction',\n",
       "  'principal component anlysis',\n",
       "  'StandardScaler',\n",
       "  'PCA',\n",
       "  'BIC',\n",
       "  'Logistic Regression',\n",
       "  'statsmodels'],\n",
       " 'feature_names_prefix': 'dim_bic'}"
      ]
     },
     "execution_count": 5,
     "metadata": {},
     "output_type": "execute_result"
    }
   ],
   "source": [
    "meta"
   ]
  },
  {
   "cell_type": "markdown",
   "metadata": {},
   "source": [
    "## Transform"
   ]
  },
  {
   "cell_type": "code",
   "execution_count": 6,
   "metadata": {},
   "outputs": [
    {
     "name": "stdout",
     "output_type": "stream",
     "text": [
      "CPU times: user 127 ms, sys: 12 ms, total: 139 ms\n",
      "Wall time: 73.7 ms\n"
     ]
    }
   ],
   "source": [
    "%%time\n",
    "trans.fit(X_train, Y_train)"
   ]
  },
  {
   "cell_type": "code",
   "execution_count": 7,
   "metadata": {},
   "outputs": [
    {
     "name": "stdout",
     "output_type": "stream",
     "text": [
      "CPU times: user 1.3 ms, sys: 567 µs, total: 1.86 ms\n",
      "Wall time: 737 µs\n"
     ]
    }
   ],
   "source": [
    "%%time\n",
    "X_new = trans.transform(X_train)"
   ]
  },
  {
   "cell_type": "code",
   "execution_count": 8,
   "metadata": {},
   "outputs": [
    {
     "name": "stdout",
     "output_type": "stream",
     "text": [
      "['dim_bic_0', 'dim_bic_1', 'dim_bic_2', 'dim_bic_3', 'dim_bic_4', 'dim_bic_5']\n"
     ]
    }
   ],
   "source": [
    "from seasalt import create_feature_names\n",
    "feature_names = create_feature_names(meta['feature_names_prefix'], X_new.shape[1])\n",
    "print(feature_names)"
   ]
  },
  {
   "cell_type": "code",
   "execution_count": 9,
   "metadata": {},
   "outputs": [],
   "source": [
    "import pandas as pd\n",
    "df_new = pd.DataFrame(data=X_new, columns=feature_names)"
   ]
  },
  {
   "cell_type": "markdown",
   "metadata": {},
   "source": [
    "## Evaluate\n",
    "- check if the PCA components are \"good\" predictors\n",
    "- eyeball the p-values of the logistic regression coefficients"
   ]
  },
  {
   "cell_type": "code",
   "execution_count": 10,
   "metadata": {},
   "outputs": [
    {
     "data": {
      "text/html": [
       "<div>\n",
       "<style scoped>\n",
       "    .dataframe tbody tr th:only-of-type {\n",
       "        vertical-align: middle;\n",
       "    }\n",
       "\n",
       "    .dataframe tbody tr th {\n",
       "        vertical-align: top;\n",
       "    }\n",
       "\n",
       "    .dataframe thead th {\n",
       "        text-align: right;\n",
       "    }\n",
       "</style>\n",
       "<table border=\"1\" class=\"dataframe\">\n",
       "  <thead>\n",
       "    <tr style=\"text-align: right;\">\n",
       "      <th></th>\n",
       "      <th>dim_bic_0</th>\n",
       "      <th>dim_bic_1</th>\n",
       "      <th>dim_bic_2</th>\n",
       "      <th>dim_bic_3</th>\n",
       "      <th>dim_bic_4</th>\n",
       "      <th>dim_bic_5</th>\n",
       "    </tr>\n",
       "  </thead>\n",
       "  <tbody>\n",
       "    <tr>\n",
       "      <th>0</th>\n",
       "      <td>-3.083984</td>\n",
       "      <td>-2.158203</td>\n",
       "      <td>-0.339844</td>\n",
       "      <td>-0.216675</td>\n",
       "      <td>1.544922</td>\n",
       "      <td>0.258057</td>\n",
       "    </tr>\n",
       "    <tr>\n",
       "      <th>1</th>\n",
       "      <td>-2.183594</td>\n",
       "      <td>-0.617676</td>\n",
       "      <td>0.447266</td>\n",
       "      <td>-0.150879</td>\n",
       "      <td>2.859375</td>\n",
       "      <td>-0.353027</td>\n",
       "    </tr>\n",
       "    <tr>\n",
       "      <th>2</th>\n",
       "      <td>2.050781</td>\n",
       "      <td>2.328125</td>\n",
       "      <td>1.168945</td>\n",
       "      <td>-1.814453</td>\n",
       "      <td>-0.115601</td>\n",
       "      <td>0.280762</td>\n",
       "    </tr>\n",
       "    <tr>\n",
       "      <th>3</th>\n",
       "      <td>-2.808594</td>\n",
       "      <td>-0.950684</td>\n",
       "      <td>-0.305176</td>\n",
       "      <td>-0.380859</td>\n",
       "      <td>0.546875</td>\n",
       "      <td>1.203125</td>\n",
       "    </tr>\n",
       "    <tr>\n",
       "      <th>4</th>\n",
       "      <td>-1.913086</td>\n",
       "      <td>-1.072266</td>\n",
       "      <td>0.498291</td>\n",
       "      <td>1.311523</td>\n",
       "      <td>-0.204224</td>\n",
       "      <td>0.064941</td>\n",
       "    </tr>\n",
       "  </tbody>\n",
       "</table>\n",
       "</div>"
      ],
      "text/plain": [
       "   dim_bic_0  dim_bic_1  dim_bic_2  dim_bic_3  dim_bic_4  dim_bic_5\n",
       "0  -3.083984  -2.158203  -0.339844  -0.216675   1.544922   0.258057\n",
       "1  -2.183594  -0.617676   0.447266  -0.150879   2.859375  -0.353027\n",
       "2   2.050781   2.328125   1.168945  -1.814453  -0.115601   0.280762\n",
       "3  -2.808594  -0.950684  -0.305176  -0.380859   0.546875   1.203125\n",
       "4  -1.913086  -1.072266   0.498291   1.311523  -0.204224   0.064941"
      ]
     },
     "execution_count": 10,
     "metadata": {},
     "output_type": "execute_result"
    }
   ],
   "source": [
    "df_new.head()"
   ]
  },
  {
   "cell_type": "code",
   "execution_count": 11,
   "metadata": {},
   "outputs": [
    {
     "name": "stdout",
     "output_type": "stream",
     "text": [
      "Optimization terminated successfully.    (Exit mode 0)\n",
      "            Current function value: 0.09103455213203748\n",
      "            Iterations: 59\n",
      "            Function evaluations: 59\n",
      "            Gradient evaluations: 59\n",
      "                           Logit Regression Results                           \n",
      "==============================================================================\n",
      "Dep. Variable:                      y   No. Observations:                  398\n",
      "Model:                          Logit   Df Residuals:                      391\n",
      "Method:                           MLE   Df Model:                            6\n",
      "Date:                Wed, 03 Apr 2019   Pseudo R-squ.:                  0.8759\n",
      "Time:                        17:11:28   Log-Likelihood:                -32.665\n",
      "converged:                       True   LL-Null:                       -263.17\n",
      "                                        LLR p-value:                 2.086e-96\n",
      "==============================================================================\n",
      "                 coef    std err          z      P>|z|      [0.025      0.975]\n",
      "------------------------------------------------------------------------------\n",
      "const          0.4921      0.329      1.495      0.135      -0.153       1.137\n",
      "x1            -2.5528      0.408     -6.256      0.000      -3.353      -1.753\n",
      "x2             1.4242      0.290      4.907      0.000       0.855       1.993\n",
      "x3             0.5532      0.203      2.729      0.006       0.156       0.950\n",
      "x4            -0.8118      0.232     -3.496      0.000      -1.267      -0.357\n",
      "x5             0.9685      0.359      2.698      0.007       0.265       1.672\n",
      "x6             0.3309      0.243      1.360      0.174      -0.146       0.808\n",
      "==============================================================================\n",
      "\n",
      "Possibly complete quasi-separation: A fraction 0.34 of observations can be\n",
      "perfectly predicted. This might indicate that there is complete\n",
      "quasi-separation. In this case some parameters will not be identified.\n"
     ]
    }
   ],
   "source": [
    "import statsmodels.api as sm\n",
    "#lr = sm.Logit(Y_train, sm.add_constant(X_new)).fit()\n",
    "lr = sm.Logit(Y_train, sm.add_constant(X_new)).fit_regularized(method='l1', alpha=.5)\n",
    "print(lr.summary())"
   ]
  }
 ],
 "metadata": {
  "kernelspec": {
   "display_name": "Python 3",
   "language": "python",
   "name": "python3"
  },
  "language_info": {
   "codemirror_mode": {
    "name": "ipython",
    "version": 3
   },
   "file_extension": ".py",
   "mimetype": "text/x-python",
   "name": "python",
   "nbconvert_exporter": "python",
   "pygments_lexer": "ipython3",
   "version": "3.6.2"
  }
 },
 "nbformat": 4,
 "nbformat_minor": 2
}
