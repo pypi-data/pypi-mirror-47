{
 "cells": [
  {
   "cell_type": "markdown",
   "metadata": {},
   "source": [
    "# Probability Density\n",
    "* `pdf1` -- Density estimatation with histogram\n",
    "\n",
    "Transform ratio/interval-scale data when the underlying (obscured) real dataset is actually categorical."
   ]
  },
  {
   "cell_type": "code",
   "execution_count": 1,
   "metadata": {},
   "outputs": [],
   "source": [
    "%load_ext autoreload\n",
    "%autoreload 2"
   ]
  },
  {
   "cell_type": "code",
   "execution_count": 2,
   "metadata": {},
   "outputs": [],
   "source": [
    "# add path\n",
    "import sys; import os; sys.path.append(os.path.realpath(\"../\"))"
   ]
  },
  {
   "cell_type": "code",
   "execution_count": 3,
   "metadata": {},
   "outputs": [],
   "source": [
    "# demo datasets\n",
    "from datasets.demo1 import X_train, Y_train, fold_ids, X_valid, Y_valid, meta as meta_data\n",
    "#meta_data"
   ]
  },
  {
   "cell_type": "code",
   "execution_count": 4,
   "metadata": {},
   "outputs": [],
   "source": [
    "# transformer implementations\n",
    "typ = 'pdf1'\n",
    "\n",
    "if typ is 'pdf1':\n",
    "    from verto.pdf1 import trans, meta\n",
    "    trans.set_params(**{'bins': 16})\n",
    "else:\n",
    "    tmp = __import__(\"verto.\"+typ, fromlist=['trans', 'meta'])\n",
    "    trans = tmp.trans\n",
    "    meta = tmp.meta"
   ]
  },
  {
   "cell_type": "code",
   "execution_count": 5,
   "metadata": {},
   "outputs": [
    {
     "data": {
      "text/plain": [
       "{'id': 'pdf1',\n",
       " 'name': 'Prob Density',\n",
       " 'description': 'Probability density estimated by a histogram. Lookup density based on fitted bin edges',\n",
       " 'keywords': ['histogram', 'probability density'],\n",
       " 'feature_names_prefix': 'pdf_hist'}"
      ]
     },
     "execution_count": 5,
     "metadata": {},
     "output_type": "execute_result"
    }
   ],
   "source": [
    "meta"
   ]
  },
  {
   "cell_type": "markdown",
   "metadata": {},
   "source": [
    "## Transform"
   ]
  },
  {
   "cell_type": "code",
   "execution_count": 6,
   "metadata": {},
   "outputs": [
    {
     "name": "stdout",
     "output_type": "stream",
     "text": [
      "CPU times: user 10.7 ms, sys: 2.98 ms, total: 13.7 ms\n",
      "Wall time: 11.3 ms\n"
     ]
    },
    {
     "data": {
      "text/plain": [
       "HistDensity(bins=16)"
      ]
     },
     "execution_count": 6,
     "metadata": {},
     "output_type": "execute_result"
    }
   ],
   "source": [
    "%%time\n",
    "trans.fit(X_train, Y_train)"
   ]
  },
  {
   "cell_type": "code",
   "execution_count": 7,
   "metadata": {},
   "outputs": [
    {
     "name": "stdout",
     "output_type": "stream",
     "text": [
      "CPU times: user 62.9 ms, sys: 7.72 ms, total: 70.6 ms\n",
      "Wall time: 66.7 ms\n"
     ]
    }
   ],
   "source": [
    "%%time\n",
    "X_new = trans.transform(X_train)"
   ]
  },
  {
   "cell_type": "code",
   "execution_count": 8,
   "metadata": {},
   "outputs": [
    {
     "name": "stdout",
     "output_type": "stream",
     "text": [
      "['pdf_hist_0', 'pdf_hist_1', 'pdf_hist_2', 'pdf_hist_3', 'pdf_hist_4', 'pdf_hist_5', 'pdf_hist_6', 'pdf_hist_7', 'pdf_hist_8', 'pdf_hist_9', 'pdf_hist_10', 'pdf_hist_11', 'pdf_hist_12', 'pdf_hist_13', 'pdf_hist_14', 'pdf_hist_15', 'pdf_hist_16', 'pdf_hist_17', 'pdf_hist_18', 'pdf_hist_19', 'pdf_hist_20', 'pdf_hist_21', 'pdf_hist_22', 'pdf_hist_23', 'pdf_hist_24', 'pdf_hist_25', 'pdf_hist_26', 'pdf_hist_27', 'pdf_hist_28', 'pdf_hist_29']\n"
     ]
    }
   ],
   "source": [
    "from seasalt import create_feature_names\n",
    "feature_names = create_feature_names(meta['feature_names_prefix'], X_new.shape[1])\n",
    "print(feature_names)"
   ]
  },
  {
   "cell_type": "code",
   "execution_count": 9,
   "metadata": {},
   "outputs": [],
   "source": [
    "import pandas as pd\n",
    "df_new = pd.DataFrame(data=X_new, columns=feature_names)"
   ]
  },
  {
   "cell_type": "markdown",
   "metadata": {},
   "source": [
    "## Evaluate\n",
    "- check if the PCA components are \"good\" predictors\n",
    "- eyeball the p-values of the logistic regression coefficients"
   ]
  },
  {
   "cell_type": "code",
   "execution_count": 10,
   "metadata": {},
   "outputs": [
    {
     "data": {
      "text/html": [
       "<div>\n",
       "<style scoped>\n",
       "    .dataframe tbody tr th:only-of-type {\n",
       "        vertical-align: middle;\n",
       "    }\n",
       "\n",
       "    .dataframe tbody tr th {\n",
       "        vertical-align: top;\n",
       "    }\n",
       "\n",
       "    .dataframe thead th {\n",
       "        text-align: right;\n",
       "    }\n",
       "</style>\n",
       "<table border=\"1\" class=\"dataframe\">\n",
       "  <thead>\n",
       "    <tr style=\"text-align: right;\">\n",
       "      <th></th>\n",
       "      <th>pdf_hist_0</th>\n",
       "      <th>pdf_hist_1</th>\n",
       "      <th>pdf_hist_2</th>\n",
       "      <th>pdf_hist_3</th>\n",
       "      <th>pdf_hist_4</th>\n",
       "      <th>pdf_hist_5</th>\n",
       "      <th>pdf_hist_6</th>\n",
       "      <th>pdf_hist_7</th>\n",
       "      <th>pdf_hist_8</th>\n",
       "      <th>pdf_hist_9</th>\n",
       "      <th>...</th>\n",
       "      <th>pdf_hist_20</th>\n",
       "      <th>pdf_hist_21</th>\n",
       "      <th>pdf_hist_22</th>\n",
       "      <th>pdf_hist_23</th>\n",
       "      <th>pdf_hist_24</th>\n",
       "      <th>pdf_hist_25</th>\n",
       "      <th>pdf_hist_26</th>\n",
       "      <th>pdf_hist_27</th>\n",
       "      <th>pdf_hist_28</th>\n",
       "      <th>pdf_hist_29</th>\n",
       "    </tr>\n",
       "  </thead>\n",
       "  <tbody>\n",
       "    <tr>\n",
       "      <th>0</th>\n",
       "      <td>3.993490</td>\n",
       "      <td>2.572864</td>\n",
       "      <td>5.312774</td>\n",
       "      <td>5.205121</td>\n",
       "      <td>4.237231</td>\n",
       "      <td>5.744848</td>\n",
       "      <td>6.432161</td>\n",
       "      <td>2.572864</td>\n",
       "      <td>4.079769</td>\n",
       "      <td>2.572864</td>\n",
       "      <td>...</td>\n",
       "      <td>3.964799</td>\n",
       "      <td>3.859296</td>\n",
       "      <td>2.626229</td>\n",
       "      <td>2.597378</td>\n",
       "      <td>1.420375</td>\n",
       "      <td>8.804567</td>\n",
       "      <td>3.565670</td>\n",
       "      <td>1.358316</td>\n",
       "      <td>2.572864</td>\n",
       "      <td>9.976065</td>\n",
       "    </tr>\n",
       "    <tr>\n",
       "      <th>1</th>\n",
       "      <td>2.662327</td>\n",
       "      <td>3.859296</td>\n",
       "      <td>5.312774</td>\n",
       "      <td>2.602561</td>\n",
       "      <td>1.412410</td>\n",
       "      <td>4.308636</td>\n",
       "      <td>2.572864</td>\n",
       "      <td>2.572864</td>\n",
       "      <td>2.719846</td>\n",
       "      <td>3.859296</td>\n",
       "      <td>...</td>\n",
       "      <td>1.321600</td>\n",
       "      <td>3.859296</td>\n",
       "      <td>7.878686</td>\n",
       "      <td>6.493444</td>\n",
       "      <td>4.261125</td>\n",
       "      <td>5.869712</td>\n",
       "      <td>1.782835</td>\n",
       "      <td>2.716631</td>\n",
       "      <td>1.286432</td>\n",
       "      <td>6.650710</td>\n",
       "    </tr>\n",
       "    <tr>\n",
       "      <th>2</th>\n",
       "      <td>3.993490</td>\n",
       "      <td>3.859296</td>\n",
       "      <td>1.328193</td>\n",
       "      <td>5.205121</td>\n",
       "      <td>5.649642</td>\n",
       "      <td>1.436212</td>\n",
       "      <td>1.286432</td>\n",
       "      <td>1.286432</td>\n",
       "      <td>2.719846</td>\n",
       "      <td>2.572864</td>\n",
       "      <td>...</td>\n",
       "      <td>6.607998</td>\n",
       "      <td>2.572864</td>\n",
       "      <td>5.252457</td>\n",
       "      <td>7.792133</td>\n",
       "      <td>11.362999</td>\n",
       "      <td>2.934856</td>\n",
       "      <td>3.565670</td>\n",
       "      <td>4.074947</td>\n",
       "      <td>5.145729</td>\n",
       "      <td>6.650710</td>\n",
       "    </tr>\n",
       "    <tr>\n",
       "      <th>3</th>\n",
       "      <td>5.324654</td>\n",
       "      <td>5.145729</td>\n",
       "      <td>6.640967</td>\n",
       "      <td>6.506401</td>\n",
       "      <td>4.237231</td>\n",
       "      <td>1.436212</td>\n",
       "      <td>6.432161</td>\n",
       "      <td>10.291457</td>\n",
       "      <td>2.719846</td>\n",
       "      <td>9.005025</td>\n",
       "      <td>...</td>\n",
       "      <td>5.286398</td>\n",
       "      <td>3.859296</td>\n",
       "      <td>3.939343</td>\n",
       "      <td>6.493444</td>\n",
       "      <td>2.840750</td>\n",
       "      <td>1.467428</td>\n",
       "      <td>7.131340</td>\n",
       "      <td>6.791578</td>\n",
       "      <td>2.572864</td>\n",
       "      <td>6.650710</td>\n",
       "    </tr>\n",
       "    <tr>\n",
       "      <th>4</th>\n",
       "      <td>3.993490</td>\n",
       "      <td>1.286432</td>\n",
       "      <td>5.312774</td>\n",
       "      <td>10.410242</td>\n",
       "      <td>5.649642</td>\n",
       "      <td>1.436212</td>\n",
       "      <td>7.718593</td>\n",
       "      <td>5.145729</td>\n",
       "      <td>4.079769</td>\n",
       "      <td>1.286432</td>\n",
       "      <td>...</td>\n",
       "      <td>3.964799</td>\n",
       "      <td>1.286432</td>\n",
       "      <td>5.252457</td>\n",
       "      <td>5.194755</td>\n",
       "      <td>5.681500</td>\n",
       "      <td>8.804567</td>\n",
       "      <td>10.697010</td>\n",
       "      <td>2.716631</td>\n",
       "      <td>3.859296</td>\n",
       "      <td>6.650710</td>\n",
       "    </tr>\n",
       "  </tbody>\n",
       "</table>\n",
       "<p>5 rows × 30 columns</p>\n",
       "</div>"
      ],
      "text/plain": [
       "   pdf_hist_0  pdf_hist_1  pdf_hist_2  pdf_hist_3  pdf_hist_4  pdf_hist_5  \\\n",
       "0    3.993490    2.572864    5.312774    5.205121    4.237231    5.744848   \n",
       "1    2.662327    3.859296    5.312774    2.602561    1.412410    4.308636   \n",
       "2    3.993490    3.859296    1.328193    5.205121    5.649642    1.436212   \n",
       "3    5.324654    5.145729    6.640967    6.506401    4.237231    1.436212   \n",
       "4    3.993490    1.286432    5.312774   10.410242    5.649642    1.436212   \n",
       "\n",
       "   pdf_hist_6  pdf_hist_7  pdf_hist_8  pdf_hist_9     ...       pdf_hist_20  \\\n",
       "0    6.432161    2.572864    4.079769    2.572864     ...          3.964799   \n",
       "1    2.572864    2.572864    2.719846    3.859296     ...          1.321600   \n",
       "2    1.286432    1.286432    2.719846    2.572864     ...          6.607998   \n",
       "3    6.432161   10.291457    2.719846    9.005025     ...          5.286398   \n",
       "4    7.718593    5.145729    4.079769    1.286432     ...          3.964799   \n",
       "\n",
       "   pdf_hist_21  pdf_hist_22  pdf_hist_23  pdf_hist_24  pdf_hist_25  \\\n",
       "0     3.859296     2.626229     2.597378     1.420375     8.804567   \n",
       "1     3.859296     7.878686     6.493444     4.261125     5.869712   \n",
       "2     2.572864     5.252457     7.792133    11.362999     2.934856   \n",
       "3     3.859296     3.939343     6.493444     2.840750     1.467428   \n",
       "4     1.286432     5.252457     5.194755     5.681500     8.804567   \n",
       "\n",
       "   pdf_hist_26  pdf_hist_27  pdf_hist_28  pdf_hist_29  \n",
       "0     3.565670     1.358316     2.572864     9.976065  \n",
       "1     1.782835     2.716631     1.286432     6.650710  \n",
       "2     3.565670     4.074947     5.145729     6.650710  \n",
       "3     7.131340     6.791578     2.572864     6.650710  \n",
       "4    10.697010     2.716631     3.859296     6.650710  \n",
       "\n",
       "[5 rows x 30 columns]"
      ]
     },
     "execution_count": 10,
     "metadata": {},
     "output_type": "execute_result"
    }
   ],
   "source": [
    "df_new.head()"
   ]
  },
  {
   "cell_type": "code",
   "execution_count": 11,
   "metadata": {},
   "outputs": [
    {
     "name": "stdout",
     "output_type": "stream",
     "text": [
      "Optimization terminated successfully.    (Exit mode 0)\n",
      "            Current function value: 0.26910246683396216\n",
      "            Iterations: 89\n",
      "            Function evaluations: 94\n",
      "            Gradient evaluations: 89\n",
      "                           Logit Regression Results                           \n",
      "==============================================================================\n",
      "Dep. Variable:                      y   No. Observations:                  398\n",
      "Model:                          Logit   Df Residuals:                      368\n",
      "Method:                           MLE   Df Model:                           29\n",
      "Date:                Fri, 05 Apr 2019   Pseudo R-squ.:                  0.6173\n",
      "Time:                        15:36:10   Log-Likelihood:                -100.72\n",
      "converged:                       True   LL-Null:                       -263.17\n",
      "                                        LLR p-value:                 9.259e-52\n",
      "==============================================================================\n",
      "                 coef    std err          z      P>|z|      [0.025      0.975]\n",
      "------------------------------------------------------------------------------\n",
      "const         -9.4124      1.368     -6.878      0.000     -12.095      -6.730\n",
      "x1             0.0014      0.134      0.010      0.992      -0.261       0.264\n",
      "x2             0.0320      0.093      0.346      0.730      -0.149       0.213\n",
      "x3             0.0799      0.099      0.803      0.422      -0.115       0.275\n",
      "x4             0.0771      0.097      0.793      0.428      -0.113       0.267\n",
      "x5             0.2597      0.100      2.601      0.009       0.064       0.455\n",
      "x6             0.0193      0.123      0.157      0.875      -0.221       0.259\n",
      "x7             0.3309      0.119      2.781      0.005       0.098       0.564\n",
      "x8             0.1181      0.106      1.119      0.263      -0.089       0.325\n",
      "x9                  0        nan        nan        nan         nan         nan\n",
      "x10           -0.0714      0.104     -0.687      0.492      -0.275       0.132\n",
      "x11           -0.0293      0.061     -0.483      0.629      -0.148       0.089\n",
      "x12           -0.0650      0.062     -1.048      0.294      -0.187       0.057\n",
      "x13            0.1365      0.062      2.194      0.028       0.015       0.258\n",
      "x14            0.1615      0.040      4.026      0.000       0.083       0.240\n",
      "x15           -0.0011      0.065     -0.016      0.987      -0.129       0.127\n",
      "x16           -0.0685      0.077     -0.893      0.372      -0.219       0.082\n",
      "x17           -0.0595      0.047     -1.258      0.208      -0.152       0.033\n",
      "x18           -0.0154      0.094     -0.164      0.870      -0.200       0.169\n",
      "x19           -0.0701      0.070     -0.999      0.318      -0.208       0.067\n",
      "x20            0.0719      0.065      1.104      0.270      -0.056       0.200\n",
      "x21           -0.0768      0.103     -0.748      0.455      -0.278       0.124\n",
      "x22            0.1043      0.115      0.904      0.366      -0.122       0.330\n",
      "x23            0.1489      0.103      1.451      0.147      -0.052       0.350\n",
      "x24            0.3406      0.083      4.120      0.000       0.179       0.503\n",
      "x25           -0.0250      0.097     -0.257      0.797      -0.215       0.165\n",
      "x26            0.2968      0.107      2.785      0.005       0.088       0.506\n",
      "x27            0.1584      0.096      1.644      0.100      -0.030       0.347\n",
      "x28            0.2040      0.132      1.548      0.122      -0.054       0.462\n",
      "x29            0.2871      0.091      3.156      0.002       0.109       0.465\n",
      "x30            0.0395      0.077      0.510      0.610      -0.112       0.191\n",
      "==============================================================================\n"
     ]
    },
    {
     "name": "stderr",
     "output_type": "stream",
     "text": [
      "/Users/uh/cfs/venv-3.6.2/lib/python3.6/site-packages/scipy/stats/_distn_infrastructure.py:879: RuntimeWarning: invalid value encountered in greater\n",
      "  return (self.a < x) & (x < self.b)\n",
      "/Users/uh/cfs/venv-3.6.2/lib/python3.6/site-packages/scipy/stats/_distn_infrastructure.py:879: RuntimeWarning: invalid value encountered in less\n",
      "  return (self.a < x) & (x < self.b)\n",
      "/Users/uh/cfs/venv-3.6.2/lib/python3.6/site-packages/scipy/stats/_distn_infrastructure.py:1821: RuntimeWarning: invalid value encountered in less_equal\n",
      "  cond2 = cond0 & (x <= self.a)\n"
     ]
    }
   ],
   "source": [
    "import statsmodels.api as sm\n",
    "#lr = sm.Logit(Y_train, sm.add_constant(X_new)).fit()\n",
    "lr = sm.Logit(Y_train, sm.add_constant(X_new)).fit_regularized(method='l1', alpha=.5)\n",
    "print(lr.summary())"
   ]
  }
 ],
 "metadata": {
  "kernelspec": {
   "display_name": "Python 3",
   "language": "python",
   "name": "python3"
  },
  "language_info": {
   "codemirror_mode": {
    "name": "ipython",
    "version": 3
   },
   "file_extension": ".py",
   "mimetype": "text/x-python",
   "name": "python",
   "nbconvert_exporter": "python",
   "pygments_lexer": "ipython3",
   "version": "3.6.2"
  }
 },
 "nbformat": 4,
 "nbformat_minor": 2
}
