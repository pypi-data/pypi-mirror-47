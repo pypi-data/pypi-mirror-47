{
 "cells": [
  {
   "cell_type": "markdown",
   "metadata": {},
   "source": [
    "# RobustRegression\n",
    "* `simi15` -- Huber Regression\n",
    "* `simi16` -- Theil-Sen Regression\n"
   ]
  },
  {
   "cell_type": "code",
   "execution_count": 1,
   "metadata": {},
   "outputs": [],
   "source": [
    "# add path\n",
    "import sys; import os; sys.path.append(os.path.realpath(\"../\"))\n",
    "\n",
    "# general hyperparameter optimization settings\n",
    "from seasalt import (select_the_best, refit_model) \n",
    "from seasalt.si import (cv_settings, scorerfun, print_scores)\n",
    "from sklearn.model_selection import RandomizedSearchCV"
   ]
  },
  {
   "cell_type": "code",
   "execution_count": 2,
   "metadata": {},
   "outputs": [],
   "source": [
    "# demo datasets\n",
    "from datasets.demo2 import X_train, Y_train, fold_ids, X_valid, Y_valid, meta as meta_data\n",
    "#meta_data"
   ]
  },
  {
   "cell_type": "code",
   "execution_count": 3,
   "metadata": {},
   "outputs": [
    {
     "data": {
      "text/plain": [
       "{'id': 'simi16',\n",
       " 'name': 'LinReg Theil-Sen',\n",
       " 'descriptions': 'Theil-Sen Regression, standard-normal transformed features.',\n",
       " 'solver': 'L-BFGS',\n",
       " 'active': True,\n",
       " 'keywords': ['robust regression',\n",
       "  'univariate regression',\n",
       "  'multiple regression',\n",
       "  'theil-sen regression',\n",
       "  'sklearn.linear_model.TheilSenRegressor',\n",
       "  'theil-sen estimator',\n",
       "  'sen slope estimator',\n",
       "  'slope selection',\n",
       "  'single-median method',\n",
       "  'kendall robust line-fit method',\n",
       "  'kendall–theil robust line'],\n",
       " 'output_num': 'single',\n",
       " 'output_scale': 'interval',\n",
       " 'output_dtype': 'float',\n",
       " 'input_num': 'multi',\n",
       " 'input_scale': 'interval',\n",
       " 'input_dtype': 'float'}"
      ]
     },
     "execution_count": 3,
     "metadata": {},
     "output_type": "execute_result"
    }
   ],
   "source": [
    "# model implementations\n",
    "#from potpourri.simi15 import model, hyper, meta  # Huber Regression\n",
    "from potpourri.simi16 import model, hyper, meta  # Theil-Sen Regression\n",
    "meta"
   ]
  },
  {
   "cell_type": "markdown",
   "metadata": {},
   "source": [
    "## Train"
   ]
  },
  {
   "cell_type": "code",
   "execution_count": 4,
   "metadata": {},
   "outputs": [
    {
     "name": "stderr",
     "output_type": "stream",
     "text": [
      "/Users/uh/cfs/venv-3.6.2/lib/python3.6/site-packages/sklearn/model_selection/_search.py:271: UserWarning: The total space of parameters 1 is smaller than n_iter=50. Running 1 iterations. For exhaustive searches, use GridSearchCV.\n",
      "  % (grid_size, self.n_iter, grid_size), UserWarning)\n",
      "/Users/uh/cfs/venv-3.6.2/lib/python3.6/site-packages/sklearn/model_selection/_search.py:841: DeprecationWarning: The default of the `iid` parameter will change from True to False in version 0.22 and will be removed in 0.24. This will change numeric results when test-set sizes are unequal.\n",
      "  DeprecationWarning)\n"
     ]
    },
    {
     "name": "stdout",
     "output_type": "stream",
     "text": [
      "CPU times: user 4.45 s, sys: 207 ms, total: 4.66 s\n",
      "Wall time: 41.9 s\n"
     ]
    }
   ],
   "source": [
    "%%time\n",
    "rscv = RandomizedSearchCV(**{'estimator': model, 'param_distributions': hyper}, **cv_settings)\n",
    "rscv.fit(X = X_train, y = Y_train)  # Run CV\n",
    "\n",
    "bestparam, summary = select_the_best(rscv)  # find the \"best\" parameters\n",
    "bestmodel = refit_model(model, bestparam, X_train, Y_train)  # Refit the \"best\" model"
   ]
  },
  {
   "cell_type": "code",
   "execution_count": 5,
   "metadata": {},
   "outputs": [],
   "source": [
    "#rscv.cv_results_"
   ]
  },
  {
   "cell_type": "markdown",
   "metadata": {},
   "source": [
    "## Evaluate"
   ]
  },
  {
   "cell_type": "code",
   "execution_count": 7,
   "metadata": {},
   "outputs": [
    {
     "name": "stdout",
     "output_type": "stream",
     "text": [
      "Infer/predict on validation set\n",
      "\n",
      "Out of sample score\n",
      "0.4742431969216664\n",
      "\n",
      "Out of sample score (Other metrics)\n",
      "  Mean Squared Error:    2838.1970\n",
      " Mean Absolute Error:      41.9292\n",
      "    Median Abs Error:      36.7511\n",
      "           R Squared:       0.0578\n",
      "  Explained Variance:       0.0787\n",
      "\n",
      "Best model parameters\n",
      "{}\n",
      "\n",
      "In-sample scores and model variants (from CV)\n"
     ]
    },
    {
     "data": {
      "text/html": [
       "<div>\n",
       "<style scoped>\n",
       "    .dataframe tbody tr th:only-of-type {\n",
       "        vertical-align: middle;\n",
       "    }\n",
       "\n",
       "    .dataframe tbody tr th {\n",
       "        vertical-align: top;\n",
       "    }\n",
       "\n",
       "    .dataframe thead th {\n",
       "        text-align: right;\n",
       "    }\n",
       "</style>\n",
       "<table border=\"1\" class=\"dataframe\">\n",
       "  <thead>\n",
       "    <tr style=\"text-align: right;\">\n",
       "      <th></th>\n",
       "      <th>cvratio</th>\n",
       "      <th>rank_test_score</th>\n",
       "      <th>mean_test_score</th>\n",
       "      <th>std_test_score</th>\n",
       "      <th>mean_fit_time</th>\n",
       "      <th>std_fit_time</th>\n",
       "    </tr>\n",
       "  </thead>\n",
       "  <tbody>\n",
       "    <tr>\n",
       "      <th>0</th>\n",
       "      <td>3.786478</td>\n",
       "      <td>1</td>\n",
       "      <td>0.443214</td>\n",
       "      <td>0.117052</td>\n",
       "      <td>8.874637</td>\n",
       "      <td>2.249092</td>\n",
       "    </tr>\n",
       "  </tbody>\n",
       "</table>\n",
       "</div>"
      ],
      "text/plain": [
       "    cvratio  rank_test_score  mean_test_score  std_test_score  mean_fit_time  \\\n",
       "0  3.786478                1         0.443214        0.117052       8.874637   \n",
       "\n",
       "   std_fit_time  \n",
       "0      2.249092  "
      ]
     },
     "execution_count": 7,
     "metadata": {},
     "output_type": "execute_result"
    }
   ],
   "source": [
    "print(\"Infer/predict on validation set\")\n",
    "Y_pred = bestmodel.predict(X_valid)\n",
    "\n",
    "print(\"\\nOut of sample score\")\n",
    "print(scorerfun(Y_valid, Y_pred))\n",
    "\n",
    "print(\"\\nOut of sample score (Other metrics)\")\n",
    "print_scores(Y_pred, Y_valid)\n",
    "\n",
    "print(\"\\nBest model parameters\")\n",
    "print(bestparam)\n",
    "\n",
    "print(\"\\nIn-sample scores and model variants (from CV)\")\n",
    "summary"
   ]
  },
  {
   "cell_type": "markdown",
   "metadata": {},
   "source": [
    "### Parameters"
   ]
  },
  {
   "cell_type": "code",
   "execution_count": 8,
   "metadata": {},
   "outputs": [
    {
     "data": {
      "text/plain": [
       "array([  1.4650856 , -10.82748497,  26.36233887,  17.62771658,\n",
       "       -22.22726631,   5.13585395,  -1.30544625,  15.15635887,\n",
       "        26.02665964,  -0.09069412])"
      ]
     },
     "execution_count": 8,
     "metadata": {},
     "output_type": "execute_result"
    }
   ],
   "source": [
    "bestmodel.steps[1][1].coef_"
   ]
  },
  {
   "cell_type": "markdown",
   "metadata": {},
   "source": [
    "### Target vs Predicted"
   ]
  },
  {
   "cell_type": "code",
   "execution_count": 9,
   "metadata": {},
   "outputs": [
    {
     "data": {
      "image/png": "[encoded data removed]",
      "text/plain": [
       "<Figure size 432x432 with 1 Axes>"
      ]
     },
     "metadata": {
      "needs_background": "light"
     },
     "output_type": "display_data"
    }
   ],
   "source": [
    "import numpy as np\n",
    "import matplotlib.pyplot as plt\n",
    "%matplotlib inline\n",
    "\n",
    "plt.figure(figsize=(6,6))\n",
    "plt.scatter(y=Y_pred, x=Y_valid);\n",
    "#plt.scatter(x=np.log(Y_pred), y=np.log(Y_valid));\n",
    "plt.xlabel('target');\n",
    "plt.ylabel('predicted');"
   ]
  },
  {
   "cell_type": "markdown",
   "metadata": {},
   "source": [
    "## Debug, Memory, Misc"
   ]
  },
  {
   "cell_type": "code",
   "execution_count": 10,
   "metadata": {},
   "outputs": [
    {
     "name": "stdout",
     "output_type": "stream",
     "text": [
      "Variable             Type                  Data/Info\n",
      "----------------------------------------------------\n",
      "RandomizedSearchCV   ABCMeta               <class 'sklearn.model_sel<...>arch.RandomizedSearchCV'>\n",
      "X_train              ndarray               309x10: 3090 elems, type `float64`, 24720 bytes\n",
      "X_valid              ndarray               133x10: 1330 elems, type `float64`, 10640 bytes\n",
      "Y_pred               ndarray               133: 133 elems, type `float64`, 1064 bytes\n",
      "Y_train              ndarray               309: 309 elems, type `float64`, 2472 bytes\n",
      "Y_valid              ndarray               133: 133 elems, type `float64`, 1064 bytes\n",
      "bestmodel            Pipeline              Pipeline(memory=None,\\n  <...>=0.001, verbose=False))])\n",
      "bestparam            dict                  n=0\n",
      "cv_settings          dict                  n=6\n",
      "fold_ids             ndarray               309: 309 elems, type `int64`, 2472 bytes\n",
      "hyper                dict                  n=0\n",
      "meta                 dict                  n=12\n",
      "meta_data            dict                  n=14\n",
      "model                Pipeline              Pipeline(memory=None,\\n  <...>=0.001, verbose=False))])\n",
      "np                   module                <module 'numpy' from '/Us<...>kages/numpy/__init__.py'>\n",
      "os                   module                <module 'os' from '/Users<...>6.2/lib/python3.6/os.py'>\n",
      "plt                  module                <module 'matplotlib.pyplo<...>es/matplotlib/pyplot.py'>\n",
      "print_scores         function              <function print_scores at 0x116f871e0>\n",
      "refit_model          function              <function refit_model at 0x115287c80>\n",
      "rscv                 RandomizedSearchCV    RandomizedSearchCV(cv=5, <...>rer(r2_score), verbose=0)\n",
      "scorerfun            function              <function r2_score at 0x11870a9d8>\n",
      "select_the_best      function              <function select_the_best at 0x1152f3730>\n",
      "summary              DataFrame                 cvratio  rank_test_sc<...>time  \\n0      2.249092  \n",
      "sys                  module                <module 'sys' (built-in)>\n"
     ]
    }
   ],
   "source": [
    "#del summary\n",
    "#locals()\n",
    "%whos"
   ]
  },
  {
   "cell_type": "code",
   "execution_count": null,
   "metadata": {},
   "outputs": [],
   "source": []
  }
 ],
 "metadata": {
  "kernelspec": {
   "display_name": "Python 3",
   "language": "python",
   "name": "python3"
  },
  "language_info": {
   "codemirror_mode": {
    "name": "ipython",
    "version": 3
   },
   "file_extension": ".py",
   "mimetype": "text/x-python",
   "name": "python",
   "nbconvert_exporter": "python",
   "pygments_lexer": "ipython3",
   "version": "3.6.2"
  }
 },
 "nbformat": 4,
 "nbformat_minor": 2
}
