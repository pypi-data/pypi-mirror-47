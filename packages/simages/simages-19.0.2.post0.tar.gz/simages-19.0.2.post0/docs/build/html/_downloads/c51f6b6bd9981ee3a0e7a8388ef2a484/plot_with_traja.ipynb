{
  "cells": [
    {
      "cell_type": "code",
      "execution_count": null,
      "metadata": {
        "collapsed": false
      },
      "outputs": [],
      "source": [
        "%matplotlib inline"
      ]
    },
    {
      "cell_type": "markdown",
      "metadata": {},
      "source": [
        "\nPlotting with simages\n-------------------\n`simages  <https://simages.readthedocs.io>`_ is a Python\nlibrary providing a selection of easy-to-use spatial visualizations. It is\nbuilt on top of pandas and is designed to work with a range of libraries.\nFor more details on the library refer to its documentation.\nFirst we'll load in data using simages.\n"
      ]
    },
    {
      "cell_type": "code",
      "execution_count": null,
      "metadata": {
        "collapsed": false
      },
      "outputs": [],
      "source": [
        "import simages\n\ndf = simages.TrajaDataFrame({\"x\": [0, 1, 2, 3, 4], \"y\": [1, 3, 2, 4, 5]})"
      ]
    },
    {
      "cell_type": "markdown",
      "metadata": {},
      "source": [
        "Plotting with Traja\n===================\n\nWe start out by plotting a basic sime series trajectory using the ``simages``\naccessor and :meth:`~simages.main.TrajaAccessor.plot`` method.\n\n"
      ]
    },
    {
      "cell_type": "code",
      "execution_count": null,
      "metadata": {
        "collapsed": false
      },
      "outputs": [],
      "source": [
        "df.simages.plot()"
      ]
    },
    {
      "cell_type": "markdown",
      "metadata": {},
      "source": [
        "Generate Random Walks\n=====================\n\nAlso, random walks can be generated using :meth:`~simages.utils.generate`.\n\n"
      ]
    },
    {
      "cell_type": "code",
      "execution_count": null,
      "metadata": {
        "collapsed": false
      },
      "outputs": [],
      "source": [
        "df = simages.generate(n=1000, fps=30)\ndf.simages.plot()"
      ]
    },
    {
      "cell_type": "markdown",
      "metadata": {},
      "source": [
        "Traja can re-scale data with any units\n\n"
      ]
    },
    {
      "cell_type": "code",
      "execution_count": null,
      "metadata": {
        "collapsed": false
      },
      "outputs": [],
      "source": [
        "df.simages.scale(100)\ndf.spatial_units = \"cm\"\ndf.simages.plot()"
      ]
    },
    {
      "cell_type": "markdown",
      "metadata": {},
      "source": [
        "Rediscretize step lengths\n=========================\n\n:meth:`~simages.utils.rediscretize` method allows resampling the trajectory\ninto an arbitrary step length ``R``.\n<div class=\"alert alert-info\"><h4>Note</h4><p>This can also be achieved using `simages.utils.rediscretize(trj, step_length)`</p></div>\n\n"
      ]
    },
    {
      "cell_type": "code",
      "execution_count": null,
      "metadata": {
        "collapsed": false
      },
      "outputs": [],
      "source": [
        "rt = df.simages.rediscretize(R=5000)\nrt.simages.plot()"
      ]
    },
    {
      "cell_type": "markdown",
      "metadata": {},
      "source": [
        "Resample step time\n=========================\n\n:meth:`~simages.utils.resample_time` method allows resampling the trajectory by\ntime into `step_time`.\n<div class=\"alert alert-info\"><h4>Note</h4><p>This can also be achieved using `simages.utils.resample_time(trj, step_time)`</p></div>\n\n"
      ]
    },
    {
      "cell_type": "code",
      "execution_count": null,
      "metadata": {
        "collapsed": false
      },
      "outputs": [],
      "source": [
        "resampled = df.simages.resample_time(step_time=\"2s\")\nresampled.simages.plot()"
      ]
    },
    {
      "cell_type": "markdown",
      "metadata": {},
      "source": [
        "Calculate derivatives\n=====================\n\nDerivatives can be calculated with ``derivatives`` and histograms can be\nplotted using pandas built-in :meth:`~pandas.DataFrame.hist>` method.\n\n"
      ]
    },
    {
      "cell_type": "code",
      "execution_count": null,
      "metadata": {
        "collapsed": false
      },
      "outputs": [],
      "source": [
        "derivs = df.simages.get_derivatives()\nspeed = derivs[\"speed\"]\nspeed.hist()"
      ]
    },
    {
      "cell_type": "markdown",
      "metadata": {},
      "source": [
        "Again, these are just some of the plots you can make with Traja. There are\nseveral other possibilities not covered in this brief introduction. For more\nexamples, refer to the\n`Gallery <https://simages.readthedocs.io/en/latest/gallery/index.html>`_ in the\nsimages  documentation.\n\n"
      ]
    }
  ],
  "metadata": {
    "kernelspec": {
      "display_name": "Python 3",
      "language": "python",
      "name": "python3"
    },
    "language_info": {
      "codemirror_mode": {
        "name": "ipython",
        "version": 3
      },
      "file_extension": ".py",
      "mimetype": "text/x-python",
      "name": "python",
      "nbconvert_exporter": "python",
      "pygments_lexer": "ipython3",
      "version": "3.7.2"
    }
  },
  "nbformat": 4,
  "nbformat_minor": 0
}