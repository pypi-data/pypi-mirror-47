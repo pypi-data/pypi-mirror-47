{
 "cells": [
  {
   "cell_type": "markdown",
   "metadata": {},
   "source": [
    "# A Sage Explorer/browser demo\n"
   ]
  },
  {
   "cell_type": "markdown",
   "metadata": {},
   "source": [
    "Calling `explore(o)` on some Sage object `o` provides a rich\n",
    "visualization of this object, displaying the object, together\n",
    "with some of its basic properties, a list of the available methods,\n",
    "its help, etc. In order to explore related objects, one can click\n",
    "on displayed objects and execute methods.\n",
    "\n",
    "Let's try with a few objects:"
   ]
  },
  {
   "cell_type": "code",
   "execution_count": 1,
   "metadata": {},
   "outputs": [
    {
     "data": {
      "application/vnd.jupyter.widget-view+json": {
       "model_id": "14e9ba4203c94f1f9581f1f563e5e76d",
       "version_major": 2,
       "version_minor": 0
      },
      "text/plain": [
       "HTML(value='<style>.container {width:100% !important;}\\n.invisible {display: none; width: 0; height: 0}\\n.visi…"
      ]
     },
     "metadata": {},
     "output_type": "display_data"
    },
    {
     "data": {
      "application/vnd.jupyter.widget-view+json": {
       "model_id": "677540d0813d49f185252d487ffb0e43",
       "version_major": 2,
       "version_minor": 0
      },
      "text/plain": [
       "HTML(value=\"<style>.widget-text INPUT {border-collapse: collapse !important}\\n.gridbutton {margin:0; padding:0…"
      ]
     },
     "metadata": {},
     "output_type": "display_data"
    }
   ],
   "source": [
    "from sage_explorer import explore"
   ]
  },
  {
   "cell_type": "code",
   "execution_count": 2,
   "metadata": {
    "scrolled": false
   },
   "outputs": [
    {
     "data": {
      "application/vnd.jupyter.widget-view+json": {
       "model_id": "82ea5d1a68a84ab8a7830095947913ce",
       "version_major": 2,
       "version_minor": 0
      },
      "text/plain": [
       "SageExplorer(children=(HBox(children=(VBox(children=(Title(value='Exploring: [3, 3, 2, 1]', _dom_classes=('tit…"
      ]
     },
     "metadata": {},
     "output_type": "display_data"
    }
   ],
   "source": [
    "p = Partition([3,3,2,1])\n",
    "explore(p)"
   ]
  },
  {
   "cell_type": "code",
   "execution_count": 3,
   "metadata": {
    "scrolled": false
   },
   "outputs": [
    {
     "data": {
      "application/vnd.jupyter.widget-view+json": {
       "model_id": "9977675aafeb44b7a6872c5618426c14",
       "version_major": 2,
       "version_minor": 0
      },
      "text/plain": [
       "SageExplorer(children=(HBox(children=(VBox(children=(Title(value='Exploring: [[1, 3, 5, 8, 11], [2, 7, 13], [4…"
      ]
     },
     "metadata": {},
     "output_type": "display_data"
    }
   ],
   "source": [
    "t = StandardTableaux(15).random_element()\n",
    "explore(t)"
   ]
  },
  {
   "cell_type": "code",
   "execution_count": 4,
   "metadata": {},
   "outputs": [
    {
     "data": {
      "application/vnd.jupyter.widget-view+json": {
       "model_id": "6daeaa73f30e433dba501e2ff03128cd",
       "version_major": 2,
       "version_minor": 0
      },
      "text/plain": [
       "SageExplorer(children=(HBox(children=(VBox(children=(Title(value='Exploring: Finite poset containing 9 element…"
      ]
     },
     "metadata": {},
     "output_type": "display_data"
    }
   ],
   "source": [
    "explore(p.cell_poset())"
   ]
  },
  {
   "cell_type": "code",
   "execution_count": 5,
   "metadata": {},
   "outputs": [
    {
     "data": {
      "application/vnd.jupyter.widget-view+json": {
       "model_id": "5883ec4d736246868a0de968722732d7",
       "version_major": 2,
       "version_minor": 0
      },
      "text/plain": [
       "SageExplorer(children=(HBox(children=(VBox(children=(Title(value='Exploring: Petersen graph: Graph on 10 verti…"
      ]
     },
     "metadata": {},
     "output_type": "display_data"
    }
   ],
   "source": [
    "explore(graphs.PetersenGraph())"
   ]
  },
  {
   "cell_type": "code",
   "execution_count": 6,
   "metadata": {},
   "outputs": [
    {
     "data": {
      "application/vnd.jupyter.widget-view+json": {
       "model_id": "383fd179b11647aeba0b29c4d4ef75ab",
       "version_major": 2,
       "version_minor": 0
      },
      "text/plain": [
       "SageExplorer(children=(HBox(children=(VBox(children=(Title(value='Exploring: Finite Field in x of size 3^2', _…"
      ]
     },
     "metadata": {},
     "output_type": "display_data"
    }
   ],
   "source": [
    "explore(GF(9, name='x'))"
   ]
  },
  {
   "cell_type": "code",
   "execution_count": 7,
   "metadata": {},
   "outputs": [
    {
     "data": {
      "application/vnd.jupyter.widget-view+json": {
       "model_id": "bda85c8ee071443db4dd3af7ce1ef5fa",
       "version_major": 2,
       "version_minor": 0
      },
      "text/plain": [
       "SageExplorer(children=(HBox(children=(VBox(children=(Title(value='Exploring: Highest weight crystal of type A_…"
      ]
     },
     "metadata": {},
     "output_type": "display_data"
    }
   ],
   "source": [
    "explore(Crystals().example())"
   ]
  },
  {
   "cell_type": "markdown",
   "metadata": {},
   "source": [
    "## Exploring Sage as a whole"
   ]
  },
  {
   "cell_type": "code",
   "execution_count": 8,
   "metadata": {
    "scrolled": true
   },
   "outputs": [
    {
     "data": {
      "application/vnd.jupyter.widget-view+json": {
       "model_id": "41fee26525144bfcb19cd62981348453",
       "version_major": 2,
       "version_minor": 0
      },
      "text/plain": [
       "SageExplorer(children=(HBox(children=(VBox(children=(Title(value='Sage Explorer', _dom_classes=('title-level1'…"
      ]
     },
     "metadata": {},
     "output_type": "display_data"
    }
   ],
   "source": [
    "explore()"
   ]
  },
  {
   "cell_type": "markdown",
   "metadata": {},
   "source": [
    "## The explorer as a building block\n",
    "Because the explorer is built using Jupyter widgets, it can be used as\n",
    "a building block for other applications. To start with, one can change\n",
    "the displayed object:"
   ]
  },
  {
   "cell_type": "code",
   "execution_count": 9,
   "metadata": {},
   "outputs": [
    {
     "data": {
      "application/vnd.jupyter.widget-view+json": {
       "model_id": "cf03f079ebf24c4ab0d221845b5fb076",
       "version_major": 2,
       "version_minor": 0
      },
      "text/plain": [
       "SageExplorer(children=(HBox(children=(VBox(children=(Title(value='Exploring: [3, 3, 2, 1]', _dom_classes=('tit…"
      ]
     },
     "metadata": {},
     "output_type": "display_data"
    }
   ],
   "source": [
    "widget = explore(p)\n",
    "widget"
   ]
  },
  {
   "cell_type": "code",
   "execution_count": 10,
   "metadata": {},
   "outputs": [],
   "source": [
    "widget.set_value(Partition([5,2,1]))"
   ]
  },
  {
   "cell_type": "markdown",
   "metadata": {},
   "source": [
    "### Example: building a dedicated elliptic curve browser\n",
    "This provides a browser over the 20 first elliptic curves from Cremona database:"
   ]
  },
  {
   "cell_type": "code",
   "execution_count": 11,
   "metadata": {
    "scrolled": false
   },
   "outputs": [
    {
     "data": {
      "application/vnd.jupyter.widget-view+json": {
       "model_id": "eab7de932a644f2dbfe8cd7955c853e1",
       "version_major": 2,
       "version_minor": 0
      },
      "text/plain": [
       "Dropdown(description='Curve', options=('11a1', '11a2', '11a3', '14a1', '14a2', '14a3', '14a4', '14a5', '14a6',…"
      ]
     },
     "metadata": {},
     "output_type": "display_data"
    },
    {
     "data": {
      "application/vnd.jupyter.widget-view+json": {
       "model_id": "3aad6b958d8a4f99a4c041cdd1f01c3a",
       "version_major": 2,
       "version_minor": 0
      },
      "text/plain": [
       "SageExplorer(children=(HBox(children=(VBox(children=(Title(value='Exploring: Elliptic Curve defined by y^2 + y…"
      ]
     },
     "metadata": {},
     "output_type": "display_data"
    }
   ],
   "source": [
    "from ipywidgets import Dropdown, VBox\n",
    "from IPython.display import display\n",
    "\n",
    "curves = [E.label() for E in cremona_curves(range(20))]\n",
    "explorer = explore(EllipticCurve(curves[0]))\n",
    "menu = Dropdown(options=curves, description = \"Curve\")\n",
    "def handler(event):\n",
    "    print(event)\n",
    "    explorer.set_value(EllipticCurve(event['new']))\n",
    "menu.observe(handler, names=['value'])\n",
    "display(menu, explorer)"
   ]
  },
  {
   "cell_type": "code",
   "execution_count": null,
   "metadata": {},
   "outputs": [],
   "source": []
  }
 ],
 "metadata": {
  "kernelspec": {
   "display_name": "SageMath 8.6",
   "language": "",
   "name": "sagemath"
  },
  "language_info": {
   "codemirror_mode": {
    "name": "ipython",
    "version": 3
   },
   "file_extension": ".py",
   "mimetype": "text/x-python",
   "name": "python",
   "nbconvert_exporter": "python",
   "pygments_lexer": "ipython3",
   "version": "3.6.6"
  }
 },
 "nbformat": 4,
 "nbformat_minor": 2
}
