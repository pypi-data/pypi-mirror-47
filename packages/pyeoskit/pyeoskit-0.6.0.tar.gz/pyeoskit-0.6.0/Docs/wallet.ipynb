{
 "cells": [
  {
   "cell_type": "code",
   "execution_count": 1,
   "metadata": {
    "collapsed": true
   },
   "outputs": [],
   "source": []
  },
  {
   "cell_type": "code",
   "execution_count": 2,
   "metadata": {},
   "outputs": [
    {
     "name": "stdout",
     "output_type": "stream",
     "text": [
      "PW5Jf6jmzi2Fb2ftTZtfX626T6g5xbLC57d4dy593WeVzuc39bNZB\n"
     ]
    }
   ],
   "source": [
    "import os\n",
    "from pyeoskit import wallet\n",
    "if os.path.exists('mywallet.wallet'):\n",
    "    os.remove('mywallet.wallet')\n",
    "psw = wallet.create('mywallet')\n",
    "print(psw)"
   ]
  },
  {
   "cell_type": "code",
   "execution_count": 6,
   "metadata": {},
   "outputs": [
    {
     "data": {
      "text/plain": [
       "''"
      ]
     },
     "execution_count": 6,
     "metadata": {},
     "output_type": "execute_result"
    }
   ],
   "source": [
    "psw"
   ]
  },
  {
   "cell_type": "code",
   "execution_count": 4,
   "metadata": {},
   "outputs": [
    {
     "data": {
      "text/plain": [
       "True"
      ]
     },
     "execution_count": 4,
     "metadata": {},
     "output_type": "execute_result"
    }
   ],
   "source": [
    "wallet.open('mywallet')"
   ]
  },
  {
   "cell_type": "code",
   "execution_count": 3,
   "metadata": {},
   "outputs": [
    {
     "data": {
      "text/plain": [
       "False"
      ]
     },
     "execution_count": 3,
     "metadata": {},
     "output_type": "execute_result"
    }
   ],
   "source": [
    "psw = 'PW5Jf6jmzi2Fb2ftTZtfX626T6g5xbLC57d4dy593WeVzuc39bNZB'\n",
    "wallet.unlock('mywallet', psw)"
   ]
  },
  {
   "cell_type": "code",
   "execution_count": 5,
   "metadata": {},
   "outputs": [],
   "source": [
    "priv_keys = [\n",
    "                '5KQwrPbwdL6PhXujxW37FSSQZ1JiwsST4cqQzDeyXtP79zkvFD3',\n",
    "                '5JEcwbckBCdmji5j8ZoMHLEUS8TqQiqBG1DRx1X9DN124GUok9s',\n",
    "                '5JbDP55GXN7MLcNYKCnJtfKi9aD2HvHAdY7g8m67zFTAFkY1uBB',\n",
    "                '5K463ynhZoCDDa4RDcr63cUwWLTnKqmdcoTKTHBjqoKfv4u5V7p'\n",
    "            ]\n",
    "\n",
    "for priv_key in priv_keys:\n",
    "    wallet.import_key('mywallet', priv_key)\n"
   ]
  },
  {
   "cell_type": "code",
   "execution_count": 6,
   "metadata": {},
   "outputs": [
    {
     "data": {
      "text/plain": [
       "{'EOS5JuNfuZPATy8oPz9KMZV2asKf9m8fb2bSzftvhW55FKQFakzFL': '5JbDP55GXN7MLcNYKCnJtfKi9aD2HvHAdY7g8m67zFTAFkY1uBB',\n",
       " 'EOS61MgZLN7Frbc2J7giU7JdYjy2TqnfWFjZuLXvpHJoKzWAj7Nst': '5JEcwbckBCdmji5j8ZoMHLEUS8TqQiqBG1DRx1X9DN124GUok9s',\n",
       " 'EOS6MRyAjQq8ud7hVNYcfnVPJqcVpscN5So8BhtHuGYqET5GDW5CV': '5KQwrPbwdL6PhXujxW37FSSQZ1JiwsST4cqQzDeyXtP79zkvFD3',\n",
       " 'EOS8Znrtgwt8TfpmbVpTKvA2oB8Nqey625CLN8bCN3TEbgx86Dsvr': '5K463ynhZoCDDa4RDcr63cUwWLTnKqmdcoTKTHBjqoKfv4u5V7p'}"
      ]
     },
     "execution_count": 6,
     "metadata": {},
     "output_type": "execute_result"
    }
   ],
   "source": [
    "wallet.list_keys('mywallet', psw)"
   ]
  },
  {
   "cell_type": "code",
   "execution_count": 14,
   "metadata": {},
   "outputs": [
    {
     "data": {
      "text/plain": [
       "'{\"expiration\":\"2018-10-09T04:03:07\",\"ref_block_num\":31709,\"ref_block_prefix\":637923570,\"max_net_usage_words\":0,\"max_cpu_usage_ms\":0,\"delay_sec\":0,\"context_free_actions\":[],\"actions\":[{\"account\":\"eosio.token\",\"name\":\"transfer\",\"authorization\":[{\"actor\":\"hello\",\"permission\":\"active\"}],\"data\":\"00000000001aa36a0000000000ea3055010000000000000004454f53000000000b68656c6c6f2c776f726c64\"}],\"transaction_extensions\":[],\"signatures\":[\"SIG_K1_Kgq9DAsFXpdjqeAT2Epe583a8dYkLERv5gfYSyduas7RvtJwp4CyRt8sAFgUMP28hK4oJ9DR8se9D9J91aFqaxVuYENse1\"],\"context_free_data\":[]}'"
      ]
     },
     "execution_count": 14,
     "metadata": {},
     "output_type": "execute_result"
    }
   ],
   "source": [
    "from pyeoskit import eosapi\n",
    "from pyeoskit import wallet\n",
    "args = {\"from\": 'hello',\n",
    "        \"to\": 'eosio',\n",
    "        \"quantity\": '0.0001 EOS',\n",
    "        \"memo\": 'hello,world'\n",
    "}\n",
    "action = ['eosio.token', 'transfer', args, {'hello':'active'}]\n",
    "reference_block_id = eosapi.get_info().last_irreversible_block_id\n",
    "trx = eosapi.gen_transaction([action], 60, reference_block_id)\n",
    "public_keys = ['EOS5JuNfuZPATy8oPz9KMZV2asKf9m8fb2bSzftvhW55FKQFakzFL']\n",
    "\n",
    "info = eosapi.get_info()\n",
    "wallet.sign_transaction(trx, public_keys, info.chain_id)\n"
   ]
  },
  {
   "cell_type": "code",
   "execution_count": 17,
   "metadata": {},
   "outputs": [
    {
     "name": "stdout",
     "output_type": "stream",
     "text": [
      "{\"expiration\":\"2018-10-09T04:05:34\",\"ref_block_num\":31486,\"ref_block_prefix\":3014883538,\"max_net_usage_words\":0,\"max_cpu_usage_ms\":0,\"delay_sec\":0,\"context_free_actions\":[],\"actions\":[{\"account\":\"eosio.token\",\"name\":\"transfer\",\"authorization\":[{\"actor\":\"hello\",\"permission\":\"active\"}],\"data\":\"00000000001aa36a0000000000ea3055010000000000000004454f53000000000b68656c6c6f2c776f726c64\"}],\"transaction_extensions\":[],\"signatures\":[\"SIG_K1_Kf9DWuQ4JaZ9zzpFhP2M7x4v2VqgfMj6T8Rp4u7uTY9sxnXFHvVL29LEWev7jY76B2xzAYfNZDfc4YWaQSwUz9dnwRRMuG\"],\"context_free_data\":[]}\n"
     ]
    },
    {
     "data": {
      "text/plain": [
       "{'processed': {'action_traces': [{'account_ram_deltas': [],\n",
       "    'act': {'account': 'eosio.token',\n",
       "     'authorization': [{'actor': 'hello', 'permission': 'active'}],\n",
       "     'data': {'from': 'hello',\n",
       "      'memo': 'hello,world',\n",
       "      'quantity': '0.0001 EOS',\n",
       "      'to': 'eosio'},\n",
       "     'hex_data': '00000000001aa36a0000000000ea3055010000000000000004454f53000000000b68656c6c6f2c776f726c64',\n",
       "     'name': 'transfer'},\n",
       "    'block_num': 97542,\n",
       "    'block_time': '2018-10-09T04:04:35.000',\n",
       "    'console': '',\n",
       "    'context_free': False,\n",
       "    'cpu_usage': 0,\n",
       "    'elapsed': 232,\n",
       "    'inline_traces': [{'account_ram_deltas': [],\n",
       "      'act': {'account': 'eosio.token',\n",
       "       'authorization': [{'actor': 'hello', 'permission': 'active'}],\n",
       "       'data': {'from': 'hello',\n",
       "        'memo': 'hello,world',\n",
       "        'quantity': '0.0001 EOS',\n",
       "        'to': 'eosio'},\n",
       "       'hex_data': '00000000001aa36a0000000000ea3055010000000000000004454f53000000000b68656c6c6f2c776f726c64',\n",
       "       'name': 'transfer'},\n",
       "      'block_num': 97542,\n",
       "      'block_time': '2018-10-09T04:04:35.000',\n",
       "      'console': '',\n",
       "      'context_free': False,\n",
       "      'cpu_usage': 0,\n",
       "      'elapsed': 3423,\n",
       "      'inline_traces': [],\n",
       "      'producer_block_id': None,\n",
       "      'receipt': {'abi_sequence': 1,\n",
       "       'act_digest': '78a51d36e7ab6541056487422bfc6e9e519a4e99dc35d91633b85233f90ae530',\n",
       "       'auth_sequence': [['hello', 65]],\n",
       "       'code_sequence': 1,\n",
       "       'global_sequence': 97635,\n",
       "       'receiver': 'hello',\n",
       "       'recv_sequence': 25},\n",
       "      'total_cpu_usage': 0,\n",
       "      'trx_id': '6f363c346ff65ebf4a76aef8bff8a5b089e58ef87d7fb708cd0a2d939b6a0ec4'},\n",
       "     {'account_ram_deltas': [],\n",
       "      'act': {'account': 'eosio.token',\n",
       "       'authorization': [{'actor': 'hello', 'permission': 'active'}],\n",
       "       'data': {'from': 'hello',\n",
       "        'memo': 'hello,world',\n",
       "        'quantity': '0.0001 EOS',\n",
       "        'to': 'eosio'},\n",
       "       'hex_data': '00000000001aa36a0000000000ea3055010000000000000004454f53000000000b68656c6c6f2c776f726c64',\n",
       "       'name': 'transfer'},\n",
       "      'block_num': 97542,\n",
       "      'block_time': '2018-10-09T04:04:35.000',\n",
       "      'console': '',\n",
       "      'context_free': False,\n",
       "      'cpu_usage': 0,\n",
       "      'elapsed': 72,\n",
       "      'inline_traces': [],\n",
       "      'producer_block_id': None,\n",
       "      'receipt': {'abi_sequence': 1,\n",
       "       'act_digest': '78a51d36e7ab6541056487422bfc6e9e519a4e99dc35d91633b85233f90ae530',\n",
       "       'auth_sequence': [['hello', 66]],\n",
       "       'code_sequence': 1,\n",
       "       'global_sequence': 97636,\n",
       "       'receiver': 'eosio',\n",
       "       'recv_sequence': 97585},\n",
       "      'total_cpu_usage': 0,\n",
       "      'trx_id': '6f363c346ff65ebf4a76aef8bff8a5b089e58ef87d7fb708cd0a2d939b6a0ec4'}],\n",
       "    'producer_block_id': None,\n",
       "    'receipt': {'abi_sequence': 1,\n",
       "     'act_digest': '78a51d36e7ab6541056487422bfc6e9e519a4e99dc35d91633b85233f90ae530',\n",
       "     'auth_sequence': [['hello', 64]],\n",
       "     'code_sequence': 1,\n",
       "     'global_sequence': 97634,\n",
       "     'receiver': 'eosio.token',\n",
       "     'recv_sequence': 26},\n",
       "    'total_cpu_usage': 0,\n",
       "    'trx_id': '6f363c346ff65ebf4a76aef8bff8a5b089e58ef87d7fb708cd0a2d939b6a0ec4'}],\n",
       "  'block_num': 97542,\n",
       "  'block_time': '2018-10-09T04:04:35.000',\n",
       "  'elapsed': 4814,\n",
       "  'except': None,\n",
       "  'id': '6f363c346ff65ebf4a76aef8bff8a5b089e58ef87d7fb708cd0a2d939b6a0ec4',\n",
       "  'net_usage': 136,\n",
       "  'producer_block_id': None,\n",
       "  'receipt': {'cpu_usage_us': 4814,\n",
       "   'net_usage_words': 17,\n",
       "   'status': 'executed'},\n",
       "  'scheduled': False},\n",
       " 'transaction_id': '6f363c346ff65ebf4a76aef8bff8a5b089e58ef87d7fb708cd0a2d939b6a0ec4'}"
      ]
     },
     "execution_count": 17,
     "metadata": {},
     "output_type": "execute_result"
    }
   ],
   "source": [
    "from pyeoskit import eosapi\n",
    "from pyeoskit import db\n",
    "from pyeoskit import wallet\n",
    "\n",
    "args = {\"from\": 'hello',\n",
    "        \"to\": 'eosio',\n",
    "        \"quantity\": '0.0001 EOS',\n",
    "        \"memo\": 'hello,world'\n",
    "}\n",
    "\n",
    "act = ['eosio.token', 'transfer', args, {'hello':'active'}]\n",
    "reference_block_id = db.get_info().last_irreversible_block_id\n",
    "trx = eosapi.gen_transaction([act], 60, reference_block_id)\n",
    "\n",
    "permissions = {'hello':'active'}\n",
    "keys = []\n",
    "for account in permissions:\n",
    "    keys.extend(db.get_public_keys(account, permissions[account]))\n",
    "\n",
    "trx = wallet.sign_transaction(trx, keys, db.get_info().chain_id)\n",
    "print(trx)\n",
    "trx = eosapi.pack_transaction(trx, 0)\n",
    "eosapi.client.push_transaction(trx)"
   ]
  }
 ],
 "metadata": {
  "kernelspec": {
   "display_name": "Python 3",
   "language": "python",
   "name": "python3"
  },
  "language_info": {
   "codemirror_mode": {
    "name": "ipython",
    "version": 3
   },
   "file_extension": ".py",
   "mimetype": "text/x-python",
   "name": "python",
   "nbconvert_exporter": "python",
   "pygments_lexer": "ipython3",
   "version": "3.6.1"
  }
 },
 "nbformat": 4,
 "nbformat_minor": 2
}
