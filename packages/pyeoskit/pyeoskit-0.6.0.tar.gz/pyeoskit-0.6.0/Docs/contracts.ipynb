{
 "cells": [
  {
   "cell_type": "code",
   "execution_count": null,
   "metadata": {
    "collapsed": true
   },
   "outputs": [],
   "source": []
  },
  {
   "cell_type": "code",
   "execution_count": 13,
   "metadata": {},
   "outputs": [
    {
     "name": "stdout",
     "output_type": "stream",
     "text": [
      "<class 'bytes'>\n"
     ]
    },
    {
     "data": {
      "text/plain": [
       "{'processed': {'action_traces': [{'account_ram_deltas': [],\n",
       "    'act': {'account': 'hello',\n",
       "     'authorization': [{'actor': 'hello', 'permission': 'active'}],\n",
       "     'data': '68656c6c6f2c776f726c64',\n",
       "     'name': 'sayhello'},\n",
       "    'block_num': 206886,\n",
       "    'block_time': '2018-10-10T02:38:52.000',\n",
       "    'console': '',\n",
       "    'context_free': False,\n",
       "    'cpu_usage': 0,\n",
       "    'elapsed': 621,\n",
       "    'inline_traces': [],\n",
       "    'producer_block_id': None,\n",
       "    'receipt': {'abi_sequence': 8,\n",
       "     'act_digest': 'd2adfd9d323a23a5758ad81502c89ce43e2edcaa85e1a72e318376bb604ff909',\n",
       "     'auth_sequence': [['hello', 116]],\n",
       "     'code_sequence': 8,\n",
       "     'global_sequence': 207030,\n",
       "     'receiver': 'hello',\n",
       "     'recv_sequence': 39},\n",
       "    'total_cpu_usage': 0,\n",
       "    'trx_id': 'd0a70a3165ad772cb63774a0f0e1dd4ae38636420c71bd4e78ea5219122ccee8'}],\n",
       "  'block_num': 206886,\n",
       "  'block_time': '2018-10-10T02:38:52.000',\n",
       "  'elapsed': 1431,\n",
       "  'except': None,\n",
       "  'id': 'd0a70a3165ad772cb63774a0f0e1dd4ae38636420c71bd4e78ea5219122ccee8',\n",
       "  'net_usage': 104,\n",
       "  'producer_block_id': None,\n",
       "  'receipt': {'cpu_usage_us': 1431,\n",
       "   'net_usage_words': 13,\n",
       "   'status': 'executed'},\n",
       "  'scheduled': False},\n",
       " 'transaction_id': 'd0a70a3165ad772cb63774a0f0e1dd4ae38636420c71bd4e78ea5219122ccee8'}"
      ]
     },
     "execution_count": 13,
     "metadata": {},
     "output_type": "execute_result"
    }
   ],
   "source": [
    "from pyeoskit import eosapi\n",
    "from pyeoskit import wallet\n",
    "import os\n",
    "if os.path.exists('mywallet'):\n",
    "    os.remove('mywallet')\n",
    "psw = wallet.create('mywallet')\n",
    "wallet.unlock('mywallet', psw)\n",
    "wallet.import_key('mywallet', '5JbDP55GXN7MLcNYKCnJtfKi9aD2HvHAdY7g8m67zFTAFkY1uBB')\n",
    "\n",
    "code = b'''\n",
    "import db\n",
    "from eoslib import N, read_action, send_inline, transfer_inline\n",
    "\n",
    "def sayHello():\n",
    "    n = N('hello')\n",
    "    id = N('name')\n",
    "\n",
    "    name = read_action()\n",
    "    print('hello', name)\n",
    "    code = n\n",
    "    scope = n\n",
    "    table = n\n",
    "    payer = n\n",
    "    itr = db.find_i64(code, scope, table, id)\n",
    "    if itr >= 0: # value exist, update it\n",
    "        old_name = db.get_i64(itr)\n",
    "        print('hello,', old_name)\n",
    "        db.update_i64(itr, payer, name)\n",
    "    else:\n",
    "        db.store_i64(scope, table, payer, id, name)\n",
    "\n",
    "def play():\n",
    "    from backyard import garden\n",
    "    garden.play()\n",
    "\n",
    "def apply(receiver, code, action):\n",
    "    if action == N('sayhello'):\n",
    "        sayHello()\n",
    "    elif action == N('play'):\n",
    "        transfer_inline('eosio', 100)\n",
    "#        send_inline('hello', 'sayhello', b'hello,world', {'hello':'active'})\n",
    "#        play()\n",
    "'''\n",
    "print(type(code))\n",
    "abi = b'''\n",
    "{\n",
    "  \"version\": \"eosio::abi/1.0\",\n",
    "  \"structs\": [{\n",
    "     \"name\": \"message\",\n",
    "     \"base\": \"\",\n",
    "     \"fields\": [\n",
    "        {\"name\":\"msg\", \"type\":\"string\"}\n",
    "     ]\n",
    "  }\n",
    "  ],\n",
    "  \"actions\": [{\n",
    "      \"name\": \"sayhello\",\n",
    "      \"type\": \"raw\"\n",
    "    }\n",
    "  ]\n",
    "}\n",
    "'''\n",
    "eosapi.set_contract('hello', code, abi, 1)\n",
    "eosapi.push_action('hello', 'sayhello', b'hello,world', {'hello':'active'})\n"
   ]
  },
  {
   "cell_type": "code",
   "execution_count": null,
   "metadata": {
    "collapsed": true
   },
   "outputs": [],
   "source": []
  }
 ],
 "metadata": {
  "kernelspec": {
   "display_name": "Python 3",
   "language": "python",
   "name": "python3"
  },
  "language_info": {
   "codemirror_mode": {
    "name": "ipython",
    "version": 3
   },
   "file_extension": ".py",
   "mimetype": "text/x-python",
   "name": "python",
   "nbconvert_exporter": "python",
   "pygments_lexer": "ipython3",
   "version": "3.6.1"
  }
 },
 "nbformat": 4,
 "nbformat_minor": 2
}
