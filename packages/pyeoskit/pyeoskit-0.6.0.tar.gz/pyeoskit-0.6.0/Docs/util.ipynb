{
 "cells": [
  {
   "cell_type": "code",
   "execution_count": 6,
   "metadata": {},
   "outputs": [
    {
     "data": {
      "text/plain": [
       "{\n",
       "    \"server_version\": \"502085b2\",\n",
       "    \"chain_id\": \"cf057bbfb72640471fd910bcb67639c22df9f92470936cddc1ade0e2f2e7dc4f\",\n",
       "    \"head_block_num\": 2898,\n",
       "    \"last_irreversible_block_num\": 2897,\n",
       "    \"last_irreversible_block_id\": \"00000b5121936991b3c23366a71f1b4c5d0c651b477be52cf7f05c06c3117fc2\",\n",
       "    \"head_block_id\": \"00000b52479e3060e838973829098f349fcb8c9385c474fec38782f130ad3c3f\",\n",
       "    \"head_block_time\": \"2018-10-10T03:10:14.000\",\n",
       "    \"head_block_producer\": \"eosio\",\n",
       "    \"virtual_block_cpu_limit\": 3620581,\n",
       "    \"virtual_block_net_limit\": 19018953,\n",
       "    \"block_cpu_limit\": 199900,\n",
       "    \"block_net_limit\": 1048576,\n",
       "    \"server_version_string\": \"pre-release-1.0-101-g502085b21-dirty\"\n",
       "}"
      ]
     },
     "execution_count": 6,
     "metadata": {},
     "output_type": "execute_result"
    }
   ],
   "source": [
    "db.get_info()\n"
   ]
  },
  {
   "cell_type": "code",
   "execution_count": 1,
   "metadata": {},
   "outputs": [
    {
     "name": "stdout",
     "output_type": "stream",
     "text": [
      "{\n",
      "    \"server_version\": \"df8e10f6\",\n",
      "    \"chain_id\": \"cf057bbfb72640471fd910bcb67639c22df9f92470936cddc1ade0e2f2e7dc4f\",\n",
      "    \"head_block_num\": 29670,\n",
      "    \"last_irreversible_block_num\": 29669,\n",
      "    \"last_irreversible_block_id\": \"000073e5040157eb708bf512ae9db06ba3aeb4d1840f27c727c13ef0ddca6431\",\n",
      "    \"head_block_id\": \"000073e6f013ba613317f3c8b8ed5a0e983b050bad4ccd2a0f3a244d7fc7b1a9\",\n",
      "    \"head_block_time\": \"2018-10-11T01:22:51.500\",\n",
      "    \"head_block_producer\": \"eosio\",\n",
      "    \"virtual_block_cpu_limit\": 200000000,\n",
      "    \"virtual_block_net_limit\": 1048576000,\n",
      "    \"block_cpu_limit\": 199900,\n",
      "    \"block_net_limit\": 1048576,\n",
      "    \"server_version_string\": \"pre-release-1.0-105-gdf8e10f6c-dirty\"\n",
      "}\n",
      "{'transaction_id': 'cf4a76e014145dd2f7312c69684e0ad8f290045d510022a4708a986d5ad9ebac', 'processed': {'id': 'cf4a76e014145dd2f7312c69684e0ad8f290045d510022a4708a986d5ad9ebac', 'block_num': 29671, 'block_time': '2018-10-11T01:22:52.000', 'producer_block_id': None, 'receipt': {'status': 'executed', 'cpu_usage_us': 924, 'net_usage_words': 14}, 'elapsed': 924, 'net_usage': 112, 'scheduled': False, 'action_traces': [{'receipt': {'receiver': 'eosio', 'act_digest': '5193326e64fed8f18f0a51615181533a962127b68a14d8a1b97531b28d8ea223', 'global_sequence': 29729, 'recv_sequence': 29679, 'auth_sequence': [['hello', 53]], 'code_sequence': 0, 'abi_sequence': 0}, 'act': {'account': 'eosio', 'name': 'sellram', 'authorization': [{'actor': 'hello', 'permission': 'active'}], 'data': '00000000001aa36a0004000000000000'}, 'context_free': False, 'elapsed': 86, 'cpu_usage': 0, 'console': '', 'total_cpu_usage': 0, 'trx_id': 'cf4a76e014145dd2f7312c69684e0ad8f290045d510022a4708a986d5ad9ebac', 'block_num': 29671, 'block_time': '2018-10-11T01:22:52.000', 'producer_block_id': None, 'account_ram_deltas': [], 'inline_traces': []}], 'except': None}}\n"
     ]
    }
   ],
   "source": [
    "from pyeoskit import eosapi\n",
    "from pyeoskit import wallet\n",
    "from pyeoskit import util\n",
    "from pyeoskit import db\n",
    "\n",
    "import os\n",
    "if os.path.exists('mywallet.wallet'):\n",
    "    os.remove('mywallet.wallet')\n",
    "psw = wallet.create('mywallet')\n",
    "wallet.unlock('mywallet', psw)\n",
    "wallet.import_key('mywallet', '5JEcwbckBCdmji5j8ZoMHLEUS8TqQiqBG1DRx1X9DN124GUok9s')\n",
    "\n",
    "info = eosapi.get_info()\n",
    "print(info)\n",
    "util.sellram('hello', 1024)\n"
   ]
  }
 ],
 "metadata": {
  "kernelspec": {
   "display_name": "Python 3",
   "language": "python",
   "name": "python3"
  },
  "language_info": {
   "codemirror_mode": {
    "name": "ipython",
    "version": 3
   },
   "file_extension": ".py",
   "mimetype": "text/x-python",
   "name": "python",
   "nbconvert_exporter": "python",
   "pygments_lexer": "ipython3",
   "version": "3.6.1"
  }
 },
 "nbformat": 4,
 "nbformat_minor": 2
}
