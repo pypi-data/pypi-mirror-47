{
 "cells": [
  {
   "cell_type": "code",
   "execution_count": 2,
   "metadata": {
    "collapsed": true
   },
   "outputs": [],
   "source": [
    "from pyeoskit import db\n",
    "db.reset()\n",
    "abi = '''\n",
    "{\n",
    "   \"version\": \"eosio::abi/1.0\",\n",
    "   \"types\": [{\n",
    "      \"new_type_name\": \"account_name\",\n",
    "      \"type\": \"name\"\n",
    "   }],\n",
    "  \"structs\": [{\n",
    "      \"name\": \"transfer\",\n",
    "      \"base\": \"\",\n",
    "      \"fields\": [\n",
    "        {\"name\":\"from\", \"type\":\"account_name\"},\n",
    "        {\"name\":\"to\", \"type\":\"account_name\"},\n",
    "        {\"name\":\"quantity\", \"type\":\"asset\"},\n",
    "        {\"name\":\"memo\", \"type\":\"string\"}\n",
    "      ]\n",
    "    }\n",
    "  ],\n",
    "  \"actions\": [{\n",
    "      \"name\": \"transfer\",\n",
    "      \"type\": \"transfer\",\n",
    "      \"ricardian_contract\": \"\"\n",
    "    }],\n",
    "  \"tables\": [],\n",
    "  \"ricardian_clauses\": [],\n",
    "  \"abi_extensions\": []\n",
    "}\n",
    "'''\n",
    "db.set_abi('eosio.token', abi)"
   ]
  },
  {
   "cell_type": "code",
   "execution_count": 3,
   "metadata": {},
   "outputs": [
    {
     "name": "stdout",
     "output_type": "stream",
     "text": [
      "\n",
      "{\n",
      "   \"version\": \"eosio::abi/1.0\",\n",
      "   \"types\": [{\n",
      "      \"new_type_name\": \"account_name\",\n",
      "      \"type\": \"name\"\n",
      "   }],\n",
      "  \"structs\": [{\n",
      "      \"name\": \"transfer\",\n",
      "      \"base\": \"\",\n",
      "      \"fields\": [\n",
      "        {\"name\":\"from\", \"type\":\"account_name\"},\n",
      "        {\"name\":\"to\", \"type\":\"account_name\"},\n",
      "        {\"name\":\"quantity\", \"type\":\"asset\"},\n",
      "        {\"name\":\"memo\", \"type\":\"string\"}\n",
      "      ]\n",
      "    }\n",
      "  ],\n",
      "  \"actions\": [{\n",
      "      \"name\": \"transfer\",\n",
      "      \"type\": \"transfer\",\n",
      "      \"ricardian_contract\": \"\"\n",
      "    }],\n",
      "  \"tables\": [],\n",
      "  \"ricardian_clauses\": [],\n",
      "  \"abi_extensions\": []\n",
      "}\n",
      "\n"
     ]
    }
   ],
   "source": [
    "from pyeoskit import db\n",
    "\n",
    "r = db.get_abi('eosio.token')\n",
    "print(r)"
   ]
  },
  {
   "cell_type": "code",
   "execution_count": 6,
   "metadata": {},
   "outputs": [
    {
     "name": "stdout",
     "output_type": "stream",
     "text": [
      "{'account_name': 'hello', 'head_block_num': 203807, 'head_block_time': '2018-10-10T02:12:52.000', 'privileged': False, 'last_code_update': '2018-10-08T06:43:07.000', 'created': '2018-10-08T06:43:07.000', 'core_liquid_balance': '109.9970 EOS', 'ram_quota': -1, 'net_weight': -1, 'cpu_weight': -1, 'net_limit': {'used': -1, 'available': -1, 'max': -1}, 'cpu_limit': {'used': -1, 'available': -1, 'max': -1}, 'ram_usage': 12487, 'permissions': [{'perm_name': 'active', 'parent': 'owner', 'required_auth': {'threshold': 1, 'keys': [{'key': 'EOS5JuNfuZPATy8oPz9KMZV2asKf9m8fb2bSzftvhW55FKQFakzFL', 'weight': 1}], 'accounts': [], 'waits': []}}, {'perm_name': 'owner', 'parent': '', 'required_auth': {'threshold': 1, 'keys': [{'key': 'EOS61MgZLN7Frbc2J7giU7JdYjy2TqnfWFjZuLXvpHJoKzWAj7Nst', 'weight': 1}], 'accounts': [], 'waits': []}}], 'total_resources': None, 'self_delegated_bandwidth': None, 'refund_request': None, 'voter_info': None}\n"
     ]
    }
   ],
   "source": [
    "r = db.get_account('hello')\n",
    "print(r)"
   ]
  },
  {
   "cell_type": "code",
   "execution_count": 4,
   "metadata": {},
   "outputs": [
    {
     "name": "stdout",
     "output_type": "stream",
     "text": [
      "{\"version\": \"eosio::abi/1.0\", \"types\": [{\"new_type_name\": \"account_name\", \"type\": \"name\"}], \"structs\": [{\"name\": \"transfer\", \"base\": \"\", \"fields\": [{\"name\": \"from\", \"type\": \"account_name\"}, {\"name\": \"to\", \"type\": \"account_name\"}, {\"name\": \"quantity\", \"type\": \"asset\"}, {\"name\": \"memo\", \"type\": \"string\"}]}, {\"name\": \"create\", \"base\": \"\", \"fields\": [{\"name\": \"issuer\", \"type\": \"account_name\"}, {\"name\": \"maximum_supply\", \"type\": \"asset\"}]}, {\"name\": \"issue\", \"base\": \"\", \"fields\": [{\"name\": \"to\", \"type\": \"account_name\"}, {\"name\": \"quantity\", \"type\": \"asset\"}, {\"name\": \"memo\", \"type\": \"string\"}]}, {\"name\": \"account\", \"base\": \"\", \"fields\": [{\"name\": \"balance\", \"type\": \"asset\"}]}, {\"name\": \"currency_stats\", \"base\": \"\", \"fields\": [{\"name\": \"supply\", \"type\": \"asset\"}, {\"name\": \"max_supply\", \"type\": \"asset\"}, {\"name\": \"issuer\", \"type\": \"account_name\"}]}], \"actions\": [{\"name\": \"transfer\", \"type\": \"transfer\", \"ricardian_contract\": \"\"}, {\"name\": \"issue\", \"type\": \"issue\", \"ricardian_contract\": \"\"}, {\"name\": \"create\", \"type\": \"create\", \"ricardian_contract\": \"\"}], \"tables\": [{\"name\": \"accounts\", \"index_type\": \"i64\", \"key_names\": [\"currency\"], \"key_types\": [\"uint64\"], \"type\": \"account\"}, {\"name\": \"stat\", \"index_type\": \"i64\", \"key_names\": [\"currency\"], \"key_types\": [\"uint64\"], \"type\": \"currency_stats\"}], \"ricardian_clauses\": [], \"error_messages\": [], \"abi_extensions\": [], \"variants\": []}\n"
     ]
    }
   ],
   "source": [
    "r = db.get_abi('eosio.token')\n",
    "print(r)"
   ]
  },
  {
   "cell_type": "code",
   "execution_count": 3,
   "metadata": {},
   "outputs": [
    {
     "name": "stdout",
     "output_type": "stream",
     "text": [
      "{'account_name': 'eosio.token', 'head_block_num': 51742, 'head_block_time': '2018-10-08T13:30:49.000', 'privileged': False, 'last_code_update': '2018-10-08T07:10:05.500', 'created': '2018-10-08T07:10:05.500', 'ram_quota': -1, 'net_weight': -1, 'cpu_weight': -1, 'net_limit': {'used': -1, 'available': -1, 'max': -1}, 'cpu_limit': {'used': -1, 'available': -1, 'max': -1}, 'ram_usage': 189785, 'permissions': [{'perm_name': 'active', 'parent': 'owner', 'required_auth': {'threshold': 1, 'keys': [{'key': 'EOS5JuNfuZPATy8oPz9KMZV2asKf9m8fb2bSzftvhW55FKQFakzFL', 'weight': 1}], 'accounts': [], 'waits': []}}, {'perm_name': 'owner', 'parent': '', 'required_auth': {'threshold': 1, 'keys': [{'key': 'EOS61MgZLN7Frbc2J7giU7JdYjy2TqnfWFjZuLXvpHJoKzWAj7Nst', 'weight': 1}], 'accounts': [], 'waits': []}}], 'total_resources': None, 'self_delegated_bandwidth': None, 'refund_request': None, 'voter_info': None}\n"
     ]
    }
   ],
   "source": [
    "r = db.get_account('eosio.token')\n",
    "print(r)"
   ]
  },
  {
   "cell_type": "code",
   "execution_count": 5,
   "metadata": {},
   "outputs": [
    {
     "name": "stdout",
     "output_type": "stream",
     "text": [
      "{'account_name': 'eosio', 'abi': {'version': 'eosio::abi/1.0', 'types': [{'new_type_name': 'account_name', 'type': 'name'}, {'new_type_name': 'permission_name', 'type': 'name'}, {'new_type_name': 'action_name', 'type': 'name'}, {'new_type_name': 'transaction_id_type', 'type': 'checksum256'}, {'new_type_name': 'weight_type', 'type': 'uint16'}], 'structs': [{'name': 'permission_level', 'base': '', 'fields': [{'name': 'actor', 'type': 'account_name'}, {'name': 'permission', 'type': 'permission_name'}]}, {'name': 'key_weight', 'base': '', 'fields': [{'name': 'key', 'type': 'public_key'}, {'name': 'weight', 'type': 'weight_type'}]}, {'name': 'bidname', 'base': '', 'fields': [{'name': 'bidder', 'type': 'account_name'}, {'name': 'newname', 'type': 'account_name'}, {'name': 'bid', 'type': 'asset'}]}, {'name': 'bidjit', 'base': '', 'fields': [{'name': 'bidder', 'type': 'account_name'}, {'name': 'bid', 'type': 'asset'}]}, {'name': 'permission_level_weight', 'base': '', 'fields': [{'name': 'permission', 'type': 'permission_level'}, {'name': 'weight', 'type': 'weight_type'}]}, {'name': 'wait_weight', 'base': '', 'fields': [{'name': 'wait_sec', 'type': 'uint32'}, {'name': 'weight', 'type': 'weight_type'}]}, {'name': 'authority', 'base': '', 'fields': [{'name': 'threshold', 'type': 'uint32'}, {'name': 'keys', 'type': 'key_weight[]'}, {'name': 'accounts', 'type': 'permission_level_weight[]'}, {'name': 'waits', 'type': 'wait_weight[]'}]}, {'name': 'newaccount', 'base': '', 'fields': [{'name': 'creator', 'type': 'account_name'}, {'name': 'name', 'type': 'account_name'}, {'name': 'owner', 'type': 'authority'}, {'name': 'active', 'type': 'authority'}]}, {'name': 'setcode', 'base': '', 'fields': [{'name': 'account', 'type': 'account_name'}, {'name': 'vmtype', 'type': 'uint8'}, {'name': 'vmversion', 'type': 'uint8'}, {'name': 'code', 'type': 'bytes'}]}, {'name': 'setabi', 'base': '', 'fields': [{'name': 'account', 'type': 'account_name'}, {'name': 'abi', 'type': 'bytes'}]}, {'name': 'updateauth', 'base': '', 'fields': [{'name': 'account', 'type': 'account_name'}, {'name': 'permission', 'type': 'permission_name'}, {'name': 'parent', 'type': 'permission_name'}, {'name': 'auth', 'type': 'authority'}]}, {'name': 'deleteauth', 'base': '', 'fields': [{'name': 'account', 'type': 'account_name'}, {'name': 'permission', 'type': 'permission_name'}]}, {'name': 'linkauth', 'base': '', 'fields': [{'name': 'account', 'type': 'account_name'}, {'name': 'code', 'type': 'account_name'}, {'name': 'type', 'type': 'action_name'}, {'name': 'requirement', 'type': 'permission_name'}]}, {'name': 'unlinkauth', 'base': '', 'fields': [{'name': 'account', 'type': 'account_name'}, {'name': 'code', 'type': 'account_name'}, {'name': 'type', 'type': 'action_name'}]}, {'name': 'canceldelay', 'base': '', 'fields': [{'name': 'canceling_auth', 'type': 'permission_level'}, {'name': 'trx_id', 'type': 'transaction_id_type'}]}, {'name': 'onerror', 'base': '', 'fields': [{'name': 'sender_id', 'type': 'uint128'}, {'name': 'sent_trx', 'type': 'bytes'}]}, {'name': 'buyrambytes', 'base': '', 'fields': [{'name': 'payer', 'type': 'account_name'}, {'name': 'receiver', 'type': 'account_name'}, {'name': 'bytes', 'type': 'uint32'}]}, {'name': 'sellram', 'base': '', 'fields': [{'name': 'account', 'type': 'account_name'}, {'name': 'bytes', 'type': 'uint64'}]}, {'name': 'buyram', 'base': '', 'fields': [{'name': 'payer', 'type': 'account_name'}, {'name': 'receiver', 'type': 'account_name'}, {'name': 'quant', 'type': 'asset'}]}, {'name': 'delegatebw', 'base': '', 'fields': [{'name': 'from', 'type': 'account_name'}, {'name': 'receiver', 'type': 'account_name'}, {'name': 'stake_net_quantity', 'type': 'asset'}, {'name': 'stake_cpu_quantity', 'type': 'asset'}, {'name': 'transfer', 'type': 'bool'}]}, {'name': 'undelegatebw', 'base': '', 'fields': [{'name': 'from', 'type': 'account_name'}, {'name': 'receiver', 'type': 'account_name'}, {'name': 'unstake_net_quantity', 'type': 'asset'}, {'name': 'unstake_cpu_quantity', 'type': 'asset'}]}, {'name': 'refund', 'base': '', 'fields': [{'name': 'owner', 'type': 'account_name'}]}, {'name': 'delegated_bandwidth', 'base': '', 'fields': [{'name': 'from', 'type': 'account_name'}, {'name': 'to', 'type': 'account_name'}, {'name': 'net_weight', 'type': 'asset'}, {'name': 'cpu_weight', 'type': 'asset'}]}, {'name': 'user_resources', 'base': '', 'fields': [{'name': 'owner', 'type': 'account_name'}, {'name': 'net_weight', 'type': 'asset'}, {'name': 'cpu_weight', 'type': 'asset'}, {'name': 'ram_bytes', 'type': 'uint64'}]}, {'name': 'total_resources', 'base': '', 'fields': [{'name': 'owner', 'type': 'account_name'}, {'name': 'net_weight', 'type': 'asset'}, {'name': 'cpu_weight', 'type': 'asset'}, {'name': 'ram_bytes', 'type': 'uint64'}]}, {'name': 'refund_request', 'base': '', 'fields': [{'name': 'owner', 'type': 'account_name'}, {'name': 'request_time', 'type': 'time_point_sec'}, {'name': 'net_amount', 'type': 'asset'}, {'name': 'cpu_amount', 'type': 'asset'}]}, {'name': 'blockchain_parameters', 'base': '', 'fields': [{'name': 'max_block_net_usage', 'type': 'uint64'}, {'name': 'target_block_net_usage_pct', 'type': 'uint32'}, {'name': 'max_transaction_net_usage', 'type': 'uint32'}, {'name': 'base_per_transaction_net_usage', 'type': 'uint32'}, {'name': 'net_usage_leeway', 'type': 'uint32'}, {'name': 'context_free_discount_net_usage_num', 'type': 'uint32'}, {'name': 'context_free_discount_net_usage_den', 'type': 'uint32'}, {'name': 'max_block_cpu_usage', 'type': 'uint32'}, {'name': 'target_block_cpu_usage_pct', 'type': 'uint32'}, {'name': 'max_transaction_cpu_usage', 'type': 'uint32'}, {'name': 'min_transaction_cpu_usage', 'type': 'uint32'}, {'name': 'max_transaction_lifetime', 'type': 'uint32'}, {'name': 'deferred_trx_expiration_window', 'type': 'uint32'}, {'name': 'max_transaction_delay', 'type': 'uint32'}, {'name': 'max_inline_action_size', 'type': 'uint32'}, {'name': 'max_inline_action_depth', 'type': 'uint16'}, {'name': 'max_authority_depth', 'type': 'uint16'}]}, {'name': 'eosio_global_state', 'base': 'blockchain_parameters', 'fields': [{'name': 'max_ram_size', 'type': 'uint64'}, {'name': 'total_ram_bytes_reserved', 'type': 'uint64'}, {'name': 'total_ram_stake', 'type': 'int64'}, {'name': 'last_producer_schedule_update', 'type': 'block_timestamp_type'}, {'name': 'last_pervote_bucket_fill', 'type': 'uint64'}, {'name': 'pervote_bucket', 'type': 'int64'}, {'name': 'perblock_bucket', 'type': 'int64'}, {'name': 'total_unpaid_blocks', 'type': 'uint32'}, {'name': 'total_activated_stake', 'type': 'int64'}, {'name': 'thresh_activated_stake_time', 'type': 'uint64'}, {'name': 'last_producer_schedule_size', 'type': 'uint16'}, {'name': 'total_producer_vote_weight', 'type': 'float64'}, {'name': 'last_name_close', 'type': 'block_timestamp_type'}]}, {'name': 'producer_info', 'base': '', 'fields': [{'name': 'owner', 'type': 'account_name'}, {'name': 'total_votes', 'type': 'float64'}, {'name': 'producer_key', 'type': 'public_key'}, {'name': 'is_active', 'type': 'bool'}, {'name': 'url', 'type': 'string'}, {'name': 'unpaid_blocks', 'type': 'uint32'}, {'name': 'last_claim_time', 'type': 'uint64'}, {'name': 'location', 'type': 'uint16'}]}, {'name': 'regproducer', 'base': '', 'fields': [{'name': 'producer', 'type': 'account_name'}, {'name': 'producer_key', 'type': 'public_key'}, {'name': 'url', 'type': 'string'}, {'name': 'location', 'type': 'uint16'}]}, {'name': 'unregprod', 'base': '', 'fields': [{'name': 'producer', 'type': 'account_name'}]}, {'name': 'setram', 'base': '', 'fields': [{'name': 'max_ram_size', 'type': 'uint64'}]}, {'name': 'regproxy', 'base': '', 'fields': [{'name': 'proxy', 'type': 'account_name'}, {'name': 'isproxy', 'type': 'bool'}]}, {'name': 'voteproducer', 'base': '', 'fields': [{'name': 'voter', 'type': 'account_name'}, {'name': 'proxy', 'type': 'account_name'}, {'name': 'producers', 'type': 'account_name[]'}]}, {'name': 'voter_info', 'base': '', 'fields': [{'name': 'owner', 'type': 'account_name'}, {'name': 'proxy', 'type': 'account_name'}, {'name': 'producers', 'type': 'account_name[]'}, {'name': 'staked', 'type': 'int64'}, {'name': 'last_vote_weight', 'type': 'float64'}, {'name': 'proxied_vote_weight', 'type': 'float64'}, {'name': 'is_proxy', 'type': 'bool'}]}, {'name': 'claimrewards', 'base': '', 'fields': [{'name': 'owner', 'type': 'account_name'}]}, {'name': 'setpriv', 'base': '', 'fields': [{'name': 'account', 'type': 'account_name'}, {'name': 'is_priv', 'type': 'int8'}]}, {'name': 'rmvproducer', 'base': '', 'fields': [{'name': 'producer', 'type': 'account_name'}]}, {'name': 'set_account_limits', 'base': '', 'fields': [{'name': 'account', 'type': 'account_name'}, {'name': 'ram_bytes', 'type': 'int64'}, {'name': 'net_weight', 'type': 'int64'}, {'name': 'cpu_weight', 'type': 'int64'}]}, {'name': 'set_global_limits', 'base': '', 'fields': [{'name': 'cpu_usec_per_period', 'type': 'int64'}]}, {'name': 'producer_key', 'base': '', 'fields': [{'name': 'producer_name', 'type': 'account_name'}, {'name': 'block_signing_key', 'type': 'public_key'}]}, {'name': 'set_producers', 'base': '', 'fields': [{'name': 'schedule', 'type': 'producer_key[]'}]}, {'name': 'require_auth', 'base': '', 'fields': [{'name': 'from', 'type': 'account_name'}]}, {'name': 'setparams', 'base': '', 'fields': [{'name': 'params', 'type': 'blockchain_parameters'}]}, {'name': 'connector', 'base': '', 'fields': [{'name': 'balance', 'type': 'asset'}, {'name': 'weight', 'type': 'float64'}]}, {'name': 'exchange_state', 'base': '', 'fields': [{'name': 'supply', 'type': 'asset'}, {'name': 'base', 'type': 'connector'}, {'name': 'quote', 'type': 'connector'}]}, {'name': 'namebid_info', 'base': '', 'fields': [{'name': 'newname', 'type': 'account_name'}, {'name': 'high_bidder', 'type': 'account_name'}, {'name': 'high_bid', 'type': 'int64'}, {'name': 'last_bid_time', 'type': 'uint64'}]}, {'name': 'boost', 'base': '', 'fields': [{'name': 'account', 'type': 'account_name'}]}, {'name': 'cancelboost', 'base': '', 'fields': [{'name': 'account', 'type': 'account_name'}]}, {'name': 'upgrade', 'base': '', 'fields': [{'name': 'version', 'type': 'uint64'}, {'name': 'script', 'type': 'string'}]}], 'actions': [{'name': 'newaccount', 'type': 'newaccount', 'ricardian_contract': ''}, {'name': 'setcode', 'type': 'setcode', 'ricardian_contract': ''}, {'name': 'setabi', 'type': 'setabi', 'ricardian_contract': ''}, {'name': 'updateauth', 'type': 'updateauth', 'ricardian_contract': ''}, {'name': 'deleteauth', 'type': 'deleteauth', 'ricardian_contract': ''}, {'name': 'linkauth', 'type': 'linkauth', 'ricardian_contract': ''}, {'name': 'unlinkauth', 'type': 'unlinkauth', 'ricardian_contract': ''}, {'name': 'canceldelay', 'type': 'canceldelay', 'ricardian_contract': ''}, {'name': 'onerror', 'type': 'onerror', 'ricardian_contract': ''}, {'name': 'buyrambytes', 'type': 'buyrambytes', 'ricardian_contract': ''}, {'name': 'buyram', 'type': 'buyram', 'ricardian_contract': ''}, {'name': 'sellram', 'type': 'sellram', 'ricardian_contract': ''}, {'name': 'delegatebw', 'type': 'delegatebw', 'ricardian_contract': ''}, {'name': 'undelegatebw', 'type': 'undelegatebw', 'ricardian_contract': ''}, {'name': 'refund', 'type': 'refund', 'ricardian_contract': ''}, {'name': 'regproducer', 'type': 'regproducer', 'ricardian_contract': ''}, {'name': 'setram', 'type': 'setram', 'ricardian_contract': ''}, {'name': 'bidname', 'type': 'bidname', 'ricardian_contract': ''}, {'name': 'bidjit', 'type': 'bidjit', 'ricardian_contract': ''}, {'name': 'unregprod', 'type': 'unregprod', 'ricardian_contract': ''}, {'name': 'regproxy', 'type': 'regproxy', 'ricardian_contract': ''}, {'name': 'voteproducer', 'type': 'voteproducer', 'ricardian_contract': ''}, {'name': 'claimrewards', 'type': 'claimrewards', 'ricardian_contract': ''}, {'name': 'setpriv', 'type': 'setpriv', 'ricardian_contract': ''}, {'name': 'rmvproducer', 'type': 'rmvproducer', 'ricardian_contract': ''}, {'name': 'setalimits', 'type': 'set_account_limits', 'ricardian_contract': ''}, {'name': 'setglimits', 'type': 'set_global_limits', 'ricardian_contract': ''}, {'name': 'setprods', 'type': 'set_producers', 'ricardian_contract': ''}, {'name': 'reqauth', 'type': 'require_auth', 'ricardian_contract': ''}, {'name': 'setparams', 'type': 'setparams', 'ricardian_contract': ''}, {'name': 'boost', 'type': 'boost', 'ricardian_contract': ''}, {'name': 'cancelboost', 'type': 'cancelboost', 'ricardian_contract': ''}, {'name': 'upgrade', 'type': 'upgrade', 'ricardian_contract': ''}], 'tables': [{'name': 'producers', 'index_type': 'i64', 'key_names': ['owner'], 'key_types': ['uint64'], 'type': 'producer_info'}, {'name': 'global', 'index_type': 'i64', 'key_names': [], 'key_types': [], 'type': 'eosio_global_state'}, {'name': 'voters', 'index_type': 'i64', 'key_names': ['owner'], 'key_types': ['account_name'], 'type': 'voter_info'}, {'name': 'userres', 'index_type': 'i64', 'key_names': ['owner'], 'key_types': ['uint64'], 'type': 'user_resources'}, {'name': 'delband', 'index_type': 'i64', 'key_names': ['to'], 'key_types': ['uint64'], 'type': 'delegated_bandwidth'}, {'name': 'rammarket', 'index_type': 'i64', 'key_names': ['supply'], 'key_types': ['uint64'], 'type': 'exchange_state'}, {'name': 'refunds', 'index_type': 'i64', 'key_names': ['owner'], 'key_types': ['uint64'], 'type': 'refund_request'}, {'name': 'namebids', 'index_type': 'i64', 'key_names': ['newname'], 'key_types': ['account_name'], 'type': 'namebid_info'}], 'ricardian_clauses': [], 'error_messages': [], 'abi_extensions': [], 'variants': []}}\n",
      "<class 'str'>\n"
     ]
    }
   ],
   "source": [
    "import json\n",
    "from pyeoskit import eosapi\n",
    "\n",
    "abi = eosapi.client.get_abi('eosio')\n",
    "print(abi)\n",
    "abi = json.dumps(abi)\n",
    "print(type(abi))"
   ]
  }
 ],
 "metadata": {
  "kernelspec": {
   "display_name": "Python 3",
   "language": "python",
   "name": "python3"
  },
  "language_info": {
   "codemirror_mode": {
    "name": "ipython",
    "version": 3
   },
   "file_extension": ".py",
   "mimetype": "text/x-python",
   "name": "python",
   "nbconvert_exporter": "python",
   "pygments_lexer": "ipython3",
   "version": "3.6.1"
  }
 },
 "nbformat": 4,
 "nbformat_minor": 2
}
