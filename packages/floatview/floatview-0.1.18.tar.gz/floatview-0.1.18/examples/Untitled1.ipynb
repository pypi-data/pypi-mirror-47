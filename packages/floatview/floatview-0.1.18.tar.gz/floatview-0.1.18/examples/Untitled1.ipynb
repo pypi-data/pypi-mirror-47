{
 "cells": [
  {
   "cell_type": "code",
   "execution_count": null,
   "metadata": {},
   "outputs": [],
   "source": [
    "import floatview\n",
    "import pandas as pd\n",
    "import requests\n",
    "import io"
   ]
  },
  {
   "cell_type": "code",
   "execution_count": null,
   "metadata": {},
   "outputs": [],
   "source": [
    "tab = pd.read_csv('export_calibdriver_9.csv', low_memory=False,)"
   ]
  },
  {
   "cell_type": "code",
   "execution_count": null,
   "metadata": {},
   "outputs": [],
   "source": [
    "gmw = floatview.GlueManagerWidget(tab, modal=True, label=\"asd\", display_console=False)"
   ]
  },
  {
   "cell_type": "code",
   "execution_count": null,
   "metadata": {},
   "outputs": [],
   "source": [
    "#gmw.gluemanager.newView(\"table\", [\n",
    "#        \"input_Potential type_1\", \n",
    "#        \"input_Parameter 1_1\", \n",
    "#        \"input_Parameter 1_1\",\n",
    "#        \"input_Parameter 1_1\", \n",
    "#    ], \"Scatter\", modal=False);"
   ]
  },
  {
   "cell_type": "code",
   "execution_count": null,
   "metadata": {},
   "outputs": [],
   "source": [
    "a = gmw.gluemanager.newView(\"parallels\", [\n",
    "        \"input_Potential type_1\", \n",
    "        \"input_Parameter 1_1\", \n",
    "        \"input_Parameter 2_1\",\n",
    "        \"input_Parameter 3_1\", \n",
    "    ], \"Sankey\", modal=False);"
   ]
  },
  {
   "cell_type": "code",
   "execution_count": null,
   "metadata": {},
   "outputs": [],
   "source": [
    "def asd(x,y,z):\n",
    "    print(x,y,z)\n",
    "a.plotly_fig.data[0].on_click(asd)"
   ]
  },
  {
   "cell_type": "code",
   "execution_count": null,
   "metadata": {},
   "outputs": [],
   "source": []
  }
 ],
 "metadata": {
  "kernelspec": {
   "display_name": "Python 3",
   "language": "python",
   "name": "python3"
  },
  "language_info": {
   "codemirror_mode": {
    "name": "ipython",
    "version": 3
   },
   "file_extension": ".py",
   "mimetype": "text/x-python",
   "name": "python",
   "nbconvert_exporter": "python",
   "pygments_lexer": "ipython3",
   "version": "3.6.6"
  }
 },
 "nbformat": 4,
 "nbformat_minor": 2
}
