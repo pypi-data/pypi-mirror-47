{
 "cells": [
  {
   "cell_type": "code",
   "execution_count": null,
   "metadata": {
    "ExecuteTime": {
     "end_time": "2019-04-17T05:51:46.148423Z",
     "start_time": "2019-04-17T05:51:46.127266Z"
    }
   },
   "outputs": [],
   "source": [
    "from esper.postgres import export_all_to_csv\n",
    "from esper.spark import spark\n",
    "from app.models import Video"
   ]
  },
  {
   "cell_type": "code",
   "execution_count": null,
   "metadata": {
    "ExecuteTime": {
     "end_time": "2019-04-17T05:51:39.841557Z",
     "start_time": "2019-04-17T05:51:34.948Z"
    }
   },
   "outputs": [],
   "source": [
    "# Download Postgres database into local CSV files at /app/data/postgres\n",
    "models, paths = export_all_to_csv()"
   ]
  },
  {
   "cell_type": "code",
   "execution_count": null,
   "metadata": {
    "ExecuteTime": {
     "end_time": "2019-04-17T05:50:02.339051Z",
     "start_time": "2019-04-17T05:49:57.416481Z"
    }
   },
   "outputs": [],
   "source": [
    "# Import CSV files into spark at /app/data/spark\n",
    "spark.bulk_import_csv(models, paths)"
   ]
  },
  {
   "cell_type": "code",
   "execution_count": null,
   "metadata": {
    "ExecuteTime": {
     "end_time": "2019-04-17T05:50:02.343348Z",
     "start_time": "2019-04-17T05:49:56.940Z"
    }
   },
   "outputs": [],
   "source": [
    "# Get the Spark dataframe corresponding to a Django model\n",
    "video_df = spark.load(Video)\n",
    "video_df.show()"
   ]
  }
 ],
 "metadata": {
  "kernelspec": {
   "display_name": "Django Shell-Plus",
   "language": "python",
   "name": "django_extensions"
  },
  "language_info": {
   "codemirror_mode": {
    "name": "ipython",
    "version": 3
   },
   "file_extension": ".py",
   "mimetype": "text/x-python",
   "name": "python",
   "nbconvert_exporter": "python",
   "pygments_lexer": "ipython3",
   "version": "3.5.2"
  },
  "toc": {
   "nav_menu": {},
   "number_sections": true,
   "sideBar": true,
   "skip_h1_title": false,
   "toc_cell": false,
   "toc_position": {},
   "toc_section_display": "block",
   "toc_window_display": false
  }
 },
 "nbformat": 4,
 "nbformat_minor": 2
}
