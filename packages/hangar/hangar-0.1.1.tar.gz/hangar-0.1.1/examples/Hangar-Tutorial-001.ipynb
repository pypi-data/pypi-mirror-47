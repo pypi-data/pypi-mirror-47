{
 "cells": [
  {
   "cell_type": "markdown",
   "metadata": {},
   "source": [
    "# Hangar Tutorial \n",
    "\n",
    "## Part 1: Begining\n",
    "\n",
    "This tutorial will review the first steps of working with a hangar repository. \n",
    "\n",
    "To fit with the beginner's theme, we will use the MNIST dataset. Later examples will show off how to work with much more complex data.\n",
    "\n",
    "### Requirements\n",
    "\n",
    "... fill in requirements"
   ]
  },
  {
   "cell_type": "code",
   "execution_count": null,
   "metadata": {},
   "outputs": [],
   "source": [
    "from hangar import Repository\n",
    "\n",
    "import numpy as np\n",
    "import pickle\n",
    "import gzip\n",
    "import matplotlib.pyplot as plt\n",
    "\n",
    "from tqdm import tqdm"
   ]
  },
  {
   "cell_type": "markdown",
   "metadata": {},
   "source": [
    "### Creating & Interacting with a Hangar Repository\n",
    "\n",
    "Hangar is designed to \"just make sense\" in every operation you have to perform. As such, there is a single interface which all interaction begins with:\n",
    "the `Repository` object. \n",
    "\n",
    "Weather a hangar repository exists at the path you specify or not, just tell hangar where it should live!\n",
    "\n",
    "#### Intitializing a repository\n",
    "\n",
    "The first time you want to work with a new repository, the `init()` method must be called. This is where you provide hangar with your name and email address (to be used in the commit log), as well as implicitly confirming that you do want to create the underlying data files hangar uses on disk. "
   ]
  },
  {
   "cell_type": "code",
   "execution_count": null,
   "metadata": {},
   "outputs": [],
   "source": [
    "repo = Repository(path='/Users/rick/projects/tensorwerk/hangar-dev-repo/')\n",
    "\n",
    "# First time a repository is accessed only!\n",
    "# Note: if you feed a path to the `Repository` which does not contain a pre-iniitlized hangar repo, \n",
    "# when the Repository object is initialized it will let you know that you need to run `init()`\n",
    "\n",
    "repo.init(user_name='Rick Izzo', user_email='rick@tensorwerk.com', remove_old=True)"
   ]
  },
  {
   "cell_type": "code",
   "execution_count": null,
   "metadata": {},
   "outputs": [],
   "source": [
    "repo"
   ]
  },
  {
   "cell_type": "markdown",
   "metadata": {},
   "source": [
    "#### Checking out the repo for writing\n",
    "\n",
    "A repository can be checked out in two modes: \n",
    "\n",
    "1) write-enabled: applies all operations to the staging area's current state. Only one write-enabled checkout can be active at a different time, must be closed upon last use, or manual intervention will be needed to remove the writer lock. \n",
    "    \n",
    "2) read-only: checkout a commit or branch to view repository state as it existed at that point in time. "
   ]
  },
  {
   "cell_type": "code",
   "execution_count": 5,
   "metadata": {},
   "outputs": [],
   "source": [
    "co = repo.checkout(write=True)"
   ]
  },
  {
   "cell_type": "markdown",
   "metadata": {},
   "source": [
    "#### Lots of useful information is in the ipython `__repr__`"
   ]
  },
  {
   "cell_type": "markdown",
   "metadata": {},
   "source": [
    "#### A checkout allows access to `datasets` and `metadata`"
   ]
  },
  {
   "cell_type": "code",
   "execution_count": 9,
   "metadata": {},
   "outputs": [
    {
     "data": {
      "text/plain": [
       "\n",
       " Hangar Metadata                \n",
       "     Number of Keys : 0                \n",
       "     Access Mode    : a"
      ]
     },
     "execution_count": 9,
     "metadata": {},
     "output_type": "execute_result"
    }
   ],
   "source": [
    "co.metadata"
   ]
  },
  {
   "cell_type": "code",
   "execution_count": 10,
   "metadata": {},
   "outputs": [],
   "source": [
    "# Load the dataset\n",
    "with gzip.open('/Users/rick/projects/tensorwerk/hangar-dev-data/mnist.pkl.gz', 'rb') as f:\n",
    "    train_set, valid_set, test_set = pickle.load(f, encoding='bytes')\n",
    "\n",
    "def rescale(array):\n",
    "    array = array * 256\n",
    "    rounded = np.round(array)\n",
    "    return rounded.astype(np.uint8())\n",
    "\n",
    "sample_trimg = rescale(train_set[0][0])\n",
    "sample_trlabel = np.array([train_set[1][0]])\n",
    "trimgs = rescale(train_set[0])\n",
    "trlabels = train_set[1]"
   ]
  },
  {
   "cell_type": "markdown",
   "metadata": {},
   "source": [
    "#### Before data can be added to a repository, a dataset must be initialized. \n",
    "\n",
    "A Dataset is a named grouping of data samples where each sample shares a number of similar attributes and array properties:\n",
    "```\n",
    "Datasets are groups of related data pieces (samples). All samples within\n",
    "a dataset have the same data type, and number of dimensions. The size of\n",
    "each dimension can be either fixed (the default behavior) or variable\n",
    "per sample.\n",
    "\n",
    "For fixed dimension sizes, all samples written to the dataset must have\n",
    "the same size that was initially specified upon dataset initialization.\n",
    "Variable size datasets on the other hand, can write samples with\n",
    "dimensions of any size less than a maximum which is required to be set\n",
    "upon datset creation.\n",
    "\n",
    "Parameters\n",
    "----------\n",
    "name : str\n",
    "    The name assigned to this dataset.\n",
    "    \n",
    "shape : tuple, optional\n",
    "    The shape of the data samples which will be written in this dataset.\n",
    "    This argument and the `dtype` argument are required if a `prototype`\n",
    "    is not provided, defaults to None\n",
    "    \n",
    "dtype : np.dtype, optional\n",
    "    The datatype of this dataset. This argument and the `shape` argument\n",
    "    are required if a `prototype` is not provided., defaults to None\n",
    "    \n",
    "prototype : np.array, optional\n",
    "    A sample array of correct datatype and shape which will be used to\n",
    "    initialize the dataset storage mechanisms. If this is provided, the\n",
    "    `shape` and `dtype` arguments must not be set, defaults to None\n",
    "    \n",
    "samples_are_named : bool, optional\n",
    "    If the samples in the dataset have names associated with them. If set,\n",
    "    all samples must be provided names, if not, no name will be assigned.\n",
    "    defaults to True, which means all samples should have names.\n",
    "    \n",
    "variable_shape : bool, optional\n",
    "    If this is a variable sized dataset. If true, a `max_shape` argument\n",
    "    must be specified, defaults to False\n",
    "    \n",
    "max_shape : tuple of int, optional\n",
    "    The maximum size for each dimension which a data sample can be set\n",
    "    with. The number of dimensions must match that specified in the\n",
    "    `shape` or `prototype` argument, and each dimension size must be >=\n",
    "    the equivalent dimension size specified. defaults to None\n",
    "```"
   ]
  },
  {
   "cell_type": "code",
   "execution_count": 11,
   "metadata": {},
   "outputs": [
    {
     "name": "stdout",
     "output_type": "stream",
     "text": [
      "Dataset prototype shape: (784,), dtype: uint8\n"
     ]
    },
    {
     "data": {
      "text/plain": [
       "\n",
       " Hangar DatasetDataWriter                 \n",
       "    Dataset Name     : mnist_training_images                \n",
       "    Schema UUID      : 0d337900557911e98d758c859047adef                \n",
       "    Schema Hash      : RM4DefFsjRs=                \n",
       "    Variable Shape   : False                \n",
       "    (max) Shape      : (784,)                \n",
       "    Datatype         : <class 'numpy.uint8'>                \n",
       "    Named Samples    : True                \n",
       "    Access Mode      : a                \n",
       "    Num Samples      : 0\n"
      ]
     },
     "execution_count": 11,
     "metadata": {},
     "output_type": "execute_result"
    }
   ],
   "source": [
    "co.datasets.init_dataset(name='mnist_training_images', prototype=trimgs[0])"
   ]
  },
  {
   "cell_type": "code",
   "execution_count": 14,
   "metadata": {},
   "outputs": [
    {
     "data": {
      "text/plain": [
       "\n",
       " Hangar DatasetDataWriter                 \n",
       "    Dataset Name     : mnist_training_images                \n",
       "    Schema UUID      : 0d337900557911e98d758c859047adef                \n",
       "    Schema Hash      : RM4DefFsjRs=                \n",
       "    Variable Shape   : False                \n",
       "    (max) Shape      : (784,)                \n",
       "    Datatype         : <class 'numpy.uint8'>                \n",
       "    Named Samples    : True                \n",
       "    Access Mode      : a                \n",
       "    Num Samples      : 0\n"
      ]
     },
     "execution_count": 14,
     "metadata": {},
     "output_type": "execute_result"
    }
   ],
   "source": [
    "co.datasets['mnist_training_images']"
   ]
  },
  {
   "cell_type": "markdown",
   "metadata": {},
   "source": [
    "### Interaction \n",
    "\n",
    "When a dataset is initialized, a dataset accessor object will be returned, however, depending on your use case, this may or may not be the most convenient way to access a dataset.\n",
    "\n",
    "In general, we have implemented a full `dict` mapping interface ontop of all object. To access the `'mnist_training_images'` dataset you can just use a dict style access like the following (note: if operating in ipython/jupyter, the dataset keys will autocomplete for you)."
   ]
  },
  {
   "cell_type": "code",
   "execution_count": 15,
   "metadata": {},
   "outputs": [
    {
     "data": {
      "text/plain": [
       "\n",
       " Hangar DatasetDataWriter                 \n",
       "    Dataset Name     : mnist_training_images                \n",
       "    Schema UUID      : 0d337900557911e98d758c859047adef                \n",
       "    Schema Hash      : RM4DefFsjRs=                \n",
       "    Variable Shape   : False                \n",
       "    (max) Shape      : (784,)                \n",
       "    Datatype         : <class 'numpy.uint8'>                \n",
       "    Named Samples    : True                \n",
       "    Access Mode      : a                \n",
       "    Num Samples      : 0\n"
      ]
     },
     "execution_count": 15,
     "metadata": {},
     "output_type": "execute_result"
    }
   ],
   "source": [
    "co.datasets['mnist_training_images']"
   ]
  },
  {
   "cell_type": "code",
   "execution_count": 16,
   "metadata": {},
   "outputs": [],
   "source": [
    "train_dset = co.datasets['mnist_training_images']"
   ]
  },
  {
   "cell_type": "markdown",
   "metadata": {},
   "source": [
    "the full dictionary style mapping interface is implemented"
   ]
  },
  {
   "cell_type": "markdown",
   "metadata": {},
   "source": [
    "#### Adding Data\n",
    "\n",
    "To add data to a named dataset, we can use dict-style setting, or the `.add` method."
   ]
  },
  {
   "cell_type": "code",
   "execution_count": 17,
   "metadata": {},
   "outputs": [],
   "source": [
    "train_dset['0'] = trimgs[0]\n",
    "train_dset.add(data=trimgs[1], name='1')\n",
    "\n",
    "train_dset['51'] = trimgs[51]"
   ]
  },
  {
   "cell_type": "markdown",
   "metadata": {},
   "source": [
    "#### How many samples are in the dataset?"
   ]
  },
  {
   "cell_type": "code",
   "execution_count": 18,
   "metadata": {},
   "outputs": [
    {
     "data": {
      "text/plain": [
       "3"
      ]
     },
     "execution_count": 18,
     "metadata": {},
     "output_type": "execute_result"
    }
   ],
   "source": [
    "len(train_dset)"
   ]
  },
  {
   "cell_type": "markdown",
   "metadata": {},
   "source": [
    "#### containment testing"
   ]
  },
  {
   "cell_type": "code",
   "execution_count": 19,
   "metadata": {},
   "outputs": [
    {
     "data": {
      "text/plain": [
       "False"
      ]
     },
     "execution_count": 19,
     "metadata": {},
     "output_type": "execute_result"
    }
   ],
   "source": [
    "'hi' in train_dset"
   ]
  },
  {
   "cell_type": "code",
   "execution_count": 20,
   "metadata": {},
   "outputs": [
    {
     "data": {
      "text/plain": [
       "True"
      ]
     },
     "execution_count": 20,
     "metadata": {},
     "output_type": "execute_result"
    }
   ],
   "source": [
    "'0' in train_dset"
   ]
  },
  {
   "cell_type": "markdown",
   "metadata": {},
   "source": [
    "#### Dictionary Style Retrieval for known keys"
   ]
  },
  {
   "cell_type": "code",
   "execution_count": 22,
   "metadata": {},
   "outputs": [
    {
     "data": {
      "text/plain": [
       "<matplotlib.image.AxesImage at 0xa72067588>"
      ]
     },
     "execution_count": 22,
     "metadata": {},
     "output_type": "execute_result"
    },
    {
     "data": {
      "image/png": "[encoded data removed]",
      "text/plain": [
       "<Figure size 432x288 with 1 Axes>"
      ]
     },
     "metadata": {
      "needs_background": "light"
     },
     "output_type": "display_data"
    }
   ],
   "source": [
    "out = train_dset['0']\n",
    "plt.imshow(out.reshape(28, 28))"
   ]
  },
  {
   "cell_type": "code",
   "execution_count": 23,
   "metadata": {},
   "outputs": [
    {
     "data": {
      "text/plain": [
       "\n",
       " Hangar DatasetDataWriter                 \n",
       "    Dataset Name     : mnist_training_images                \n",
       "    Schema UUID      : 0d337900557911e98d758c859047adef                \n",
       "    Schema Hash      : RM4DefFsjRs=                \n",
       "    Variable Shape   : False                \n",
       "    (max) Shape      : (784,)                \n",
       "    Datatype         : <class 'numpy.uint8'>                \n",
       "    Named Samples    : True                \n",
       "    Access Mode      : a                \n",
       "    Num Samples      : 3\n"
      ]
     },
     "execution_count": 23,
     "metadata": {},
     "output_type": "execute_result"
    }
   ],
   "source": [
    "train_dset"
   ]
  },
  {
   "cell_type": "markdown",
   "metadata": {},
   "source": [
    "### Dict style iteration supported out of the box"
   ]
  },
  {
   "cell_type": "code",
   "execution_count": 24,
   "metadata": {},
   "outputs": [
    {
     "name": "stdout",
     "output_type": "stream",
     "text": [
      "0\n",
      "1\n",
      "51\n"
     ]
    },
    {
     "data": {
      "image/png": "[encoded data removed]",
      "text/plain": [
       "<Figure size 432x288 with 1 Axes>"
      ]
     },
     "metadata": {
      "needs_background": "light"
     },
     "output_type": "display_data"
    },
    {
     "data": {
      "image/png": "[encoded data removed]",
      "text/plain": [
       "<Figure size 432x288 with 1 Axes>"
      ]
     },
     "metadata": {
      "needs_background": "light"
     },
     "output_type": "display_data"
    },
    {
     "data": {
      "image/png": "[encoded data removed]",
      "text/plain": [
       "<Figure size 432x288 with 1 Axes>"
      ]
     },
     "metadata": {
      "needs_background": "light"
     },
     "output_type": "display_data"
    }
   ],
   "source": [
    "for k in train_dset:   \n",
    "    # equivalent method: for k in train_dset.keys():\n",
    "    print(k)\n",
    "    \n",
    "    \n",
    "for v in train_dset.values():\n",
    "    plt.imshow(v.reshape(28, 28))\n",
    "    plt.show()\n",
    "    \n",
    "myDict = {}\n",
    "for k, v in train_dset.items():\n",
    "    myDict[k] = v"
   ]
  },
  {
   "cell_type": "markdown",
   "metadata": {},
   "source": [
    "#### Performance\n",
    "\n",
    "Once you've completed an interactive exploration, be sure to use the context manager form of the `.add` and `.get` methods! \n",
    "\n",
    "In order to make sure that all your data is always safe in Hangar, the backend dilligently ensures that all contexts are opened and closed appropriatly. \n",
    "\n",
    "When you use the context manager form of a dataset object, we can offload a significat amount of work to the python runtime, and dramatically increase read and write speeds.\n",
    "\n",
    "Most datasets we've tested see an increased throughput differential of ~250% for writes and ~300% for reads when comparing using the context manager form vs the naked form!"
   ]
  },
  {
   "cell_type": "code",
   "execution_count": 25,
   "metadata": {},
   "outputs": [
    {
     "name": "stdout",
     "output_type": "stream",
     "text": [
      "Dataset prototype shape: (784,), dtype: uint8\n",
      "Dataset prototype shape: (1,), dtype: int64\n"
     ]
    },
    {
     "name": "stderr",
     "output_type": "stream",
     "text": [
      "100%|██████████| 50000/50000 [00:24<00:00, 1945.37it/s]\n"
     ]
    }
   ],
   "source": [
    "dset_trimgs = co.datasets.init_dataset(name='train_images', prototype=sample_trimg, samples_are_named=True)\n",
    "dset_trlabels = co.datasets.init_dataset(name='train_labels', prototype=sample_trlabel, samples_are_named=True)\n",
    "\n",
    "pbar = tqdm(total=trimgs.shape[0])\n",
    "with dset_trimgs, dset_trlabels:\n",
    "    for idx, img in enumerate(trimgs):\n",
    "        if (idx % 500 == 0):\n",
    "            pbar.update(500)\n",
    "\n",
    "        dset_trimgs.add(data=img, name=str(idx))\n",
    "        dset_trlabels.add(data=np.array([trlabels[idx]]), name=str(idx))\n",
    "        \n",
    "pbar.close()"
   ]
  },
  {
   "cell_type": "markdown",
   "metadata": {},
   "source": [
    "## Commiting Changes\n",
    "\n",
    "Once you have made a set of changes you wan't to commit, just simply call the `commit()` method (and pass in a message)!"
   ]
  },
  {
   "cell_type": "code",
   "execution_count": 26,
   "metadata": {},
   "outputs": [
    {
     "name": "stdout",
     "output_type": "stream",
     "text": [
      "(10678802, 2353457, 65536)\n"
     ]
    },
    {
     "data": {
      "text/plain": [
       "'f8b1f7a139fa1745'"
      ]
     },
     "execution_count": 26,
     "metadata": {},
     "output_type": "execute_result"
    }
   ],
   "source": [
    "co.commit('hello world, this is my first hangar commit')"
   ]
  },
  {
   "cell_type": "code",
   "execution_count": 28,
   "metadata": {},
   "outputs": [
    {
     "name": "stdout",
     "output_type": "stream",
     "text": [
      "Summary of Contents Contained in Data Repository \n",
      " \n",
      "================== \n",
      "| Repository Info \n",
      "|----------------- \n",
      "|  Directory: /Users/rick/projects/tensorwerk/hangar-dev-repo/__hangar \n",
      "|  Disk Usage: 46.14 MB \n",
      " \n",
      "=================== \n",
      "| Commit Details \n",
      "------------------- \n",
      "|  Commit: f8b1f7a139fa1745 \n",
      "|  Created: Tue Apr  2 18:59:26 2019 \n",
      "|  By: Rick Izzo \n",
      "|  Email: rick@tensorwerk.com \n",
      "|  Message: hello world, this is my first hangar commit \n",
      " \n",
      "================== \n",
      "| DataSets \n",
      "|----------------- \n",
      "|  Number of Named Datasets: 3 \n",
      "|\n",
      "|  * Dataset Name: mnist_training_images \n",
      "|    Num Arrays: 3 \n",
      "|    Details: \n",
      "|    - schema_uuid: 0d337900557911e98d758c859047adef \n",
      "|    - schema_hash: RM4DefFsjRs= \n",
      "|    - schema_dtype: 2 \n",
      "|    - schema_is_var: False \n",
      "|    - schema_max_shape: [784] \n",
      "|    - schema_is_named: True \n",
      "|\n",
      "|  * Dataset Name: train_images \n",
      "|    Num Arrays: 50000 \n",
      "|    Details: \n",
      "|    - schema_uuid: 5a72bbf4557911e994018c859047adef \n",
      "|    - schema_hash: RM4DefFsjRs= \n",
      "|    - schema_dtype: 2 \n",
      "|    - schema_is_var: False \n",
      "|    - schema_max_shape: [784] \n",
      "|    - schema_is_named: True \n",
      "|\n",
      "|  * Dataset Name: train_labels \n",
      "|    Num Arrays: 50000 \n",
      "|    Details: \n",
      "|    - schema_uuid: 5a73bae2557911e9acfc8c859047adef \n",
      "|    - schema_hash: ncbHqE6Xldg= \n",
      "|    - schema_dtype: 7 \n",
      "|    - schema_is_var: False \n",
      "|    - schema_max_shape: [1] \n",
      "|    - schema_is_named: True \n",
      " \n",
      "================== \n",
      "| Metadata: \n",
      "|----------------- \n",
      "|  Number of Keys: 0 \n",
      "\n"
     ]
    }
   ],
   "source": [
    "repo.summary()"
   ]
  },
  {
   "cell_type": "code",
   "execution_count": 29,
   "metadata": {},
   "outputs": [
    {
     "data": {
      "text/plain": [
       "'testbranch'"
      ]
     },
     "execution_count": 29,
     "metadata": {},
     "output_type": "execute_result"
    }
   ],
   "source": [
    "repo.create_branch('testbranch') # cleanup and switch "
   ]
  },
  {
   "cell_type": "code",
   "execution_count": 30,
   "metadata": {},
   "outputs": [
    {
     "data": {
      "text/plain": [
       "True"
      ]
     },
     "execution_count": 30,
     "metadata": {},
     "output_type": "execute_result"
    }
   ],
   "source": [
    "co.datasets.remove_dset('mnist_training_images')"
   ]
  },
  {
   "cell_type": "code",
   "execution_count": 31,
   "metadata": {},
   "outputs": [
    {
     "data": {
      "text/plain": [
       "\n",
       " Hangar Datasets                \n",
       "     Writeable: True                \n",
       "     Dataset Names:                \n",
       "       - train_images\n",
       "       - train_labels"
      ]
     },
     "execution_count": 31,
     "metadata": {},
     "output_type": "execute_result"
    }
   ],
   "source": [
    "co.datasets"
   ]
  },
  {
   "cell_type": "code",
   "execution_count": 32,
   "metadata": {},
   "outputs": [
    {
     "name": "stdout",
     "output_type": "stream",
     "text": [
      "(10678231, 2353360, 65536)\n"
     ]
    },
    {
     "data": {
      "text/plain": [
       "'4e320e8516ff275f'"
      ]
     },
     "execution_count": 32,
     "metadata": {},
     "output_type": "execute_result"
    }
   ],
   "source": [
    "co.commit('removed some datasets')"
   ]
  },
  {
   "cell_type": "code",
   "execution_count": 34,
   "metadata": {},
   "outputs": [],
   "source": [
    "co.close()"
   ]
  },
  {
   "cell_type": "code",
   "execution_count": 35,
   "metadata": {},
   "outputs": [],
   "source": [
    "co = repo.checkout(write=True, branch_name='testbranch')"
   ]
  },
  {
   "cell_type": "code",
   "execution_count": 36,
   "metadata": {},
   "outputs": [],
   "source": [
    "co.metadata['hello'] = 'world'"
   ]
  },
  {
   "cell_type": "code",
   "execution_count": 38,
   "metadata": {},
   "outputs": [
    {
     "data": {
      "text/plain": [
       "\n",
       " Hangar Datasets                \n",
       "     Writeable: True                \n",
       "     Dataset Names:                \n",
       "       - mnist_training_images\n",
       "       - train_images\n",
       "       - train_labels"
      ]
     },
     "execution_count": 38,
     "metadata": {},
     "output_type": "execute_result"
    }
   ],
   "source": [
    "co.datasets"
   ]
  },
  {
   "cell_type": "code",
   "execution_count": null,
   "metadata": {},
   "outputs": [],
   "source": [
    "co.commit('commit on testbranch')"
   ]
  },
  {
   "cell_type": "markdown",
   "metadata": {},
   "source": [
    "### Don't Forget to Close the Write-Enabled Checkout to Release the Lock!"
   ]
  },
  {
   "cell_type": "code",
   "execution_count": null,
   "metadata": {},
   "outputs": [],
   "source": [
    "# Just call...\n",
    "\n",
    "co.close()"
   ]
  },
  {
   "cell_type": "markdown",
   "metadata": {},
   "source": [
    "#### But if you did forget, and you recieve a `PermissionError` next time you open a checkout\n",
    "\n",
    "```\n",
    "PermissionError: Cannot aquire the writer lock. Only one instance of\n",
    "a writer checkout can be active at a time. If the last checkout of this \n",
    "repository did not properly close, or a crash occured, the lock must be\n",
    "manually freed before another writer can be instantiated.\n",
    "```\n",
    "\n",
    "It's an easy fix! JUST BE CAREFUL!"
   ]
  },
  {
   "cell_type": "code",
   "execution_count": null,
   "metadata": {},
   "outputs": [],
   "source": [
    "repo.force_release_writer_lock()"
   ]
  },
  {
   "cell_type": "markdown",
   "metadata": {},
   "source": [
    "# inspecting state from the top!\n",
    "\n",
    "After your first commit, the summary and log methods will begin to work, and you can either print the stream to the console (as shown below), or you can \n",
    "dig deep into the internal of how hangar thinks about your data! (To be covered in an advanced tutorial later on). \n",
    "\n",
    "The point is, regardless of your level of interaction with a live hangar repository, all level of state is accessable from the top, and in general has been built to be the only way to directly access it!"
   ]
  },
  {
   "cell_type": "code",
   "execution_count": null,
   "metadata": {},
   "outputs": [],
   "source": [
    "repo.summary()"
   ]
  },
  {
   "cell_type": "code",
   "execution_count": null,
   "metadata": {},
   "outputs": [],
   "source": [
    "repo.log()"
   ]
  }
 ],
 "metadata": {
  "kernelspec": {
   "display_name": "Python 3",
   "language": "python",
   "name": "python3"
  },
  "language_info": {
   "codemirror_mode": {
    "name": "ipython",
    "version": 3
   },
   "file_extension": ".py",
   "mimetype": "text/x-python",
   "name": "python",
   "nbconvert_exporter": "python",
   "pygments_lexer": "ipython3",
   "version": "3.7.3"
  }
 },
 "nbformat": 4,
 "nbformat_minor": 2
}
