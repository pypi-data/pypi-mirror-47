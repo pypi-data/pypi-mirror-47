{
 "cells": [
  {
   "cell_type": "markdown",
   "metadata": {},
   "source": [
    "# Tsai calibration\n",
    "Get first the calibration given by UVMAT"
   ]
  },
  {
   "cell_type": "code",
   "execution_count": null,
   "metadata": {},
   "outputs": [],
   "source": [
    "from fluidimage import path_image_samples"
   ]
  },
  {
   "cell_type": "code",
   "execution_count": null,
   "metadata": {},
   "outputs": [],
   "source": [
    "import h5py\n",
    "from fluidimage.calibration import Calibration\n",
    "\n",
    "pathbase = path_image_samples / 'Milestone'\n",
    "path_calib = pathbase / 'PCO_top.xml'\n",
    "calib = Calibration(path_calib)"
   ]
  },
  {
   "cell_type": "markdown",
   "metadata": {},
   "source": [
    "Get the velocity field"
   ]
  },
  {
   "cell_type": "code",
   "execution_count": null,
   "metadata": {},
   "outputs": [],
   "source": [
    "def get_piv_field(path):\n",
    "\n",
    "    try:\n",
    "        with h5py.File(path, 'r') as f:\n",
    "            keyspiv = [key for key in f.keys() if key.startswith('piv')]\n",
    "            keyspiv.sort()\n",
    "            key = keyspiv[-1]\n",
    "            X = f[key]['xs'][:]\n",
    "            Y = f[key]['ys'][:]\n",
    "            dx = f[key]['deltaxs_final'][:]\n",
    "            dy = f[key]['deltays_final'][:]\n",
    "    except Exception:\n",
    "        print(path)\n",
    "        raise\n",
    "\n",
    "    return X, Y, dx, dy\n",
    "\n",
    "path_v = pathbase / 'piv_0000a-b.h5'\n",
    "\n",
    "X, Y, dx, dy = get_piv_field(path_v)"
   ]
  },
  {
   "cell_type": "markdown",
   "metadata": {},
   "source": [
    "Apply calibration, number of pixels in the y direction has to be given"
   ]
  },
  {
   "cell_type": "code",
   "execution_count": null,
   "metadata": {},
   "outputs": [],
   "source": [
    "nbypix = 2160\n",
    "\n",
    "Xphys, Yphys, Zphys, dxphys, dyphys, dzphys = calib.pix2phys_UV(\n",
    "    X, Y, dx, dy, index_level=0, nbypix=nbypix)"
   ]
  }
 ],
 "metadata": {
  "kernelspec": {
   "display_name": "Python 3",
   "language": "python",
   "name": "python3"
  },
  "language_info": {
   "codemirror_mode": {
    "name": "ipython",
    "version": 3
   },
   "file_extension": ".py",
   "mimetype": "text/x-python",
   "name": "python",
   "nbconvert_exporter": "python",
   "pygments_lexer": "ipython3",
   "version": "3.7.2"
  }
 },
 "nbformat": 4,
 "nbformat_minor": 2
}
