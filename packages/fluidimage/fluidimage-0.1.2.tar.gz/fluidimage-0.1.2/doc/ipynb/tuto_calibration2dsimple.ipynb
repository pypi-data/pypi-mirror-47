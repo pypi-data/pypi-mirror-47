{
 "cells": [
  {
   "cell_type": "markdown",
   "metadata": {},
   "source": [
    "# Postprocess PIV results (simple calibration)"
   ]
  },
  {
   "cell_type": "code",
   "execution_count": null,
   "metadata": {},
   "outputs": [],
   "source": [
    "import h5py\n",
    "import numpy as np"
   ]
  },
  {
   "cell_type": "code",
   "execution_count": null,
   "metadata": {},
   "outputs": [],
   "source": [
    "from fluidimage import path_image_samples"
   ]
  },
  {
   "cell_type": "code",
   "execution_count": null,
   "metadata": {},
   "outputs": [],
   "source": [
    "from fluidimage.calibration import Calibration2DSimple"
   ]
  },
  {
   "cell_type": "code",
   "execution_count": null,
   "metadata": {},
   "outputs": [],
   "source": [
    "path_base = path_image_samples / 'Milestone'\n",
    "path_piv = path_base / 'piv_0000a-b.h5'"
   ]
  },
  {
   "cell_type": "markdown",
   "metadata": {},
   "source": [
    "## Create the calibration object"
   ]
  },
  {
   "cell_type": "code",
   "execution_count": null,
   "metadata": {},
   "outputs": [],
   "source": [
    "with h5py.File(path_piv) as f:\n",
    "    shape_im = f['couple/shape_images'].value\n",
    "\n",
    "point0 = (10, 20)\n",
    "point1 = (10, 10)\n",
    "\n",
    "calib = Calibration2DSimple(point0, point1, distance=0.01, aspect_ratio_pixel=1.0,\n",
    "                            shape_image=shape_im, point_origin=[i//2 for i in shape_im])"
   ]
  },
  {
   "cell_type": "code",
   "execution_count": null,
   "metadata": {},
   "outputs": [],
   "source": [
    "print(calib.yphys1pixel)"
   ]
  },
  {
   "cell_type": "markdown",
   "metadata": {},
   "source": [
    "## Application to synthetic data\n",
    "\n",
    "We can try the calibration object on synthetic data:"
   ]
  },
  {
   "cell_type": "code",
   "execution_count": null,
   "metadata": {},
   "outputs": [],
   "source": [
    "ixs = np.linspace(0, 100, 11)\n",
    "iys = np.linspace(0, 100, 11)\n",
    "xphys, yphys = calib.pix2phys(ixs, iys)\n",
    "print(xphys, yphys, sep='\\n')"
   ]
  },
  {
   "cell_type": "code",
   "execution_count": null,
   "metadata": {},
   "outputs": [],
   "source": [
    "dxs = np.random.randint(-5, 5, ixs.size)\n",
    "dys = np.random.randint(-5, 5, ixs.size)\n",
    "xphys, yphys, dxphys, dyphys = calib.displ2phys(ixs, iys, dxs, dys)\n",
    "print(xphys, yphys, dxphys, dyphys, sep='\\n')"
   ]
  },
  {
   "cell_type": "markdown",
   "metadata": {},
   "source": [
    "## Application to real data"
   ]
  },
  {
   "cell_type": "code",
   "execution_count": null,
   "metadata": {},
   "outputs": [],
   "source": [
    "with h5py.File(path_piv) as f:\n",
    "    deltaxs_final = f['piv1/deltaxs_final'][:]\n",
    "    deltays_final = f['piv1/deltays_final'][:]\n",
    "    ixvecs_final = f['piv1/ixvecs_final'][:]\n",
    "    iyvecs_final = f['piv1/iyvecs_final'][:]"
   ]
  },
  {
   "cell_type": "code",
   "execution_count": null,
   "metadata": {},
   "outputs": [],
   "source": [
    "xphys, yphys, dxphys, dyphys = calib.displ2phys(\n",
    "    ixvecs_final, iyvecs_final, deltaxs_final, deltays_final)"
   ]
  },
  {
   "cell_type": "code",
   "execution_count": null,
   "metadata": {},
   "outputs": [],
   "source": [
    "print(xphys, yphys, sep='\\n')"
   ]
  },
  {
   "cell_type": "markdown",
   "metadata": {},
   "source": [
    "## 2d grid"
   ]
  },
  {
   "cell_type": "markdown",
   "metadata": {},
   "source": [
    "We need to produce a good grid in the physical space to interpolate the data:"
   ]
  },
  {
   "cell_type": "code",
   "execution_count": null,
   "metadata": {},
   "outputs": [],
   "source": [
    "from fluidimage.postproc.piv import get_grid_pixel_from_piv_file\n",
    "\n",
    "xs1d, ys1d = get_grid_pixel_from_piv_file(path_piv)\n",
    "\n",
    "print(xs1d, ys1d, sep='\\n')"
   ]
  },
  {
   "cell_type": "code",
   "execution_count": null,
   "metadata": {},
   "outputs": [],
   "source": [
    "print(len(xs1d), len(ys1d))"
   ]
  },
  {
   "cell_type": "code",
   "execution_count": null,
   "metadata": {},
   "outputs": [],
   "source": [
    "xs2d, ys2d = np.meshgrid(xs1d, ys1d)\n",
    "\n",
    "assert xs2d.shape == ys2d.shape\n",
    "print(xs2d.shape)"
   ]
  },
  {
   "cell_type": "code",
   "execution_count": null,
   "metadata": {},
   "outputs": [],
   "source": [
    "print(xs2d)"
   ]
  },
  {
   "cell_type": "code",
   "execution_count": null,
   "metadata": {},
   "outputs": [],
   "source": [
    "print(ys2d)"
   ]
  },
  {
   "cell_type": "code",
   "execution_count": null,
   "metadata": {},
   "outputs": [],
   "source": [
    "xs2dphys, ys2dphys = calib.pix2phys(xs2d, ys2d)"
   ]
  },
  {
   "cell_type": "code",
   "execution_count": null,
   "metadata": {},
   "outputs": [],
   "source": [
    "print(xs2dphys)"
   ]
  },
  {
   "cell_type": "code",
   "execution_count": null,
   "metadata": {},
   "outputs": [],
   "source": [
    "print(ys2dphys)"
   ]
  },
  {
   "cell_type": "markdown",
   "metadata": {},
   "source": [
    "We define a function to interpolate the data on the grid"
   ]
  },
  {
   "cell_type": "code",
   "execution_count": null,
   "metadata": {},
   "outputs": [],
   "source": [
    "from scipy.interpolate import griddata\n",
    "\n",
    "def gridd(delta):\n",
    "        delta_grid = griddata((yphys, xphys), delta, (ys2dphys, xs2dphys), method='cubic')\n",
    "        return delta_grid.astype('float32')"
   ]
  },
  {
   "cell_type": "code",
   "execution_count": null,
   "metadata": {},
   "outputs": [],
   "source": [
    "dxphys_grid = gridd(dxphys)\n",
    "dyphys_grid = gridd(dyphys)"
   ]
  },
  {
   "cell_type": "code",
   "execution_count": null,
   "metadata": {},
   "outputs": [],
   "source": [
    "print(dxphys_grid)"
   ]
  },
  {
   "cell_type": "markdown",
   "metadata": {},
   "source": [
    "We can finally produce PIVOnGrid objects..."
   ]
  }
 ],
 "metadata": {
  "kernelspec": {
   "display_name": "Python 3",
   "language": "python",
   "name": "python3"
  },
  "language_info": {
   "codemirror_mode": {
    "name": "ipython",
    "version": 3
   },
   "file_extension": ".py",
   "mimetype": "text/x-python",
   "name": "python",
   "nbconvert_exporter": "python",
   "pygments_lexer": "ipython3",
   "version": "3.7.2"
  }
 },
 "nbformat": 4,
 "nbformat_minor": 2
}
