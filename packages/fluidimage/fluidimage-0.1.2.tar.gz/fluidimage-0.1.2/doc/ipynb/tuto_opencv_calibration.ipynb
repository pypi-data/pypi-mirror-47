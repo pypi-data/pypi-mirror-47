{
 "cells": [
  {
   "cell_type": "markdown",
   "metadata": {},
   "source": [
    "# 3D Calibration using OpenCV\n",
    "\n",
    "The calibration was performed using the Python bindings of the OpenCV [Bradski, 2000] library. This has been\n",
    "made easier to use through the module `fluidimage.calibration.calib_cv`. We shall use this module on a set of\n",
    "5 calibration images of a target which has a circle grid. The white dots on this particular target is evenly\n",
    "spaced at `3 mm`. For the same camera position, the target'sworld coordinate `z` varies as `[-6, -3, 0, 3, 6]` mm.\n",
    "\n",
    "\n",
    "We shall proceed as follows:\n",
    "\n",
    " 1. We compose a function `find_origin` which automatically detects the origin in pixel coordinates of the\n",
    "   calibration target. This is achieved by using an erosion operation to fill the faint rectangle in the origin,\n",
    "   and then using OpenCV to detect the location of this blob (origin) of minimum area 18.\n",
    " \n",
    " 1. After this we detect the image points, i.e. smaller circles in a 7x7 grid surrounding the origin and\n",
    "    store them in an array. We repeat this operation for every calibration image.\n",
    "   \n",
    " 1. We construct he object points, i.e. assign the circle grid the expected values in the world coordinate system\n",
    "    `(x, y, z)` and store them as arrays using the input given to us that the circles on the\n",
    "    target are evenly spaced by a distance equal to 3 mm.\n",
    " \n",
    " 1. Finally we calibrate the camera.\n",
    "\n",
    "OpenCV employs a camera model based on the algorithm following Zhang [2000].\n",
    "\n",
    "Let us start by loading a set of calibration images."
   ]
  },
  {
   "cell_type": "code",
   "execution_count": null,
   "metadata": {},
   "outputs": [],
   "source": [
    "from fluidimage import path_image_samples\n",
    "\n",
    "path = path_image_samples / \"TomoPIV\" / \"calibration\" / \"cam0\"\n",
    "calib_files = list(path.glob(\"*.tif\"))\n",
    "calib_files"
   ]
  },
  {
   "cell_type": "markdown",
   "metadata": {},
   "source": [
    "## Detecting the origin"
   ]
  },
  {
   "cell_type": "markdown",
   "metadata": {},
   "source": [
    "A typical calibration image looks like:"
   ]
  },
  {
   "cell_type": "code",
   "execution_count": null,
   "metadata": {},
   "outputs": [],
   "source": [
    "%matplotlib inline\n",
    "import matplotlib.pyplot as plt\n",
    "from fluidimage.util.util import imread\n",
    "\n",
    "def imshow(image, ax=plt):\n",
    "    ax.imshow(image, cmap='gray', vmax=255)\n",
    "    \n",
    "image = imread(str(calib_files[2]))  # z = 0 image\n",
    "imshow(image)"
   ]
  },
  {
   "cell_type": "markdown",
   "metadata": {},
   "source": [
    "The position of the origin (marked by a rectangle) needs to be detected for detecting the image points consistently."
   ]
  },
  {
   "cell_type": "code",
   "execution_count": null,
   "metadata": {},
   "outputs": [],
   "source": [
    "from fluidimage.util.util import imread\n",
    "import matplotlib.pyplot as plt\n",
    "import numpy as np\n",
    "from skimage.morphology import reconstruction\n",
    "import warnings\n",
    "\n",
    "def rescale(image, scale):\n",
    "    \"\"\"Rescale the image intensities\"\"\"\n",
    "    # Scale 16-bit image to 8-bit image\n",
    "    if scale is None:\n",
    "        return image\n",
    "    elif scale == \"median\":\n",
    "        scale = np.median(image[image > 5])\n",
    "    elif scale == \"max\":\n",
    "        scale = image.max()\n",
    "\n",
    "    # print(\"Rescaling with\", scale)\n",
    "    image = image * (256 / scale)\n",
    "    return image\n",
    "\n",
    "def imfill(filename):\n",
    "    \"\"\"Fill boundaries in an image. This is used to make the origin easy to detect.\"\"\"\n",
    "    image = imread(filename)\n",
    "    image = rescale(image, \"median\")\n",
    "    # Fill the rectangle at the center. Helps to detect the origin\n",
    "    seed = np.copy(image)\n",
    "    seed[1:-1, 1:-1] = image.max()\n",
    "    mask = image\n",
    "    with warnings.catch_warnings():\n",
    "        warnings.simplefilter(\"ignore\")\n",
    "        # Fill the square in the center to mark the origin\n",
    "        image = reconstruction(seed, mask, method='erosion')\n",
    "\n",
    "    return image.astype(np.uint8)\n",
    "\n",
    "\n",
    "test_calib_file = str(calib_files[2])\n",
    "fig, axes = plt.subplots(1, 2, dpi=100)\n",
    "imshow(imread(test_calib_file), axes[0])\n",
    "imshow(imfill(test_calib_file), axes[1])"
   ]
  },
  {
   "cell_type": "markdown",
   "metadata": {},
   "source": [
    "To detect the origin we use `SimpleCircleGrid` class. Although we intend to detect only one point, it works by tweaking the `minArea` parameter. This class will be described in the next section."
   ]
  },
  {
   "cell_type": "code",
   "execution_count": null,
   "metadata": {},
   "outputs": [],
   "source": [
    "from fluidimage.calibration.calib_cv import SimpleCircleGrid\n",
    "import os\n",
    "\n",
    "def find_origin(filename):\n",
    "    params = SimpleCircleGrid.create_default_params()\n",
    "    params.minArea = 18.\n",
    "    \n",
    "    circle_grid = SimpleCircleGrid(params)\n",
    "\n",
    "    # Pass the filled image to detect the square\n",
    "    keypoints = circle_grid.detect_all(\n",
    "        imfill(str(filename)))\n",
    "    assert len(keypoints) == 1\n",
    "    return keypoints[0].pt\n",
    "\n",
    "for cfile in calib_files:\n",
    "    print(f\"Origin of {cfile.name.rjust(13)} detected at\", find_origin(cfile))"
   ]
  },
  {
   "cell_type": "markdown",
   "metadata": {},
   "source": [
    "## Detecting image points as a circle grid"
   ]
  },
  {
   "cell_type": "markdown",
   "metadata": {},
   "source": [
    "The result is a list of blobs in pixel coordinates, centers in image coordinates."
   ]
  },
  {
   "cell_type": "code",
   "execution_count": null,
   "metadata": {},
   "outputs": [],
   "source": [
    "from fluidimage.calibration.calib_cv import SimpleCircleGrid\n",
    "\n",
    "params = SimpleCircleGrid.create_default_params()\n",
    "params"
   ]
  },
  {
   "cell_type": "markdown",
   "metadata": {},
   "source": [
    "There are certain parameters which can be tweaked to detect the circles as needed. For this particular case the defaults are enough."
   ]
  },
  {
   "cell_type": "code",
   "execution_count": null,
   "metadata": {},
   "outputs": [],
   "source": [
    "def construct_image_points(filename, debug=False):\n",
    "    image = imread(str(filename))\n",
    "    image = rescale(image, \"max\")\n",
    "    origin = find_origin(filename)\n",
    "    if debug:\n",
    "        print(\"Origin =\", origin)\n",
    "\n",
    "    params = SimpleCircleGrid.create_default_params()\n",
    "    circle_grid = SimpleCircleGrid(params)\n",
    "    centers = circle_grid.detect_grid(\n",
    "        image, origin, nx=7, ny=7, ds=50, debug=debug)\n",
    "\n",
    "    return centers\n",
    "    \n",
    "centers = construct_image_points(calib_files[2], debug=True)"
   ]
  },
  {
   "cell_type": "markdown",
   "metadata": {},
   "source": [
    "## Object Points"
   ]
  },
  {
   "cell_type": "markdown",
   "metadata": {},
   "source": [
    "The calibrate function requires objectPoints (world coordinates) and imagePoints (image coordinates) of the blobs detected."
   ]
  },
  {
   "cell_type": "code",
   "execution_count": null,
   "metadata": {},
   "outputs": [],
   "source": [
    "from fluidimage.calibration.calib_cv import construct_object_points"
   ]
  },
  {
   "cell_type": "markdown",
   "metadata": {},
   "source": [
    "For example"
   ]
  },
  {
   "cell_type": "code",
   "execution_count": null,
   "metadata": {},
   "outputs": [],
   "source": [
    "construct_object_points(nx=3, ny=3, z=-1, ds=3)"
   ]
  },
  {
   "cell_type": "markdown",
   "metadata": {},
   "source": [
    "## Calibration"
   ]
  },
  {
   "cell_type": "markdown",
   "metadata": {},
   "source": [
    "We now put together all the elements above to calibrate"
   ]
  },
  {
   "cell_type": "code",
   "execution_count": null,
   "metadata": {},
   "outputs": [],
   "source": [
    "from pathlib import Path\n",
    "from tempfile import gettempdir\n",
    "from fluidimage.calibration.calib_cv import CalibCV\n",
    "\n",
    "\n",
    "path_output = Path(gettempdir()) / \"fluidimage_opencv_calib\"\n",
    "\n",
    "\n",
    "def calibrate_camera(cam=\"cam0\", debug=False):\n",
    "    path_calib_h5 = path_output / (cam + \".h5\")\n",
    "    calib = CalibCV(path_calib_h5)\n",
    "    \n",
    "    objpoints = []\n",
    "    imgpoints = []\n",
    "    zs = []\n",
    "\n",
    "    path = path_image_samples / \"TomoPIV\" / \"calibration\" / cam\n",
    "    files = sorted(list(path.glob(\"*.tif\")))\n",
    "\n",
    "    # Populate objpoints, imgpoints and zs\n",
    "    for i, filename in enumerate(files):\n",
    "        z = int(filename.name.split(\"mm_\")[0])\n",
    "        zs.append(z)\n",
    "        objpoints.append(\n",
    "            construct_object_points(nx=7, ny=7, z=z, ds=3)\n",
    "        )\n",
    "        centers = construct_image_points(str(filename))\n",
    "        imgpoints.append(centers)\n",
    "    \n",
    "    im_shape = imread(str(filename)).shape[::-1]\n",
    "    origin = find_origin(str(files[2]))\n",
    "    return calib.calibrate(imgpoints, objpoints, zs, im_shape, origin, debug)\n",
    "\n",
    "\n",
    "ret, mtx, dist, rvecs, tvecs = calibrate_camera(\"cam0\", debug=True)"
   ]
  },
  {
   "cell_type": "code",
   "execution_count": null,
   "metadata": {},
   "outputs": [],
   "source": [
    "from pprint import pformat\n",
    "\n",
    "def print_horizontally(vecs):\n",
    "    vecs2 = ['']\n",
    "    vecs2.extend([v.T for v in vecs])\n",
    "    return pformat(vecs2)\n",
    "\n",
    "print(f\"\"\"\n",
    "        Avg. reprojection error = {ret}\n",
    "        fx, fy = {mtx[0,0]}, {mtx[1,1]}\n",
    "        cx, cy = {mtx[0,2]}, {mtx[1,2]}\n",
    "        k1, k2, p1, p2, k3 = {dist.T}\n",
    "        rotation vectors = {print_horizontally(rvecs)}\n",
    "        translation vectors = {print_horizontally(tvecs)}\n",
    "\"\"\")"
   ]
  },
  {
   "cell_type": "markdown",
   "metadata": {},
   "source": [
    "## Calibrate all 4 cameras"
   ]
  },
  {
   "cell_type": "code",
   "execution_count": null,
   "metadata": {},
   "outputs": [],
   "source": [
    "for i in range(4):\n",
    "    calibrate_camera(f\"cam{i}\")"
   ]
  },
  {
   "cell_type": "code",
   "execution_count": null,
   "metadata": {},
   "outputs": [],
   "source": [
    "list(path_output.glob(\"*.h5\"))"
   ]
  }
 ],
 "metadata": {
  "kernelspec": {
   "display_name": "Python 3",
   "language": "python",
   "name": "python3"
  },
  "language_info": {
   "codemirror_mode": {
    "name": "ipython",
    "version": 3
   },
   "file_extension": ".py",
   "mimetype": "text/x-python",
   "name": "python",
   "nbconvert_exporter": "python",
   "pygments_lexer": "ipython3",
   "version": "3.7.0"
  }
 },
 "nbformat": 4,
 "nbformat_minor": 2
}
