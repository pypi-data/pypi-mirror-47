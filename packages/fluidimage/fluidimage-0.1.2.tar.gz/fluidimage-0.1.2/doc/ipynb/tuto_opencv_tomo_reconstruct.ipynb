{
 "cells": [
  {
   "cell_type": "markdown",
   "metadata": {},
   "source": [
    "# Tomographic reconstruction using OpenCV\n",
    "\n",
    "Tomographic reconstruction here is performed using the class `TomoMLOSCV` from the module `fluidimage.reconstruct.tomo`. \n",
    "\n",
    "As input we have a pair of preprocessed particle images from each of the  4 cameras.\n",
    "Let us start by loading the calibration data generated in the previous tutorial, and\n",
    "instantiating the MLOS class."
   ]
  },
  {
   "cell_type": "markdown",
   "metadata": {},
   "source": [
    "## Instantiation"
   ]
  },
  {
   "cell_type": "code",
   "execution_count": null,
   "metadata": {},
   "outputs": [],
   "source": [
    "from fluidimage import path_image_samples\n",
    "\n",
    "path = path_image_samples / \"TomoPIV\" / \"calibration\"\n",
    "cameras = [str(path / f\"cam{i}.h5\") for i in range(4)]\n",
    "cameras"
   ]
  },
  {
   "cell_type": "markdown",
   "metadata": {},
   "source": [
    "To instantiate, we need to pass the paths of the calibration files as a list, specify limits of the world coordinates and number of voxels along each axes (i.e. the shape of the 3D volume to reconstruct)."
   ]
  },
  {
   "cell_type": "code",
   "execution_count": null,
   "metadata": {},
   "outputs": [],
   "source": [
    "from fluidimage.reconstruct.tomo import TomoMLOSCV\n",
    "\n",
    "\n",
    "tomo = TomoMLOSCV(\n",
    "        *cameras,\n",
    "        xlims=(-10, 10), ylims=(-10, 10), zlims=(-5, 5), \n",
    "        nb_voxels=(20, 20, 10),\n",
    ")"
   ]
  },
  {
   "cell_type": "markdown",
   "metadata": {},
   "source": [
    "## Verify projection"
   ]
  },
  {
   "cell_type": "code",
   "execution_count": null,
   "metadata": {},
   "outputs": [],
   "source": [
    "%matplotlib inline\n",
    "tomo.verify_projection(\"cam0\")"
   ]
  },
  {
   "cell_type": "code",
   "execution_count": null,
   "metadata": {},
   "outputs": [],
   "source": [
    "tomo.verify_projection(\"cam3\")"
   ]
  },
  {
   "cell_type": "markdown",
   "metadata": {},
   "source": [
    "These are two cameras placed symmetrically to the left and right of $z_{world}$ axis. As a result the projection have a left-right symmetry. So qualitatively the calibrations look correct.\n",
    "\n",
    "## Reconstruction\n",
    "\n",
    "Setup `particle_images` as input and also the output directory (optional, by default a directory named `tomo` alongside the camera directories is set as output directory)."
   ]
  },
  {
   "cell_type": "code",
   "execution_count": null,
   "metadata": {},
   "outputs": [],
   "source": [
    "from pathlib import Path\n",
    "from tempfile import gettempdir\n",
    "import shutil\n",
    "\n",
    "particle_images = path_image_samples / \"TomoPIV\" / \"particle\"\n",
    "output_dir = Path(gettempdir()) / \"fluidimage_opencv_tomo_reconstruct\"\n",
    "if output_dir.exists():\n",
    "    shutil.rmtree(output_dir)"
   ]
  },
  {
   "cell_type": "markdown",
   "metadata": {},
   "source": [
    "And.... reconstruct the volume!\n",
    "\n",
    "**Note:** In the next section, we reconstruct inside with the array in the memory. This is useful to visualize it immediately after the result is obtained. For larger volumes this may not be feasible, and a better option would be to reconstruct into the filesystem. Set `save=True` in `tomo.reconstruct` function to achieve that."
   ]
  },
  {
   "cell_type": "code",
   "execution_count": null,
   "metadata": {},
   "outputs": [],
   "source": [
    "for cam in tomo.cams:\n",
    "    print(f\"Projecting {cam}...\")\n",
    "    pix = tomo.phys2pix(cam)\n",
    "    i0 = 1\n",
    "    for i1 in [\"a\", \"b\"]:\n",
    "        image = str(particle_images / f\"{cam}.pre\" / f\"im{i0:05.0f}{i1}.tif\")\n",
    "        tomo.array.init_paths(image, output_dir)\n",
    "        print(f\"MLOS of {cam} on {image}: reconstructing...\")\n",
    "        tomo.reconstruct(\n",
    "            pix, image, threshold=None, save=False)"
   ]
  },
  {
   "cell_type": "markdown",
   "metadata": {},
   "source": [
    "## Visualize interactively"
   ]
  },
  {
   "cell_type": "markdown",
   "metadata": {},
   "source": [
    "Plot the whole volume using a `ipyvolume` widget."
   ]
  },
  {
   "cell_type": "code",
   "execution_count": null,
   "metadata": {},
   "outputs": [],
   "source": [
    "# import ipyvolume.pylab as p3\n",
    "# fig, scatter = tomo.array.plot3d()\n",
    "# p3.show()\n",
    "help(tomo.array.plot3d)"
   ]
  },
  {
   "cell_type": "markdown",
   "metadata": {},
   "source": [
    "Or, visualize slices along $z_{world}$ one by one."
   ]
  },
  {
   "cell_type": "code",
   "execution_count": null,
   "metadata": {},
   "outputs": [],
   "source": [
    "# %matplotlib\n",
    "# tomo.array.plot_slices()\n",
    "help(tomo.array.plot_slices)"
   ]
  },
  {
   "cell_type": "markdown",
   "metadata": {},
   "source": [
    "## Footnote: The MLOS algorithm\n",
    "\n",
    "This is how MLOS works:\n",
    "\n",
    "1. All the points in the volume (voxels) are initialized as unity.\n",
    "1. The rotation and translation vectors are linearly interpolated in `z` such\n",
    "   that a particular slice where `z` is constant can be projected \n",
    "1. All the voxels in the z-slice are projected into pixel coordinates, using\n",
    "   the OpenCV function `cv2.projectPoints` which uses the expression shown\n",
    "   in Fig. 5 which includes radial and tangential distortion compensation.\n",
    "1. The projected voxels are initialized using [nearest neighbour\n",
    "   interpolation](\n",
    "https://docs.scipy.org/doc/scipy/reference/generated/scipy.interpolate.NearestNDInterpolator.html#scipy.interpolate.NearestNDInterpolator)\n",
    "1. The initialized voxels are re-projected back into the volume and multiplied\n",
    "   with the previous value of the z-slice.\n",
    "1. Repeat the steps for every z-slice and for every camera.\n",
    "1. Normalize the final intensities by raising them to the power of $1/N_{cam}$.\n",
    "\n",
    "The relevant function which performs the projection is `TomoMLOSCV.phys2pix`\n",
    "and `TomoMLOSCV.get_interpolator` and `TomoMLOSCV.reconstruct`\n",
    "does calculates the interpolation and applies MLOS back-projection,\n",
    "respectively."
   ]
  }
 ],
 "metadata": {
  "kernelspec": {
   "display_name": "Python 3",
   "language": "python",
   "name": "python3"
  },
  "language_info": {
   "codemirror_mode": {
    "name": "ipython",
    "version": 3
   },
   "file_extension": ".py",
   "mimetype": "text/x-python",
   "name": "python",
   "nbconvert_exporter": "python",
   "pygments_lexer": "ipython3",
   "version": "3.7.0"
  }
 },
 "nbformat": 4,
 "nbformat_minor": 2
}
