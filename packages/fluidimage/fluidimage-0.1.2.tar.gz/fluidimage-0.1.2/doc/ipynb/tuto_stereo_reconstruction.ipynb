{
 "cells": [
  {
   "cell_type": "markdown",
   "metadata": {},
   "source": [
    "# Stereo Reconstruction with Direct Calibration\n",
    "\n",
    "We present in this notebook how to do stereo reconstruction with 2 cameras."
   ]
  },
  {
   "cell_type": "code",
   "execution_count": null,
   "metadata": {},
   "outputs": [],
   "source": [
    "# to handle the paths\n",
    "import os\n",
    "from fluidimage import path_image_samples\n",
    "\n",
    "# to load the PIV files\n",
    "import h5py\n",
    "\n",
    "# the tools for stereo reconstruction:\n",
    "from fluidimage.calibration import DirectStereoReconstruction\n",
    "from fluidimage.calibration.util import get_plane_equation\n",
    "\n",
    "pathbase = path_image_samples / '4th_PIV-Challenge_Case_E'"
   ]
  },
  {
   "cell_type": "code",
   "execution_count": null,
   "metadata": {},
   "outputs": [],
   "source": [
    "def make_calib_path(index_cam):\n",
    "    path_cam = pathbase / f'E_Calibration_Images/Camera_0{index_cam}'\n",
    "    path = path_cam / f'calib{index_cam}.npy'\n",
    "    if not os.path.exists(path):\n",
    "        # we need to create this calib file.\n",
    "        from fluidimage.calibration import CalibDirect\n",
    "        calib = CalibDirect(\n",
    "            glob_str_xml=str(path_cam / 'img*.xml'), \n",
    "            shape_img=(1024, 1024))\n",
    "        calib.compute_interpolents()\n",
    "        nb_lines_x, nb_lines_y = 64, 64\n",
    "        calib.compute_interpolents_pixel2line(nb_lines_x, nb_lines_y, test=False)\n",
    "        calib.save(path)\n",
    "    return path"
   ]
  },
  {
   "cell_type": "markdown",
   "metadata": {},
   "source": [
    "Make an instance of the class with the 2 calibration files"
   ]
  },
  {
   "cell_type": "code",
   "execution_count": null,
   "metadata": {},
   "outputs": [],
   "source": [
    "paths_calibs = [make_calib_path(index_cam) for index_cam in [1, 3]]\n",
    "stereo = DirectStereoReconstruction(*paths_calibs)"
   ]
  },
  {
   "cell_type": "markdown",
   "metadata": {},
   "source": [
    "Define the plane of measurement"
   ]
  },
  {
   "cell_type": "code",
   "execution_count": null,
   "metadata": {},
   "outputs": [],
   "source": [
    "z0 = 0\n",
    "alpha = 0\n",
    "beta = 0\n",
    "a, b, c, d = get_plane_equation(z0, alpha, beta)"
   ]
  },
  {
   "cell_type": "markdown",
   "metadata": {},
   "source": [
    "Get the 2 PIV fields"
   ]
  },
  {
   "cell_type": "code",
   "execution_count": null,
   "metadata": {},
   "outputs": [],
   "source": [
    "def get_piv_field(path):\n",
    "\n",
    "    try:\n",
    "        with h5py.File(path, 'r') as f:\n",
    "            keyspiv = [key for key in f.keys() if key.startswith('piv')]\n",
    "            keyspiv.sort()\n",
    "            key = keyspiv[-1]\n",
    "            X = f[key]['xs'][:]\n",
    "            Y = f[key]['ys'][:]\n",
    "            dx = f[key]['deltaxs_final'][:]\n",
    "            dy = f[key]['deltays_final'][:]\n",
    "    except Exception:\n",
    "        print(path)\n",
    "        raise\n",
    "\n",
    "    return X, Y, dx, dy\n",
    "\n",
    "postfix = '.piv'\n",
    "v = 'piv_00001-00002.h5'\n",
    "\n",
    "path1 = pathbase / ('E_Particle_Images/Camera_01' + postfix) / v\n",
    "path3 = pathbase / ('E_Particle_Images/Camera_03' + postfix) / v\n",
    "\n",
    "Xl, Yl, dxl, dyl = get_piv_field(path1)\n",
    "Xr, Yr, dxr, dyr = get_piv_field(path3)"
   ]
  },
  {
   "cell_type": "markdown",
   "metadata": {},
   "source": [
    "Apply calibration on the 2 cameras, the result is given of their respectives planes"
   ]
  },
  {
   "cell_type": "code",
   "execution_count": null,
   "metadata": {},
   "outputs": [],
   "source": [
    "X0, X1, d0cam, d1cam = stereo.project2cam(\n",
    "    Xl, Yl, dxl, dyl, Xr, Yr, dxr, dyr, a, b, c, d, check=False)"
   ]
  },
  {
   "cell_type": "markdown",
   "metadata": {},
   "source": [
    "Find the common grid"
   ]
  },
  {
   "cell_type": "code",
   "execution_count": null,
   "metadata": {},
   "outputs": [],
   "source": [
    "X, Y, Z = stereo.find_common_grid(X0, X1, a, b, c, d)"
   ]
  },
  {
   "cell_type": "markdown",
   "metadata": {},
   "source": [
    "Reconstruct the 3 components of the velocity"
   ]
  },
  {
   "cell_type": "code",
   "execution_count": null,
   "metadata": {},
   "outputs": [],
   "source": [
    "dx, dy, dz, erx, ery, erz = stereo.reconstruction(\n",
    "    X0, X1, d0cam, d1cam, a, b, c, d, X, Y, check=False)"
   ]
  }
 ],
 "metadata": {
  "kernelspec": {
   "display_name": "Python 3",
   "language": "python",
   "name": "python3"
  },
  "language_info": {
   "codemirror_mode": {
    "name": "ipython",
    "version": 3
   },
   "file_extension": ".py",
   "mimetype": "text/x-python",
   "name": "python",
   "nbconvert_exporter": "python",
   "pygments_lexer": "ipython3",
   "version": "3.7.2"
  }
 },
 "nbformat": 4,
 "nbformat_minor": 2
}
