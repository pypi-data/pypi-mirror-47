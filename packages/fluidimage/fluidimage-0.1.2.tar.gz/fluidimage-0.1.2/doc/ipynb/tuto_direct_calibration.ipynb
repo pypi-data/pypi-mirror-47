{
 "cells": [
  {
   "cell_type": "code",
   "execution_count": null,
   "metadata": {},
   "outputs": [],
   "source": [
    "%matplotlib inline\n",
    "import numpy as np"
   ]
  },
  {
   "cell_type": "markdown",
   "metadata": {},
   "source": [
    "# Direct Calibration\n",
    "\n",
    "For this tutorial we will use files contained in the fluidimage repository. We assume that fluidimage has been installed with `python setup.py develop` and we deduce the path of the repository from the path of the package fluidimage:"
   ]
  },
  {
   "cell_type": "code",
   "execution_count": null,
   "metadata": {},
   "outputs": [],
   "source": [
    "from fluidimage import path_image_samples"
   ]
  },
  {
   "cell_type": "markdown",
   "metadata": {},
   "source": [
    "We first import the class `CalibDirect`"
   ]
  },
  {
   "cell_type": "code",
   "execution_count": null,
   "metadata": {},
   "outputs": [],
   "source": [
    "from fluidimage.calibration import CalibDirect"
   ]
  },
  {
   "cell_type": "markdown",
   "metadata": {},
   "source": [
    "Give number of pixels of images and the path of grid points made by UVMAT"
   ]
  },
  {
   "cell_type": "code",
   "execution_count": null,
   "metadata": {},
   "outputs": [],
   "source": [
    "path_cam = (path_image_samples /\n",
    "            '4th_PIV-Challenge_Case_E/E_Calibration_Images/Camera_01')\n",
    "glob_str_xml = path_cam / 'img*.xml'\n",
    "shape_img = 1024, 1024\n",
    "calib = CalibDirect(glob_str_xml, shape_img)"
   ]
  },
  {
   "cell_type": "markdown",
   "metadata": {},
   "source": [
    "We now compute interpolents able to compute the physical coordinates from the indices in the images and  (for each level)"
   ]
  },
  {
   "cell_type": "code",
   "execution_count": null,
   "metadata": {},
   "outputs": [],
   "source": [
    "calib.compute_interpolents()"
   ]
  },
  {
   "cell_type": "markdown",
   "metadata": {},
   "source": [
    "The quality of this step can be checked with the function `check_interp_levels`"
   ]
  },
  {
   "cell_type": "code",
   "execution_count": null,
   "metadata": {},
   "outputs": [],
   "source": [
    "calib.check_interp_levels()"
   ]
  },
  {
   "cell_type": "markdown",
   "metadata": {},
   "source": [
    "And finally, we compute the interpolents for equations of optical paths from nbline_x * nbline_y lines and save the calibration"
   ]
  },
  {
   "cell_type": "code",
   "execution_count": null,
   "metadata": {},
   "outputs": [],
   "source": [
    "nb_lines_x, nb_lines_y = 128, 64\n",
    "calib.compute_interpolents_pixel2line(nb_lines_x, nb_lines_y, test=False)"
   ]
  },
  {
   "cell_type": "code",
   "execution_count": null,
   "metadata": {},
   "outputs": [],
   "source": [
    "calib.save(path_cam / 'calib1.npy')"
   ]
  },
  {
   "cell_type": "markdown",
   "metadata": {},
   "source": [
    "It is very important to check that everything seems all right because it is easy to make something wrong with such calibration."
   ]
  },
  {
   "cell_type": "code",
   "execution_count": null,
   "metadata": {},
   "outputs": [],
   "source": [
    "calib.check_interp_lines()"
   ]
  },
  {
   "cell_type": "code",
   "execution_count": null,
   "metadata": {},
   "outputs": [],
   "source": [
    "calib.check_interp_lines_coeffs()"
   ]
  },
  {
   "cell_type": "code",
   "execution_count": null,
   "metadata": {},
   "outputs": [],
   "source": [
    "from fluidimage.calibration.util import get_plane_equation\n",
    "z0 = 0.05\n",
    "alpha = 0\n",
    "beta = 0\n",
    "a, b, c, d = get_plane_equation(z0, alpha, beta)"
   ]
  },
  {
   "cell_type": "code",
   "execution_count": null,
   "metadata": {},
   "outputs": [],
   "source": [
    "indx = np.arange(100, 1000, 100)\n",
    "indy = np.arange(100, 1000, 100)\n",
    "\n",
    "calib.intersect_with_plane(indx, indy, a, b, c, d)"
   ]
  },
  {
   "cell_type": "code",
   "execution_count": null,
   "metadata": {},
   "outputs": [],
   "source": [
    "dx = np.random.randint(0, 5, indx.size)\n",
    "dy = np.random.randint(0, 5, indx.size)\n",
    "calib.apply_calib(indx, indy, dx, dy, a, b, c, d)"
   ]
  }
 ],
 "metadata": {
  "kernelspec": {
   "display_name": "Python 3",
   "language": "python",
   "name": "python3"
  },
  "language_info": {
   "codemirror_mode": {
    "name": "ipython",
    "version": 3
   },
   "file_extension": ".py",
   "mimetype": "text/x-python",
   "name": "python",
   "nbconvert_exporter": "python",
   "pygments_lexer": "ipython3",
   "version": "3.6.6"
  }
 },
 "nbformat": 4,
 "nbformat_minor": 2
}
