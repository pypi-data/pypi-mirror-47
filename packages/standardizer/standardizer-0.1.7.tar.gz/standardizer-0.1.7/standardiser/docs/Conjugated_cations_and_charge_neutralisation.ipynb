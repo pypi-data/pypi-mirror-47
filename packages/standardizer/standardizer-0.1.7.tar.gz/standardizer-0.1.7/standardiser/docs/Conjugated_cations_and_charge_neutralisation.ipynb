{
 "cells": [
  {
   "cell_type": "code",
   "execution_count": 1,
   "metadata": {
    "collapsed": false
   },
   "outputs": [],
   "source": [
    "%run notebook_setup.py\n",
    "\n",
    "sys.path.append('../..')"
   ]
  },
  {
   "cell_type": "code",
   "execution_count": 2,
   "metadata": {
    "collapsed": false
   },
   "outputs": [],
   "source": [
    "from standardiser import rules, neutralise, standardise"
   ]
  },
  {
   "cell_type": "code",
   "execution_count": 3,
   "metadata": {
    "collapsed": true
   },
   "outputs": [],
   "source": [
    "for module in [rules, neutralise, standardise]: module.logger.setLevel('DEBUG')"
   ]
  },
  {
   "cell_type": "markdown",
   "metadata": {},
   "source": [
    "# The 'Conjugated Cation' rules and charge neutralisation\n",
    "\n",
    "### Introduction\n",
    "\n",
    "This set of rules affects molecules where a non-protonated atom bearing a positive charge (most commonly a quaternary nitrogen) is conjugated with a neutral nitrogen bearing a hydrogen atom.\n",
    "\n",
    "In such cases, the charge is moved from the 'quat' atom to the proton-bearing atom _via_ successive rearrangement of adjacent souble and single bonds. The =(NH+)- moiety thus exposed may then be deprotonated in a subsequent neutralisation step, leaving the neutral parent species.\n",
    "\n",
    "For some of the rules involving aromatic rings, the products are iminium-containing species, which, while still formally aromatic under RDKit's definition, are distinctly less so than the original molecule. The rules where this occurs are\n",
    "'[Fix 1,3 conjugated cation (aromatic 2)](03_rules.ipynb#Fix_1_3_conjugated_cation_aromatic_2)',\n",
    "'[Fix 1,5 conjugated cation (aromatic 2)](03_rules.ipynb#Fix_1_3_conjugated_cation_aromatic_2)' and (possibly)\n",
    "'[Fix 1,5 conjugated cation (aromatic 3)](03_rules.ipynb#Fix_1_3_conjugated_cation_aromatic_2)'.\n",
    "\n",
    "In the full protocol, the 'standardised' cations will then be deprotonated in the subsequent [neutralisation](neutralise.ipynb) step to leave the neutral imine. These imines look somewhat awkward, and it may be that the more aromatic cation is preferable. This issue can also occur with five-membered heterocycles, where the 'loss of aromaticity' might not appear so drastic.\n",
    "\n",
    "In summary, the interplay of the neutralisation steps and the 'Conjugated Cation' rules can be problematic. The question is whether these rules are desirable (at least by default), or whether maximising aromaticity should take precedence over deprotonation.\n",
    "\n",
    "Some examples are discussed below. "
   ]
  },
  {
   "cell_type": "markdown",
   "metadata": {},
   "source": [
    "### Six-membered example\n",
    "\n",
    "The charged heterocycle below is converted by a 'Fix 1,3 conjugated cation' rule to a (charged) imine which is then deprotonated in the subsequent neutralisation step..."
   ]
  },
  {
   "cell_type": "code",
   "execution_count": 4,
   "metadata": {
    "collapsed": false
   },
   "outputs": [
    {
     "data": {
      "image/png": "[encoded data removed]",
      "text/plain": [
       "<rdkit.Chem.rdchem.Mol at 0x7f7e2623a080>"
      ]
     },
     "execution_count": 4,
     "metadata": {},
     "output_type": "execute_result"
    }
   ],
   "source": [
    "mol = Chem.MolFromSmiles(\"CNc1[n+](C)cccc1\")\n",
    "mol"
   ]
  },
  {
   "cell_type": "code",
   "execution_count": 5,
   "metadata": {
    "collapsed": false
   },
   "outputs": [
    {
     "name": "stderr",
     "output_type": "stream",
     "text": [
      "[2016/Mar/24 16:25:09 DEBUG   ] apply> mol = 'CNc1cccc[n+]1C'\n",
      "[2016/Mar/24 16:25:09 DEBUG   ] apply> starting pass 1...\n",
      "[2016/Mar/24 16:25:09 DEBUG   ] rule 23 'Fix 1,3 conjugated cation (aromatic 2)' applied on pass 1\n",
      "[2016/Mar/24 16:25:09 DEBUG   ] ...total of 1 hits in pass: will continue...\n",
      "[2016/Mar/24 16:25:09 DEBUG   ] apply> starting pass 2...\n",
      "[2016/Mar/24 16:25:09 DEBUG   ] ...total of 0 hits in pass: finished.\n"
     ]
    },
    {
     "data": {
      "image/png": "[encoded data removed]",
      "text/plain": [
       "<rdkit.Chem.rdchem.Mol at 0x7f7e25d09ef8>"
      ]
     },
     "execution_count": 5,
     "metadata": {},
     "output_type": "execute_result"
    }
   ],
   "source": [
    "mol = rules.apply(mol)\n",
    "mol"
   ]
  },
  {
   "cell_type": "code",
   "execution_count": 6,
   "metadata": {
    "collapsed": false
   },
   "outputs": [
    {
     "name": "stderr",
     "output_type": "stream",
     "text": [
      "[2016/Mar/24 16:25:09 DEBUG   ] 1 positive/H, 0 positive/quat and 0 negative (of which 0 are acid) charges identified\n",
      "[2016/Mar/24 16:25:09 DEBUG   ] Overall H balance: -1; formal charge: 0\n"
     ]
    },
    {
     "data": {
      "image/png": "[encoded data removed]",
      "text/plain": [
       "<rdkit.Chem.rdchem.Mol at 0x7f7e25d36990>"
      ]
     },
     "execution_count": 6,
     "metadata": {},
     "output_type": "execute_result"
    }
   ],
   "source": [
    "mol = neutralise.apply(mol)\n",
    "mol"
   ]
  },
  {
   "cell_type": "markdown",
   "metadata": {},
   "source": [
    "This imine looks rather awkaward, although RDKit still considers it to be aromatic..."
   ]
  },
  {
   "cell_type": "code",
   "execution_count": 7,
   "metadata": {
    "collapsed": false
   },
   "outputs": [
    {
     "data": {
      "text/plain": [
       "'CN=c1ccccn1C'"
      ]
     },
     "execution_count": 7,
     "metadata": {},
     "output_type": "execute_result"
    }
   ],
   "source": [
    "Chem.MolToSmiles(mol)"
   ]
  },
  {
   "cell_type": "markdown",
   "metadata": {},
   "source": [
    "This example is based on a real [molecule](https://www.ebi.ac.uk/chembl/compound/inspect/CHEMBL83939 \"CHEMBL83939\"), and, in the context of the whole molecule, the problem looks worse: the presence of a carboxylic acid means the molecule with the charged heterocycle could exist as a charge-neutral zwitterion (possibly even with an internal salt-bridge, as the positive charge will be partially delocalised onto the proton-bearing pendant amine)."
   ]
  },
  {
   "cell_type": "code",
   "execution_count": 8,
   "metadata": {
    "collapsed": false
   },
   "outputs": [
    {
     "data": {
      "image/png": "[encoded data removed]",
      "text/plain": [
       "<rdkit.Chem.rdchem.Mol at 0x7f7e25d36b20>"
      ]
     },
     "execution_count": 8,
     "metadata": {},
     "output_type": "execute_result"
    }
   ],
   "source": [
    "mol = Chem.MolFromSmiles(\"CC(C)Cc1ccc(N)[n+](CCCC(=O)O)n1\")\n",
    "mol"
   ]
  },
  {
   "cell_type": "code",
   "execution_count": 9,
   "metadata": {
    "collapsed": false
   },
   "outputs": [
    {
     "name": "stderr",
     "output_type": "stream",
     "text": [
      "[2016/Mar/24 16:25:09 DEBUG   ] apply> mol = 'CC(C)Cc1ccc(N)[n+](CCCC(=O)O)n1'\n",
      "[2016/Mar/24 16:25:09 DEBUG   ] apply> starting pass 1...\n",
      "[2016/Mar/24 16:25:09 DEBUG   ] rule 23 'Fix 1,3 conjugated cation (aromatic 2)' applied on pass 1\n",
      "[2016/Mar/24 16:25:09 DEBUG   ] ...total of 1 hits in pass: will continue...\n",
      "[2016/Mar/24 16:25:09 DEBUG   ] apply> starting pass 2...\n",
      "[2016/Mar/24 16:25:09 DEBUG   ] ...total of 0 hits in pass: finished.\n",
      "[2016/Mar/24 16:25:09 DEBUG   ] 1 positive/H, 0 positive/quat and 0 negative (of which 0 are acid) charges identified\n",
      "[2016/Mar/24 16:25:09 DEBUG   ] Overall H balance: -1; formal charge: 0\n"
     ]
    },
    {
     "data": {
      "image/png": "[encoded data removed]",
      "text/plain": [
       "<rdkit.Chem.rdchem.Mol at 0x7f7e25d369e0>"
      ]
     },
     "execution_count": 9,
     "metadata": {},
     "output_type": "execute_result"
    }
   ],
   "source": [
    "neutralise.apply(standardise.rules.apply(mol))"
   ]
  },
  {
   "cell_type": "markdown",
   "metadata": {},
   "source": [
    "Running the `standardise` module itself on the zwitterionic form..."
   ]
  },
  {
   "cell_type": "code",
   "execution_count": 10,
   "metadata": {
    "collapsed": false
   },
   "outputs": [
    {
     "data": {
      "image/png": "[encoded data removed]",
      "text/plain": [
       "<rdkit.Chem.rdchem.Mol at 0x7f7e25cca300>"
      ]
     },
     "execution_count": 10,
     "metadata": {},
     "output_type": "execute_result"
    }
   ],
   "source": [
    "mol = Chem.MolFromSmiles(\"CC(C)Cc1ccc(N)[n+](CCCC(=O)[O-])n1\")\n",
    "mol"
   ]
  },
  {
   "cell_type": "code",
   "execution_count": 11,
   "metadata": {
    "collapsed": false
   },
   "outputs": [
    {
     "name": "stderr",
     "output_type": "stream",
     "text": [
      "[2016/Mar/24 16:25:09 DEBUG   ] Starting fragment 1 'CC(C)Cc1ccc(N)[n+](CCCC(=O)[O-])n1'...\n",
      "[2016/Mar/24 16:25:09 DEBUG   ] 1) Check for non-organic elements...\n",
      "[2016/Mar/24 16:25:09 DEBUG   ] 2) Attempting to neutralise (first pass)...\n",
      "[2016/Mar/24 16:25:09 DEBUG   ] 0 positive/H, 1 positive/quat and 1 negative (of which 1 are acid) charges identified\n",
      "[2016/Mar/24 16:25:09 DEBUG   ] Overall H balance: 0; formal charge: 0\n",
      "[2016/Mar/24 16:25:09 DEBUG   ] 3) Applying rules...\n",
      "[2016/Mar/24 16:25:09 DEBUG   ] apply> mol = 'CC(C)Cc1ccc(N)[n+](CCCC(=O)[O-])n1'\n",
      "[2016/Mar/24 16:25:09 DEBUG   ] apply> starting pass 1...\n",
      "[2016/Mar/24 16:25:09 DEBUG   ] rule 23 'Fix 1,3 conjugated cation (aromatic 2)' applied on pass 1\n",
      "[2016/Mar/24 16:25:09 DEBUG   ] ...total of 1 hits in pass: will continue...\n",
      "[2016/Mar/24 16:25:09 DEBUG   ] apply> starting pass 2...\n",
      "[2016/Mar/24 16:25:09 DEBUG   ] ...total of 0 hits in pass: finished.\n",
      "[2016/Mar/24 16:25:09 DEBUG   ] 4) Attempting to neutralise (second pass)...\n",
      "[2016/Mar/24 16:25:09 DEBUG   ] 1 positive/H, 0 positive/quat and 1 negative (of which 1 are acid) charges identified\n",
      "[2016/Mar/24 16:25:09 DEBUG   ] Overall H balance: 0; formal charge: 0\n",
      "[2016/Mar/24 16:25:09 DEBUG   ] 5) Checking if frag is a salt/solvate...\n",
      "[2016/Mar/24 16:25:09 DEBUG   ] ...fragment kept.\n"
     ]
    },
    {
     "data": {
      "image/png": "[encoded data removed]",
      "text/plain": [
       "<rdkit.Chem.rdchem.Mol at 0x7f7e25d36bc0>"
      ]
     },
     "execution_count": 11,
     "metadata": {},
     "output_type": "execute_result"
    }
   ],
   "source": [
    "standardise.apply(mol)"
   ]
  },
  {
   "cell_type": "markdown",
   "metadata": {},
   "source": [
    "Here, the _first_ round of charge-neutralization does nothing as the pyridine nitrogen is a quat. Then, a 'conjugated cation' rule moves the charge to the amine, which the _second_ round of neutralization deprotonates. The acid is then protonated to give the neutral imine parent.\n"
   ]
  },
  {
   "cell_type": "markdown",
   "metadata": {},
   "source": [
    "A few other examples where this happens...\n",
    "\n",
    "* [CHEMBL1623170](https://www.ebi.ac.uk/chembl/compound/inspect/CHEMBL1623170)\n",
    "* [CHEMBL355307](https://www.ebi.ac.uk/chembl/compound/inspect/CHEMBL355307) \n",
    "* [CHEMBL1198819](https://www.ebi.ac.uk/chembl/compound/inspect/CHEMBL1198819)\n",
    "* [CHEMBL1187086](https://www.ebi.ac.uk/chembl/compound/inspect/CHEMBL1187086)\n",
    "\n",
    "It might thus be that, in the case of some nitrogen-containing heteroaromatics, the '`Fix 1,n charge-seperated systems`' transforms are too agressive, and that a more specific rule that excludes these cases would be desirable."
   ]
  },
  {
   "cell_type": "markdown",
   "metadata": {},
   "source": [
    "### Five-membered analogue\n",
    "\n",
    "The charged heterocycle below is converted to an imine which is then deprotonated in the neutralisation step..."
   ]
  },
  {
   "cell_type": "code",
   "execution_count": 12,
   "metadata": {
    "collapsed": false
   },
   "outputs": [
    {
     "data": {
      "image/png": "[encoded data removed]",
      "text/plain": [
       "<rdkit.Chem.rdchem.Mol at 0x7f7e25cca710>"
      ]
     },
     "execution_count": 12,
     "metadata": {},
     "output_type": "execute_result"
    }
   ],
   "source": [
    "mol = Chem.MolFromSmiles(\"CNc1[n+](C)ccs1\")\n",
    "mol"
   ]
  },
  {
   "cell_type": "code",
   "execution_count": 13,
   "metadata": {
    "collapsed": false
   },
   "outputs": [
    {
     "name": "stderr",
     "output_type": "stream",
     "text": [
      "[2016/Mar/24 16:25:09 DEBUG   ] apply> mol = 'CNc1scc[n+]1C'\n",
      "[2016/Mar/24 16:25:09 DEBUG   ] apply> starting pass 1...\n",
      "[2016/Mar/24 16:25:09 DEBUG   ] rule 23 'Fix 1,3 conjugated cation (aromatic 2)' applied on pass 1\n",
      "[2016/Mar/24 16:25:09 DEBUG   ] ...total of 1 hits in pass: will continue...\n",
      "[2016/Mar/24 16:25:09 DEBUG   ] apply> starting pass 2...\n",
      "[2016/Mar/24 16:25:09 DEBUG   ] ...total of 0 hits in pass: finished.\n"
     ]
    },
    {
     "data": {
      "image/png": "[encoded data removed]",
      "text/plain": [
       "<rdkit.Chem.rdchem.Mol at 0x7f7e25d09f50>"
      ]
     },
     "execution_count": 13,
     "metadata": {},
     "output_type": "execute_result"
    }
   ],
   "source": [
    "mol = rules.apply(mol)\n",
    "mol"
   ]
  },
  {
   "cell_type": "code",
   "execution_count": 14,
   "metadata": {
    "collapsed": false
   },
   "outputs": [
    {
     "name": "stderr",
     "output_type": "stream",
     "text": [
      "[2016/Mar/24 16:25:09 DEBUG   ] 1 positive/H, 0 positive/quat and 0 negative (of which 0 are acid) charges identified\n",
      "[2016/Mar/24 16:25:09 DEBUG   ] Overall H balance: -1; formal charge: 0\n"
     ]
    },
    {
     "data": {
      "image/png": "[encoded data removed]",
      "text/plain": [
       "<rdkit.Chem.rdchem.Mol at 0x7f7e25ccac10>"
      ]
     },
     "execution_count": 14,
     "metadata": {},
     "output_type": "execute_result"
    }
   ],
   "source": [
    "mol = neutralise.apply(mol)\n",
    "mol"
   ]
  },
  {
   "cell_type": "markdown",
   "metadata": {},
   "source": [
    "This appears rather less awkward than in the six-membered case."
   ]
  }
 ],
 "metadata": {
  "kernelspec": {
   "display_name": "Python 3",
   "language": "python",
   "name": "python3"
  },
  "language_info": {
   "codemirror_mode": {
    "name": "ipython",
    "version": 3
   },
   "file_extension": ".py",
   "mimetype": "text/x-python",
   "name": "python",
   "nbconvert_exporter": "python",
   "pygments_lexer": "ipython3",
   "version": "3.5.1"
  }
 },
 "nbformat": 4,
 "nbformat_minor": 0
}
