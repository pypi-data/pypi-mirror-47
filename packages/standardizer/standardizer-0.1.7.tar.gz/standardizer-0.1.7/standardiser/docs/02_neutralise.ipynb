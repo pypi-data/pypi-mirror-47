{
 "cells": [
  {
   "cell_type": "code",
   "execution_count": 1,
   "metadata": {
    "collapsed": false,
    "slideshow": {
     "slide_type": "-"
    }
   },
   "outputs": [],
   "source": [
    "%run notebook_setup.py\n",
    "\n",
    "sys.path.append('../..')"
   ]
  },
  {
   "cell_type": "code",
   "execution_count": 2,
   "metadata": {
    "collapsed": false
   },
   "outputs": [],
   "source": [
    "from standardiser import neutralise"
   ]
  },
  {
   "cell_type": "code",
   "execution_count": 3,
   "metadata": {
    "collapsed": true
   },
   "outputs": [],
   "source": [
    "neutralise.logger.setLevel('DEBUG')"
   ]
  },
  {
   "cell_type": "markdown",
   "metadata": {
    "slideshow": {
     "slide_type": "slide"
    }
   },
   "source": [
    "# **`neutralise`**: remove charges by adding/removing protons"
   ]
  },
  {
   "cell_type": "markdown",
   "metadata": {},
   "source": [
    "### Introduction\n",
    "\n",
    "This document describes the operation of the **`neutralize`** module, which attempts to balance charges _via_ the removal and/or addition of protons.\n",
    "\n",
    "Recall that bonds to Group I & II metals are broken before neutralization is attempted, and that a further round of neutralization is carried out after the application of the standardization rules.\n",
    "\n",
    "Note that charge-neutralization rules _could_ provide an alternative to the proton-addition/removal strategy employed by the **`neutralize`** module; however, the latter is used here as it allows finer control, which is particularly useful when more complex systems such as zwitterions are encountered."
   ]
  },
  {
   "cell_type": "markdown",
   "metadata": {},
   "source": [
    "### Examples"
   ]
  },
  {
   "cell_type": "code",
   "execution_count": 4,
   "metadata": {
    "collapsed": false,
    "slideshow": {
     "slide_type": "slide"
    }
   },
   "outputs": [
    {
     "data": {
      "image/png": "[encoded data removed]",
      "text/plain": [
       "<rdkit.Chem.rdchem.Mol at 0x7fcaa4bb1350>"
      ]
     },
     "execution_count": 4,
     "metadata": {},
     "output_type": "execute_result"
    }
   ],
   "source": [
    "mol = Chem.MolFromSmiles(\"C(C(=O)[O-])(Cc1n[n-]nn1)(C[NH3+])(C[N+](=O)[O-])\")\n",
    "mol"
   ]
  },
  {
   "cell_type": "code",
   "execution_count": 5,
   "metadata": {
    "collapsed": false,
    "slideshow": {
     "slide_type": "fragment"
    }
   },
   "outputs": [
    {
     "name": "stderr",
     "output_type": "stream",
     "text": [
      "[2016/Mar/24 16:01:26 DEBUG   ] 1 positive/H, 0 positive/quat and 2 negative (of which 2 are acid) charges identified\n",
      "[2016/Mar/24 16:01:26 DEBUG   ] Overall H balance: +1; formal charge: 0\n"
     ]
    },
    {
     "data": {
      "image/png": "[encoded data removed]",
      "text/plain": [
       "<rdkit.Chem.rdchem.Mol at 0x7fcaa46ae7b0>"
      ]
     },
     "execution_count": 5,
     "metadata": {},
     "output_type": "execute_result"
    }
   ],
   "source": [
    "neutralise.apply(mol)"
   ]
  },
  {
   "cell_type": "markdown",
   "metadata": {
    "slideshow": {
     "slide_type": "skip"
    }
   },
   "source": [
    "### Zwitterions\n",
    "\n",
    "Zwitterions can be problematic: cases where inappropriate protonation has been performed are not uncommon in chemical database.\n",
    "\n",
    "Here, protonation of negative charges is *not* attempted unless there is a 'surplus' of negative charges above the (non-neutralizable) 'quat' positive charges)..."
   ]
  },
  {
   "cell_type": "code",
   "execution_count": 6,
   "metadata": {
    "collapsed": false,
    "slideshow": {
     "slide_type": "skip"
    }
   },
   "outputs": [
    {
     "name": "stderr",
     "output_type": "stream",
     "text": [
      "[2016/Mar/24 16:01:26 DEBUG   ] 0 positive/H, 1 positive/quat and 1 negative (of which 0 are acid) charges identified\n",
      "[2016/Mar/24 16:01:26 DEBUG   ] Overall H balance: 0; formal charge: 0\n"
     ]
    },
    {
     "data": {
      "image/png": "[encoded data removed]",
      "text/plain": [
       "<PIL.Image.Image image mode=RGBA size=600x200 at 0x7FCAA46B07B8>"
      ]
     },
     "execution_count": 6,
     "metadata": {},
     "output_type": "execute_result"
    }
   ],
   "source": [
    "mol1 = Chem.MolFromSmiles(\"n(C)1cc[n+]2cccc([O-])c12\")\n",
    "\n",
    "mol2 = neutralise.apply(mol1)\n",
    "\n",
    "Draw.MolsToGridImage([mol1, mol2])"
   ]
  },
  {
   "cell_type": "markdown",
   "metadata": {
    "slideshow": {
     "slide_type": "skip"
    }
   },
   "source": [
    "If there *are* 'surplus' negative charges, neutralization is attempted, but only using recognized 'acidic' groups..."
   ]
  },
  {
   "cell_type": "code",
   "execution_count": 7,
   "metadata": {
    "collapsed": false,
    "slideshow": {
     "slide_type": "skip"
    }
   },
   "outputs": [
    {
     "name": "stderr",
     "output_type": "stream",
     "text": [
      "[2016/Mar/24 16:01:26 DEBUG   ] 0 positive/H, 1 positive/quat and 2 negative (of which 1 are acid) charges identified\n",
      "[2016/Mar/24 16:01:26 WARNING ] zwitterion with more negative charges than quaternary positive centres detected\n",
      "[2016/Mar/24 16:01:26 DEBUG   ] Overall H balance: +1; formal charge: 0\n"
     ]
    },
    {
     "data": {
      "image/png": "[encoded data removed]",
      "text/plain": [
       "<PIL.Image.Image image mode=RGBA size=600x200 at 0x7FCAA46B0E48>"
      ]
     },
     "execution_count": 7,
     "metadata": {},
     "output_type": "execute_result"
    }
   ],
   "source": [
    "mol1 = Chem.MolFromSmiles(\"n(CC(=O)[O-])1cc[n+]2cccc([O-])c12\")\n",
    "                          \n",
    "mol2 = neutralise.apply(mol1)\n",
    "\n",
    "Draw.MolsToGridImage([mol1, mol2])"
   ]
  },
  {
   "cell_type": "markdown",
   "metadata": {
    "slideshow": {
     "slide_type": "skip"
    }
   },
   "source": [
    "The idea is to avoid protonating negative charges inappropriately: in the example above, it would be clearly wrong to protonate the phenolic O instead of the carboxylate O.\n",
    "\n",
    "However, this means that nothing is attempted if no such 'obvious' acidic groups are present, even in cases where inspection makes it clear what _ought_ to be done ..."
   ]
  },
  {
   "cell_type": "code",
   "execution_count": 8,
   "metadata": {
    "collapsed": false,
    "slideshow": {
     "slide_type": "skip"
    }
   },
   "outputs": [
    {
     "name": "stderr",
     "output_type": "stream",
     "text": [
      "[2016/Mar/24 16:01:26 DEBUG   ] 0 positive/H, 1 positive/quat and 2 negative (of which 0 are acid) charges identified\n",
      "[2016/Mar/24 16:01:26 DEBUG   ] Overall H balance: 0; formal charge: -1\n"
     ]
    },
    {
     "data": {
      "image/png": "[encoded data removed]",
      "text/plain": [
       "<PIL.Image.Image image mode=RGBA size=600x200 at 0x7FCAA46B0C18>"
      ]
     },
     "execution_count": 8,
     "metadata": {},
     "output_type": "execute_result"
    }
   ],
   "source": [
    "mol1 = Chem.MolFromSmiles(\"n(CC[O-])1cc[n+]2cccc([O-])c12\")\n",
    "                          \n",
    "mol2 = neutralise.apply(mol1)\n",
    "\n",
    "Draw.MolsToGridImage([mol1, mol2])"
   ]
  },
  {
   "cell_type": "markdown",
   "metadata": {
    "slideshow": {
     "slide_type": "skip"
    }
   },
   "source": [
    "Here, the sensible thing to do would be to protonate the alkoxy group and leave the phenoxy group alone.\n",
    "\n",
    "Whilst it would be possible to code up rules for deciding which atom to protonate in the above case, it has not yet been attempted; whilst cases such as that above do occur, in practice they are fairly rare."
   ]
  },
  {
   "cell_type": "markdown",
   "metadata": {
    "slideshow": {
     "slide_type": "skip"
    }
   },
   "source": [
    "### Futher neutralizations\n",
    "\n",
    "As mentioned above, over-zealous neutralizations sometimes mean acidic groups in zwitterions are protonated, leaving a 'parent' molecule with an overall positive charge.\n",
    "\n",
    "An experimental option to treat simple cases where this has happened has been introduced..."
   ]
  },
  {
   "cell_type": "code",
   "execution_count": 9,
   "metadata": {
    "collapsed": false,
    "slideshow": {
     "slide_type": "skip"
    }
   },
   "outputs": [
    {
     "name": "stderr",
     "output_type": "stream",
     "text": [
      "[2016/Mar/24 16:01:26 DEBUG   ] 0 positive/H, 1 positive/quat and 0 negative (of which 0 are acid) charges identified\n",
      "[2016/Mar/24 16:01:26 WARNING ] Surplus of quat positive charges but with uncharged acids detected\n",
      "[2016/Mar/24 16:01:26 DEBUG   ] Overall H balance: -1; formal charge: 0\n"
     ]
    },
    {
     "data": {
      "image/png": "[encoded data removed]",
      "text/plain": [
       "<PIL.Image.Image image mode=RGBA size=600x200 at 0x7FCAA46B0EF0>"
      ]
     },
     "execution_count": 9,
     "metadata": {},
     "output_type": "execute_result"
    }
   ],
   "source": [
    "mol1 = Chem.MolFromSmiles(\"n(CC(=O)O)1cc[n+]2ccccc12\")\n",
    "                          \n",
    "mol2 = neutralise.apply(mol1, balance_quat_surplus=True)\n",
    "\n",
    "Draw.MolsToGridImage([mol1, mol2])"
   ]
  },
  {
   "cell_type": "markdown",
   "metadata": {
    "slideshow": {
     "slide_type": "skip"
    }
   },
   "source": [
    "Note that this will only deprotonate obvious acid groups. If, say, a phenolic anion in a zwitterion has been inappropriately protonated, no attempt is made to fix this at present..."
   ]
  },
  {
   "cell_type": "code",
   "execution_count": 10,
   "metadata": {
    "collapsed": false,
    "slideshow": {
     "slide_type": "skip"
    }
   },
   "outputs": [
    {
     "name": "stderr",
     "output_type": "stream",
     "text": [
      "[2016/Mar/24 16:01:26 DEBUG   ] 0 positive/H, 1 positive/quat and 0 negative (of which 0 are acid) charges identified\n",
      "[2016/Mar/24 16:01:26 DEBUG   ] Overall H balance: 0; formal charge: 1\n"
     ]
    },
    {
     "data": {
      "image/png": "[encoded data removed]",
      "text/plain": [
       "<PIL.Image.Image image mode=RGBA size=600x200 at 0x7FCAA46B0A90>"
      ]
     },
     "execution_count": 10,
     "metadata": {},
     "output_type": "execute_result"
    }
   ],
   "source": [
    "mol1 = Chem.MolFromSmiles(\"n(C)1cc[n+]2cccc(O)c12\")\n",
    "                          \n",
    "mol2 = neutralise.apply(mol1)\n",
    "\n",
    "Draw.MolsToGridImage([mol1, mol2])"
   ]
  }
 ],
 "metadata": {
  "kernelspec": {
   "display_name": "Python 3",
   "language": "python",
   "name": "python3"
  },
  "language_info": {
   "codemirror_mode": {
    "name": "ipython",
    "version": 3
   },
   "file_extension": ".py",
   "mimetype": "text/x-python",
   "name": "python",
   "nbconvert_exporter": "python",
   "pygments_lexer": "ipython3",
   "version": "3.5.1"
  }
 },
 "nbformat": 4,
 "nbformat_minor": 0
}
