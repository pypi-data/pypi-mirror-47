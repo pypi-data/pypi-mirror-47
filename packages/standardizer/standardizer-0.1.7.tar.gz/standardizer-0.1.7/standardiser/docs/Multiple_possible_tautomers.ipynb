{
 "cells": [
  {
   "cell_type": "code",
   "execution_count": 1,
   "metadata": {
    "collapsed": false
   },
   "outputs": [],
   "source": [
    "%run notebook_setup.py\n",
    "\n",
    "sys.path.append('../..')"
   ]
  },
  {
   "cell_type": "code",
   "execution_count": 2,
   "metadata": {
    "collapsed": false
   },
   "outputs": [],
   "source": [
    "from standardiser import rules"
   ]
  },
  {
   "cell_type": "code",
   "execution_count": 3,
   "metadata": {
    "collapsed": true
   },
   "outputs": [],
   "source": [
    "rules.logger.setLevel('DEBUG')"
   ]
  },
  {
   "cell_type": "markdown",
   "metadata": {},
   "source": [
    "# Multiple possible standardised tautomers\n",
    "\n",
    "### Introduction\n",
    "\n",
    "In some cases, more than one standardised tautomer is conceivable. In the current system only one, essentially arbitrary, tautomer is returned.\n",
    "\n",
    "For example..."
   ]
  },
  {
   "cell_type": "code",
   "execution_count": 4,
   "metadata": {
    "collapsed": false
   },
   "outputs": [
    {
     "data": {
      "image/png": "[encoded data removed]",
      "text/plain": [
       "<rdkit.Chem.rdchem.Mol at 0x7faa3a42d210>"
      ]
     },
     "execution_count": 4,
     "metadata": {},
     "output_type": "execute_result"
    }
   ],
   "source": [
    "mol = Chem.MolFromSmiles(\"Oc1nc(O)ccc(C)1\")\n",
    "mol"
   ]
  },
  {
   "cell_type": "code",
   "execution_count": 5,
   "metadata": {
    "collapsed": false
   },
   "outputs": [
    {
     "name": "stderr",
     "output_type": "stream",
     "text": [
      "[2016/Mar/24 16:48:13 DEBUG   ] apply> mol = 'Cc1ccc(O)nc1O'\n",
      "[2016/Mar/24 16:48:13 DEBUG   ] apply> starting pass 1...\n",
      "[2016/Mar/24 16:48:13 DEBUG   ] rule 2 '2-hydroxy pyridine -> 2-pyridone' applied on pass 1\n",
      "[2016/Mar/24 16:48:13 DEBUG   ] ...total of 1 hits in pass: will continue...\n",
      "[2016/Mar/24 16:48:13 DEBUG   ] apply> starting pass 2...\n",
      "[2016/Mar/24 16:48:13 DEBUG   ] ...total of 0 hits in pass: finished.\n"
     ]
    },
    {
     "data": {
      "image/png": "[encoded data removed]",
      "text/plain": [
       "<rdkit.Chem.rdchem.Mol at 0x7faa3ab81f50>"
      ]
     },
     "execution_count": 5,
     "metadata": {},
     "output_type": "execute_result"
    }
   ],
   "source": [
    "rules.apply(mol)"
   ]
  },
  {
   "cell_type": "markdown",
   "metadata": {},
   "source": [
    "Clearly, the tautomer where the carbonyl is adjacent to the methyl group would be as valid as the one generated above. "
   ]
  },
  {
   "cell_type": "markdown",
   "metadata": {},
   "source": [
    "### N-heterocycles\n",
    "\n",
    "This issue is also relevant for N-heterocycles such as imidazoles, for which there are currently no standardisation rules. In these cases there may be no significantly preferred tautomer, or, if there is, it will depend on subtle electronic effects, intramolecular H-bonds _etc._\n",
    "\n",
    "Any standardisation rules in these cases would thus be directed more at 'canonicalisation' than at correcting the representation, which is more what the ruleset as currently conceived is aimed at."
   ]
  },
  {
   "cell_type": "markdown",
   "metadata": {},
   "source": [
    "### Alternative strategies\n",
    "\n",
    "An alternative strategy to the one adopted (_i.e._ return one standardised tautomer only) would be to generate all possible 'standardised' tautomers and then either...\n",
    "\n",
    "* return them all to the user\n",
    "* select one 'canonical' example, using rules similar to those used to identify canonical SMILES\n",
    "* attempt to identify (very approximately) the lowest-energy tautomer\n",
    "\n",
    "Obviously this is a much more heavyweight solution, and, for current purposes, would probably be overkill."
   ]
  }
 ],
 "metadata": {
  "kernelspec": {
   "display_name": "Python 3",
   "language": "python",
   "name": "python3"
  },
  "language_info": {
   "codemirror_mode": {
    "name": "ipython",
    "version": 3
   },
   "file_extension": ".py",
   "mimetype": "text/x-python",
   "name": "python",
   "nbconvert_exporter": "python",
   "pygments_lexer": "ipython3",
   "version": "3.5.1"
  }
 },
 "nbformat": 4,
 "nbformat_minor": 0
}
