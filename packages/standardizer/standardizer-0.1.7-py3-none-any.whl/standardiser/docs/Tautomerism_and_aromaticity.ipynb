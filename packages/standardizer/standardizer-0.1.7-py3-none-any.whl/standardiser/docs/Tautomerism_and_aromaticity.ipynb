{
 "cells": [
  {
   "cell_type": "code",
   "execution_count": 1,
   "metadata": {
    "collapsed": true
   },
   "outputs": [],
   "source": [
    "%run notebook_setup.py\n",
    "\n",
    "sys.path.append('../..')"
   ]
  },
  {
   "cell_type": "code",
   "execution_count": 2,
   "metadata": {
    "collapsed": false
   },
   "outputs": [],
   "source": [
    "from standardiser import rules\n",
    "\n",
    "from standardiser.rules_demo import show_change"
   ]
  },
  {
   "cell_type": "code",
   "execution_count": 3,
   "metadata": {
    "collapsed": true
   },
   "outputs": [],
   "source": [
    "rules.logger.setLevel('DEBUG')"
   ]
  },
  {
   "cell_type": "markdown",
   "metadata": {},
   "source": [
    "## Tautomerism and aromaticity\n",
    "\n",
    "This page shows some transforms where the non-aromatic form is (counterintuitively) favoured over the aromatic form for certain hydroxy-substituted furans, thiophenes and pyrolles.\n",
    "\n",
    "They are taken from the article \"[So you think you understand tautomerism?](http://link.springer.com/article/10.1007%2Fs10822-010-9329-5)\" by Roger Sayle from the special \"[Perspectives in Drug Discovery and Design: Tautomers and Tautomerism](http://link.springer.com/journal/10822/24/6/page/1)\" issue of J. Comput. Aided Mol. Des. (2010), **24**: 485-496 (see the section \"Tautomeric preference and aromaticity\", starting on page 492).\n",
    "\n",
    "As the article states: \"Software for handling tautomers may be dismissed by its users unless it returns the type of results that they expect to see. The reason why some tautomer enumeration programs prefer to generate aromatic tautomers, contrary to experimental evidence, is to satisfy customer demand and market forces...\".\n",
    "\n",
    "As these rules are not what most people will be exepecting, I have chosen not to enable them by default. They are kept in a separate rules file which may be appended to the base rule set if required (seee below)."
   ]
  },
  {
   "cell_type": "code",
   "execution_count": 4,
   "metadata": {
    "collapsed": false
   },
   "outputs": [],
   "source": [
    "# Add extra rule set...\n",
    "\n",
    "rules.add_rule_set('tautomerism_and_aromaticity')"
   ]
  },
  {
   "cell_type": "markdown",
   "metadata": {},
   "source": [
    "### Non-aromatic 1"
   ]
  },
  {
   "cell_type": "code",
   "execution_count": 5,
   "metadata": {
    "collapsed": false
   },
   "outputs": [
    {
     "name": "stderr",
     "output_type": "stream",
     "text": [
      "[2016/Mar/24 16:50:32 DEBUG   ] rule 1 'Non-aromatic 1' applied\n"
     ]
    }
   ],
   "source": [
    "HTML(show_change(\"Oc1occc1\"))"
   ]
  },
  {
   "cell_type": "code",
   "execution_count": 6,
   "metadata": {
    "collapsed": false
   },
   "outputs": [
    {
     "name": "stderr",
     "output_type": "stream",
     "text": [
      "[2016/Mar/24 16:50:32 DEBUG   ] rule 1 'Non-aromatic 1' applied\n"
     ]
    }
   ],
   "source": [
    "HTML(show_change(\"Oc1[nH]cc2ccccc12\"))"
   ]
  },
  {
   "cell_type": "markdown",
   "metadata": {},
   "source": [
    "### Non-aromatic 2"
   ]
  },
  {
   "cell_type": "code",
   "execution_count": 7,
   "metadata": {
    "collapsed": false
   },
   "outputs": [
    {
     "name": "stderr",
     "output_type": "stream",
     "text": [
      "[2016/Mar/24 16:50:32 DEBUG   ] rule 2 'Non-aromatic 2' applied\n"
     ]
    }
   ],
   "source": [
    "HTML(show_change(\"Oc1cocc1\"))"
   ]
  },
  {
   "cell_type": "markdown",
   "metadata": {},
   "source": [
    "### Non-aromatic 3"
   ]
  },
  {
   "cell_type": "code",
   "execution_count": 8,
   "metadata": {
    "collapsed": false
   },
   "outputs": [
    {
     "name": "stderr",
     "output_type": "stream",
     "text": [
      "[2016/Mar/24 16:50:32 DEBUG   ] rule 3 'Non-aromatic 3' applied\n"
     ]
    }
   ],
   "source": [
    "HTML(show_change(\"Oc1[nH]c2ccccc2c1\"))"
   ]
  },
  {
   "cell_type": "markdown",
   "metadata": {},
   "source": [
    "Note that this rule is not restricted to bicyclic ring systems as currently coded."
   ]
  },
  {
   "cell_type": "markdown",
   "metadata": {},
   "source": [
    "### Non-aromatic 4"
   ]
  },
  {
   "cell_type": "code",
   "execution_count": 9,
   "metadata": {
    "collapsed": false
   },
   "outputs": [
    {
     "name": "stderr",
     "output_type": "stream",
     "text": [
      "[2016/Mar/24 16:50:32 DEBUG   ] rule 4 'Non-aromatic 4' applied\n"
     ]
    }
   ],
   "source": [
    "HTML(show_change(\"Nc1[nH]c2ccccc2c1\"))"
   ]
  },
  {
   "cell_type": "markdown",
   "metadata": {},
   "source": [
    "Note that this rule is not restricted to bicyclic ring systems as currently coded."
   ]
  }
 ],
 "metadata": {
  "kernelspec": {
   "display_name": "Python 3",
   "language": "python",
   "name": "python3"
  },
  "language_info": {
   "codemirror_mode": {
    "name": "ipython",
    "version": 3
   },
   "file_extension": ".py",
   "mimetype": "text/x-python",
   "name": "python",
   "nbconvert_exporter": "python",
   "pygments_lexer": "ipython3",
   "version": "3.5.1"
  }
 },
 "nbformat": 4,
 "nbformat_minor": 0
}
