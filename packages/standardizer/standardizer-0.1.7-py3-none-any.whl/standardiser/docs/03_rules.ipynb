{
 "cells": [
  {
   "cell_type": "code",
   "execution_count": 1,
   "metadata": {
    "collapsed": true
   },
   "outputs": [],
   "source": [
    "%run notebook_setup.py"
   ]
  },
  {
   "cell_type": "code",
   "execution_count": 2,
   "metadata": {
    "collapsed": false
   },
   "outputs": [],
   "source": [
    "sys.path.append('../..')"
   ]
  },
  {
   "cell_type": "code",
   "execution_count": 3,
   "metadata": {
    "collapsed": false
   },
   "outputs": [],
   "source": [
    "from standardiser import rules, neutralise\n",
    "\n",
    "from standardiser.rules_demo import rules_table, show_change"
   ]
  },
  {
   "cell_type": "code",
   "execution_count": 4,
   "metadata": {
    "collapsed": true
   },
   "outputs": [],
   "source": [
    "rules.logger.setLevel('DEBUG')"
   ]
  },
  {
   "cell_type": "code",
   "execution_count": 5,
   "metadata": {
    "collapsed": false
   },
   "outputs": [],
   "source": [
    "# Add rules that are to be used with caution...\n",
    "\n",
    "rules.add_rule_set('to_be_used_with_caution')"
   ]
  },
  {
   "cell_type": "markdown",
   "metadata": {
    "slideshow": {
     "slide_type": "skip"
    }
   },
   "source": [
    "# **`rules`**: run structure-normalisation transformations\n",
    "\n",
    "This document describes the **`rules`** module, which encodes a set of rules that are applied in order to standardise molecular representation.\n",
    "\n",
    "### Notes\n",
    "\n",
    "Some notes on various aspects of the rules are available...\n",
    "\n",
    "* Some information about how the rules are applied is provided [here](Rule_application_strategy.ipynb).\n",
    "\n",
    "\n",
    "* A brief note on how the charge-neutralisation strategy relates to the rules given is [here](Neutralisation_strategy.ipynb).\n",
    "\n",
    "\n",
    "* It is importaint to remember that the product of the application of the rules is not claimed to be a canonical tautomer: there may be cases where different input tautomers will produce different outputs, and it is currently up to the user to track this if it is important. This issue is discussed further [here](Multiple_possible_tautomers.ipynb).\n",
    "\n",
    "\n",
    "* There a certain cases where rules are available that are not enabled by default. For example, in certain hydroxy-substituted heterocycles, a (non-intuitive) nonaromatic carbonyl is favoured over the aromatic hydroxy form. This particular issue is is discussed further [here](Tautomerism_and_aromaticity.ipynb).\n",
    "\n",
    "\n",
    "* A brief note on dealing with odd structures [here](Sanity_Checking.ipynb).\n",
    "\n",
    "\n",
    "* Documents on specific type of rule are linked in the appropriate section.\n",
    "\n",
    "### Further work\n",
    "\n",
    "I would be interested in missing rules, and in cases where rules need to be restricted (_i.e._ they are being applied inappropriately in some cases). I have attempted to highlight some cases where this might be an issue, in order to prompt discussion.\n"
   ]
  },
  {
   "cell_type": "markdown",
   "metadata": {},
   "source": [
    "### Usage\n",
    "\n",
    "The `rules` module is used in the same manner as the other modules..."
   ]
  },
  {
   "cell_type": "code",
   "execution_count": 6,
   "metadata": {
    "collapsed": false
   },
   "outputs": [
    {
     "data": {
      "image/png": "[encoded data removed]",
      "text/plain": [
       "<rdkit.Chem.rdchem.Mol at 0x7f49f17bb670>"
      ]
     },
     "execution_count": 6,
     "metadata": {},
     "output_type": "execute_result"
    }
   ],
   "source": [
    "mol = Chem.MolFromSmiles(\"Oc1nccc2cc[nH]c(=N)c12\")\n",
    "\n",
    "mol"
   ]
  },
  {
   "cell_type": "code",
   "execution_count": 7,
   "metadata": {
    "collapsed": false
   },
   "outputs": [
    {
     "name": "stderr",
     "output_type": "stream",
     "text": [
      "[11/07/16 15:31:33 standardiser.rules DEBUG] mol = 'N=c1[nH]ccc2ccnc(O)c12'\n",
      "[11/07/16 15:31:33 standardiser.rules DEBUG] starting pass 1...\n",
      "[11/07/16 15:31:33 standardiser.rules DEBUG] Trying rule 1 'hydroxy imine -> carboxamide' on pass 1...\n",
      "[11/07/16 15:31:33 standardiser.rules DEBUG] Trying rule 2 '2-hydroxy pyridine -> 2-pyridone' on pass 1...\n",
      "[11/07/16 15:31:33 standardiser.rules DEBUG] rule 2 '2-hydroxy pyridine -> 2-pyridone' applied on pass 1\n",
      "[11/07/16 15:31:33 standardiser.rules DEBUG] Trying rule 3 '4-hydroxy pyridine -> 4-pyridone (within-ring)' on pass 1...\n",
      "[11/07/16 15:31:33 standardiser.rules DEBUG] Trying rule 4 '4-pyrimidone -> 2-pyrimidone (any)' on pass 1...\n",
      "[11/07/16 15:31:33 standardiser.rules DEBUG] Trying rule 5 'hydropyridin-2-imine -> 2-amino-pyridine' on pass 1...\n",
      "[11/07/16 15:31:33 standardiser.rules DEBUG] rule 5 'hydropyridin-2-imine -> 2-amino-pyridine' applied on pass 1\n",
      "[11/07/16 15:31:33 standardiser.rules DEBUG] Trying rule 6 'hydropyridin-2-imine -> 2-amino-pyridine (N-subst.)' on pass 1...\n",
      "[11/07/16 15:31:33 standardiser.rules DEBUG] Trying rule 7 'hydropyridin-4-imine -> 4-amino-pyridine' on pass 1...\n",
      "[11/07/16 15:31:33 standardiser.rules DEBUG] Trying rule 8 'hydropyridin-4-imine -> 4-amino-pyridine (N-subst.)' on pass 1...\n",
      "[11/07/16 15:31:33 standardiser.rules DEBUG] Trying rule 9 'Fix heterocyclic tautomer 1' on pass 1...\n",
      "[11/07/16 15:31:33 standardiser.rules DEBUG] Trying rule 10 'Fix heterocyclic tautomer 2' on pass 1...\n",
      "[11/07/16 15:31:33 standardiser.rules DEBUG] Trying rule 11 'Fix heterocyclic tautomer 3' on pass 1...\n",
      "[11/07/16 15:31:33 standardiser.rules DEBUG] Trying rule 12 'Fix heterocyclic tautomer 4' on pass 1...\n",
      "[11/07/16 15:31:33 standardiser.rules DEBUG] Trying rule 13 'Enol -> Ketone' on pass 1...\n",
      "[11/07/16 15:31:33 standardiser.rules DEBUG] Trying rule 14 'Fix 1,3 charge-seperated systems (non-aromatic)' on pass 1...\n",
      "[11/07/16 15:31:33 standardiser.rules DEBUG] Trying rule 15 'Fix 1,3 charge-seperated systems (aromatic 1)' on pass 1...\n",
      "[11/07/16 15:31:33 standardiser.rules DEBUG] Trying rule 16 'Fix 1,3 charge-seperated systems (aromatic 2)' on pass 1...\n",
      "[11/07/16 15:31:33 standardiser.rules DEBUG] Trying rule 17 'Fix 1,5 charge-seperated systems (non-aromatic)' on pass 1...\n",
      "[11/07/16 15:31:33 standardiser.rules DEBUG] Trying rule 18 'Fix 1,5 charge-seperated systems (aromatic 1)' on pass 1...\n",
      "[11/07/16 15:31:33 standardiser.rules DEBUG] Trying rule 19 'Fix 1,5 charge-seperated systems (aromatic 2)' on pass 1...\n",
      "[11/07/16 15:31:33 standardiser.rules DEBUG] Trying rule 20 'Fix 1,3 conjugated cation (non-aromatic)' on pass 1...\n",
      "[11/07/16 15:31:33 standardiser.rules DEBUG] Trying rule 21 'Fix 1,3 conjugated cation (aromatic 1)' on pass 1...\n",
      "[11/07/16 15:31:33 standardiser.rules DEBUG] Trying rule 22 'Fix 1,5 conjugated cation (non-aromatic)' on pass 1...\n",
      "[11/07/16 15:31:33 standardiser.rules DEBUG] Trying rule 23 'Fix 1,5 conjugated cation (aromatic 1)' on pass 1...\n",
      "[11/07/16 15:31:33 standardiser.rules DEBUG] Trying rule 24 'Charge-seperate sulphoxides' on pass 1...\n",
      "[11/07/16 15:31:33 standardiser.rules DEBUG] Trying rule 25 'Un-charge-seperate sulphones' on pass 1...\n",
      "[11/07/16 15:31:33 standardiser.rules DEBUG] Trying rule 26 'Fix hydrazine-diazonium system' on pass 1...\n",
      "[11/07/16 15:31:33 standardiser.rules DEBUG] Trying rule 1 '4-hydroxy pyridine -> 4-pyridone (any)' on pass 1...\n",
      "[11/07/16 15:31:33 standardiser.rules DEBUG] Trying rule 2 'Fix 1,3 conjugated cation (aromatic 2)' on pass 1...\n",
      "[11/07/16 15:31:33 standardiser.rules DEBUG] Trying rule 3 'Fix 1,5 conjugated cation (aromatic 2)' on pass 1...\n",
      "[11/07/16 15:31:33 standardiser.rules DEBUG] Trying rule 4 'Fix 1,5 conjugated cation (aromatic 3)' on pass 1...\n",
      "[11/07/16 15:31:33 standardiser.rules DEBUG] ...total of 2 hits in pass: will continue...\n",
      "[11/07/16 15:31:33 standardiser.rules DEBUG] starting pass 2...\n",
      "[11/07/16 15:31:33 standardiser.rules DEBUG] Trying rule 1 'hydroxy imine -> carboxamide' on pass 2...\n",
      "[11/07/16 15:31:33 standardiser.rules DEBUG] Trying rule 2 '2-hydroxy pyridine -> 2-pyridone' on pass 2...\n",
      "[11/07/16 15:31:33 standardiser.rules DEBUG] Trying rule 3 '4-hydroxy pyridine -> 4-pyridone (within-ring)' on pass 2...\n",
      "[11/07/16 15:31:33 standardiser.rules DEBUG] Trying rule 4 '4-pyrimidone -> 2-pyrimidone (any)' on pass 2...\n",
      "[11/07/16 15:31:33 standardiser.rules DEBUG] Trying rule 5 'hydropyridin-2-imine -> 2-amino-pyridine' on pass 2...\n",
      "[11/07/16 15:31:33 standardiser.rules DEBUG] Trying rule 6 'hydropyridin-2-imine -> 2-amino-pyridine (N-subst.)' on pass 2...\n",
      "[11/07/16 15:31:33 standardiser.rules DEBUG] Trying rule 7 'hydropyridin-4-imine -> 4-amino-pyridine' on pass 2...\n",
      "[11/07/16 15:31:33 standardiser.rules DEBUG] Trying rule 8 'hydropyridin-4-imine -> 4-amino-pyridine (N-subst.)' on pass 2...\n",
      "[11/07/16 15:31:33 standardiser.rules DEBUG] Trying rule 9 'Fix heterocyclic tautomer 1' on pass 2...\n",
      "[11/07/16 15:31:33 standardiser.rules DEBUG] Trying rule 10 'Fix heterocyclic tautomer 2' on pass 2...\n",
      "[11/07/16 15:31:33 standardiser.rules DEBUG] Trying rule 11 'Fix heterocyclic tautomer 3' on pass 2...\n",
      "[11/07/16 15:31:33 standardiser.rules DEBUG] Trying rule 12 'Fix heterocyclic tautomer 4' on pass 2...\n",
      "[11/07/16 15:31:33 standardiser.rules DEBUG] Trying rule 13 'Enol -> Ketone' on pass 2...\n",
      "[11/07/16 15:31:33 standardiser.rules DEBUG] Trying rule 14 'Fix 1,3 charge-seperated systems (non-aromatic)' on pass 2...\n",
      "[11/07/16 15:31:33 standardiser.rules DEBUG] Trying rule 15 'Fix 1,3 charge-seperated systems (aromatic 1)' on pass 2...\n",
      "[11/07/16 15:31:33 standardiser.rules DEBUG] Trying rule 16 'Fix 1,3 charge-seperated systems (aromatic 2)' on pass 2...\n",
      "[11/07/16 15:31:33 standardiser.rules DEBUG] Trying rule 17 'Fix 1,5 charge-seperated systems (non-aromatic)' on pass 2...\n",
      "[11/07/16 15:31:33 standardiser.rules DEBUG] Trying rule 18 'Fix 1,5 charge-seperated systems (aromatic 1)' on pass 2...\n",
      "[11/07/16 15:31:33 standardiser.rules DEBUG] Trying rule 19 'Fix 1,5 charge-seperated systems (aromatic 2)' on pass 2...\n",
      "[11/07/16 15:31:33 standardiser.rules DEBUG] Trying rule 20 'Fix 1,3 conjugated cation (non-aromatic)' on pass 2...\n",
      "[11/07/16 15:31:33 standardiser.rules DEBUG] Trying rule 21 'Fix 1,3 conjugated cation (aromatic 1)' on pass 2...\n",
      "[11/07/16 15:31:33 standardiser.rules DEBUG] Trying rule 22 'Fix 1,5 conjugated cation (non-aromatic)' on pass 2...\n",
      "[11/07/16 15:31:33 standardiser.rules DEBUG] Trying rule 23 'Fix 1,5 conjugated cation (aromatic 1)' on pass 2...\n",
      "[11/07/16 15:31:33 standardiser.rules DEBUG] Trying rule 24 'Charge-seperate sulphoxides' on pass 2...\n",
      "[11/07/16 15:31:33 standardiser.rules DEBUG] Trying rule 25 'Un-charge-seperate sulphones' on pass 2...\n",
      "[11/07/16 15:31:33 standardiser.rules DEBUG] Trying rule 26 'Fix hydrazine-diazonium system' on pass 2...\n",
      "[11/07/16 15:31:33 standardiser.rules DEBUG] Trying rule 1 '4-hydroxy pyridine -> 4-pyridone (any)' on pass 2...\n",
      "[11/07/16 15:31:33 standardiser.rules DEBUG] Trying rule 2 'Fix 1,3 conjugated cation (aromatic 2)' on pass 2...\n",
      "[11/07/16 15:31:33 standardiser.rules DEBUG] Trying rule 3 'Fix 1,5 conjugated cation (aromatic 2)' on pass 2...\n",
      "[11/07/16 15:31:33 standardiser.rules DEBUG] Trying rule 4 'Fix 1,5 conjugated cation (aromatic 3)' on pass 2...\n",
      "[11/07/16 15:31:33 standardiser.rules DEBUG] ...total of 0 hits in pass: finished.\n"
     ]
    },
    {
     "data": {
      "image/png": "[encoded data removed]",
      "text/plain": [
       "<rdkit.Chem.rdchem.Mol at 0x7f49f17b27c0>"
      ]
     },
     "execution_count": 7,
     "metadata": {},
     "output_type": "execute_result"
    }
   ],
   "source": [
    "rules.run(mol)"
   ]
  },
  {
   "cell_type": "markdown",
   "metadata": {},
   "source": [
    "<p><a name=\"top\"></a></p>\n",
    "## Decription of the rules\n",
    "\n",
    "For reference, the SMARTS implementing the rules are shown below.\n",
    "\n",
    "Note that RDKit reaction SMARTS offer a certain amount of flexibility as to how one codes them up. For example, I prefer to use an asterisk on the product side where atoms don't change to emphasise those that do. I'd be interested if there are an issues with this approach that I'm unaware of."
   ]
  },
  {
   "cell_type": "code",
   "execution_count": 8,
   "metadata": {
    "collapsed": false
   },
   "outputs": [],
   "source": [
    "HTML(rules_table())"
   ]
  },
  {
   "cell_type": "markdown",
   "metadata": {},
   "source": [
    "<p><a name=\"Heteroatom_H-shift\"></a></p>\n",
    "## Heteroatom H-shifts\n",
    "\n",
    "These rules deal with relatively straigntforward shifts of protons between heteroatoms.\n",
    "\n",
    "Note that aza-derivatives of the illustrated species are also affected."
   ]
  },
  {
   "cell_type": "markdown",
   "metadata": {},
   "source": [
    "<p><a name=\"hydroxy_imine_-_carboxamide\"></a></p>\n",
    "### hydroxy imine -> carboxamide"
   ]
  },
  {
   "cell_type": "code",
   "execution_count": 9,
   "metadata": {
    "collapsed": false
   },
   "outputs": [
    {
     "name": "stderr",
     "output_type": "stream",
     "text": [
      "[11/07/16 15:31:33 standardiser.rules DEBUG] rule 1 'hydroxy imine -> carboxamide' applied\n"
     ]
    }
   ],
   "source": [
    "HTML(show_change(\"OC(C)=NC\"))"
   ]
  },
  {
   "cell_type": "markdown",
   "metadata": {},
   "source": [
    "[<a href=\"#top\">Top</a>]"
   ]
  },
  {
   "cell_type": "markdown",
   "metadata": {
    "slideshow": {
     "slide_type": "slide"
    }
   },
   "source": [
    "<p><a name=\"2-hydroxy_pyridine_-_2-pyridone\"></a></p>\n",
    "### 2-hydroxy pyridine -> 2-pyridone\n",
    "\n",
    "The hydroxy-pyrimidine input is used here to show that the 2-pyrimidone that is produced preferentially and not the 4-pyrimidone."
   ]
  },
  {
   "cell_type": "code",
   "execution_count": 10,
   "metadata": {
    "collapsed": false,
    "slideshow": {
     "slide_type": "-"
    }
   },
   "outputs": [
    {
     "name": "stderr",
     "output_type": "stream",
     "text": [
      "[11/07/16 15:31:33 standardiser.rules DEBUG] rule 2 '2-hydroxy pyridine -> 2-pyridone' applied\n"
     ]
    }
   ],
   "source": [
    "HTML(show_change(\"Oc1ncncc1\"))"
   ]
  },
  {
   "cell_type": "markdown",
   "metadata": {},
   "source": [
    "[<a href=\"#top\">Top</a>]"
   ]
  },
  {
   "cell_type": "markdown",
   "metadata": {},
   "source": [
    "Note that 2-hydroxy-imidazole is also affected..."
   ]
  },
  {
   "cell_type": "code",
   "execution_count": 11,
   "metadata": {
    "collapsed": false
   },
   "outputs": [
    {
     "name": "stderr",
     "output_type": "stream",
     "text": [
      "[11/07/16 15:31:33 standardiser.rules DEBUG] rule 2 '2-hydroxy pyridine -> 2-pyridone' applied\n"
     ]
    }
   ],
   "source": [
    "HTML(show_change(\"Oc1ncc[nH]1\"))"
   ]
  },
  {
   "cell_type": "markdown",
   "metadata": {},
   "source": [
    "[<a href=\"#top\">Top</a>]"
   ]
  },
  {
   "cell_type": "markdown",
   "metadata": {
    "slideshow": {
     "slide_type": "skip"
    }
   },
   "source": [
    "<p><a name=\"4-hydroxy_pyridine_-_4-pyridone_within-ring\"></a></p>\n",
    "### 4-hydroxy pyridine -> 4-pyridone (within-ring)\n",
    "\n",
    "This more restrictive 'within-ring' rule was introduced as the more general '[4-hydroxy pyridine -> 4-pyridone (any)](#4-hydroxy_pyridine_-_4-pyridone_any)' (see below) rule alone can produce some unexpected effects in some circumstances; see the document [here](Hydroxy_pyridine_within_ring.ipynb) for more details."
   ]
  },
  {
   "cell_type": "code",
   "execution_count": 12,
   "metadata": {
    "collapsed": false,
    "slideshow": {
     "slide_type": "skip"
    }
   },
   "outputs": [
    {
     "name": "stderr",
     "output_type": "stream",
     "text": [
      "[11/07/16 15:31:33 standardiser.rules DEBUG] rule 3 '4-hydroxy pyridine -> 4-pyridone (within-ring)' applied\n"
     ]
    }
   ],
   "source": [
    "HTML(show_change(\"Oc1ccncc1\"))"
   ]
  },
  {
   "cell_type": "markdown",
   "metadata": {},
   "source": [
    "[<a href=\"#top\">Top</a>]"
   ]
  },
  {
   "cell_type": "markdown",
   "metadata": {},
   "source": [
    "<p><a name=\"4-hydroxy_pyridine_-_4-pyridone_any\"></a></p>\n",
    "### 4-hydroxy pyridine -> 4-pyridone (any)\n",
    "\n",
    "This more general version of the rule above will work 'across rings', which may or may not be desirable.\n",
    "\n",
    "__This rule should be used with caution.__"
   ]
  },
  {
   "cell_type": "code",
   "execution_count": 13,
   "metadata": {
    "collapsed": false
   },
   "outputs": [
    {
     "name": "stderr",
     "output_type": "stream",
     "text": [
      "[11/07/16 15:31:33 standardiser.rules DEBUG] rule 1 '4-hydroxy pyridine -> 4-pyridone (any)' applied\n"
     ]
    }
   ],
   "source": [
    "HTML(show_change(\"Oc1cccc2ccncc12\"))"
   ]
  },
  {
   "cell_type": "markdown",
   "metadata": {},
   "source": [
    "Note that 5-membered heterocycles can also be affected  by this rule..."
   ]
  },
  {
   "cell_type": "code",
   "execution_count": 14,
   "metadata": {
    "collapsed": false
   },
   "outputs": [
    {
     "name": "stderr",
     "output_type": "stream",
     "text": [
      "[11/07/16 15:31:33 standardiser.rules DEBUG] rule 1 '4-hydroxy pyridine -> 4-pyridone (any)' applied\n"
     ]
    }
   ],
   "source": [
    "HTML(show_change(\"Oc1n(C)ncc1\"))"
   ]
  },
  {
   "cell_type": "markdown",
   "metadata": {},
   "source": [
    "[<a href=\"#top\">Top</a>]"
   ]
  },
  {
   "cell_type": "markdown",
   "metadata": {},
   "source": [
    "<p><a name=\"4-pyrimidone_-_2-pyrimidone_any\"></a></p>\n",
    "### 4-pyrimidone -> 2-pyrimidone (any)\n"
   ]
  },
  {
   "cell_type": "code",
   "execution_count": 15,
   "metadata": {
    "collapsed": false
   },
   "outputs": [
    {
     "name": "stderr",
     "output_type": "stream",
     "text": [
      "[11/07/16 15:31:33 standardiser.rules DEBUG] rule 4 '4-pyrimidone -> 2-pyrimidone (any)' applied\n"
     ]
    }
   ],
   "source": [
    "HTML(show_change(\"O=c1nc[nH]cc1\"))"
   ]
  },
  {
   "cell_type": "markdown",
   "metadata": {},
   "source": [
    "Note that this rule will work 'across-rings', as illustrated below.\n",
    "\n",
    "If this is not considered appropriate, a more restricted version on the rule that only works 'within-rings' could be enabled instead."
   ]
  },
  {
   "cell_type": "code",
   "execution_count": 16,
   "metadata": {
    "collapsed": false
   },
   "outputs": [
    {
     "name": "stderr",
     "output_type": "stream",
     "text": [
      "[11/07/16 15:31:33 standardiser.rules DEBUG] rule 4 '4-pyrimidone -> 2-pyrimidone (any)' applied\n"
     ]
    }
   ],
   "source": [
    "HTML(show_change(\"O=c1nc2[nH]ccn2cc1\"))"
   ]
  },
  {
   "cell_type": "markdown",
   "metadata": {},
   "source": [
    "[<a href=\"#top\">Top</a>]"
   ]
  },
  {
   "cell_type": "markdown",
   "metadata": {
    "slideshow": {
     "slide_type": "slide"
    }
   },
   "source": [
    "### hydropyridin-2-imine -> 2-amino-pyridine\n",
    "<p><a name=\"hydropyridin-2-imine_-_2-amino-pyridine\"></a></p>"
   ]
  },
  {
   "cell_type": "code",
   "execution_count": 17,
   "metadata": {
    "collapsed": false
   },
   "outputs": [
    {
     "name": "stderr",
     "output_type": "stream",
     "text": [
      "[11/07/16 15:31:33 standardiser.rules DEBUG] rule 5 'hydropyridin-2-imine -> 2-amino-pyridine' applied\n"
     ]
    }
   ],
   "source": [
    "HTML(show_change(\"N=c1[nH]cncc1\"))"
   ]
  },
  {
   "cell_type": "markdown",
   "metadata": {},
   "source": [
    "Note that the five-membered analogues such as that show below will also be affected..."
   ]
  },
  {
   "cell_type": "code",
   "execution_count": 18,
   "metadata": {
    "collapsed": false
   },
   "outputs": [
    {
     "name": "stderr",
     "output_type": "stream",
     "text": [
      "[11/07/16 15:31:33 standardiser.rules DEBUG] rule 5 'hydropyridin-2-imine -> 2-amino-pyridine' applied\n"
     ]
    }
   ],
   "source": [
    "HTML(show_change(\"N=c1[nH]ccn(C)1\"))"
   ]
  },
  {
   "cell_type": "markdown",
   "metadata": {},
   "source": [
    "<p><a name=\"hydropyridin-2-imine_-_2-amino-pyridine_N-subst\"></a></p>\n",
    "### hydropyridin-2-imine -> 2-amino-pyridine (N-subst.)"
   ]
  },
  {
   "cell_type": "markdown",
   "metadata": {},
   "source": [
    "This is the N-substituted analogue of the rule above; a seperate rule is necessary as otherwise incorrect structures can result."
   ]
  },
  {
   "cell_type": "code",
   "execution_count": 19,
   "metadata": {
    "collapsed": false
   },
   "outputs": [
    {
     "name": "stderr",
     "output_type": "stream",
     "text": [
      "[11/07/16 15:31:33 standardiser.rules DEBUG] rule 6 'hydropyridin-2-imine -> 2-amino-pyridine (N-subst.)' applied\n"
     ]
    }
   ],
   "source": [
    "HTML(show_change(\"CN=c1[nH]cncc1\"))"
   ]
  },
  {
   "cell_type": "markdown",
   "metadata": {},
   "source": [
    "[<a href=\"#top\">Top</a>]"
   ]
  },
  {
   "cell_type": "markdown",
   "metadata": {},
   "source": [
    "<p><a name=\"hydropyridin-4-imine_-_4-amino-pyridine\"></a></p>\n",
    "### hydropyridin-4-imine -> 4-amino-pyridine\n"
   ]
  },
  {
   "cell_type": "code",
   "execution_count": 20,
   "metadata": {
    "collapsed": false
   },
   "outputs": [
    {
     "name": "stderr",
     "output_type": "stream",
     "text": [
      "[11/07/16 15:31:33 standardiser.rules DEBUG] rule 7 'hydropyridin-4-imine -> 4-amino-pyridine' applied\n"
     ]
    }
   ],
   "source": [
    "HTML(show_change(\"N=c1nc[nH]cc1\"))"
   ]
  },
  {
   "cell_type": "markdown",
   "metadata": {},
   "source": [
    "Note that, as with the analagous/reverse '[4-hydroxy pyridine -> 4-pyridone (any)](#4-hydroxy_pyridine_-_4-pyridone_any)' rule, this one may also work 'across rings'..."
   ]
  },
  {
   "cell_type": "code",
   "execution_count": 21,
   "metadata": {
    "collapsed": false
   },
   "outputs": [
    {
     "name": "stderr",
     "output_type": "stream",
     "text": [
      "[11/07/16 15:31:33 standardiser.rules DEBUG] rule 7 'hydropyridin-4-imine -> 4-amino-pyridine' applied\n"
     ]
    }
   ],
   "source": [
    "HTML(show_change(\"N=c(c1)ccn2cc[nH]c12\"))"
   ]
  },
  {
   "cell_type": "markdown",
   "metadata": {},
   "source": [
    "Note that there is no 'within-ring' analogue of this rule (or of the [substituted analogy](#hydropyridin-4-imine_-_4-amino-pyridine_N-subst) variant) yet, as I have not come across a case where this general version causes problems; however, it would be straightforward to create _e.g._ 'within-ring' and 'any' variants if necessary."
   ]
  },
  {
   "cell_type": "markdown",
   "metadata": {},
   "source": [
    "<p><a name=\"hydropyridin-4-imine_-_4-amino-pyridine_N-subst\"></a></p>\n",
    "### hydropyridin-4-imine -> 4-amino-pyridine (N-subst.)\n",
    "\n",
    "This is the N-substituted analogue of the rule above; a seperate rule is necessary as otherwise incorrect structures can result."
   ]
  },
  {
   "cell_type": "code",
   "execution_count": 22,
   "metadata": {
    "collapsed": false
   },
   "outputs": [
    {
     "name": "stderr",
     "output_type": "stream",
     "text": [
      "[11/07/16 15:31:33 standardiser.rules DEBUG] rule 8 'hydropyridin-4-imine -> 4-amino-pyridine (N-subst.)' applied\n"
     ]
    }
   ],
   "source": [
    "HTML(show_change(\"CN=c1nc[nH]cc1\"))"
   ]
  },
  {
   "cell_type": "markdown",
   "metadata": {},
   "source": [
    "[<a href=\"#top\">Top</a>]"
   ]
  },
  {
   "cell_type": "markdown",
   "metadata": {},
   "source": [
    "<p><a name=\"Heterocyclic_tautomers\"></a></p>\n",
    "## Heterocyclic tautomers\n",
    "\n",
    "The following rules address incorrect protonation of some bicyclic heterocycles."
   ]
  },
  {
   "cell_type": "markdown",
   "metadata": {
    "slideshow": {
     "slide_type": "slide"
    }
   },
   "source": [
    "<p><a name=\"Fix_heterocyclic_tautomer_1\"></a></p>\n",
    "### Fix heterocyclic tautomer 1\n"
   ]
  },
  {
   "cell_type": "code",
   "execution_count": 23,
   "metadata": {
    "collapsed": false,
    "slideshow": {
     "slide_type": "-"
    }
   },
   "outputs": [
    {
     "name": "stderr",
     "output_type": "stream",
     "text": [
      "[11/07/16 15:31:33 standardiser.rules DEBUG] rule 9 'Fix heterocyclic tautomer 1' applied\n"
     ]
    }
   ],
   "source": [
    "HTML(show_change(\"n1ccc2ccc[nH]c12\"))"
   ]
  },
  {
   "cell_type": "markdown",
   "metadata": {},
   "source": [
    "Note that polycyclic pyridones and pyrimidones should _not_ be affected by these rules, _i.e._ the proton should remain on the six-membered ring..."
   ]
  },
  {
   "cell_type": "code",
   "execution_count": 24,
   "metadata": {
    "collapsed": false
   },
   "outputs": [
    {
     "name": "stderr",
     "output_type": "stream",
     "text": [
      "[11/07/16 15:31:33 standardiser.rules DEBUG] mol = 'O=c1ccn2ccnc2[nH]1'\n",
      "[11/07/16 15:31:33 standardiser.rules DEBUG] starting pass 1...\n",
      "[11/07/16 15:31:33 standardiser.rules DEBUG] Trying rule 1 'hydroxy imine -> carboxamide' on pass 1...\n",
      "[11/07/16 15:31:33 standardiser.rules DEBUG] Trying rule 2 '2-hydroxy pyridine -> 2-pyridone' on pass 1...\n",
      "[11/07/16 15:31:33 standardiser.rules DEBUG] Trying rule 3 '4-hydroxy pyridine -> 4-pyridone (within-ring)' on pass 1...\n",
      "[11/07/16 15:31:33 standardiser.rules DEBUG] Trying rule 4 '4-pyrimidone -> 2-pyrimidone (any)' on pass 1...\n",
      "[11/07/16 15:31:33 standardiser.rules DEBUG] Trying rule 5 'hydropyridin-2-imine -> 2-amino-pyridine' on pass 1...\n",
      "[11/07/16 15:31:33 standardiser.rules DEBUG] Trying rule 6 'hydropyridin-2-imine -> 2-amino-pyridine (N-subst.)' on pass 1...\n",
      "[11/07/16 15:31:33 standardiser.rules DEBUG] Trying rule 7 'hydropyridin-4-imine -> 4-amino-pyridine' on pass 1...\n",
      "[11/07/16 15:31:33 standardiser.rules DEBUG] Trying rule 8 'hydropyridin-4-imine -> 4-amino-pyridine (N-subst.)' on pass 1...\n",
      "[11/07/16 15:31:33 standardiser.rules DEBUG] Trying rule 9 'Fix heterocyclic tautomer 1' on pass 1...\n",
      "[11/07/16 15:31:33 standardiser.rules DEBUG] Trying rule 10 'Fix heterocyclic tautomer 2' on pass 1...\n",
      "[11/07/16 15:31:33 standardiser.rules DEBUG] Trying rule 11 'Fix heterocyclic tautomer 3' on pass 1...\n",
      "[11/07/16 15:31:33 standardiser.rules DEBUG] Trying rule 12 'Fix heterocyclic tautomer 4' on pass 1...\n",
      "[11/07/16 15:31:33 standardiser.rules DEBUG] Trying rule 13 'Enol -> Ketone' on pass 1...\n",
      "[11/07/16 15:31:33 standardiser.rules DEBUG] Trying rule 14 'Fix 1,3 charge-seperated systems (non-aromatic)' on pass 1...\n",
      "[11/07/16 15:31:33 standardiser.rules DEBUG] Trying rule 15 'Fix 1,3 charge-seperated systems (aromatic 1)' on pass 1...\n",
      "[11/07/16 15:31:33 standardiser.rules DEBUG] Trying rule 16 'Fix 1,3 charge-seperated systems (aromatic 2)' on pass 1...\n",
      "[11/07/16 15:31:33 standardiser.rules DEBUG] Trying rule 17 'Fix 1,5 charge-seperated systems (non-aromatic)' on pass 1...\n",
      "[11/07/16 15:31:33 standardiser.rules DEBUG] Trying rule 18 'Fix 1,5 charge-seperated systems (aromatic 1)' on pass 1...\n",
      "[11/07/16 15:31:33 standardiser.rules DEBUG] Trying rule 19 'Fix 1,5 charge-seperated systems (aromatic 2)' on pass 1...\n",
      "[11/07/16 15:31:33 standardiser.rules DEBUG] Trying rule 20 'Fix 1,3 conjugated cation (non-aromatic)' on pass 1...\n",
      "[11/07/16 15:31:33 standardiser.rules DEBUG] Trying rule 21 'Fix 1,3 conjugated cation (aromatic 1)' on pass 1...\n",
      "[11/07/16 15:31:33 standardiser.rules DEBUG] Trying rule 22 'Fix 1,5 conjugated cation (non-aromatic)' on pass 1...\n",
      "[11/07/16 15:31:33 standardiser.rules DEBUG] Trying rule 23 'Fix 1,5 conjugated cation (aromatic 1)' on pass 1...\n",
      "[11/07/16 15:31:33 standardiser.rules DEBUG] Trying rule 24 'Charge-seperate sulphoxides' on pass 1...\n",
      "[11/07/16 15:31:33 standardiser.rules DEBUG] Trying rule 25 'Un-charge-seperate sulphones' on pass 1...\n",
      "[11/07/16 15:31:33 standardiser.rules DEBUG] Trying rule 26 'Fix hydrazine-diazonium system' on pass 1...\n",
      "[11/07/16 15:31:33 standardiser.rules DEBUG] Trying rule 1 '4-hydroxy pyridine -> 4-pyridone (any)' on pass 1...\n",
      "[11/07/16 15:31:33 standardiser.rules DEBUG] Trying rule 2 'Fix 1,3 conjugated cation (aromatic 2)' on pass 1...\n",
      "[11/07/16 15:31:33 standardiser.rules DEBUG] Trying rule 3 'Fix 1,5 conjugated cation (aromatic 2)' on pass 1...\n",
      "[11/07/16 15:31:33 standardiser.rules DEBUG] Trying rule 4 'Fix 1,5 conjugated cation (aromatic 3)' on pass 1...\n",
      "[11/07/16 15:31:33 standardiser.rules DEBUG] ...total of 0 hits in pass: finished.\n"
     ]
    },
    {
     "data": {
      "image/png": "[encoded data removed]",
      "text/plain": [
       "<rdkit.Chem.rdchem.Mol at 0x7f49f11ff850>"
      ]
     },
     "execution_count": 24,
     "metadata": {},
     "output_type": "execute_result"
    }
   ],
   "source": [
    "rules.run(Chem.MolFromSmiles(\"c1cc(=O)[nH]c2nccn12\"))"
   ]
  },
  {
   "cell_type": "code",
   "execution_count": 25,
   "metadata": {
    "collapsed": false
   },
   "outputs": [
    {
     "name": "stderr",
     "output_type": "stream",
     "text": [
      "[11/07/16 15:31:33 standardiser.rules WARNING] No hits for mol!\n"
     ]
    }
   ],
   "source": [
    "HTML(show_change(\"c1cc(=O)[nH]c2nccn12\"))"
   ]
  },
  {
   "cell_type": "markdown",
   "metadata": {},
   "source": [
    "[<a href=\"#top\">Top</a>]"
   ]
  },
  {
   "cell_type": "markdown",
   "metadata": {
    "slideshow": {
     "slide_type": "slide"
    }
   },
   "source": [
    "<p><a name=\"Fix_heterocyclic_tautomer_2\"></a></p>\n",
    "### Fix heterocyclic tautomer 2\n"
   ]
  },
  {
   "cell_type": "code",
   "execution_count": 26,
   "metadata": {
    "collapsed": false,
    "slideshow": {
     "slide_type": "-"
    }
   },
   "outputs": [
    {
     "name": "stderr",
     "output_type": "stream",
     "text": [
      "[11/07/16 15:31:33 standardiser.rules DEBUG] rule 10 'Fix heterocyclic tautomer 2' applied\n"
     ]
    }
   ],
   "source": [
    "HTML(show_change(\"c1cnc2c[nH]ccc12\"))"
   ]
  },
  {
   "cell_type": "markdown",
   "metadata": {},
   "source": [
    "[<a href=\"#top\">Top</a>]"
   ]
  },
  {
   "cell_type": "markdown",
   "metadata": {
    "slideshow": {
     "slide_type": "slide"
    }
   },
   "source": [
    "<p><a name=\"Fix_heterocyclic_tautomer_3\"></a></p>\n",
    "### Fix heterocyclic tautomer 3\n"
   ]
  },
  {
   "cell_type": "code",
   "execution_count": 27,
   "metadata": {
    "collapsed": false,
    "slideshow": {
     "slide_type": "-"
    }
   },
   "outputs": [
    {
     "name": "stderr",
     "output_type": "stream",
     "text": [
      "[11/07/16 15:31:33 standardiser.rules DEBUG] rule 11 'Fix heterocyclic tautomer 3' applied\n"
     ]
    }
   ],
   "source": [
    "HTML(show_change(\"n1ccc2c[nH]ccc12\"))"
   ]
  },
  {
   "cell_type": "markdown",
   "metadata": {},
   "source": [
    "[<a href=\"#top\">Top</a>]"
   ]
  },
  {
   "cell_type": "markdown",
   "metadata": {
    "slideshow": {
     "slide_type": "slide"
    }
   },
   "source": [
    "<p><a name=\"Fix_heterocyclic_tautomer_4\"></a></p>\n",
    "### Fix heterocyclic tautomer 4\n"
   ]
  },
  {
   "cell_type": "code",
   "execution_count": 28,
   "metadata": {
    "collapsed": false,
    "slideshow": {
     "slide_type": "-"
    }
   },
   "outputs": [
    {
     "name": "stderr",
     "output_type": "stream",
     "text": [
      "[11/07/16 15:31:33 standardiser.rules DEBUG] rule 12 'Fix heterocyclic tautomer 4' applied\n"
     ]
    }
   ],
   "source": [
    "HTML(show_change(\"c1cnc2ccc[nH]c12\"))"
   ]
  },
  {
   "cell_type": "markdown",
   "metadata": {},
   "source": [
    "[<a href=\"#top\">Top</a>]"
   ]
  },
  {
   "cell_type": "markdown",
   "metadata": {},
   "source": [
    "<p><a name=\"Enol_-_Ketone\"></a></p>\n",
    "### Enol -> Ketone\n",
    "\n",
    "This rule appears straightforward, but raises certain issues which are discussed [here](Keto-enol_tautomerism.ipynb)."
   ]
  },
  {
   "cell_type": "code",
   "execution_count": 29,
   "metadata": {
    "collapsed": false
   },
   "outputs": [
    {
     "name": "stderr",
     "output_type": "stream",
     "text": [
      "[11/07/16 15:31:33 standardiser.rules DEBUG] rule 13 'Enol -> Ketone' applied\n"
     ]
    }
   ],
   "source": [
    "HTML(show_change(\"OC(C)=C(C)C\"))"
   ]
  },
  {
   "cell_type": "markdown",
   "metadata": {},
   "source": [
    "[<a href=\"#top\">Top</a>]"
   ]
  },
  {
   "cell_type": "markdown",
   "metadata": {},
   "source": [
    "<p><a name=\"Charge-seperated_systems\"></a></p>\n",
    "## Charge-seperated systems\n",
    "\n",
    "The following rules address cases in which positive and negative formal charges are in conjugation, and the molecule can be neutralised _via_ successive rearrangement of adjacent double and single bonds.\n",
    "\n",
    "There are certain issues with these rules systems which are discusssed in the document available [here](Charge-separated_systems.ipynb)."
   ]
  },
  {
   "cell_type": "markdown",
   "metadata": {
    "slideshow": {
     "slide_type": "slide"
    }
   },
   "source": [
    "<p><a name=\"Fix_1_3_charge-seperated_systems_non-aromatic\"></a></p>\n",
    "### Fix 1,3 charge-seperated systems (non-aromatic)\n"
   ]
  },
  {
   "cell_type": "code",
   "execution_count": 30,
   "metadata": {
    "collapsed": false
   },
   "outputs": [
    {
     "name": "stderr",
     "output_type": "stream",
     "text": [
      "[11/07/16 15:31:33 standardiser.rules DEBUG] rule 14 'Fix 1,3 charge-seperated systems (non-aromatic)' applied\n"
     ]
    }
   ],
   "source": [
    "HTML(show_change(\"C[N-]C(C)=[N+](C)C\"))"
   ]
  },
  {
   "cell_type": "markdown",
   "metadata": {},
   "source": [
    "Note that cases where the terminal negatively-charged atom is part of _e.g._ an N-oxide will not now be touched. This modification was motivated by molecules such as [CHEMBL8248](https://www.ebi.ac.uk/chembl/compound/inspect/CHEMBL8248), where application of the basic rule was undesirable."
   ]
  },
  {
   "cell_type": "markdown",
   "metadata": {},
   "source": [
    "[<a href=\"#top\">Top</a>]"
   ]
  },
  {
   "cell_type": "markdown",
   "metadata": {
    "slideshow": {
     "slide_type": "slide"
    }
   },
   "source": [
    "<p><a name=\"Fix_1_3_charge-seperated_systems_aromatic_1\"></a></p>\n",
    "### Fix 1,3 charge-seperated systems (aromatic 1)\n"
   ]
  },
  {
   "cell_type": "code",
   "execution_count": 31,
   "metadata": {
    "collapsed": false,
    "slideshow": {
     "slide_type": "-"
    }
   },
   "outputs": [
    {
     "name": "stderr",
     "output_type": "stream",
     "text": [
      "[11/07/16 15:31:33 standardiser.rules DEBUG] rule 15 'Fix 1,3 charge-seperated systems (aromatic 1)' applied\n"
     ]
    }
   ],
   "source": [
    "HTML(show_change(\"[n-]1c(=[N+](C)C)cccc1\"))"
   ]
  },
  {
   "cell_type": "markdown",
   "metadata": {},
   "source": [
    "[<a href=\"#top\">Top</a>]"
   ]
  },
  {
   "cell_type": "markdown",
   "metadata": {
    "slideshow": {
     "slide_type": "skip"
    }
   },
   "source": [
    "<p><a name=\"Fix_1_3_charge-seperated_systems_aromatic_2\"></a></p>\n",
    "### Fix 1,3 charge-seperated systems (aromatic 2)\n",
    "\n",
    "Note that it is not clear here whether, when the starting structure contains an amide anion, that the uncharged imine produced is more or less desirable that the original zwitterion or even than the cationic methyl-pyridine that would be produced by protonation of the amide anion."
   ]
  },
  {
   "cell_type": "code",
   "execution_count": 32,
   "metadata": {
    "collapsed": false,
    "slideshow": {
     "slide_type": "skip"
    }
   },
   "outputs": [
    {
     "name": "stderr",
     "output_type": "stream",
     "text": [
      "[11/07/16 15:31:33 standardiser.rules DEBUG] rule 16 'Fix 1,3 charge-seperated systems (aromatic 2)' applied\n"
     ]
    }
   ],
   "source": [
    "HTML(show_change(\"C[n+]1c([N-](C))cccc1\"))"
   ]
  },
  {
   "cell_type": "markdown",
   "metadata": {},
   "source": [
    "Note that the anionic atom may also be an oxygen, [CHEMBL1985737](https://www.ebi.ac.uk/chembl/compound/inspect/CHEMBL1985737), being an example where this rule is applied. In this case, the pyrimidone is the desired product and the question about the suitability of the rule do not apply..."
   ]
  },
  {
   "cell_type": "code",
   "execution_count": 33,
   "metadata": {
    "collapsed": false
   },
   "outputs": [
    {
     "name": "stderr",
     "output_type": "stream",
     "text": [
      "[11/07/16 15:31:33 standardiser.rules DEBUG] rule 16 'Fix 1,3 charge-seperated systems (aromatic 2)' applied\n"
     ]
    }
   ],
   "source": [
    "HTML(show_change(\"[O-]c1[n+](C)cccc1\"))"
   ]
  },
  {
   "cell_type": "markdown",
   "metadata": {},
   "source": [
    "[<a href=\"#top\">Top</a>]"
   ]
  },
  {
   "cell_type": "markdown",
   "metadata": {
    "slideshow": {
     "slide_type": "skip"
    }
   },
   "source": [
    "<p><a name=\"Fix_1_5_charge-seperated_systems_non-aromatic\"></a></p>\n",
    "### Fix 1,5 charge-seperated systems (non-aromatic)\n"
   ]
  },
  {
   "cell_type": "code",
   "execution_count": 34,
   "metadata": {
    "collapsed": false,
    "slideshow": {
     "slide_type": "skip"
    }
   },
   "outputs": [
    {
     "name": "stderr",
     "output_type": "stream",
     "text": [
      "[11/07/16 15:31:33 standardiser.rules DEBUG] rule 17 'Fix 1,5 charge-seperated systems (non-aromatic)' applied\n"
     ]
    }
   ],
   "source": [
    "HTML(show_change(\"C[N-]C=CC=[N+](C)C\"))"
   ]
  },
  {
   "cell_type": "markdown",
   "metadata": {},
   "source": [
    "Note that cases where the terminal negatively-charged atom is part of _e.g._ an N-oxide will not now be touched. This modification was motivated by molecules such as [CHEMBL1186335](https://www.ebi.ac.uk/chembl/compound/inspect/CHEMBL1186335), where application of the basic rule was undesirable."
   ]
  },
  {
   "cell_type": "markdown",
   "metadata": {},
   "source": [
    "[<a href=\"#top\">Top</a>]"
   ]
  },
  {
   "cell_type": "markdown",
   "metadata": {
    "slideshow": {
     "slide_type": "skip"
    }
   },
   "source": [
    "<p><a name=\"Fix_1_5_charge-seperated_systems_aromatic_1\"></a></p>\n",
    "### Fix 1,5 charge-seperated systems (aromatic 1)\n"
   ]
  },
  {
   "cell_type": "code",
   "execution_count": 35,
   "metadata": {
    "collapsed": false,
    "slideshow": {
     "slide_type": "skip"
    }
   },
   "outputs": [
    {
     "name": "stderr",
     "output_type": "stream",
     "text": [
      "[11/07/16 15:31:33 standardiser.rules DEBUG] rule 18 'Fix 1,5 charge-seperated systems (aromatic 1)' applied\n"
     ]
    }
   ],
   "source": [
    "HTML(show_change(\"[n-]1ccc(=[N+](C)C)cc1\"))"
   ]
  },
  {
   "cell_type": "markdown",
   "metadata": {},
   "source": [
    "[<a href=\"#top\">Top</a>]"
   ]
  },
  {
   "cell_type": "markdown",
   "metadata": {
    "slideshow": {
     "slide_type": "skip"
    }
   },
   "source": [
    "<p><a name=\"Fix_1_5_charge-seperated_systems_aromatic_2\"></a></p>\n",
    "### Fix 1,5 charge-seperated systems (aromatic 2)\n",
    "\n",
    "Note that it is not clear here whether the uncharged imine produced is more or less desirable that the original zwitterion or even than the cationic methyl-pyridine that would be produced by protonation of the amide anion."
   ]
  },
  {
   "cell_type": "code",
   "execution_count": 36,
   "metadata": {
    "collapsed": false,
    "slideshow": {
     "slide_type": "skip"
    }
   },
   "outputs": [
    {
     "name": "stderr",
     "output_type": "stream",
     "text": [
      "[11/07/16 15:31:34 standardiser.rules DEBUG] rule 19 'Fix 1,5 charge-seperated systems (aromatic 2)' applied\n"
     ]
    }
   ],
   "source": [
    "HTML(show_change(\"C[n+]1ccc([N-]C)cc1\"))"
   ]
  },
  {
   "cell_type": "markdown",
   "metadata": {},
   "source": [
    "[<a href=\"#top\">Top</a>]"
   ]
  },
  {
   "cell_type": "markdown",
   "metadata": {},
   "source": [
    "<p><a name=\"Conjugated_cations\"></a></p>\n",
    "## Conjugated cations\n",
    "\n",
    "This set of rules affects molecules where a non-protonated atom bearing a positive charge (most commonly a quaternary nitrogen) is conjugated with a neutral nitrogen bearing a hydrogen atom.\n",
    "\n",
    "There are certain issues with these rules systems which are discusssed in the document available [here](Conjugated_cations_and_charge_neutralisation.ipynb)."
   ]
  },
  {
   "cell_type": "markdown",
   "metadata": {
    "slideshow": {
     "slide_type": "fragment"
    }
   },
   "source": [
    "<p><a name=\"Fix_1_3_conjugated_cation_non-aromatic\"></a></p>\n",
    "### Fix 1,3 conjugated cation (non-aromatic)\n"
   ]
  },
  {
   "cell_type": "code",
   "execution_count": 37,
   "metadata": {
    "collapsed": false,
    "slideshow": {
     "slide_type": "-"
    }
   },
   "outputs": [
    {
     "name": "stderr",
     "output_type": "stream",
     "text": [
      "[11/07/16 15:31:34 standardiser.rules DEBUG] rule 20 'Fix 1,3 conjugated cation (non-aromatic)' applied\n"
     ]
    }
   ],
   "source": [
    "HTML(show_change(\"CNC=[N+](C)C\"))"
   ]
  },
  {
   "cell_type": "markdown",
   "metadata": {},
   "source": [
    "[<a href=\"#top\">Top</a>]"
   ]
  },
  {
   "cell_type": "markdown",
   "metadata": {
    "slideshow": {
     "slide_type": "slide"
    }
   },
   "source": [
    "<p><a name=\"Fix_1_3_conjugated_cation_aromatic_1\"></a></p>\n",
    "### Fix 1,3 conjugated cation (aromatic 1)\n"
   ]
  },
  {
   "cell_type": "code",
   "execution_count": 38,
   "metadata": {
    "collapsed": false,
    "slideshow": {
     "slide_type": "skip"
    }
   },
   "outputs": [
    {
     "name": "stderr",
     "output_type": "stream",
     "text": [
      "[11/07/16 15:31:34 standardiser.rules DEBUG] rule 21 'Fix 1,3 conjugated cation (aromatic 1)' applied\n"
     ]
    }
   ],
   "source": [
    "HTML(show_change(\"[nH]1c(=[N+](C)C)cccc1\"))"
   ]
  },
  {
   "cell_type": "markdown",
   "metadata": {},
   "source": [
    "[<a href=\"#top\">Top</a>]"
   ]
  },
  {
   "cell_type": "markdown",
   "metadata": {
    "slideshow": {
     "slide_type": "skip"
    }
   },
   "source": [
    "<p><a name=\"Fix_1_3_conjugated_cation_aromatic_2\"></a></p>\n",
    "### Fix 1,3 conjugated cation (aromatic 2)\n",
    "\n",
    "Note that this rule leads to an iminium-containing species, which is likely to be less aromatic than the original molecule.\n",
    "\n",
    "__This rule should be used with caution.__"
   ]
  },
  {
   "cell_type": "code",
   "execution_count": 39,
   "metadata": {
    "collapsed": false,
    "slideshow": {
     "slide_type": "-"
    }
   },
   "outputs": [
    {
     "name": "stderr",
     "output_type": "stream",
     "text": [
      "[11/07/16 15:31:34 standardiser.rules DEBUG] rule 2 'Fix 1,3 conjugated cation (aromatic 2)' applied\n"
     ]
    }
   ],
   "source": [
    "HTML(show_change(\"CNc1[n+](C)cccc1\"))"
   ]
  },
  {
   "cell_type": "markdown",
   "metadata": {},
   "source": [
    "[<a href=\"#top\">Top</a>]"
   ]
  },
  {
   "cell_type": "markdown",
   "metadata": {},
   "source": [
    "Note that this also applies to five-membered heterocycles..."
   ]
  },
  {
   "cell_type": "code",
   "execution_count": 40,
   "metadata": {
    "collapsed": false
   },
   "outputs": [
    {
     "name": "stderr",
     "output_type": "stream",
     "text": [
      "[11/07/16 15:31:34 standardiser.rules DEBUG] rule 2 'Fix 1,3 conjugated cation (aromatic 2)' applied\n"
     ]
    }
   ],
   "source": [
    "HTML(show_change(\"CNc1[n+](C)cco1\"))"
   ]
  },
  {
   "cell_type": "markdown",
   "metadata": {},
   "source": [
    "[<a href=\"#top\">Top</a>]"
   ]
  },
  {
   "cell_type": "markdown",
   "metadata": {
    "slideshow": {
     "slide_type": "skip"
    }
   },
   "source": [
    "<p><a name=\"Fix_1_5_conjugated_cation_non-aromatic\"></a></p>\n",
    "### Fix 1,5 conjugated cation (non-aromatic)\n"
   ]
  },
  {
   "cell_type": "code",
   "execution_count": 41,
   "metadata": {
    "collapsed": false,
    "slideshow": {
     "slide_type": "skip"
    }
   },
   "outputs": [
    {
     "name": "stderr",
     "output_type": "stream",
     "text": [
      "[11/07/16 15:31:34 standardiser.rules DEBUG] rule 22 'Fix 1,5 conjugated cation (non-aromatic)' applied\n"
     ]
    }
   ],
   "source": [
    "HTML(show_change(\"CNC=CC=[N+](C)C\"))"
   ]
  },
  {
   "cell_type": "markdown",
   "metadata": {},
   "source": [
    "[<a href=\"#top\">Top</a>]"
   ]
  },
  {
   "cell_type": "markdown",
   "metadata": {
    "slideshow": {
     "slide_type": "skip"
    }
   },
   "source": [
    "<p><a name=\"Fix_1_5_conjugated_cation_aromatic_1\"></a></p>\n",
    "### Fix 1,5 conjugated cation (aromatic 1)\n"
   ]
  },
  {
   "cell_type": "code",
   "execution_count": 42,
   "metadata": {
    "collapsed": false,
    "slideshow": {
     "slide_type": "skip"
    }
   },
   "outputs": [
    {
     "name": "stderr",
     "output_type": "stream",
     "text": [
      "[11/07/16 15:31:34 standardiser.rules DEBUG] rule 23 'Fix 1,5 conjugated cation (aromatic 1)' applied\n"
     ]
    }
   ],
   "source": [
    "HTML(show_change(\"[nH]1ccc(=[N+](C)C)cc1\"))"
   ]
  },
  {
   "cell_type": "markdown",
   "metadata": {},
   "source": [
    "[<a href=\"#top\">Top</a>]"
   ]
  },
  {
   "cell_type": "markdown",
   "metadata": {
    "slideshow": {
     "slide_type": "skip"
    }
   },
   "source": [
    "<p><a name=\"Fix_1_5_conjugated_cation_aromatic_2\"></a></p>\n",
    "### Fix 1,5 conjugated cation (aromatic 2)\n",
    "\n",
    "Note that this rule leads to an iminium-containing species, which is likely to be less aromatic than the original molecule.\n",
    "\n",
    "__This rule should be used with caution.__"
   ]
  },
  {
   "cell_type": "code",
   "execution_count": 43,
   "metadata": {
    "collapsed": false,
    "slideshow": {
     "slide_type": "skip"
    }
   },
   "outputs": [
    {
     "name": "stderr",
     "output_type": "stream",
     "text": [
      "[11/07/16 15:31:34 standardiser.rules DEBUG] rule 3 'Fix 1,5 conjugated cation (aromatic 2)' applied\n"
     ]
    }
   ],
   "source": [
    "HTML(show_change(\"CNc1cc[n+](C)cc1\"))"
   ]
  },
  {
   "cell_type": "markdown",
   "metadata": {},
   "source": [
    "[<a href=\"#top\">Top</a>]"
   ]
  },
  {
   "cell_type": "markdown",
   "metadata": {
    "slideshow": {
     "slide_type": "skip"
    }
   },
   "source": [
    "<p><a name=\"Fix_1_5_conjugated_cation_aromatic_3\"></a></p>\n",
    "### Fix 1,5 conjugated cation (aromatic 3)\n",
    "\n",
    "Note that this rule leads to an iminium-containing species, which will be deprotonated by the neutraliser.\n",
    "\n",
    "This is another case where such an aggressive deprotonation might be problematic, especially if there is was a anionic group also present in the molecule or there was an anionic counterion originally present.\n",
    "\n",
    "__This rule should be used with caution.__"
   ]
  },
  {
   "cell_type": "code",
   "execution_count": 44,
   "metadata": {
    "collapsed": false
   },
   "outputs": [
    {
     "name": "stderr",
     "output_type": "stream",
     "text": [
      "[11/07/16 15:31:34 standardiser.rules DEBUG] rule 4 'Fix 1,5 conjugated cation (aromatic 3)' applied\n"
     ]
    }
   ],
   "source": [
    "HTML(show_change(\"C[n+]1ccc2[nH]ccc2c1\"))"
   ]
  },
  {
   "cell_type": "markdown",
   "metadata": {},
   "source": [
    "As an aside, note that, while RDKit considers the original molecule to be fully aromatic, and still considers the outer, nine-membered cycle in the product to be aromatic, the ring fusion bond in the product is NOT considered aromatic..."
   ]
  },
  {
   "cell_type": "code",
   "execution_count": 45,
   "metadata": {
    "collapsed": false
   },
   "outputs": [
    {
     "name": "stderr",
     "output_type": "stream",
     "text": [
      "[11/07/16 15:31:34 standardiser.rules DEBUG] mol = 'C[n+]1ccc2[nH]ccc2c1'\n",
      "[11/07/16 15:31:34 standardiser.rules DEBUG] starting pass 1...\n",
      "[11/07/16 15:31:34 standardiser.rules DEBUG] Trying rule 1 'hydroxy imine -> carboxamide' on pass 1...\n",
      "[11/07/16 15:31:34 standardiser.rules DEBUG] Trying rule 2 '2-hydroxy pyridine -> 2-pyridone' on pass 1...\n",
      "[11/07/16 15:31:34 standardiser.rules DEBUG] Trying rule 3 '4-hydroxy pyridine -> 4-pyridone (within-ring)' on pass 1...\n",
      "[11/07/16 15:31:34 standardiser.rules DEBUG] Trying rule 4 '4-pyrimidone -> 2-pyrimidone (any)' on pass 1...\n",
      "[11/07/16 15:31:34 standardiser.rules DEBUG] Trying rule 5 'hydropyridin-2-imine -> 2-amino-pyridine' on pass 1...\n",
      "[11/07/16 15:31:34 standardiser.rules DEBUG] Trying rule 6 'hydropyridin-2-imine -> 2-amino-pyridine (N-subst.)' on pass 1...\n",
      "[11/07/16 15:31:34 standardiser.rules DEBUG] Trying rule 7 'hydropyridin-4-imine -> 4-amino-pyridine' on pass 1...\n",
      "[11/07/16 15:31:34 standardiser.rules DEBUG] Trying rule 8 'hydropyridin-4-imine -> 4-amino-pyridine (N-subst.)' on pass 1...\n",
      "[11/07/16 15:31:34 standardiser.rules DEBUG] Trying rule 9 'Fix heterocyclic tautomer 1' on pass 1...\n",
      "[11/07/16 15:31:34 standardiser.rules DEBUG] Trying rule 10 'Fix heterocyclic tautomer 2' on pass 1...\n",
      "[11/07/16 15:31:34 standardiser.rules DEBUG] Trying rule 11 'Fix heterocyclic tautomer 3' on pass 1...\n",
      "[11/07/16 15:31:34 standardiser.rules DEBUG] Trying rule 12 'Fix heterocyclic tautomer 4' on pass 1...\n",
      "[11/07/16 15:31:34 standardiser.rules DEBUG] Trying rule 13 'Enol -> Ketone' on pass 1...\n",
      "[11/07/16 15:31:34 standardiser.rules DEBUG] Trying rule 14 'Fix 1,3 charge-seperated systems (non-aromatic)' on pass 1...\n",
      "[11/07/16 15:31:34 standardiser.rules DEBUG] Trying rule 15 'Fix 1,3 charge-seperated systems (aromatic 1)' on pass 1...\n",
      "[11/07/16 15:31:34 standardiser.rules DEBUG] Trying rule 16 'Fix 1,3 charge-seperated systems (aromatic 2)' on pass 1...\n",
      "[11/07/16 15:31:34 standardiser.rules DEBUG] Trying rule 17 'Fix 1,5 charge-seperated systems (non-aromatic)' on pass 1...\n",
      "[11/07/16 15:31:34 standardiser.rules DEBUG] Trying rule 18 'Fix 1,5 charge-seperated systems (aromatic 1)' on pass 1...\n",
      "[11/07/16 15:31:34 standardiser.rules DEBUG] Trying rule 19 'Fix 1,5 charge-seperated systems (aromatic 2)' on pass 1...\n",
      "[11/07/16 15:31:34 standardiser.rules DEBUG] Trying rule 20 'Fix 1,3 conjugated cation (non-aromatic)' on pass 1...\n",
      "[11/07/16 15:31:34 standardiser.rules DEBUG] Trying rule 21 'Fix 1,3 conjugated cation (aromatic 1)' on pass 1...\n",
      "[11/07/16 15:31:34 standardiser.rules DEBUG] Trying rule 22 'Fix 1,5 conjugated cation (non-aromatic)' on pass 1...\n",
      "[11/07/16 15:31:34 standardiser.rules DEBUG] Trying rule 23 'Fix 1,5 conjugated cation (aromatic 1)' on pass 1...\n",
      "[11/07/16 15:31:34 standardiser.rules DEBUG] Trying rule 24 'Charge-seperate sulphoxides' on pass 1...\n",
      "[11/07/16 15:31:34 standardiser.rules DEBUG] Trying rule 25 'Un-charge-seperate sulphones' on pass 1...\n",
      "[11/07/16 15:31:34 standardiser.rules DEBUG] Trying rule 26 'Fix hydrazine-diazonium system' on pass 1...\n",
      "[11/07/16 15:31:34 standardiser.rules DEBUG] Trying rule 1 '4-hydroxy pyridine -> 4-pyridone (any)' on pass 1...\n",
      "[11/07/16 15:31:34 standardiser.rules DEBUG] Trying rule 2 'Fix 1,3 conjugated cation (aromatic 2)' on pass 1...\n",
      "[11/07/16 15:31:34 standardiser.rules DEBUG] Trying rule 3 'Fix 1,5 conjugated cation (aromatic 2)' on pass 1...\n",
      "[11/07/16 15:31:34 standardiser.rules DEBUG] Trying rule 4 'Fix 1,5 conjugated cation (aromatic 3)' on pass 1...\n",
      "[11/07/16 15:31:34 standardiser.rules DEBUG] rule 4 'Fix 1,5 conjugated cation (aromatic 3)' applied on pass 1\n",
      "[11/07/16 15:31:34 standardiser.rules DEBUG] ...total of 1 hits in pass: will continue...\n",
      "[11/07/16 15:31:34 standardiser.rules DEBUG] starting pass 2...\n",
      "[11/07/16 15:31:34 standardiser.rules DEBUG] Trying rule 1 'hydroxy imine -> carboxamide' on pass 2...\n",
      "[11/07/16 15:31:34 standardiser.rules DEBUG] Trying rule 2 '2-hydroxy pyridine -> 2-pyridone' on pass 2...\n",
      "[11/07/16 15:31:34 standardiser.rules DEBUG] Trying rule 3 '4-hydroxy pyridine -> 4-pyridone (within-ring)' on pass 2...\n",
      "[11/07/16 15:31:34 standardiser.rules DEBUG] Trying rule 4 '4-pyrimidone -> 2-pyrimidone (any)' on pass 2...\n",
      "[11/07/16 15:31:34 standardiser.rules DEBUG] Trying rule 5 'hydropyridin-2-imine -> 2-amino-pyridine' on pass 2...\n",
      "[11/07/16 15:31:34 standardiser.rules DEBUG] Trying rule 6 'hydropyridin-2-imine -> 2-amino-pyridine (N-subst.)' on pass 2...\n",
      "[11/07/16 15:31:34 standardiser.rules DEBUG] Trying rule 7 'hydropyridin-4-imine -> 4-amino-pyridine' on pass 2...\n",
      "[11/07/16 15:31:34 standardiser.rules DEBUG] Trying rule 8 'hydropyridin-4-imine -> 4-amino-pyridine (N-subst.)' on pass 2...\n",
      "[11/07/16 15:31:34 standardiser.rules DEBUG] Trying rule 9 'Fix heterocyclic tautomer 1' on pass 2...\n",
      "[11/07/16 15:31:34 standardiser.rules DEBUG] Trying rule 10 'Fix heterocyclic tautomer 2' on pass 2...\n",
      "[11/07/16 15:31:34 standardiser.rules DEBUG] Trying rule 11 'Fix heterocyclic tautomer 3' on pass 2...\n",
      "[11/07/16 15:31:34 standardiser.rules DEBUG] Trying rule 12 'Fix heterocyclic tautomer 4' on pass 2...\n",
      "[11/07/16 15:31:34 standardiser.rules DEBUG] Trying rule 13 'Enol -> Ketone' on pass 2...\n",
      "[11/07/16 15:31:34 standardiser.rules DEBUG] Trying rule 14 'Fix 1,3 charge-seperated systems (non-aromatic)' on pass 2...\n",
      "[11/07/16 15:31:34 standardiser.rules DEBUG] Trying rule 15 'Fix 1,3 charge-seperated systems (aromatic 1)' on pass 2...\n",
      "[11/07/16 15:31:34 standardiser.rules DEBUG] Trying rule 16 'Fix 1,3 charge-seperated systems (aromatic 2)' on pass 2...\n",
      "[11/07/16 15:31:34 standardiser.rules DEBUG] Trying rule 17 'Fix 1,5 charge-seperated systems (non-aromatic)' on pass 2...\n",
      "[11/07/16 15:31:34 standardiser.rules DEBUG] Trying rule 18 'Fix 1,5 charge-seperated systems (aromatic 1)' on pass 2...\n",
      "[11/07/16 15:31:34 standardiser.rules DEBUG] Trying rule 19 'Fix 1,5 charge-seperated systems (aromatic 2)' on pass 2...\n",
      "[11/07/16 15:31:34 standardiser.rules DEBUG] Trying rule 20 'Fix 1,3 conjugated cation (non-aromatic)' on pass 2...\n",
      "[11/07/16 15:31:34 standardiser.rules DEBUG] Trying rule 21 'Fix 1,3 conjugated cation (aromatic 1)' on pass 2...\n",
      "[11/07/16 15:31:34 standardiser.rules DEBUG] Trying rule 22 'Fix 1,5 conjugated cation (non-aromatic)' on pass 2...\n",
      "[11/07/16 15:31:34 standardiser.rules DEBUG] Trying rule 23 'Fix 1,5 conjugated cation (aromatic 1)' on pass 2...\n",
      "[11/07/16 15:31:34 standardiser.rules DEBUG] Trying rule 24 'Charge-seperate sulphoxides' on pass 2...\n",
      "[11/07/16 15:31:34 standardiser.rules DEBUG] Trying rule 25 'Un-charge-seperate sulphones' on pass 2...\n",
      "[11/07/16 15:31:34 standardiser.rules DEBUG] Trying rule 26 'Fix hydrazine-diazonium system' on pass 2...\n",
      "[11/07/16 15:31:34 standardiser.rules DEBUG] Trying rule 1 '4-hydroxy pyridine -> 4-pyridone (any)' on pass 2...\n",
      "[11/07/16 15:31:34 standardiser.rules DEBUG] Trying rule 2 'Fix 1,3 conjugated cation (aromatic 2)' on pass 2...\n",
      "[11/07/16 15:31:34 standardiser.rules DEBUG] Trying rule 3 'Fix 1,5 conjugated cation (aromatic 2)' on pass 2...\n",
      "[11/07/16 15:31:34 standardiser.rules DEBUG] Trying rule 4 'Fix 1,5 conjugated cation (aromatic 3)' on pass 2...\n",
      "[11/07/16 15:31:34 standardiser.rules DEBUG] ...total of 0 hits in pass: finished.\n"
     ]
    },
    {
     "data": {
      "text/plain": [
       "('C[n+]1ccc2[nH]ccc2c1', 'Cn1ccc2[nH+]ccc-2c1')"
      ]
     },
     "execution_count": 45,
     "metadata": {},
     "output_type": "execute_result"
    }
   ],
   "source": [
    "mol = Chem.MolFromSmiles(\"C[n+]1ccc2[nH]ccc2c1\")\n",
    "\n",
    "Chem.MolToSmiles(mol), Chem.MolToSmiles(rules.run(mol))"
   ]
  },
  {
   "cell_type": "markdown",
   "metadata": {},
   "source": [
    "Note also, that, whilst this example works as expected, a related case that fails is illustrated [here](Miscellaeny.ipynb#Fix_1_5_conjugated_cation_aromatic_3)."
   ]
  },
  {
   "cell_type": "markdown",
   "metadata": {},
   "source": [
    "[<a href=\"#top\">Top</a>]"
   ]
  },
  {
   "cell_type": "markdown",
   "metadata": {},
   "source": [
    "## Miscellaneous\n",
    "\n",
    "Other standardisations."
   ]
  },
  {
   "cell_type": "markdown",
   "metadata": {
    "slideshow": {
     "slide_type": "slide"
    }
   },
   "source": [
    "<p><a name=\"Charge-seperate_sulphoxides\"></a></p>\n",
    "### Charge-seperate sulphoxides\n",
    "\n",
    "The motivation for this rule is that the charge-seperated representation is consistent with that for five-valent N (which is actually applied by default by RDKit on building such molecules) and also that it better reflects the sulphur's 'tetrahedral' (and possibly chiral) geometry. Note that, by contrast, the default representation for a sulphone in ChEMBL is in the hypervalent form, i.e. R-S(=O)(=O)-R.\n",
    "\n",
    "Question: is this treatment of sulphoxides desirable in the current context? It might well be so in a compound-registration context, but might be inappropriate in a modelling situation."
   ]
  },
  {
   "cell_type": "code",
   "execution_count": 46,
   "metadata": {
    "collapsed": false
   },
   "outputs": [
    {
     "name": "stderr",
     "output_type": "stream",
     "text": [
      "[11/07/16 15:31:34 standardiser.rules DEBUG] rule 24 'Charge-seperate sulphoxides' applied\n"
     ]
    }
   ],
   "source": [
    "HTML(show_change(\"CS(=O)C\"))"
   ]
  },
  {
   "cell_type": "markdown",
   "metadata": {},
   "source": [
    "_N.B._ RDKit charge-seperates nitro- and n-oxides _etc._ automatically, thus no rules are needed for these"
   ]
  },
  {
   "cell_type": "markdown",
   "metadata": {},
   "source": [
    "[<a href=\"#top\">Top</a>]"
   ]
  },
  {
   "cell_type": "markdown",
   "metadata": {},
   "source": [
    "<p><a name=\"Un-charge-seperate_sulphones\"></a></p>\n",
    "### Un-charge-seperate sulphones\n"
   ]
  },
  {
   "cell_type": "code",
   "execution_count": 47,
   "metadata": {
    "collapsed": false
   },
   "outputs": [
    {
     "name": "stderr",
     "output_type": "stream",
     "text": [
      "[11/07/16 15:31:34 standardiser.rules DEBUG] rule 25 'Un-charge-seperate sulphones' applied\n"
     ]
    }
   ],
   "source": [
    "HTML(show_change(\"C[S+2]([O-])([O-])C\"))"
   ]
  },
  {
   "cell_type": "markdown",
   "metadata": {},
   "source": [
    "[<a href=\"#top\">Top</a>]"
   ]
  },
  {
   "cell_type": "markdown",
   "metadata": {},
   "source": [
    "<p><a name=\"hydroxy_imine_-_carboxamide\"></a></p>\n",
    "### Fix hydrazine-diazonium system\n",
    "\n",
    "Borrowed from the InChI standardisation procedure, and probably not the most widely-used of the rules..."
   ]
  },
  {
   "cell_type": "code",
   "execution_count": 48,
   "metadata": {
    "collapsed": false
   },
   "outputs": [
    {
     "name": "stderr",
     "output_type": "stream",
     "text": [
      "[11/07/16 15:31:34 standardiser.rules DEBUG] rule 26 'Fix hydrazine-diazonium system' applied\n"
     ]
    }
   ],
   "source": [
    "HTML(show_change(\"CNNC[N+]#N\"))"
   ]
  },
  {
   "cell_type": "markdown",
   "metadata": {},
   "source": [
    "[<a href=\"#top\">Top</a>]"
   ]
  }
 ],
 "metadata": {
  "kernelspec": {
   "display_name": "Python 3",
   "language": "python",
   "name": "python3"
  },
  "language_info": {
   "codemirror_mode": {
    "name": "ipython",
    "version": 3
   },
   "file_extension": ".py",
   "mimetype": "text/x-python",
   "name": "python",
   "nbconvert_exporter": "python",
   "pygments_lexer": "ipython3",
   "version": "3.5.1"
  }
 },
 "nbformat": 4,
 "nbformat_minor": 0
}
