{
 "cells": [
  {
   "cell_type": "code",
   "execution_count": 163,
   "metadata": {},
   "outputs": [],
   "source": [
    "import numpy as np\n",
    "\n",
    "from numba import jitclass, njit, float64, int64\n",
    "\n",
    "\n",
    "@jitclass([('totals', float64[:]), ('counts', int64[:])])\n",
    "class Mean:\n",
    "    def __init__(self, nunique):\n",
    "        self.totals = np.zeros(nunique, dtype=np.float64)\n",
    "        self.counts = np.zeros(nunique, dtype=np.int64)\n",
    "        \n",
    "    def step(self, value, label):\n",
    "        self.totals[label] += value\n",
    "        self.counts[label] += 1\n",
    "        \n",
    "    @property\n",
    "    def out(self):\n",
    "        return self.totals\n",
    "        \n",
    "    def finalize(self, label):\n",
    "        count = self.counts[label]\n",
    "        out = self.totals\n",
    "        if not count:\n",
    "            out[label] = np.nan\n",
    "        else:\n",
    "            out[label] /= count\n",
    "        \n",
    "        \n",
    "@njit(nogil=True)\n",
    "def aggregate(values, labels, nunique, aggregator):\n",
    "    step = aggregator.step\n",
    "    for label, value in zip(labels, values):\n",
    "        if label >= 0:\n",
    "            if not np.isnan(value):\n",
    "                step(value, label)\n",
    "    \n",
    "    finalize = aggregator.finalize\n",
    "    for label in range(nunique):\n",
    "        finalize(label)\n",
    "    return aggregator.out\n",
    "            \n",
    "            \n",
    "@njit(nogil=True)\n",
    "def agg(values, labels, nunique):\n",
    "    aggregator = Mean(nunique)\n",
    "    return aggregate(values, labels, nunique, aggregator)"
   ]
  },
  {
   "cell_type": "code",
   "execution_count": 164,
   "metadata": {},
   "outputs": [],
   "source": [
    "@njit(float64[:](float64[:], int64[:], int64), nogil=True, parallel=True)\n",
    "def group_nanmean(values, labels, num_labels):\n",
    "    counts = np.zeros(num_labels, dtype=np.int64)\n",
    "    out = np.zeros(num_labels, dtype=np.float64)\n",
    "\n",
    "    for indices in range(len(values)):\n",
    "        label = labels[indices]\n",
    "        if label >= 0:\n",
    "            value = values[indices]\n",
    "            if not np.isnan(value):\n",
    "                counts[label] += 1\n",
    "                out[label] += value\n",
    "    \n",
    "    for i in range(num_labels):\n",
    "        count = counts[i]\n",
    "        if not count:\n",
    "            out[i] = np.nan\n",
    "        else:\n",
    "            out[i] /= count\n",
    "    return out"
   ]
  },
  {
   "cell_type": "code",
   "execution_count": 165,
   "metadata": {},
   "outputs": [],
   "source": [
    "rs = np.random.RandomState(0)\n",
    "n = int(1e7)\n",
    "values = rs.rand(n)\n",
    "group = rs.choice([np.nan, 1, 2, 3, 4, 5], size=values.shape)"
   ]
  },
  {
   "cell_type": "code",
   "execution_count": 166,
   "metadata": {},
   "outputs": [
    {
     "data": {
      "text/plain": [
       "array([ 1,  1,  2, ...,  2, -1,  1])"
      ]
     },
     "execution_count": 166,
     "metadata": {},
     "output_type": "execute_result"
    }
   ],
   "source": [
    "labels, uniques = pd.factorize(group, sort=True)\n",
    "labels"
   ]
  },
  {
   "cell_type": "code",
   "execution_count": 167,
   "metadata": {},
   "outputs": [
    {
     "name": "stdout",
     "output_type": "stream",
     "text": [
      "29.6 ms ± 371 µs per loop (mean ± std. dev. of 7 runs, 10 loops each)\n"
     ]
    }
   ],
   "source": [
    "%timeit numres = pd.Series(group_nanmean(values, labels, len(uniques)), uniques)"
   ]
  },
  {
   "cell_type": "code",
   "execution_count": 168,
   "metadata": {},
   "outputs": [
    {
     "data": {
      "text/plain": [
       "1.0    0.500061\n",
       "2.0    0.500002\n",
       "3.0    0.500024\n",
       "4.0    0.500311\n",
       "5.0    0.499783\n",
       "dtype: float64"
      ]
     },
     "execution_count": 168,
     "metadata": {},
     "output_type": "execute_result"
    }
   ],
   "source": [
    "numres"
   ]
  },
  {
   "cell_type": "code",
   "execution_count": 169,
   "metadata": {},
   "outputs": [
    {
     "name": "stdout",
     "output_type": "stream",
     "text": [
      "49.7 ms ± 439 µs per loop (mean ± std. dev. of 7 runs, 1 loop each)\n"
     ]
    }
   ],
   "source": [
    "%timeit numres2 = pd.Series(agg(values, labels, len(uniques)), index=uniques)"
   ]
  },
  {
   "cell_type": "code",
   "execution_count": 170,
   "metadata": {},
   "outputs": [
    {
     "data": {
      "text/plain": [
       "1.0    0.500061\n",
       "2.0    0.500002\n",
       "3.0    0.500024\n",
       "4.0    0.500311\n",
       "5.0    0.499783\n",
       "dtype: float64"
      ]
     },
     "execution_count": 170,
     "metadata": {},
     "output_type": "execute_result"
    }
   ],
   "source": [
    "numres2"
   ]
  },
  {
   "cell_type": "code",
   "execution_count": 101,
   "metadata": {},
   "outputs": [],
   "source": [
    "df = pd.DataFrame({'key': group, 'value': values})"
   ]
  },
  {
   "cell_type": "code",
   "execution_count": 102,
   "metadata": {},
   "outputs": [
    {
     "name": "stdout",
     "output_type": "stream",
     "text": [
      "CPU times: user 194 ms, sys: 38.1 ms, total: 232 ms\n",
      "Wall time: 198 ms\n"
     ]
    }
   ],
   "source": [
    "%time dfres = df.groupby('key').value.mean()"
   ]
  },
  {
   "cell_type": "code",
   "execution_count": 49,
   "metadata": {},
   "outputs": [
    {
     "data": {
      "text/plain": [
       "key\n",
       "1.0    0.500061\n",
       "2.0    0.500002\n",
       "3.0    0.500024\n",
       "4.0    0.500311\n",
       "5.0    0.499783\n",
       "Name: value, dtype: float64"
      ]
     },
     "execution_count": 49,
     "metadata": {},
     "output_type": "execute_result"
    }
   ],
   "source": [
    "dfres"
   ]
  }
 ],
 "metadata": {
  "kernelspec": {
   "display_name": "Python 3",
   "language": "python",
   "name": "python3"
  },
  "language_info": {
   "codemirror_mode": {
    "name": "ipython",
    "version": 3
   },
   "file_extension": ".py",
   "mimetype": "text/x-python",
   "name": "python",
   "nbconvert_exporter": "python",
   "pygments_lexer": "ipython3",
   "version": "3.6.6"
  }
 },
 "nbformat": 4,
 "nbformat_minor": 2
}
